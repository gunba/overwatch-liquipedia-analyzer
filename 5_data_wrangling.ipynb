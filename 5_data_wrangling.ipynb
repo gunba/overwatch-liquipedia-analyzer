{
 "cells": [
  {
   "cell_type": "code",
   "execution_count": 27,
   "metadata": {},
   "outputs": [
    {
     "name": "stderr",
     "output_type": "stream",
     "text": [
      "Processing JSON files: 100%|██████████| 3685/3685 [00:00<00:00, 4276.49it/s]\n"
     ]
    }
   ],
   "source": [
    "import os\n",
    "import json\n",
    "import pandas as pd\n",
    "from tqdm import tqdm\n",
    "import numpy as np\n",
    "\n",
    "# Load all JSON files from the tournaments_data folder\n",
    "data_folder = \"tournaments_data\"\n",
    "all_files = [os.path.join(data_folder, f) for f in os.listdir(data_folder) if f.endswith('.json')]\n",
    "\n",
    "# Initialize lists to store extracted data\n",
    "tournament_info_list = []\n",
    "team_members_list = []\n",
    "match_cards_list = []\n",
    "maps_list = []\n",
    "\n",
    "# Helper function to extract map data\n",
    "def extract_map_data(match_id, match_data):\n",
    "    maps = []\n",
    "    for key, value in match_data.items():\n",
    "        if key.startswith('map'):\n",
    "            map_num = key[3:]\n",
    "            map_info = value if isinstance(value, dict) else {}\n",
    "            map_info['map_num'] = map_num\n",
    "            map_info['match_card_id'] = match_id\n",
    "            maps.append(map_info)\n",
    "    return maps\n",
    "\n",
    "# ID counters\n",
    "tournament_id_counter = 1\n",
    "team_id_counter = 1\n",
    "match_id_counter = 1\n",
    "\n",
    "# Process each file with a progress bar\n",
    "for file in tqdm(all_files, desc=\"Processing JSON files\"):\n",
    "    with open(file, 'r') as f:\n",
    "        data = json.load(f)\n",
    "        \n",
    "        # Extract tournament_info\n",
    "        tournament_info = data.get(\"tournament_info\", [])\n",
    "        if tournament_info:\n",
    "            tournament_info = tournament_info[0]\n",
    "        else:\n",
    "            tournament_info = {}\n",
    "        \n",
    "        tournament_info[\"tournament_id\"] = tournament_id_counter\n",
    "        tournament_info_list.append(tournament_info)\n",
    "        \n",
    "        # Extract team members\n",
    "        team_cards = data.get(\"team_cards\", [])\n",
    "        for team in team_cards:\n",
    "            if not team.get(\"team\"):\n",
    "                continue\n",
    "            team_id = team_id_counter\n",
    "            team_id_counter += 1\n",
    "            members = team.get(\"members\", [])\n",
    "            for member in members:\n",
    "                if not member.get(\"name\"):\n",
    "                    continue\n",
    "                team_member_info = {\n",
    "                    \"team\": team.get(\"team\", \"\"),\n",
    "                    \"tournament_id\": tournament_id_counter,\n",
    "                    \"team_id\": team_id\n",
    "                }\n",
    "                team_member_info.update(member)  # Add all keys from member\n",
    "                team_members_list.append(team_member_info)\n",
    "        \n",
    "        # Extract match cards\n",
    "        match_cards = data.get(\"match_cards\", [])\n",
    "        for match in match_cards:\n",
    "            if not match.get(\"winner\"):\n",
    "                continue\n",
    "            match_id = match_id_counter\n",
    "            match_id_counter += 1\n",
    "            match['tournament_id'] = tournament_id_counter\n",
    "            match['match_card_id'] = match_id\n",
    "            match_cards_list.append(match)\n",
    "            \n",
    "            # Extract maps data from match cards\n",
    "            maps = extract_map_data(match_id, match)\n",
    "            maps_list.extend(maps)\n",
    "    \n",
    "    tournament_id_counter += 1\n",
    "\n",
    "# Convert lists to DataFrames\n",
    "tournament_info_df = pd.DataFrame(tournament_info_list)\n",
    "team_members_df = pd.DataFrame(team_members_list)\n",
    "match_cards_df = pd.DataFrame(match_cards_list)\n",
    "maps_df = pd.DataFrame(maps_list)"
   ]
  },
  {
   "cell_type": "code",
   "execution_count": 28,
   "metadata": {},
   "outputs": [
    {
     "name": "stderr",
     "output_type": "stream",
     "text": [
      "C:\\Users\\jorda\\AppData\\Local\\Temp\\ipykernel_35436\\1363133916.py:3: FutureWarning: DataFrame.applymap has been deprecated. Use DataFrame.map instead.\n",
      "  return df.applymap(lambda x: np.nan if isinstance(x, str) and x.strip() == '' else x)\n"
     ]
    }
   ],
   "source": [
    "# Convert all empty whitespace values to NaN\n",
    "def convert_whitespace_to_nan(df):\n",
    "    return df.applymap(lambda x: np.nan if isinstance(x, str) and x.strip() == '' else x)\n",
    "\n",
    "tournament_info_df = convert_whitespace_to_nan(tournament_info_df)\n",
    "team_members_df = convert_whitespace_to_nan(team_members_df)\n",
    "match_cards_df = convert_whitespace_to_nan(match_cards_df)\n",
    "maps_df = convert_whitespace_to_nan(maps_df)\n",
    "\n",
    "# Function to validate date\n",
    "def is_valid_date(date_str):\n",
    "    try:\n",
    "        pd.to_datetime(date_str, format=\"%Y-%m-%d\", errors='raise')\n",
    "        return True\n",
    "    except ValueError:\n",
    "        return False\n",
    "\n",
    "# Function to validate date and convert to datetime\n",
    "def to_datetime(date_str):\n",
    "    try:\n",
    "        return pd.to_datetime(date_str, format=\"%Y-%m-%d\", errors='raise')\n",
    "    except ValueError:\n",
    "        return pd.NaT\n",
    "    \n",
    "# Function to compare dates and return the least recent valid date\n",
    "def get_least_recent_date(dates):\n",
    "    valid_dates = [date for date in dates if pd.notna(to_datetime(date))]\n",
    "    return min(valid_dates) if valid_dates else None\n",
    "\n",
    "# Calculate agg_date\n",
    "tournament_info_df['agg_date'] = tournament_info_df.apply(lambda row: get_least_recent_date(\n",
    "    [row.get('date', ''), row.get('sdate', ''), row.get('edate', '')]\n",
    "), axis=1)\n",
    "\n",
    "# Convert agg_date to just the date part (YYYY-MM-DD)\n",
    "#tournament_info_df['agg_date'] = pd.to_datetime(tournament_info_df['agg_date']).dt.date\n",
    "\n",
    "# Drop rows with no valid date\n",
    "tournament_info_df = tournament_info_df[tournament_info_df['agg_date'].notna()]\n",
    "\n",
    "# Sort by agg_date and create the date_order column\n",
    "tournament_info_df = tournament_info_df.sort_values(by='agg_date').reset_index(drop=True)\n",
    "tournament_info_df['date_order'] = tournament_info_df.index + 1\n",
    "\n",
    "# Drop rows where liquipediatier column is 5.0\n",
    "tournament_info_df = tournament_info_df[tournament_info_df['liquipediatier'] != 5.0]\n",
    "\n",
    "# Keep only specified columns\n",
    "columns_to_keep = ['name', 'series', 'organizer', 'type', 'city', 'country', 'prizepool', 'prizepoolusd', 'format', 'date', 'sdate', 'edate', 'liquipediatier', 'team_number', 'agg_date', 'tournament_id', 'date_order']\n",
    "tournament_info_df = tournament_info_df[columns_to_keep]\n",
    "\n",
    "# Process match_cards_df\n",
    "# Fill missing date values from tournament agg_date\n",
    "match_cards_df = match_cards_df.merge(tournament_info_df[['tournament_id', 'agg_date']], on='tournament_id', how='left', suffixes=('', '_tournament'))\n",
    "match_cards_df['date'] = match_cards_df.apply(lambda row: row['date'] if not pd.isna(row['date']) else row['agg_date'], axis=1)\n",
    "match_cards_df.drop(columns=['agg_date'], inplace=True)\n",
    "\n",
    "# Drop rows without opponent1 or opponent2\n",
    "match_cards_df = match_cards_df.dropna(subset=['opponent1', 'opponent2'])\n",
    "\n",
    "# Drop rows where opponent1 or opponent2 is 'BYE'\n",
    "match_cards_df = match_cards_df[\n",
    "    (match_cards_df['opponent1'] != 'BYE') & (match_cards_df['opponent2'] != 'BYE')\n",
    "]\n",
    "\n",
    "# Keep only specified columns\n",
    "columns_to_keep = ['date', 'date_timezone', 'opponent1', 'opponent2', 'opponent1_score', 'opponent2_score', 'winner', 'format', 'date_time', 'key', 'tournament_id', 'match_card_id']\n",
    "match_cards_df = match_cards_df[columns_to_keep]\n",
    "\n",
    "# Keep only specified columns\n",
    "columns_to_keep = ['map', 'mode', 'score1', 'score2', 'winner', 'map_num', 'match_card_id'] \n",
    "maps_df = maps_df[columns_to_keep]\n",
    "\n",
    "# Drop related entries in other dataframes for removed tournaments\n",
    "valid_tournament_ids = set(tournament_info_df['tournament_id'])\n",
    "\n",
    "# Drop match_cards_df records where tournament_id is not in tournament_id in tournament_info_df\n",
    "match_cards_df = match_cards_df[match_cards_df['tournament_id'].isin(valid_tournament_ids)]\n",
    "\n",
    "# Drop maps where match_card_id is not in match_cards_df.match_card_id\n",
    "valid_match_card_ids = set(match_cards_df['match_card_id'])\n",
    "maps_df = maps_df[maps_df['match_card_id'].isin(valid_match_card_ids)]\n",
    "\n",
    "# Drop teams where tournament_id is not in tournament_info_df\n",
    "team_members_df = team_members_df[team_members_df['tournament_id'].isin(valid_tournament_ids)]\n",
    "\n",
    "# Track if each tournament has players or not for later.\n",
    "tournament_info_df['has_players'] = tournament_info_df['tournament_id'].isin(team_members_df['tournament_id'])\n"
   ]
  },
  {
   "cell_type": "code",
   "execution_count": 29,
   "metadata": {},
   "outputs": [
    {
     "name": "stderr",
     "output_type": "stream",
     "text": [
      "100%|██████████| 16677/16677 [00:02<00:00, 5579.88it/s]\n"
     ]
    },
    {
     "name": "stdout",
     "output_type": "stream",
     "text": [
      "Threshold 1. Max Index 1\n"
     ]
    },
    {
     "name": "stderr",
     "output_type": "stream",
     "text": [
      " 36%|███▌      | 3027/8516 [00:01<00:03, 1575.34it/s]"
     ]
    }
   ],
   "source": [
    "import pandas as pd\n",
    "from tqdm import tqdm\n",
    "from difflib import get_close_matches\n",
    "import re\n",
    "import math\n",
    "import json\n",
    "\n",
    "# Set up tqdm with pandas\n",
    "tqdm.pandas()\n",
    "\n",
    "# Load the acronym map\n",
    "with open('acronym_map.json', 'r') as file:\n",
    "    acronym_map = json.load(file)\n",
    "\n",
    "# Map opponent acronyms to full names, retain original name if not found\n",
    "def map_acronyms(team_name):\n",
    "    return acronym_map.get(team_name, team_name)\n",
    "\n",
    "match_cards_df['opponent1'] = match_cards_df['opponent1'].apply(map_acronyms)\n",
    "match_cards_df['opponent2'] = match_cards_df['opponent2'].apply(map_acronyms)\n",
    "\n",
    "# Terms to remove\n",
    "terms_to_remove = ['GAMING', 'TEAM', 'ESPORTS', 'ESPORT', 'CLUB']\n",
    "\n",
    "def clean_team_name(name):\n",
    "    # Remove specified terms\n",
    "    for term in terms_to_remove:\n",
    "        name = name.replace(term, '')\n",
    "    # Remove non-alphanumeric characters\n",
    "    name = re.sub(r'\\W+', '', name)\n",
    "    return name.strip().upper()  # Convert to upper case for uniformity\n",
    "\n",
    "# Create clean_team column in team_members_df\n",
    "team_members_df['clean_team'] = team_members_df['team'].apply(clean_team_name)\n",
    "tournament_id_to_date_order = tournament_info_df.set_index('tournament_id')['date_order'].to_dict()\n",
    "tournament_id_to_liquipediatier = tournament_info_df.set_index('tournament_id')['liquipediatier'].to_dict()\n",
    "tournament_id_to_agg_date = tournament_info_df.set_index('tournament_id')['agg_date'].to_dict()\n",
    "\n",
    "# Add date_order, liquipediatier, and agg_date to match_cards_df using the mapping\n",
    "match_cards_df['date_order'] = match_cards_df['tournament_id'].map(tournament_id_to_date_order)\n",
    "match_cards_df['liquipediatier'] = match_cards_df['tournament_id'].map(tournament_id_to_liquipediatier)\n",
    "match_cards_df['agg_date'] = match_cards_df['tournament_id'].map(tournament_id_to_agg_date)\n",
    "\n",
    "# Create unique_teams dataframe directly from team_members_df\n",
    "unique_teams = team_members_df[['clean_team', 'team_id', 'tournament_id']].drop_duplicates()\n",
    "\n",
    "# Add date_order, liquipediatier, and agg_date to unique_teams using the mapping\n",
    "unique_teams['date_order'] = unique_teams['tournament_id'].map(tournament_id_to_date_order)\n",
    "unique_teams['liquipediatier'] = unique_teams['tournament_id'].map(tournament_id_to_liquipediatier)\n",
    "unique_teams['agg_date'] = unique_teams['tournament_id'].map(tournament_id_to_agg_date)\n",
    "\n",
    "# Initial matching within the same tournament\n",
    "def find_closest_team_id_within_tournament(row, unique_teams, threshold=0.8):\n",
    "    tournament_teams = unique_teams[unique_teams['tournament_id'] == row['tournament_id']]\n",
    "    team_names = tournament_teams['clean_team'].tolist()\n",
    "    team_ids = tournament_teams['team_id'].tolist()\n",
    "    \n",
    "    best_team1_id, best_team2_id = None, None\n",
    "    \n",
    "    if team_names:\n",
    "        matches1 = get_close_matches(row['clean_opponent1'], team_names, n=1, cutoff=threshold)\n",
    "        matches2 = get_close_matches(row['clean_opponent2'], team_names, n=1, cutoff=threshold)\n",
    "        \n",
    "        if matches1:\n",
    "            best_team1_id = team_ids[team_names.index(matches1[0])]\n",
    "        if matches2:\n",
    "            best_team2_id = team_ids[team_names.index(matches2[0])]\n",
    "    \n",
    "    return best_team1_id, best_team2_id\n",
    "\n",
    "# Apply initial matching with progress bar\n",
    "match_cards_df['clean_opponent1'] = match_cards_df['opponent1'].apply(clean_team_name)\n",
    "match_cards_df['clean_opponent2'] = match_cards_df['opponent2'].apply(clean_team_name)\n",
    "\n",
    "# Initial matching\n",
    "team_ids = match_cards_df.progress_apply(lambda row: find_closest_team_id_within_tournament(row, unique_teams, 0.8), axis=1)\n",
    "match_cards_df[['team1_id', 'team2_id']] = pd.DataFrame(team_ids.tolist(), index=match_cards_df.index)\n",
    "\n",
    "# Function to find the closest matching team_id with index distance, liquipediatier constraint, and identical agg_date check\n",
    "def find_closest_team_id_with_index_distance(row, unique_teams, threshold=0.8, max_index=1):\n",
    "    date_order = row['date_order']\n",
    "    agg_date = row['agg_date']\n",
    "    tier = row['liquipediatier']\n",
    "    date_range = range(date_order - max_index, date_order + 1)  # Looking backward in time\n",
    "    \n",
    "    candidate_teams = unique_teams[((unique_teams['date_order'].isin(date_range)) | \n",
    "                                   (unique_teams['agg_date'] == agg_date)) & \n",
    "                                   (unique_teams['liquipediatier'].between(tier - 1, tier + 1))]\n",
    "    team_names = candidate_teams['clean_team'].tolist()\n",
    "    team_ids = candidate_teams['team_id'].tolist()\n",
    "    \n",
    "    best_team1_id, best_team2_id = None, None\n",
    "    \n",
    "    if team_names:\n",
    "        matches1 = get_close_matches(row['clean_opponent1'], team_names, n=1, cutoff=threshold)\n",
    "        matches2 = get_close_matches(row['clean_opponent2'], team_names, n=1, cutoff=threshold)\n",
    "        \n",
    "        if matches1:\n",
    "            best_team1_id = team_ids[team_names.index(matches1[0])]\n",
    "        if matches2:\n",
    "            best_team2_id = team_ids[team_names.index(matches2[0])]\n",
    "    \n",
    "    return best_team1_id, best_team2_id\n",
    "\n",
    "# Loop to progressively reduce threshold and increase index distance\n",
    "def progressively_match_teams(match_cards_df, unique_teams):\n",
    "    threshold = 1\n",
    "    max_index = 1\n",
    "\n",
    "    while True:\n",
    "        missing_team1_ids = match_cards_df['team1_id'].isna()\n",
    "        missing_team2_ids = match_cards_df['team2_id'].isna()\n",
    "\n",
    "        if not missing_team1_ids.any() and not missing_team2_ids.any():\n",
    "            break\n",
    "\n",
    "        print(f\"Threshold {threshold}. Max Index {max_index}\")\n",
    "\n",
    "        team_ids = match_cards_df[missing_team1_ids | missing_team2_ids].progress_apply(\n",
    "            lambda row: find_closest_team_id_with_index_distance(row, unique_teams, threshold, max_index),\n",
    "            axis=1\n",
    "        )\n",
    "        \n",
    "        match_cards_df.loc[missing_team1_ids, 'team1_id'] = team_ids.apply(lambda x: x[0])\n",
    "        match_cards_df.loc[missing_team2_ids, 'team2_id'] = team_ids.apply(lambda x: x[1])\n",
    "\n",
    "        # Decrease threshold and increase index distance\n",
    "        threshold -= 0.02\n",
    "        max_index = math.ceil(max_index * 1.5)\n",
    "\n",
    "        # Stop if threshold is too low\n",
    "        if threshold < 0.7:\n",
    "            break\n",
    "\n",
    "# Apply the progressive matching\n",
    "progressively_match_teams(match_cards_df, unique_teams)\n"
   ]
  },
  {
   "cell_type": "code",
   "execution_count": null,
   "metadata": {},
   "outputs": [
    {
     "name": "stdout",
     "output_type": "stream",
     "text": [
      "<class 'pandas.core.frame.DataFrame'>\n",
      "Index: 56567 entries, 0 to 200453\n",
      "Data columns (total 8 columns):\n",
      " #   Column         Non-Null Count  Dtype \n",
      "---  ------         --------------  ----- \n",
      " 0   team           56567 non-null  object\n",
      " 1   tournament_id  56567 non-null  int64 \n",
      " 2   team_id        56567 non-null  int64 \n",
      " 3   name           56567 non-null  object\n",
      " 4   position       46842 non-null  object\n",
      " 5   flag           31734 non-null  object\n",
      " 6   role_type      56567 non-null  object\n",
      " 7   clean_team     56567 non-null  object\n",
      "dtypes: int64(2), object(6)\n",
      "memory usage: 3.9+ MB\n",
      "<class 'pandas.core.frame.DataFrame'>\n",
      "Index: 56567 entries, 0 to 200453\n",
      "Data columns (total 9 columns):\n",
      " #   Column         Non-Null Count  Dtype \n",
      "---  ------         --------------  ----- \n",
      " 0   team           56567 non-null  object\n",
      " 1   tournament_id  56567 non-null  int64 \n",
      " 2   team_id        56567 non-null  int64 \n",
      " 3   name           56567 non-null  object\n",
      " 4   position       50036 non-null  object\n",
      " 5   flag           48112 non-null  object\n",
      " 6   role_type      56567 non-null  object\n",
      " 7   clean_team     56567 non-null  object\n",
      " 8   unique_id      56567 non-null  int64 \n",
      "dtypes: int64(3), object(6)\n",
      "memory usage: 6.3+ MB\n"
     ]
    }
   ],
   "source": [
    "from collections import defaultdict\n",
    "\n",
    "# Display the initial info of the DataFrame\n",
    "team_members_df.info()\n",
    "\n",
    "# Helper function to find the most common value in a list\n",
    "def most_common(lst):\n",
    "    return max(set(lst), key=lst.count)\n",
    "\n",
    "# Helper function to create lookup dictionary\n",
    "def create_lookup(df, key_cols, value_col):\n",
    "    lookup = defaultdict(list)\n",
    "    for _, row in df[df[value_col].notna()].iterrows():\n",
    "        key = tuple(row[col] for col in key_cols)\n",
    "        lookup[key].append(row[value_col])\n",
    "    return {\n",
    "        key: most_common(values)\n",
    "        for key, values in lookup.items()\n",
    "    }\n",
    "\n",
    "# Impute missing values based on lookup dictionary\n",
    "def impute_missing_values(df, lookup, key_cols, value_col):\n",
    "    for idx, row in df[df[value_col].isna()].iterrows():\n",
    "        key = tuple(row[col] for col in key_cols)\n",
    "        if key in lookup:\n",
    "            df.at[idx, value_col] = lookup[key]\n",
    "\n",
    "# Step 2: Impute missing position values\n",
    "position_lookup = create_lookup(team_members_df, [\"name\", \"flag\", \"role_type\"], \"position\")\n",
    "impute_missing_values(team_members_df, position_lookup, [\"name\", \"flag\", \"role_type\"], \"position\")\n",
    "\n",
    "# Step 3: Impute missing flag values\n",
    "flag_lookup = create_lookup(team_members_df, [\"name\", \"position\", \"role_type\"], \"flag\")\n",
    "impute_missing_values(team_members_df, flag_lookup, [\"name\", \"position\", \"role_type\"], \"flag\")\n",
    "\n",
    "# Step 4: Impute remaining values based on name and role_type alone\n",
    "position_lookup_name = create_lookup(team_members_df, [\"name\", \"role_type\"], \"position\")\n",
    "impute_missing_values(team_members_df, position_lookup_name, [\"name\", \"role_type\"], \"position\")\n",
    "\n",
    "flag_lookup_name = create_lookup(team_members_df, [\"name\", \"role_type\"], \"flag\")\n",
    "impute_missing_values(team_members_df, flag_lookup_name, [\"name\", \"role_type\"], \"flag\")\n",
    "\n",
    "# Step 6: Create a unique ID for combinations of NAME, FLAG, POSITION, and ROLE_TYPE\n",
    "combination_to_id = {}\n",
    "current_id = 1\n",
    "\n",
    "def get_combination_id(row):\n",
    "    global current_id\n",
    "    job = 0 if row[\"position\"] == 0 else 1\n",
    "    key = (\n",
    "        row[\"name\"],\n",
    "        row[\"flag\"] if pd.notna(row[\"flag\"]) else None,\n",
    "        job,\n",
    "        row[\"role_type\"]\n",
    "    )\n",
    "    if key not in combination_to_id:\n",
    "        combination_to_id[key] = current_id\n",
    "        current_id += 1\n",
    "    return combination_to_id[key]\n",
    "\n",
    "team_members_df[\"unique_id\"] = team_members_df.apply(get_combination_id, axis=1)\n",
    "\n",
    "# Display the updated DataFrame info\n",
    "team_members_df.info()\n",
    "\n",
    "\n"
   ]
  },
  {
   "cell_type": "code",
   "execution_count": null,
   "metadata": {},
   "outputs": [
    {
     "name": "stderr",
     "output_type": "stream",
     "text": [
      "Processing matches:   0%|          | 4/12699 [00:00<06:17, 33.66it/s]"
     ]
    },
    {
     "name": "stdout",
     "output_type": "stream",
     "text": [
      "Multiplier 0.48. Tier 4.0. Exponent 2\n",
      "Multiplier 0.48. Tier 4.0. Exponent 2\n",
      "Multiplier 0.48. Tier 4.0. Exponent 2\n",
      "Multiplier 0.75. Tier 3.0. Exponent 2\n",
      "Multiplier 0.75. Tier 3.0. Exponent 2\n",
      "Multiplier 0.75. Tier 3.0. Exponent 2\n",
      "Multiplier 0.75. Tier 3.0. Exponent 2\n",
      "Multiplier 0.75. Tier 3.0. Exponent 2\n"
     ]
    },
    {
     "name": "stderr",
     "output_type": "stream",
     "text": [
      "Processing matches:   0%|          | 13/12699 [00:00<05:37, 37.55it/s]"
     ]
    },
    {
     "name": "stdout",
     "output_type": "stream",
     "text": [
      "Multiplier 0.75. Tier 3.0. Exponent 2\n",
      "Multiplier 0.75. Tier 3.0. Exponent 2\n",
      "Multiplier 0.75. Tier 3.0. Exponent 2\n",
      "Multiplier 0.75. Tier 3.0. Exponent 2\n",
      "Multiplier 0.75. Tier 3.0. Exponent 2\n",
      "Multiplier 0.75. Tier 3.0. Exponent 2\n",
      "Multiplier 0.75. Tier 3.0. Exponent 2\n",
      "Multiplier 0.75. Tier 3.0. Exponent 2\n",
      "Multiplier 0.75. Tier 3.0. Exponent 2\n"
     ]
    },
    {
     "name": "stderr",
     "output_type": "stream",
     "text": [
      "Processing matches:   0%|          | 21/12699 [00:00<05:29, 38.43it/s]"
     ]
    },
    {
     "name": "stdout",
     "output_type": "stream",
     "text": [
      "Multiplier 0.75. Tier 3.0. Exponent 2\n",
      "Multiplier 0.75. Tier 3.0. Exponent 2\n",
      "Multiplier 0.75. Tier 3.0. Exponent 2\n",
      "Multiplier 0.75. Tier 3.0. Exponent 2\n",
      "Multiplier 0.75. Tier 3.0. Exponent 2\n",
      "Multiplier 0.75. Tier 3.0. Exponent 2\n",
      "Multiplier 0.75. Tier 3.0. Exponent 2\n",
      "Multiplier 0.75. Tier 3.0. Exponent 2\n"
     ]
    },
    {
     "name": "stderr",
     "output_type": "stream",
     "text": [
      "Processing matches:   0%|          | 30/12699 [00:00<05:30, 38.32it/s]"
     ]
    },
    {
     "name": "stdout",
     "output_type": "stream",
     "text": [
      "Multiplier 0.75. Tier 3.0. Exponent 2\n",
      "Multiplier 0.75. Tier 3.0. Exponent 2\n",
      "Multiplier 0.75. Tier 3.0. Exponent 2\n",
      "Multiplier 0.75. Tier 3.0. Exponent 2\n",
      "Multiplier 0.75. Tier 3.0. Exponent 2\n",
      "Multiplier 0.75. Tier 3.0. Exponent 2\n",
      "Multiplier 0.75. Tier 3.0. Exponent 2\n",
      "Multiplier 0.75. Tier 3.0. Exponent 2\n"
     ]
    },
    {
     "name": "stderr",
     "output_type": "stream",
     "text": [
      "Processing matches:   0%|          | 38/12699 [00:01<05:30, 38.30it/s]"
     ]
    },
    {
     "name": "stdout",
     "output_type": "stream",
     "text": [
      "Multiplier 1.3333333333333333. Tier 2.0. Exponent 2\n",
      "Multiplier 1.3333333333333333. Tier 2.0. Exponent 2\n",
      "Multiplier 1.3333333333333333. Tier 2.0. Exponent 2\n",
      "Multiplier 1.3333333333333333. Tier 2.0. Exponent 2\n",
      "Multiplier 1.3333333333333333. Tier 2.0. Exponent 2\n",
      "Multiplier 1.3333333333333333. Tier 2.0. Exponent 2\n",
      "Multiplier 1.3333333333333333. Tier 2.0. Exponent 2\n",
      "Multiplier 1.3333333333333333. Tier 2.0. Exponent 2\n",
      "Multiplier 1.3333333333333333. Tier 2.0. Exponent 2\n"
     ]
    },
    {
     "name": "stderr",
     "output_type": "stream",
     "text": [
      "Processing matches:   0%|          | 46/12699 [00:01<05:47, 36.43it/s]"
     ]
    },
    {
     "name": "stdout",
     "output_type": "stream",
     "text": [
      "Multiplier 1.3333333333333333. Tier 2.0. Exponent 2\n",
      "Multiplier 1.3333333333333333. Tier 2.0. Exponent 2\n",
      "Multiplier 1.3333333333333333. Tier 2.0. Exponent 2\n",
      "Multiplier 1.3333333333333333. Tier 2.0. Exponent 2\n",
      "Multiplier 1.3333333333333333. Tier 2.0. Exponent 2\n",
      "Multiplier 1.3333333333333333. Tier 2.0. Exponent 2\n",
      "Multiplier 1.3333333333333333. Tier 2.0. Exponent 2\n"
     ]
    },
    {
     "name": "stderr",
     "output_type": "stream",
     "text": [
      "Processing matches:   0%|          | 54/12699 [00:01<05:41, 36.99it/s]"
     ]
    },
    {
     "name": "stdout",
     "output_type": "stream",
     "text": [
      "Multiplier 1.3333333333333333. Tier 2.0. Exponent 2\n",
      "Multiplier 1.3333333333333333. Tier 2.0. Exponent 2\n",
      "Multiplier 1.3333333333333333. Tier 2.0. Exponent 2\n",
      "Multiplier 1.3333333333333333. Tier 2.0. Exponent 2\n",
      "Multiplier 1.3333333333333333. Tier 2.0. Exponent 2\n",
      "Multiplier 1.3333333333333333. Tier 2.0. Exponent 2\n",
      "Multiplier 1.3333333333333333. Tier 2.0. Exponent 2\n",
      "Multiplier 1.3333333333333333. Tier 2.0. Exponent 2\n"
     ]
    },
    {
     "name": "stderr",
     "output_type": "stream",
     "text": [
      "Processing matches:   0%|          | 63/12699 [00:01<05:25, 38.80it/s]"
     ]
    },
    {
     "name": "stdout",
     "output_type": "stream",
     "text": [
      "Multiplier 1.3333333333333333. Tier 2.0. Exponent 2\n",
      "Multiplier 1.3333333333333333. Tier 2.0. Exponent 2\n",
      "Multiplier 1.3333333333333333. Tier 2.0. Exponent 2\n",
      "Multiplier 1.3333333333333333. Tier 2.0. Exponent 2\n",
      "Multiplier 1.3333333333333333. Tier 2.0. Exponent 2\n",
      "Multiplier 1.3333333333333333. Tier 2.0. Exponent 2\n",
      "Multiplier 1.3333333333333333. Tier 2.0. Exponent 2\n",
      "Multiplier 1.3333333333333333. Tier 2.0. Exponent 2\n",
      "Multiplier 1.3333333333333333. Tier 2.0. Exponent 2\n"
     ]
    },
    {
     "name": "stderr",
     "output_type": "stream",
     "text": [
      "Processing matches:   1%|          | 71/12699 [00:01<05:30, 38.25it/s]"
     ]
    },
    {
     "name": "stdout",
     "output_type": "stream",
     "text": [
      "Multiplier 1.3333333333333333. Tier 2.0. Exponent 2\n",
      "Multiplier 1.3333333333333333. Tier 2.0. Exponent 2\n",
      "Multiplier 1.3333333333333333. Tier 2.0. Exponent 2\n",
      "Multiplier 1.3333333333333333. Tier 2.0. Exponent 2\n",
      "Multiplier 1.3333333333333333. Tier 2.0. Exponent 2\n",
      "Multiplier 1.3333333333333333. Tier 2.0. Exponent 2\n",
      "Multiplier 1.3333333333333333. Tier 2.0. Exponent 2\n",
      "Multiplier 1.3333333333333333. Tier 2.0. Exponent 2\n"
     ]
    },
    {
     "name": "stderr",
     "output_type": "stream",
     "text": [
      "Processing matches:   1%|          | 79/12699 [00:02<05:23, 38.96it/s]"
     ]
    },
    {
     "name": "stdout",
     "output_type": "stream",
     "text": [
      "Multiplier 1.3333333333333333. Tier 2.0. Exponent 2\n",
      "Multiplier 1.3333333333333333. Tier 2.0. Exponent 2\n",
      "Multiplier 0.48. Tier 4.0. Exponent 2\n",
      "Multiplier 0.48. Tier 4.0. Exponent 2\n",
      "Multiplier 0.48. Tier 4.0. Exponent 2\n",
      "Multiplier 0.48. Tier 4.0. Exponent 2\n",
      "Multiplier 3.0. Tier 1.0. Exponent 2\n",
      "Multiplier 3.0. Tier 1.0. Exponent 2\n",
      "Multiplier 3.0. Tier 1.0. Exponent 2\n"
     ]
    },
    {
     "name": "stderr",
     "output_type": "stream",
     "text": [
      "Processing matches:   1%|          | 88/12699 [00:02<05:19, 39.46it/s]"
     ]
    },
    {
     "name": "stdout",
     "output_type": "stream",
     "text": [
      "Multiplier 3.0. Tier 1.0. Exponent 2\n",
      "Multiplier 3.0. Tier 1.0. Exponent 2\n",
      "Multiplier 3.0. Tier 1.0. Exponent 2\n",
      "Multiplier 3.0. Tier 1.0. Exponent 2\n",
      "Multiplier 3.0. Tier 1.0. Exponent 2\n",
      "Multiplier 3.0. Tier 1.0. Exponent 2\n",
      "Multiplier 3.0. Tier 1.0. Exponent 2\n",
      "Multiplier 3.0. Tier 1.0. Exponent 2\n"
     ]
    },
    {
     "name": "stderr",
     "output_type": "stream",
     "text": [
      "Processing matches:   1%|          | 96/12699 [00:02<05:25, 38.78it/s]"
     ]
    },
    {
     "name": "stdout",
     "output_type": "stream",
     "text": [
      "Multiplier 3.0. Tier 1.0. Exponent 2\n",
      "Multiplier 3.0. Tier 1.0. Exponent 2\n",
      "Multiplier 0.75. Tier 3.0. Exponent 2\n",
      "Multiplier 3.0. Tier 1.0. Exponent 2\n",
      "Multiplier 3.0. Tier 1.0. Exponent 2\n",
      "Multiplier 3.0. Tier 1.0. Exponent 2\n",
      "Multiplier 3.0. Tier 1.0. Exponent 2\n",
      "Multiplier 3.0. Tier 1.0. Exponent 2\n",
      "Multiplier 3.0. Tier 1.0. Exponent 2\n"
     ]
    },
    {
     "name": "stderr",
     "output_type": "stream",
     "text": [
      "Processing matches:   1%|          | 105/12699 [00:02<05:20, 39.31it/s]"
     ]
    },
    {
     "name": "stdout",
     "output_type": "stream",
     "text": [
      "Multiplier 3.0. Tier 1.0. Exponent 2\n",
      "Multiplier 3.0. Tier 1.0. Exponent 2\n",
      "Multiplier 3.0. Tier 1.0. Exponent 2\n",
      "Multiplier 3.0. Tier 1.0. Exponent 2\n",
      "Multiplier 3.0. Tier 1.0. Exponent 2\n",
      "Multiplier 3.0. Tier 1.0. Exponent 2\n",
      "Multiplier 3.0. Tier 1.0. Exponent 2\n",
      "Multiplier 3.0. Tier 1.0. Exponent 2\n",
      "Multiplier 3.0. Tier 1.0. Exponent 2\n"
     ]
    },
    {
     "name": "stderr",
     "output_type": "stream",
     "text": [
      "Processing matches:   1%|          | 117/12699 [00:03<05:19, 39.38it/s]"
     ]
    },
    {
     "name": "stdout",
     "output_type": "stream",
     "text": [
      "Multiplier 3.0. Tier 1.0. Exponent 2\n",
      "Multiplier 3.0. Tier 1.0. Exponent 2\n",
      "Multiplier 3.0. Tier 1.0. Exponent 2\n",
      "Multiplier 3.0. Tier 1.0. Exponent 2\n",
      "Multiplier 3.0. Tier 1.0. Exponent 2\n",
      "Multiplier 3.0. Tier 1.0. Exponent 2\n",
      "Multiplier 3.0. Tier 1.0. Exponent 2\n",
      "Multiplier 3.0. Tier 1.0. Exponent 2\n"
     ]
    },
    {
     "name": "stderr",
     "output_type": "stream",
     "text": [
      "Processing matches:   1%|          | 126/12699 [00:03<05:15, 39.87it/s]"
     ]
    },
    {
     "name": "stdout",
     "output_type": "stream",
     "text": [
      "Multiplier 3.0. Tier 1.0. Exponent 2\n",
      "Multiplier 3.0. Tier 1.0. Exponent 2\n",
      "Multiplier 3.0. Tier 1.0. Exponent 2\n",
      "Multiplier 3.0. Tier 1.0. Exponent 2\n",
      "Multiplier 1.3333333333333333. Tier 2.0. Exponent 2\n",
      "Multiplier 1.3333333333333333. Tier 2.0. Exponent 2\n",
      "Multiplier 1.3333333333333333. Tier 2.0. Exponent 2\n",
      "Multiplier 1.3333333333333333. Tier 2.0. Exponent 2\n",
      "Multiplier 1.3333333333333333. Tier 2.0. Exponent 2\n"
     ]
    },
    {
     "name": "stderr",
     "output_type": "stream",
     "text": [
      "Processing matches:   1%|          | 130/12699 [00:03<05:15, 39.90it/s]"
     ]
    },
    {
     "name": "stdout",
     "output_type": "stream",
     "text": [
      "Multiplier 1.3333333333333333. Tier 2.0. Exponent 2\n",
      "Multiplier 1.3333333333333333. Tier 2.0. Exponent 2\n",
      "Multiplier 1.3333333333333333. Tier 2.0. Exponent 2\n",
      "Multiplier 1.3333333333333333. Tier 2.0. Exponent 2\n",
      "Multiplier 1.3333333333333333. Tier 2.0. Exponent 2\n",
      "Multiplier 1.3333333333333333. Tier 2.0. Exponent 2\n",
      "Multiplier 1.3333333333333333. Tier 2.0. Exponent 2\n",
      "Multiplier 1.3333333333333333. Tier 2.0. Exponent 2\n"
     ]
    },
    {
     "name": "stderr",
     "output_type": "stream",
     "text": [
      "Processing matches:   1%|          | 140/12699 [00:03<05:12, 40.24it/s]"
     ]
    },
    {
     "name": "stdout",
     "output_type": "stream",
     "text": [
      "Multiplier 1.3333333333333333. Tier 2.0. Exponent 2\n",
      "Multiplier 1.3333333333333333. Tier 2.0. Exponent 2\n",
      "Multiplier 1.3333333333333333. Tier 2.0. Exponent 2\n",
      "Multiplier 1.3333333333333333. Tier 2.0. Exponent 2\n",
      "Multiplier 1.3333333333333333. Tier 2.0. Exponent 2\n",
      "Multiplier 1.3333333333333333. Tier 2.0. Exponent 2\n",
      "Multiplier 1.3333333333333333. Tier 2.0. Exponent 2\n",
      "Multiplier 1.3333333333333333. Tier 2.0. Exponent 2\n",
      "Multiplier 1.3333333333333333. Tier 2.0. Exponent 2\n"
     ]
    },
    {
     "name": "stderr",
     "output_type": "stream",
     "text": [
      "Processing matches:   1%|          | 150/12699 [00:03<05:09, 40.57it/s]"
     ]
    },
    {
     "name": "stdout",
     "output_type": "stream",
     "text": [
      "Multiplier 1.3333333333333333. Tier 2.0. Exponent 2\n",
      "Multiplier 1.3333333333333333. Tier 2.0. Exponent 2\n",
      "Multiplier 1.3333333333333333. Tier 2.0. Exponent 2\n",
      "Multiplier 1.3333333333333333. Tier 2.0. Exponent 2\n",
      "Multiplier 1.3333333333333333. Tier 2.0. Exponent 2\n",
      "Multiplier 1.3333333333333333. Tier 2.0. Exponent 2\n",
      "Multiplier 1.3333333333333333. Tier 2.0. Exponent 2\n",
      "Multiplier 1.3333333333333333. Tier 2.0. Exponent 2\n",
      "Multiplier 1.3333333333333333. Tier 2.0. Exponent 2\n"
     ]
    },
    {
     "name": "stderr",
     "output_type": "stream",
     "text": [
      "Processing matches:   1%|▏         | 159/12699 [00:04<05:16, 39.64it/s]"
     ]
    },
    {
     "name": "stdout",
     "output_type": "stream",
     "text": [
      "Multiplier 1.3333333333333333. Tier 2.0. Exponent 2\n",
      "Multiplier 1.3333333333333333. Tier 2.0. Exponent 2\n",
      "Multiplier 1.3333333333333333. Tier 2.0. Exponent 2\n",
      "Multiplier 1.3333333333333333. Tier 2.0. Exponent 2\n",
      "Multiplier 1.3333333333333333. Tier 2.0. Exponent 2\n",
      "Multiplier 1.3333333333333333. Tier 2.0. Exponent 2\n",
      "Multiplier 1.3333333333333333. Tier 2.0. Exponent 2\n",
      "Multiplier 1.3333333333333333. Tier 2.0. Exponent 2\n",
      "Multiplier 1.3333333333333333. Tier 2.0. Exponent 2\n"
     ]
    },
    {
     "name": "stderr",
     "output_type": "stream",
     "text": [
      "Processing matches:   1%|▏         | 167/12699 [00:04<05:29, 37.98it/s]"
     ]
    },
    {
     "name": "stdout",
     "output_type": "stream",
     "text": [
      "Multiplier 1.3333333333333333. Tier 2.0. Exponent 2\n",
      "Multiplier 1.3333333333333333. Tier 2.0. Exponent 2\n",
      "Multiplier 1.3333333333333333. Tier 2.0. Exponent 2\n",
      "Multiplier 1.3333333333333333. Tier 2.0. Exponent 2\n",
      "Multiplier 1.3333333333333333. Tier 2.0. Exponent 2\n",
      "Multiplier 1.3333333333333333. Tier 2.0. Exponent 2\n",
      "Multiplier 1.3333333333333333. Tier 2.0. Exponent 2\n",
      "Multiplier 1.3333333333333333. Tier 2.0. Exponent 2\n"
     ]
    },
    {
     "name": "stderr",
     "output_type": "stream",
     "text": [
      "Processing matches:   1%|▏         | 175/12699 [00:04<05:27, 38.28it/s]"
     ]
    },
    {
     "name": "stdout",
     "output_type": "stream",
     "text": [
      "Multiplier 1.3333333333333333. Tier 2.0. Exponent 2\n",
      "Multiplier 1.3333333333333333. Tier 2.0. Exponent 2\n",
      "Multiplier 1.3333333333333333. Tier 2.0. Exponent 2\n",
      "Multiplier 1.3333333333333333. Tier 2.0. Exponent 2\n",
      "Multiplier 1.3333333333333333. Tier 2.0. Exponent 2\n",
      "Multiplier 1.3333333333333333. Tier 2.0. Exponent 2\n",
      "Multiplier 1.3333333333333333. Tier 2.0. Exponent 2\n",
      "Multiplier 1.3333333333333333. Tier 2.0. Exponent 2\n"
     ]
    },
    {
     "name": "stderr",
     "output_type": "stream",
     "text": [
      "Processing matches:   1%|▏         | 183/12699 [00:04<05:39, 36.88it/s]"
     ]
    },
    {
     "name": "stdout",
     "output_type": "stream",
     "text": [
      "Multiplier 1.3333333333333333. Tier 2.0. Exponent 2\n",
      "Multiplier 1.3333333333333333. Tier 2.0. Exponent 2\n",
      "Multiplier 1.3333333333333333. Tier 2.0. Exponent 2\n",
      "Multiplier 1.3333333333333333. Tier 2.0. Exponent 2\n",
      "Multiplier 1.3333333333333333. Tier 2.0. Exponent 2\n",
      "Multiplier 3.0. Tier 1.0. Exponent 2\n",
      "Multiplier 3.0. Tier 1.0. Exponent 2\n",
      "Multiplier 3.0. Tier 1.0. Exponent 2\n"
     ]
    },
    {
     "name": "stderr",
     "output_type": "stream",
     "text": [
      "Processing matches:   2%|▏         | 191/12699 [00:04<05:31, 37.70it/s]"
     ]
    },
    {
     "name": "stdout",
     "output_type": "stream",
     "text": [
      "Multiplier 3.0. Tier 1.0. Exponent 2\n",
      "Multiplier 3.0. Tier 1.0. Exponent 2\n",
      "Multiplier 3.0. Tier 1.0. Exponent 2\n",
      "Multiplier 3.0. Tier 1.0. Exponent 2\n",
      "Multiplier 3.0. Tier 1.0. Exponent 2\n",
      "Multiplier 3.0. Tier 1.0. Exponent 2\n",
      "Multiplier 3.0. Tier 1.0. Exponent 2\n",
      "Multiplier 3.0. Tier 1.0. Exponent 2\n",
      "Multiplier 3.0. Tier 1.0. Exponent 2\n"
     ]
    },
    {
     "name": "stderr",
     "output_type": "stream",
     "text": [
      "Processing matches:   2%|▏         | 199/12699 [00:05<05:32, 37.59it/s]"
     ]
    },
    {
     "name": "stdout",
     "output_type": "stream",
     "text": [
      "Multiplier 3.0. Tier 1.0. Exponent 2\n",
      "Multiplier 3.0. Tier 1.0. Exponent 2\n",
      "Multiplier 3.0. Tier 1.0. Exponent 2\n",
      "Multiplier 3.0. Tier 1.0. Exponent 2\n",
      "Multiplier 3.0. Tier 1.0. Exponent 2\n",
      "Multiplier 3.0. Tier 1.0. Exponent 2\n",
      "Multiplier 3.0. Tier 1.0. Exponent 2\n",
      "Multiplier 3.0. Tier 1.0. Exponent 2\n",
      "Multiplier 3.0. Tier 1.0. Exponent 2\n"
     ]
    },
    {
     "name": "stderr",
     "output_type": "stream",
     "text": [
      "Processing matches:   2%|▏         | 209/12699 [00:05<05:17, 39.38it/s]"
     ]
    },
    {
     "name": "stdout",
     "output_type": "stream",
     "text": [
      "Multiplier 3.0. Tier 1.0. Exponent 2\n",
      "Multiplier 3.0. Tier 1.0. Exponent 2\n",
      "Multiplier 3.0. Tier 1.0. Exponent 2\n",
      "Multiplier 1.3333333333333333. Tier 2.0. Exponent 2\n",
      "Multiplier 1.3333333333333333. Tier 2.0. Exponent 2\n",
      "Multiplier 1.3333333333333333. Tier 2.0. Exponent 2\n",
      "Multiplier 1.3333333333333333. Tier 2.0. Exponent 2\n",
      "Multiplier 1.3333333333333333. Tier 2.0. Exponent 2\n",
      "Multiplier 1.3333333333333333. Tier 2.0. Exponent 2\n"
     ]
    },
    {
     "name": "stderr",
     "output_type": "stream",
     "text": [
      "Processing matches:   2%|▏         | 218/12699 [00:05<05:12, 39.95it/s]"
     ]
    },
    {
     "name": "stdout",
     "output_type": "stream",
     "text": [
      "Multiplier 3.0. Tier 1.0. Exponent 2\n",
      "Multiplier 3.0. Tier 1.0. Exponent 2\n",
      "Multiplier 3.0. Tier 1.0. Exponent 2\n",
      "Multiplier 3.0. Tier 1.0. Exponent 2\n",
      "Multiplier 3.0. Tier 1.0. Exponent 2\n",
      "Multiplier 3.0. Tier 1.0. Exponent 2\n",
      "Multiplier 3.0. Tier 1.0. Exponent 2\n",
      "Multiplier 3.0. Tier 1.0. Exponent 2\n",
      "Multiplier 0.48. Tier 4.0. Exponent 2\n"
     ]
    },
    {
     "name": "stderr",
     "output_type": "stream",
     "text": [
      "Processing matches:   2%|▏         | 228/12699 [00:05<04:56, 42.01it/s]"
     ]
    },
    {
     "name": "stdout",
     "output_type": "stream",
     "text": [
      "Multiplier 0.48. Tier 4.0. Exponent 2\n",
      "Multiplier 0.48. Tier 4.0. Exponent 2\n",
      "Multiplier 0.48. Tier 4.0. Exponent 2\n",
      "Multiplier 0.48. Tier 4.0. Exponent 2\n",
      "Multiplier 0.48. Tier 4.0. Exponent 2\n",
      "Multiplier 0.48. Tier 4.0. Exponent 2\n",
      "Multiplier 0.48. Tier 4.0. Exponent 2\n",
      "Multiplier 0.48. Tier 4.0. Exponent 2\n",
      "Multiplier 0.48. Tier 4.0. Exponent 2\n",
      "Multiplier 0.48. Tier 4.0. Exponent 2\n"
     ]
    },
    {
     "name": "stderr",
     "output_type": "stream",
     "text": [
      "Processing matches:   2%|▏         | 238/12699 [00:06<04:54, 42.26it/s]"
     ]
    },
    {
     "name": "stdout",
     "output_type": "stream",
     "text": [
      "Multiplier 0.48. Tier 4.0. Exponent 2\n",
      "Multiplier 0.48. Tier 4.0. Exponent 2\n",
      "Multiplier 0.48. Tier 4.0. Exponent 2\n",
      "Multiplier 0.48. Tier 4.0. Exponent 2\n",
      "Multiplier 0.48. Tier 4.0. Exponent 2\n",
      "Multiplier 0.48. Tier 4.0. Exponent 2\n",
      "Multiplier 0.48. Tier 4.0. Exponent 2\n",
      "Multiplier 0.48. Tier 4.0. Exponent 2\n",
      "Multiplier 0.48. Tier 4.0. Exponent 2\n"
     ]
    },
    {
     "name": "stderr",
     "output_type": "stream",
     "text": [
      "Processing matches:   2%|▏         | 248/12699 [00:06<05:01, 41.31it/s]"
     ]
    },
    {
     "name": "stdout",
     "output_type": "stream",
     "text": [
      "Multiplier 0.48. Tier 4.0. Exponent 2\n",
      "Multiplier 0.48. Tier 4.0. Exponent 2\n",
      "Multiplier 0.48. Tier 4.0. Exponent 2\n",
      "Multiplier 0.48. Tier 4.0. Exponent 2\n",
      "Multiplier 0.48. Tier 4.0. Exponent 2\n",
      "Multiplier 0.48. Tier 4.0. Exponent 2\n",
      "Multiplier 1.3333333333333333. Tier 2.0. Exponent 2\n",
      "Multiplier 1.3333333333333333. Tier 2.0. Exponent 2\n"
     ]
    },
    {
     "name": "stderr",
     "output_type": "stream",
     "text": [
      "Processing matches:   2%|▏         | 253/12699 [00:06<05:11, 39.92it/s]"
     ]
    },
    {
     "name": "stdout",
     "output_type": "stream",
     "text": [
      "Multiplier 1.3333333333333333. Tier 2.0. Exponent 2\n",
      "Multiplier 0.48. Tier 4.0. Exponent 2\n",
      "Multiplier 1.3333333333333333. Tier 2.0. Exponent 2\n",
      "Multiplier 1.3333333333333333. Tier 2.0. Exponent 2\n",
      "Multiplier 1.3333333333333333. Tier 2.0. Exponent 2\n",
      "Multiplier 0.48. Tier 4.0. Exponent 2\n",
      "Multiplier 0.48. Tier 4.0. Exponent 2\n",
      "Multiplier 0.48. Tier 4.0. Exponent 2\n"
     ]
    },
    {
     "name": "stderr",
     "output_type": "stream",
     "text": [
      "Processing matches:   2%|▏         | 263/12699 [00:06<05:06, 40.59it/s]"
     ]
    },
    {
     "name": "stdout",
     "output_type": "stream",
     "text": [
      "Multiplier 0.48. Tier 4.0. Exponent 2\n",
      "Multiplier 0.48. Tier 4.0. Exponent 2\n",
      "Multiplier 1.3333333333333333. Tier 2.0. Exponent 2\n",
      "Multiplier 1.3333333333333333. Tier 2.0. Exponent 2\n",
      "Multiplier 1.3333333333333333. Tier 2.0. Exponent 2\n",
      "Multiplier 0.48. Tier 4.0. Exponent 2\n",
      "Multiplier 1.3333333333333333. Tier 2.0. Exponent 2\n",
      "Multiplier 1.3333333333333333. Tier 2.0. Exponent 2\n",
      "Multiplier 1.3333333333333333. Tier 2.0. Exponent 2\n"
     ]
    },
    {
     "name": "stderr",
     "output_type": "stream",
     "text": [
      "Processing matches:   2%|▏         | 273/12699 [00:06<05:06, 40.60it/s]"
     ]
    },
    {
     "name": "stdout",
     "output_type": "stream",
     "text": [
      "Multiplier 1.3333333333333333. Tier 2.0. Exponent 2\n",
      "Multiplier 1.3333333333333333. Tier 2.0. Exponent 2\n",
      "Multiplier 1.3333333333333333. Tier 2.0. Exponent 2\n",
      "Multiplier 1.3333333333333333. Tier 2.0. Exponent 2\n",
      "Multiplier 1.3333333333333333. Tier 2.0. Exponent 2\n",
      "Multiplier 0.48. Tier 4.0. Exponent 2\n",
      "Multiplier 0.48. Tier 4.0. Exponent 2\n",
      "Multiplier 1.3333333333333333. Tier 2.0. Exponent 2\n"
     ]
    },
    {
     "name": "stderr",
     "output_type": "stream",
     "text": [
      "Processing matches:   2%|▏         | 278/12699 [00:07<05:10, 39.98it/s]"
     ]
    },
    {
     "name": "stdout",
     "output_type": "stream",
     "text": [
      "Multiplier 1.3333333333333333. Tier 2.0. Exponent 2\n",
      "Multiplier 1.3333333333333333. Tier 2.0. Exponent 2\n",
      "Multiplier 1.3333333333333333. Tier 2.0. Exponent 2\n",
      "Multiplier 1.3333333333333333. Tier 2.0. Exponent 2\n",
      "Multiplier 1.3333333333333333. Tier 2.0. Exponent 2\n",
      "Multiplier 1.3333333333333333. Tier 2.0. Exponent 2\n",
      "Multiplier 1.3333333333333333. Tier 2.0. Exponent 2\n",
      "Multiplier 1.3333333333333333. Tier 2.0. Exponent 2\n",
      "Multiplier 1.3333333333333333. Tier 2.0. Exponent 2\n"
     ]
    },
    {
     "name": "stderr",
     "output_type": "stream",
     "text": [
      "Processing matches:   2%|▏         | 288/12699 [00:07<05:08, 40.18it/s]"
     ]
    },
    {
     "name": "stdout",
     "output_type": "stream",
     "text": [
      "Multiplier 1.3333333333333333. Tier 2.0. Exponent 2\n",
      "Multiplier 1.3333333333333333. Tier 2.0. Exponent 2\n",
      "Multiplier 1.3333333333333333. Tier 2.0. Exponent 2\n",
      "Multiplier 1.3333333333333333. Tier 2.0. Exponent 2\n",
      "Multiplier 1.3333333333333333. Tier 2.0. Exponent 2\n",
      "Multiplier 1.3333333333333333. Tier 2.0. Exponent 2\n",
      "Multiplier 1.3333333333333333. Tier 2.0. Exponent 2\n",
      "Multiplier 1.3333333333333333. Tier 2.0. Exponent 2\n",
      "Multiplier 1.3333333333333333. Tier 2.0. Exponent 2\n"
     ]
    },
    {
     "name": "stderr",
     "output_type": "stream",
     "text": [
      "Processing matches:   2%|▏         | 298/12699 [00:07<05:09, 40.09it/s]"
     ]
    },
    {
     "name": "stdout",
     "output_type": "stream",
     "text": [
      "Multiplier 1.3333333333333333. Tier 2.0. Exponent 2\n",
      "Multiplier 1.3333333333333333. Tier 2.0. Exponent 2\n",
      "Multiplier 1.3333333333333333. Tier 2.0. Exponent 2\n",
      "Multiplier 1.3333333333333333. Tier 2.0. Exponent 2\n",
      "Multiplier 1.3333333333333333. Tier 2.0. Exponent 2\n",
      "Multiplier 0.75. Tier 3.0. Exponent 2\n",
      "Multiplier 0.75. Tier 3.0. Exponent 2\n",
      "Multiplier 0.75. Tier 3.0. Exponent 2\n",
      "Multiplier 0.75. Tier 3.0. Exponent 2\n"
     ]
    },
    {
     "name": "stderr",
     "output_type": "stream",
     "text": [
      "Processing matches:   2%|▏         | 308/12699 [00:07<05:09, 40.05it/s]"
     ]
    },
    {
     "name": "stdout",
     "output_type": "stream",
     "text": [
      "Multiplier 0.75. Tier 3.0. Exponent 2\n",
      "Multiplier 1.3333333333333333. Tier 2.0. Exponent 2\n",
      "Multiplier 0.75. Tier 3.0. Exponent 2\n",
      "Multiplier 0.75. Tier 3.0. Exponent 2\n",
      "Multiplier 0.75. Tier 3.0. Exponent 2\n",
      "Multiplier 0.75. Tier 3.0. Exponent 2\n",
      "Multiplier 0.75. Tier 3.0. Exponent 2\n",
      "Multiplier 0.75. Tier 3.0. Exponent 2\n"
     ]
    },
    {
     "name": "stderr",
     "output_type": "stream",
     "text": [
      "Processing matches:   2%|▏         | 313/12699 [00:07<05:10, 39.90it/s]"
     ]
    },
    {
     "name": "stdout",
     "output_type": "stream",
     "text": [
      "Multiplier 0.75. Tier 3.0. Exponent 2\n",
      "Multiplier 0.75. Tier 3.0. Exponent 2\n",
      "Multiplier 0.75. Tier 3.0. Exponent 2\n",
      "Multiplier 0.75. Tier 3.0. Exponent 2\n",
      "Multiplier 0.75. Tier 3.0. Exponent 2\n",
      "Multiplier 0.75. Tier 3.0. Exponent 2\n",
      "Multiplier 0.75. Tier 3.0. Exponent 2\n",
      "Multiplier 0.75. Tier 3.0. Exponent 2\n",
      "Multiplier 0.75. Tier 3.0. Exponent 2\n"
     ]
    },
    {
     "name": "stderr",
     "output_type": "stream",
     "text": [
      "Processing matches:   3%|▎         | 323/12699 [00:08<05:04, 40.64it/s]"
     ]
    },
    {
     "name": "stdout",
     "output_type": "stream",
     "text": [
      "Multiplier 0.75. Tier 3.0. Exponent 2\n",
      "Multiplier 0.75. Tier 3.0. Exponent 2\n",
      "Multiplier 0.75. Tier 3.0. Exponent 2\n",
      "Multiplier 0.75. Tier 3.0. Exponent 2\n",
      "Multiplier 0.75. Tier 3.0. Exponent 2\n",
      "Multiplier 0.75. Tier 3.0. Exponent 2\n",
      "Multiplier 0.75. Tier 3.0. Exponent 2\n",
      "Multiplier 0.75. Tier 3.0. Exponent 2\n",
      "Multiplier 0.75. Tier 3.0. Exponent 2\n"
     ]
    },
    {
     "name": "stderr",
     "output_type": "stream",
     "text": [
      "Processing matches:   3%|▎         | 333/12699 [00:08<05:03, 40.77it/s]"
     ]
    },
    {
     "name": "stdout",
     "output_type": "stream",
     "text": [
      "Multiplier 0.75. Tier 3.0. Exponent 2\n",
      "Multiplier 0.75. Tier 3.0. Exponent 2\n",
      "Multiplier 0.75. Tier 3.0. Exponent 2\n",
      "Multiplier 0.75. Tier 3.0. Exponent 2\n",
      "Multiplier 0.75. Tier 3.0. Exponent 2\n",
      "Multiplier 0.75. Tier 3.0. Exponent 2\n",
      "Multiplier 0.75. Tier 3.0. Exponent 2\n",
      "Multiplier 0.75. Tier 3.0. Exponent 2\n"
     ]
    },
    {
     "name": "stderr",
     "output_type": "stream",
     "text": [
      "Processing matches:   3%|▎         | 343/12699 [00:08<05:04, 40.60it/s]"
     ]
    },
    {
     "name": "stdout",
     "output_type": "stream",
     "text": [
      "Multiplier 0.75. Tier 3.0. Exponent 2\n",
      "Multiplier 0.75. Tier 3.0. Exponent 2\n",
      "Multiplier 0.75. Tier 3.0. Exponent 2\n",
      "Multiplier 0.75. Tier 3.0. Exponent 2\n",
      "Multiplier 0.75. Tier 3.0. Exponent 2\n",
      "Multiplier 0.75. Tier 3.0. Exponent 2\n",
      "Multiplier 0.75. Tier 3.0. Exponent 2\n",
      "Multiplier 0.75. Tier 3.0. Exponent 2\n",
      "Multiplier 0.75. Tier 3.0. Exponent 2\n"
     ]
    },
    {
     "name": "stderr",
     "output_type": "stream",
     "text": [
      "Processing matches:   3%|▎         | 348/12699 [00:08<05:05, 40.37it/s]"
     ]
    },
    {
     "name": "stdout",
     "output_type": "stream",
     "text": [
      "Multiplier 0.75. Tier 3.0. Exponent 2\n",
      "Multiplier 0.75. Tier 3.0. Exponent 2\n",
      "Multiplier 0.75. Tier 3.0. Exponent 2\n",
      "Multiplier 0.75. Tier 3.0. Exponent 2\n",
      "Multiplier 0.75. Tier 3.0. Exponent 2\n",
      "Multiplier 0.75. Tier 3.0. Exponent 2\n",
      "Multiplier 0.75. Tier 3.0. Exponent 2\n",
      "Multiplier 0.75. Tier 3.0. Exponent 2\n"
     ]
    },
    {
     "name": "stderr",
     "output_type": "stream",
     "text": [
      "Processing matches:   3%|▎         | 358/12699 [00:09<05:04, 40.52it/s]"
     ]
    },
    {
     "name": "stdout",
     "output_type": "stream",
     "text": [
      "Multiplier 0.75. Tier 3.0. Exponent 2\n",
      "Multiplier 0.75. Tier 3.0. Exponent 2\n",
      "Multiplier 0.75. Tier 3.0. Exponent 2\n",
      "Multiplier 0.75. Tier 3.0. Exponent 2\n",
      "Multiplier 0.75. Tier 3.0. Exponent 2\n",
      "Multiplier 0.75. Tier 3.0. Exponent 2\n",
      "Multiplier 0.75. Tier 3.0. Exponent 2\n",
      "Multiplier 0.75. Tier 3.0. Exponent 2\n",
      "Multiplier 0.75. Tier 3.0. Exponent 2\n"
     ]
    },
    {
     "name": "stderr",
     "output_type": "stream",
     "text": [
      "Processing matches:   3%|▎         | 368/12699 [00:09<05:09, 39.80it/s]"
     ]
    },
    {
     "name": "stdout",
     "output_type": "stream",
     "text": [
      "Multiplier 0.75. Tier 3.0. Exponent 2\n",
      "Multiplier 0.75. Tier 3.0. Exponent 2\n",
      "Multiplier 0.75. Tier 3.0. Exponent 2\n",
      "Multiplier 0.75. Tier 3.0. Exponent 2\n",
      "Multiplier 0.75. Tier 3.0. Exponent 2\n",
      "Multiplier 0.75. Tier 3.0. Exponent 2\n",
      "Multiplier 0.75. Tier 3.0. Exponent 2\n",
      "Multiplier 0.75. Tier 3.0. Exponent 2\n"
     ]
    },
    {
     "name": "stderr",
     "output_type": "stream",
     "text": [
      "Processing matches:   3%|▎         | 373/12699 [00:09<05:05, 40.34it/s]"
     ]
    },
    {
     "name": "stdout",
     "output_type": "stream",
     "text": [
      "Multiplier 0.75. Tier 3.0. Exponent 2\n",
      "Multiplier 0.75. Tier 3.0. Exponent 2\n",
      "Multiplier 0.75. Tier 3.0. Exponent 2\n",
      "Multiplier 0.75. Tier 3.0. Exponent 2\n",
      "Multiplier 0.75. Tier 3.0. Exponent 2\n",
      "Multiplier 0.75. Tier 3.0. Exponent 2\n",
      "Multiplier 0.75. Tier 3.0. Exponent 2\n",
      "Multiplier 0.75. Tier 3.0. Exponent 2\n",
      "Multiplier 0.75. Tier 3.0. Exponent 2\n"
     ]
    },
    {
     "name": "stderr",
     "output_type": "stream",
     "text": [
      "Processing matches:   3%|▎         | 383/12699 [00:09<05:05, 40.35it/s]"
     ]
    },
    {
     "name": "stdout",
     "output_type": "stream",
     "text": [
      "Multiplier 0.75. Tier 3.0. Exponent 2\n",
      "Multiplier 0.75. Tier 3.0. Exponent 2\n",
      "Multiplier 0.75. Tier 3.0. Exponent 2\n",
      "Multiplier 0.48. Tier 4.0. Exponent 2\n",
      "Multiplier 0.48. Tier 4.0. Exponent 2\n",
      "Multiplier 0.48. Tier 4.0. Exponent 2\n",
      "Multiplier 0.48. Tier 4.0. Exponent 2\n",
      "Multiplier 0.75. Tier 3.0. Exponent 2\n",
      "Multiplier 0.75. Tier 3.0. Exponent 2\n"
     ]
    },
    {
     "name": "stderr",
     "output_type": "stream",
     "text": [
      "Processing matches:   3%|▎         | 393/12699 [00:09<05:05, 40.34it/s]"
     ]
    },
    {
     "name": "stdout",
     "output_type": "stream",
     "text": [
      "Multiplier 0.75. Tier 3.0. Exponent 2\n",
      "Multiplier 0.75. Tier 3.0. Exponent 2\n",
      "Multiplier 0.75. Tier 3.0. Exponent 2\n",
      "Multiplier 0.75. Tier 3.0. Exponent 2\n",
      "Multiplier 0.75. Tier 3.0. Exponent 2\n",
      "Multiplier 0.75. Tier 3.0. Exponent 2\n",
      "Multiplier 0.75. Tier 3.0. Exponent 2\n",
      "Multiplier 0.75. Tier 3.0. Exponent 2\n",
      "Multiplier 0.75. Tier 3.0. Exponent 2\n"
     ]
    },
    {
     "name": "stderr",
     "output_type": "stream",
     "text": [
      "Processing matches:   3%|▎         | 403/12699 [00:10<05:05, 40.31it/s]"
     ]
    },
    {
     "name": "stdout",
     "output_type": "stream",
     "text": [
      "Multiplier 0.48. Tier 4.0. Exponent 2\n",
      "Multiplier 0.48. Tier 4.0. Exponent 2\n",
      "Multiplier 0.48. Tier 4.0. Exponent 2\n",
      "Multiplier 0.75. Tier 3.0. Exponent 2\n",
      "Multiplier 0.75. Tier 3.0. Exponent 2\n",
      "Multiplier 0.75. Tier 3.0. Exponent 2\n",
      "Multiplier 0.75. Tier 3.0. Exponent 2\n",
      "Multiplier 0.75. Tier 3.0. Exponent 2\n"
     ]
    },
    {
     "name": "stderr",
     "output_type": "stream",
     "text": [
      "Processing matches:   3%|▎         | 408/12699 [00:10<05:04, 40.32it/s]"
     ]
    },
    {
     "name": "stdout",
     "output_type": "stream",
     "text": [
      "Multiplier 0.75. Tier 3.0. Exponent 2\n",
      "Multiplier 0.75. Tier 3.0. Exponent 2\n",
      "Multiplier 0.75. Tier 3.0. Exponent 2\n",
      "Multiplier 0.75. Tier 3.0. Exponent 2\n",
      "Multiplier 0.75. Tier 3.0. Exponent 2\n",
      "Multiplier 0.75. Tier 3.0. Exponent 2\n",
      "Multiplier 0.75. Tier 3.0. Exponent 2\n",
      "Multiplier 0.75. Tier 3.0. Exponent 2\n"
     ]
    },
    {
     "name": "stderr",
     "output_type": "stream",
     "text": [
      "Processing matches:   3%|▎         | 418/12699 [00:10<05:04, 40.33it/s]"
     ]
    },
    {
     "name": "stdout",
     "output_type": "stream",
     "text": [
      "Multiplier 0.75. Tier 3.0. Exponent 2\n",
      "Multiplier 0.75. Tier 3.0. Exponent 2\n",
      "Multiplier 0.75. Tier 3.0. Exponent 2\n",
      "Multiplier 0.75. Tier 3.0. Exponent 2\n",
      "Multiplier 0.75. Tier 3.0. Exponent 2\n",
      "Multiplier 0.75. Tier 3.0. Exponent 2\n",
      "Multiplier 0.75. Tier 3.0. Exponent 2\n",
      "Multiplier 0.75. Tier 3.0. Exponent 2\n"
     ]
    },
    {
     "name": "stderr",
     "output_type": "stream",
     "text": [
      "Processing matches:   3%|▎         | 423/12699 [00:10<05:02, 40.55it/s]"
     ]
    },
    {
     "name": "stdout",
     "output_type": "stream",
     "text": [
      "Multiplier 1.3333333333333333. Tier 2.0. Exponent 2\n",
      "Multiplier 0.48. Tier 4.0. Exponent 2\n",
      "Multiplier 0.48. Tier 4.0. Exponent 2\n",
      "Multiplier 0.48. Tier 4.0. Exponent 2\n",
      "Multiplier 0.48. Tier 4.0. Exponent 2\n",
      "Multiplier 0.48. Tier 4.0. Exponent 2\n",
      "Multiplier 0.48. Tier 4.0. Exponent 2\n",
      "Multiplier 0.48. Tier 4.0. Exponent 2\n"
     ]
    },
    {
     "name": "stderr",
     "output_type": "stream",
     "text": [
      "Processing matches:   3%|▎         | 433/12699 [00:10<05:03, 40.43it/s]"
     ]
    },
    {
     "name": "stdout",
     "output_type": "stream",
     "text": [
      "Multiplier 0.48. Tier 4.0. Exponent 2\n",
      "Multiplier 0.48. Tier 4.0. Exponent 2\n",
      "Multiplier 0.48. Tier 4.0. Exponent 2\n",
      "Multiplier 0.48. Tier 4.0. Exponent 2\n",
      "Multiplier 0.48. Tier 4.0. Exponent 2\n",
      "Multiplier 1.3333333333333333. Tier 2.0. Exponent 2\n",
      "Multiplier 1.3333333333333333. Tier 2.0. Exponent 2\n",
      "Multiplier 1.3333333333333333. Tier 2.0. Exponent 2\n"
     ]
    },
    {
     "name": "stderr",
     "output_type": "stream",
     "text": [
      "Processing matches:   3%|▎         | 443/12699 [00:11<05:06, 40.02it/s]"
     ]
    },
    {
     "name": "stdout",
     "output_type": "stream",
     "text": [
      "Multiplier 1.3333333333333333. Tier 2.0. Exponent 2\n",
      "Multiplier 1.3333333333333333. Tier 2.0. Exponent 2\n",
      "Multiplier 1.3333333333333333. Tier 2.0. Exponent 2\n",
      "Multiplier 1.3333333333333333. Tier 2.0. Exponent 2\n",
      "Multiplier 1.3333333333333333. Tier 2.0. Exponent 2\n",
      "Multiplier 1.3333333333333333. Tier 2.0. Exponent 2\n",
      "Multiplier 0.48. Tier 4.0. Exponent 2\n",
      "Multiplier 1.3333333333333333. Tier 2.0. Exponent 2\n"
     ]
    },
    {
     "name": "stderr",
     "output_type": "stream",
     "text": [
      "Processing matches:   4%|▎         | 448/12699 [00:11<05:05, 40.13it/s]"
     ]
    },
    {
     "name": "stdout",
     "output_type": "stream",
     "text": [
      "Multiplier 1.3333333333333333. Tier 2.0. Exponent 2\n",
      "Multiplier 1.3333333333333333. Tier 2.0. Exponent 2\n",
      "Multiplier 1.3333333333333333. Tier 2.0. Exponent 2\n",
      "Multiplier 1.3333333333333333. Tier 2.0. Exponent 2\n",
      "Multiplier 0.48. Tier 4.0. Exponent 2\n",
      "Multiplier 0.48. Tier 4.0. Exponent 2\n",
      "Multiplier 0.48. Tier 4.0. Exponent 2\n",
      "Multiplier 0.48. Tier 4.0. Exponent 2\n"
     ]
    },
    {
     "name": "stderr",
     "output_type": "stream",
     "text": [
      "Processing matches:   4%|▎         | 457/12699 [00:11<05:17, 38.57it/s]"
     ]
    },
    {
     "name": "stdout",
     "output_type": "stream",
     "text": [
      "Multiplier 1.3333333333333333. Tier 2.0. Exponent 2\n",
      "Multiplier 1.3333333333333333. Tier 2.0. Exponent 2\n",
      "Multiplier 1.3333333333333333. Tier 2.0. Exponent 2\n",
      "Multiplier 1.3333333333333333. Tier 2.0. Exponent 2\n",
      "Multiplier 1.3333333333333333. Tier 2.0. Exponent 2\n",
      "Multiplier 1.3333333333333333. Tier 2.0. Exponent 2\n",
      "Multiplier 1.3333333333333333. Tier 2.0. Exponent 2\n",
      "Multiplier 0.48. Tier 4.0. Exponent 2\n"
     ]
    },
    {
     "name": "stderr",
     "output_type": "stream",
     "text": [
      "Processing matches:   4%|▎         | 466/12699 [00:11<05:08, 39.65it/s]"
     ]
    },
    {
     "name": "stdout",
     "output_type": "stream",
     "text": [
      "Multiplier 1.3333333333333333. Tier 2.0. Exponent 2\n",
      "Multiplier 1.3333333333333333. Tier 2.0. Exponent 2\n",
      "Multiplier 0.48. Tier 4.0. Exponent 2\n",
      "Multiplier 0.48. Tier 4.0. Exponent 2\n",
      "Multiplier 1.3333333333333333. Tier 2.0. Exponent 2\n",
      "Multiplier 1.3333333333333333. Tier 2.0. Exponent 2\n",
      "Multiplier 0.48. Tier 4.0. Exponent 2\n",
      "Multiplier 0.48. Tier 4.0. Exponent 2\n",
      "Multiplier 0.48. Tier 4.0. Exponent 2\n"
     ]
    },
    {
     "name": "stderr",
     "output_type": "stream",
     "text": [
      "Processing matches:   4%|▎         | 475/12699 [00:12<05:14, 38.85it/s]"
     ]
    },
    {
     "name": "stdout",
     "output_type": "stream",
     "text": [
      "Multiplier 0.48. Tier 4.0. Exponent 2\n",
      "Multiplier 0.48. Tier 4.0. Exponent 2\n",
      "Multiplier 0.48. Tier 4.0. Exponent 2\n",
      "Multiplier 0.48. Tier 4.0. Exponent 2\n",
      "Multiplier 1.3333333333333333. Tier 2.0. Exponent 2\n",
      "Multiplier 0.48. Tier 4.0. Exponent 2\n",
      "Multiplier 1.3333333333333333. Tier 2.0. Exponent 2\n"
     ]
    },
    {
     "name": "stderr",
     "output_type": "stream",
     "text": [
      "Processing matches:   4%|▍         | 479/12699 [00:12<05:18, 38.39it/s]"
     ]
    },
    {
     "name": "stdout",
     "output_type": "stream",
     "text": [
      "Multiplier 1.3333333333333333. Tier 2.0. Exponent 2\n",
      "Multiplier 1.3333333333333333. Tier 2.0. Exponent 2\n",
      "Multiplier 1.3333333333333333. Tier 2.0. Exponent 2\n",
      "Multiplier 1.3333333333333333. Tier 2.0. Exponent 2\n",
      "Multiplier 1.3333333333333333. Tier 2.0. Exponent 2\n",
      "Multiplier 1.3333333333333333. Tier 2.0. Exponent 2\n",
      "Multiplier 1.3333333333333333. Tier 2.0. Exponent 2\n",
      "Multiplier 1.3333333333333333. Tier 2.0. Exponent 2\n"
     ]
    },
    {
     "name": "stderr",
     "output_type": "stream",
     "text": [
      "Processing matches:   4%|▍         | 489/12699 [00:12<05:02, 40.33it/s]"
     ]
    },
    {
     "name": "stdout",
     "output_type": "stream",
     "text": [
      "Multiplier 1.3333333333333333. Tier 2.0. Exponent 2\n",
      "Multiplier 1.3333333333333333. Tier 2.0. Exponent 2\n",
      "Multiplier 1.3333333333333333. Tier 2.0. Exponent 2\n",
      "Multiplier 1.3333333333333333. Tier 2.0. Exponent 2\n",
      "Multiplier 1.3333333333333333. Tier 2.0. Exponent 2\n",
      "Multiplier 1.3333333333333333. Tier 2.0. Exponent 2\n",
      "Multiplier 1.3333333333333333. Tier 2.0. Exponent 2\n",
      "Multiplier 1.3333333333333333. Tier 2.0. Exponent 2\n",
      "Multiplier 1.3333333333333333. Tier 2.0. Exponent 2\n"
     ]
    },
    {
     "name": "stderr",
     "output_type": "stream",
     "text": [
      "Processing matches:   4%|▍         | 499/12699 [00:12<05:05, 39.87it/s]"
     ]
    },
    {
     "name": "stdout",
     "output_type": "stream",
     "text": [
      "Multiplier 1.3333333333333333. Tier 2.0. Exponent 2\n",
      "Multiplier 1.3333333333333333. Tier 2.0. Exponent 2\n",
      "Multiplier 1.3333333333333333. Tier 2.0. Exponent 2\n",
      "Multiplier 1.3333333333333333. Tier 2.0. Exponent 2\n",
      "Multiplier 1.3333333333333333. Tier 2.0. Exponent 2\n",
      "Multiplier 1.3333333333333333. Tier 2.0. Exponent 2\n",
      "Multiplier 1.3333333333333333. Tier 2.0. Exponent 2\n",
      "Multiplier 1.3333333333333333. Tier 2.0. Exponent 2\n",
      "Multiplier 1.3333333333333333. Tier 2.0. Exponent 2\n"
     ]
    },
    {
     "name": "stderr",
     "output_type": "stream",
     "text": [
      "Processing matches:   4%|▍         | 508/12699 [00:12<05:00, 40.54it/s]"
     ]
    },
    {
     "name": "stdout",
     "output_type": "stream",
     "text": [
      "Multiplier 1.3333333333333333. Tier 2.0. Exponent 2\n",
      "Multiplier 1.3333333333333333. Tier 2.0. Exponent 2\n",
      "Multiplier 1.3333333333333333. Tier 2.0. Exponent 2\n",
      "Multiplier 1.3333333333333333. Tier 2.0. Exponent 2\n",
      "Multiplier 1.3333333333333333. Tier 2.0. Exponent 2\n",
      "Multiplier 1.3333333333333333. Tier 2.0. Exponent 2\n",
      "Multiplier 1.3333333333333333. Tier 2.0. Exponent 2\n",
      "Multiplier 1.3333333333333333. Tier 2.0. Exponent 2\n",
      "Multiplier 1.3333333333333333. Tier 2.0. Exponent 2\n"
     ]
    },
    {
     "name": "stderr",
     "output_type": "stream",
     "text": [
      "Processing matches:   4%|▍         | 518/12699 [00:13<05:06, 39.74it/s]"
     ]
    },
    {
     "name": "stdout",
     "output_type": "stream",
     "text": [
      "Multiplier 1.3333333333333333. Tier 2.0. Exponent 2\n",
      "Multiplier 1.3333333333333333. Tier 2.0. Exponent 2\n",
      "Multiplier 1.3333333333333333. Tier 2.0. Exponent 2\n",
      "Multiplier 1.3333333333333333. Tier 2.0. Exponent 2\n",
      "Multiplier 1.3333333333333333. Tier 2.0. Exponent 2\n",
      "Multiplier 1.3333333333333333. Tier 2.0. Exponent 2\n",
      "Multiplier 1.3333333333333333. Tier 2.0. Exponent 2\n",
      "Multiplier 1.3333333333333333. Tier 2.0. Exponent 2\n"
     ]
    },
    {
     "name": "stderr",
     "output_type": "stream",
     "text": [
      "Processing matches:   4%|▍         | 526/12699 [00:13<05:12, 39.01it/s]"
     ]
    },
    {
     "name": "stdout",
     "output_type": "stream",
     "text": [
      "Multiplier 1.3333333333333333. Tier 2.0. Exponent 2\n",
      "Multiplier 1.3333333333333333. Tier 2.0. Exponent 2\n",
      "Multiplier 1.3333333333333333. Tier 2.0. Exponent 2\n",
      "Multiplier 1.3333333333333333. Tier 2.0. Exponent 2\n",
      "Multiplier 1.3333333333333333. Tier 2.0. Exponent 2\n",
      "Multiplier 1.3333333333333333. Tier 2.0. Exponent 2\n",
      "Multiplier 1.3333333333333333. Tier 2.0. Exponent 2\n",
      "Multiplier 1.3333333333333333. Tier 2.0. Exponent 2\n"
     ]
    },
    {
     "name": "stderr",
     "output_type": "stream",
     "text": [
      "Processing matches:   4%|▍         | 531/12699 [00:13<05:02, 40.17it/s]"
     ]
    },
    {
     "name": "stdout",
     "output_type": "stream",
     "text": [
      "Multiplier 1.3333333333333333. Tier 2.0. Exponent 2\n",
      "Multiplier 1.3333333333333333. Tier 2.0. Exponent 2\n",
      "Multiplier 1.3333333333333333. Tier 2.0. Exponent 2\n",
      "Multiplier 1.3333333333333333. Tier 2.0. Exponent 2\n",
      "Multiplier 1.3333333333333333. Tier 2.0. Exponent 2\n",
      "Multiplier 1.3333333333333333. Tier 2.0. Exponent 2\n",
      "Multiplier 1.3333333333333333. Tier 2.0. Exponent 2\n",
      "Multiplier 1.3333333333333333. Tier 2.0. Exponent 2\n",
      "Multiplier 1.3333333333333333. Tier 2.0. Exponent 2\n"
     ]
    },
    {
     "name": "stderr",
     "output_type": "stream",
     "text": [
      "Processing matches:   4%|▍         | 541/12699 [00:13<04:57, 40.90it/s]"
     ]
    },
    {
     "name": "stdout",
     "output_type": "stream",
     "text": [
      "Multiplier 1.3333333333333333. Tier 2.0. Exponent 2\n",
      "Multiplier 1.3333333333333333. Tier 2.0. Exponent 2\n",
      "Multiplier 1.3333333333333333. Tier 2.0. Exponent 2\n",
      "Multiplier 1.3333333333333333. Tier 2.0. Exponent 2\n",
      "Multiplier 1.3333333333333333. Tier 2.0. Exponent 2\n",
      "Multiplier 1.3333333333333333. Tier 2.0. Exponent 2\n",
      "Multiplier 1.3333333333333333. Tier 2.0. Exponent 2\n",
      "Multiplier 1.3333333333333333. Tier 2.0. Exponent 2\n",
      "Multiplier 1.3333333333333333. Tier 2.0. Exponent 2\n"
     ]
    },
    {
     "name": "stderr",
     "output_type": "stream",
     "text": [
      "Processing matches:   4%|▍         | 551/12699 [00:13<05:00, 40.47it/s]"
     ]
    },
    {
     "name": "stdout",
     "output_type": "stream",
     "text": [
      "Multiplier 1.3333333333333333. Tier 2.0. Exponent 2\n",
      "Multiplier 1.3333333333333333. Tier 2.0. Exponent 2\n",
      "Multiplier 1.3333333333333333. Tier 2.0. Exponent 2\n",
      "Multiplier 1.3333333333333333. Tier 2.0. Exponent 2\n",
      "Multiplier 1.3333333333333333. Tier 2.0. Exponent 2\n",
      "Multiplier 1.3333333333333333. Tier 2.0. Exponent 2\n",
      "Multiplier 1.3333333333333333. Tier 2.0. Exponent 2\n",
      "Multiplier 1.3333333333333333. Tier 2.0. Exponent 2\n",
      "Multiplier 1.3333333333333333. Tier 2.0. Exponent 2\n"
     ]
    },
    {
     "name": "stderr",
     "output_type": "stream",
     "text": [
      "Processing matches:   4%|▍         | 561/12699 [00:14<04:55, 41.03it/s]"
     ]
    },
    {
     "name": "stdout",
     "output_type": "stream",
     "text": [
      "Multiplier 1.3333333333333333. Tier 2.0. Exponent 2\n",
      "Multiplier 1.3333333333333333. Tier 2.0. Exponent 2\n",
      "Multiplier 1.3333333333333333. Tier 2.0. Exponent 2\n",
      "Multiplier 1.3333333333333333. Tier 2.0. Exponent 2\n",
      "Multiplier 1.3333333333333333. Tier 2.0. Exponent 2\n",
      "Multiplier 1.3333333333333333. Tier 2.0. Exponent 2\n",
      "Multiplier 1.3333333333333333. Tier 2.0. Exponent 2\n",
      "Multiplier 1.3333333333333333. Tier 2.0. Exponent 2\n"
     ]
    },
    {
     "name": "stderr",
     "output_type": "stream",
     "text": [
      "Processing matches:   4%|▍         | 566/12699 [00:14<04:58, 40.63it/s]"
     ]
    },
    {
     "name": "stdout",
     "output_type": "stream",
     "text": [
      "Multiplier 1.3333333333333333. Tier 2.0. Exponent 2\n",
      "Multiplier 1.3333333333333333. Tier 2.0. Exponent 2\n",
      "Multiplier 1.3333333333333333. Tier 2.0. Exponent 2\n",
      "Multiplier 1.3333333333333333. Tier 2.0. Exponent 2\n",
      "Multiplier 1.3333333333333333. Tier 2.0. Exponent 2\n",
      "Multiplier 1.3333333333333333. Tier 2.0. Exponent 2\n",
      "Multiplier 1.3333333333333333. Tier 2.0. Exponent 2\n",
      "Multiplier 1.3333333333333333. Tier 2.0. Exponent 2\n",
      "Multiplier 1.3333333333333333. Tier 2.0. Exponent 2\n"
     ]
    },
    {
     "name": "stderr",
     "output_type": "stream",
     "text": [
      "Processing matches:   5%|▍         | 576/12699 [00:14<05:02, 40.06it/s]"
     ]
    },
    {
     "name": "stdout",
     "output_type": "stream",
     "text": [
      "Multiplier 1.3333333333333333. Tier 2.0. Exponent 2\n",
      "Multiplier 1.3333333333333333. Tier 2.0. Exponent 2\n",
      "Multiplier 1.3333333333333333. Tier 2.0. Exponent 2\n",
      "Multiplier 1.3333333333333333. Tier 2.0. Exponent 2\n",
      "Multiplier 1.3333333333333333. Tier 2.0. Exponent 2\n",
      "Multiplier 1.3333333333333333. Tier 2.0. Exponent 2\n",
      "Multiplier 1.3333333333333333. Tier 2.0. Exponent 2\n",
      "Multiplier 1.3333333333333333. Tier 2.0. Exponent 2\n",
      "Multiplier 1.3333333333333333. Tier 2.0. Exponent 2\n"
     ]
    },
    {
     "name": "stderr",
     "output_type": "stream",
     "text": [
      "Processing matches:   5%|▍         | 586/12699 [00:14<05:06, 39.52it/s]"
     ]
    },
    {
     "name": "stdout",
     "output_type": "stream",
     "text": [
      "Multiplier 1.3333333333333333. Tier 2.0. Exponent 2\n",
      "Multiplier 1.3333333333333333. Tier 2.0. Exponent 2\n",
      "Multiplier 1.3333333333333333. Tier 2.0. Exponent 2\n",
      "Multiplier 0.75. Tier 3.0. Exponent 2\n",
      "Multiplier 0.75. Tier 3.0. Exponent 2\n",
      "Multiplier 0.48. Tier 4.0. Exponent 2\n",
      "Multiplier 0.48. Tier 4.0. Exponent 2\n",
      "Multiplier 0.75. Tier 3.0. Exponent 2\n"
     ]
    },
    {
     "name": "stderr",
     "output_type": "stream",
     "text": [
      "Processing matches:   5%|▍         | 594/12699 [00:15<05:07, 39.32it/s]"
     ]
    },
    {
     "name": "stdout",
     "output_type": "stream",
     "text": [
      "Multiplier 0.75. Tier 3.0. Exponent 2\n",
      "Multiplier 0.48. Tier 4.0. Exponent 2\n",
      "Multiplier 0.48. Tier 4.0. Exponent 2\n",
      "Multiplier 0.75. Tier 3.0. Exponent 2\n",
      "Multiplier 0.75. Tier 3.0. Exponent 2\n",
      "Multiplier 0.48. Tier 4.0. Exponent 2\n",
      "Multiplier 0.48. Tier 4.0. Exponent 2\n",
      "Multiplier 0.48. Tier 4.0. Exponent 2\n",
      "Multiplier 0.48. Tier 4.0. Exponent 2\n"
     ]
    },
    {
     "name": "stderr",
     "output_type": "stream",
     "text": [
      "Processing matches:   5%|▍         | 603/12699 [00:15<05:03, 39.86it/s]"
     ]
    },
    {
     "name": "stdout",
     "output_type": "stream",
     "text": [
      "Multiplier 0.48. Tier 4.0. Exponent 2\n",
      "Multiplier 0.48. Tier 4.0. Exponent 2\n",
      "Multiplier 0.48. Tier 4.0. Exponent 2\n",
      "Multiplier 0.48. Tier 4.0. Exponent 2\n",
      "Multiplier 0.48. Tier 4.0. Exponent 2\n",
      "Multiplier 0.75. Tier 3.0. Exponent 2\n",
      "Multiplier 0.48. Tier 4.0. Exponent 2\n",
      "Multiplier 0.48. Tier 4.0. Exponent 2\n",
      "Multiplier 0.48. Tier 4.0. Exponent 2\n"
     ]
    },
    {
     "name": "stderr",
     "output_type": "stream",
     "text": [
      "Processing matches:   5%|▍         | 611/12699 [00:15<05:22, 37.46it/s]"
     ]
    },
    {
     "name": "stdout",
     "output_type": "stream",
     "text": [
      "Multiplier 0.48. Tier 4.0. Exponent 2\n",
      "Multiplier 3.0. Tier 1.0. Exponent 2\n",
      "Multiplier 3.0. Tier 1.0. Exponent 2\n",
      "Multiplier 3.0. Tier 1.0. Exponent 2\n",
      "Multiplier 3.0. Tier 1.0. Exponent 2\n",
      "Multiplier 3.0. Tier 1.0. Exponent 2\n",
      "Multiplier 3.0. Tier 1.0. Exponent 2\n",
      "Multiplier 3.0. Tier 1.0. Exponent 2\n"
     ]
    },
    {
     "name": "stderr",
     "output_type": "stream",
     "text": [
      "Processing matches:   5%|▍         | 619/12699 [00:15<05:20, 37.67it/s]"
     ]
    },
    {
     "name": "stdout",
     "output_type": "stream",
     "text": [
      "Multiplier 3.0. Tier 1.0. Exponent 2\n",
      "Multiplier 3.0. Tier 1.0. Exponent 2\n",
      "Multiplier 0.48. Tier 4.0. Exponent 2\n",
      "Multiplier 0.48. Tier 4.0. Exponent 2\n",
      "Multiplier 0.48. Tier 4.0. Exponent 2\n",
      "Multiplier 0.48. Tier 4.0. Exponent 2\n",
      "Multiplier 0.48. Tier 4.0. Exponent 2\n",
      "Multiplier 0.48. Tier 4.0. Exponent 2\n",
      "Multiplier 3.0. Tier 1.0. Exponent 2\n"
     ]
    },
    {
     "name": "stderr",
     "output_type": "stream",
     "text": [
      "Processing matches:   5%|▍         | 627/12699 [00:15<05:22, 37.40it/s]"
     ]
    },
    {
     "name": "stdout",
     "output_type": "stream",
     "text": [
      "Multiplier 3.0. Tier 1.0. Exponent 2\n",
      "Multiplier 3.0. Tier 1.0. Exponent 2\n",
      "Multiplier 3.0. Tier 1.0. Exponent 2\n",
      "Multiplier 3.0. Tier 1.0. Exponent 2\n",
      "Multiplier 3.0. Tier 1.0. Exponent 2\n",
      "Multiplier 1.3333333333333333. Tier 2.0. Exponent 2\n",
      "Multiplier 3.0. Tier 1.0. Exponent 2\n",
      "Multiplier 3.0. Tier 1.0. Exponent 2\n"
     ]
    },
    {
     "name": "stderr",
     "output_type": "stream",
     "text": [
      "Processing matches:   5%|▌         | 635/12699 [00:16<05:31, 36.41it/s]"
     ]
    },
    {
     "name": "stdout",
     "output_type": "stream",
     "text": [
      "Multiplier 3.0. Tier 1.0. Exponent 2\n",
      "Multiplier 3.0. Tier 1.0. Exponent 2\n",
      "Multiplier 1.3333333333333333. Tier 2.0. Exponent 2\n",
      "Multiplier 1.3333333333333333. Tier 2.0. Exponent 2\n",
      "Multiplier 1.3333333333333333. Tier 2.0. Exponent 2\n",
      "Multiplier 3.0. Tier 1.0. Exponent 2\n",
      "Multiplier 0.48. Tier 4.0. Exponent 2\n",
      "Multiplier 0.48. Tier 4.0. Exponent 2\n"
     ]
    },
    {
     "name": "stderr",
     "output_type": "stream",
     "text": [
      "Processing matches:   5%|▌         | 643/12699 [00:16<05:32, 36.31it/s]"
     ]
    },
    {
     "name": "stdout",
     "output_type": "stream",
     "text": [
      "Multiplier 1.3333333333333333. Tier 2.0. Exponent 2\n",
      "Multiplier 0.48. Tier 4.0. Exponent 2\n",
      "Multiplier 0.48. Tier 4.0. Exponent 2\n",
      "Multiplier 3.0. Tier 1.0. Exponent 2\n",
      "Multiplier 1.3333333333333333. Tier 2.0. Exponent 2\n",
      "Multiplier 1.3333333333333333. Tier 2.0. Exponent 2\n",
      "Multiplier 0.48. Tier 4.0. Exponent 2\n",
      "Multiplier 1.3333333333333333. Tier 2.0. Exponent 2\n"
     ]
    },
    {
     "name": "stderr",
     "output_type": "stream",
     "text": [
      "Processing matches:   5%|▌         | 651/12699 [00:16<05:24, 37.08it/s]"
     ]
    },
    {
     "name": "stdout",
     "output_type": "stream",
     "text": [
      "Multiplier 3.0. Tier 1.0. Exponent 2\n",
      "Multiplier 3.0. Tier 1.0. Exponent 2\n",
      "Multiplier 3.0. Tier 1.0. Exponent 2\n",
      "Multiplier 0.48. Tier 4.0. Exponent 2\n",
      "Multiplier 0.48. Tier 4.0. Exponent 2\n",
      "Multiplier 3.0. Tier 1.0. Exponent 2\n",
      "Multiplier 3.0. Tier 1.0. Exponent 2\n",
      "Multiplier 3.0. Tier 1.0. Exponent 2\n"
     ]
    },
    {
     "name": "stderr",
     "output_type": "stream",
     "text": [
      "Processing matches:   5%|▌         | 659/12699 [00:16<05:23, 37.26it/s]"
     ]
    },
    {
     "name": "stdout",
     "output_type": "stream",
     "text": [
      "Multiplier 3.0. Tier 1.0. Exponent 2\n",
      "Multiplier 3.0. Tier 1.0. Exponent 2\n",
      "Multiplier 3.0. Tier 1.0. Exponent 2\n",
      "Multiplier 0.48. Tier 4.0. Exponent 2\n",
      "Multiplier 0.48. Tier 4.0. Exponent 2\n",
      "Multiplier 0.48. Tier 4.0. Exponent 2\n",
      "Multiplier 0.48. Tier 4.0. Exponent 2\n",
      "Multiplier 0.48. Tier 4.0. Exponent 2\n",
      "Multiplier 0.48. Tier 4.0. Exponent 2\n"
     ]
    },
    {
     "name": "stderr",
     "output_type": "stream",
     "text": [
      "Processing matches:   5%|▌         | 668/12699 [00:16<05:13, 38.43it/s]"
     ]
    },
    {
     "name": "stdout",
     "output_type": "stream",
     "text": [
      "Multiplier 0.48. Tier 4.0. Exponent 2\n",
      "Multiplier 0.48. Tier 4.0. Exponent 2\n",
      "Multiplier 3.0. Tier 1.0. Exponent 2\n",
      "Multiplier 0.48. Tier 4.0. Exponent 2\n",
      "Multiplier 0.48. Tier 4.0. Exponent 2\n",
      "Multiplier 0.48. Tier 4.0. Exponent 2\n",
      "Multiplier 0.48. Tier 4.0. Exponent 2\n",
      "Multiplier 0.48. Tier 4.0. Exponent 2\n",
      "Multiplier 0.48. Tier 4.0. Exponent 2\n"
     ]
    },
    {
     "name": "stderr",
     "output_type": "stream",
     "text": [
      "Processing matches:   5%|▌         | 677/12699 [00:17<05:09, 38.86it/s]"
     ]
    },
    {
     "name": "stdout",
     "output_type": "stream",
     "text": [
      "Multiplier 3.0. Tier 1.0. Exponent 2\n",
      "Multiplier 0.48. Tier 4.0. Exponent 2\n",
      "Multiplier 0.48. Tier 4.0. Exponent 2\n",
      "Multiplier 0.48. Tier 4.0. Exponent 2\n",
      "Multiplier 0.48. Tier 4.0. Exponent 2\n",
      "Multiplier 3.0. Tier 1.0. Exponent 2\n",
      "Multiplier 3.0. Tier 1.0. Exponent 2\n",
      "Multiplier 3.0. Tier 1.0. Exponent 2\n"
     ]
    },
    {
     "name": "stderr",
     "output_type": "stream",
     "text": [
      "Processing matches:   5%|▌         | 685/12699 [00:17<05:17, 37.81it/s]"
     ]
    },
    {
     "name": "stdout",
     "output_type": "stream",
     "text": [
      "Multiplier 1.3333333333333333. Tier 2.0. Exponent 2\n",
      "Multiplier 1.3333333333333333. Tier 2.0. Exponent 2\n",
      "Multiplier 3.0. Tier 1.0. Exponent 2\n",
      "Multiplier 1.3333333333333333. Tier 2.0. Exponent 2\n",
      "Multiplier 1.3333333333333333. Tier 2.0. Exponent 2\n",
      "Multiplier 0.48. Tier 4.0. Exponent 2\n",
      "Multiplier 0.48. Tier 4.0. Exponent 2\n",
      "Multiplier 0.48. Tier 4.0. Exponent 2\n"
     ]
    },
    {
     "name": "stderr",
     "output_type": "stream",
     "text": [
      "Processing matches:   5%|▌         | 694/12699 [00:17<05:09, 38.78it/s]"
     ]
    },
    {
     "name": "stdout",
     "output_type": "stream",
     "text": [
      "Multiplier 0.48. Tier 4.0. Exponent 2\n",
      "Multiplier 0.48. Tier 4.0. Exponent 2\n",
      "Multiplier 0.48. Tier 4.0. Exponent 2\n",
      "Multiplier 0.48. Tier 4.0. Exponent 2\n",
      "Multiplier 0.48. Tier 4.0. Exponent 2\n",
      "Multiplier 0.48. Tier 4.0. Exponent 2\n",
      "Multiplier 0.48. Tier 4.0. Exponent 2\n",
      "Multiplier 0.48. Tier 4.0. Exponent 2\n",
      "Multiplier 0.48. Tier 4.0. Exponent 2\n"
     ]
    },
    {
     "name": "stderr",
     "output_type": "stream",
     "text": [
      "Processing matches:   6%|▌         | 703/12699 [00:17<04:57, 40.29it/s]"
     ]
    },
    {
     "name": "stdout",
     "output_type": "stream",
     "text": [
      "Multiplier 0.48. Tier 4.0. Exponent 2\n",
      "Multiplier 0.48. Tier 4.0. Exponent 2\n",
      "Multiplier 0.48. Tier 4.0. Exponent 2\n",
      "Multiplier 0.48. Tier 4.0. Exponent 2\n",
      "Multiplier 0.48. Tier 4.0. Exponent 2\n",
      "Multiplier 0.48. Tier 4.0. Exponent 2\n",
      "Multiplier 0.48. Tier 4.0. Exponent 2\n",
      "Multiplier 0.48. Tier 4.0. Exponent 2\n",
      "Multiplier 0.48. Tier 4.0. Exponent 2\n"
     ]
    },
    {
     "name": "stderr",
     "output_type": "stream",
     "text": [
      "Processing matches:   6%|▌         | 712/12699 [00:18<05:03, 39.55it/s]"
     ]
    },
    {
     "name": "stdout",
     "output_type": "stream",
     "text": [
      "Multiplier 0.48. Tier 4.0. Exponent 2\n",
      "Multiplier 0.48. Tier 4.0. Exponent 2\n",
      "Multiplier 1.3333333333333333. Tier 2.0. Exponent 2\n",
      "Multiplier 1.3333333333333333. Tier 2.0. Exponent 2\n",
      "Multiplier 3.0. Tier 1.0. Exponent 2\n",
      "Multiplier 0.48. Tier 4.0. Exponent 2\n",
      "Multiplier 0.48. Tier 4.0. Exponent 2\n",
      "Multiplier 0.48. Tier 4.0. Exponent 2\n"
     ]
    },
    {
     "name": "stderr",
     "output_type": "stream",
     "text": [
      "Processing matches:   6%|▌         | 720/12699 [00:18<05:05, 39.16it/s]"
     ]
    },
    {
     "name": "stdout",
     "output_type": "stream",
     "text": [
      "Multiplier 1.3333333333333333. Tier 2.0. Exponent 2\n",
      "Multiplier 0.48. Tier 4.0. Exponent 2\n",
      "Multiplier 1.3333333333333333. Tier 2.0. Exponent 2\n",
      "Multiplier 0.48. Tier 4.0. Exponent 2\n",
      "Multiplier 3.0. Tier 1.0. Exponent 2\n",
      "Multiplier 0.48. Tier 4.0. Exponent 2\n",
      "Multiplier 0.48. Tier 4.0. Exponent 2\n",
      "Multiplier 3.0. Tier 1.0. Exponent 2\n"
     ]
    },
    {
     "name": "stderr",
     "output_type": "stream",
     "text": [
      "Processing matches:   6%|▌         | 728/12699 [00:18<05:23, 36.98it/s]"
     ]
    },
    {
     "name": "stdout",
     "output_type": "stream",
     "text": [
      "Multiplier 0.48. Tier 4.0. Exponent 2\n",
      "Multiplier 3.0. Tier 1.0. Exponent 2\n",
      "Multiplier 3.0. Tier 1.0. Exponent 2\n",
      "Multiplier 0.48. Tier 4.0. Exponent 2\n",
      "Multiplier 0.48. Tier 4.0. Exponent 2\n",
      "Multiplier 0.75. Tier 3.0. Exponent 2\n",
      "Multiplier 0.75. Tier 3.0. Exponent 2\n",
      "Multiplier 0.75. Tier 3.0. Exponent 2\n",
      "Multiplier 0.75. Tier 3.0. Exponent 2\n"
     ]
    },
    {
     "name": "stderr",
     "output_type": "stream",
     "text": [
      "Processing matches:   6%|▌         | 737/12699 [00:18<05:15, 37.95it/s]"
     ]
    },
    {
     "name": "stdout",
     "output_type": "stream",
     "text": [
      "Multiplier 0.75. Tier 3.0. Exponent 2\n",
      "Multiplier 3.0. Tier 1.0. Exponent 2\n",
      "Multiplier 0.75. Tier 3.0. Exponent 2\n",
      "Multiplier 3.0. Tier 1.0. Exponent 2\n",
      "Multiplier 3.0. Tier 1.0. Exponent 2\n",
      "Multiplier 3.0. Tier 1.0. Exponent 2\n",
      "Multiplier 1.3333333333333333. Tier 2.0. Exponent 2\n",
      "Multiplier 1.3333333333333333. Tier 2.0. Exponent 2\n"
     ]
    },
    {
     "name": "stderr",
     "output_type": "stream",
     "text": [
      "Processing matches:   6%|▌         | 745/12699 [00:18<05:12, 38.24it/s]"
     ]
    },
    {
     "name": "stdout",
     "output_type": "stream",
     "text": [
      "Multiplier 0.48. Tier 4.0. Exponent 2\n",
      "Multiplier 1.3333333333333333. Tier 2.0. Exponent 2\n",
      "Multiplier 1.3333333333333333. Tier 2.0. Exponent 2\n",
      "Multiplier 0.48. Tier 4.0. Exponent 2\n",
      "Multiplier 0.48. Tier 4.0. Exponent 2\n",
      "Multiplier 3.0. Tier 1.0. Exponent 2\n",
      "Multiplier 3.0. Tier 1.0. Exponent 2\n",
      "Multiplier 1.3333333333333333. Tier 2.0. Exponent 2\n",
      "Multiplier 1.3333333333333333. Tier 2.0. Exponent 2\n"
     ]
    },
    {
     "name": "stderr",
     "output_type": "stream",
     "text": [
      "Processing matches:   6%|▌         | 753/12699 [00:19<05:21, 37.12it/s]"
     ]
    },
    {
     "name": "stdout",
     "output_type": "stream",
     "text": [
      "Multiplier 1.3333333333333333. Tier 2.0. Exponent 2\n",
      "Multiplier 3.0. Tier 1.0. Exponent 2\n",
      "Multiplier 3.0. Tier 1.0. Exponent 2\n",
      "Multiplier 3.0. Tier 1.0. Exponent 2\n",
      "Multiplier 1.3333333333333333. Tier 2.0. Exponent 2\n",
      "Multiplier 1.3333333333333333. Tier 2.0. Exponent 2\n",
      "Multiplier 1.3333333333333333. Tier 2.0. Exponent 2\n",
      "Multiplier 0.75. Tier 3.0. Exponent 2\n"
     ]
    },
    {
     "name": "stderr",
     "output_type": "stream",
     "text": [
      "Processing matches:   6%|▌         | 761/12699 [00:19<05:18, 37.46it/s]"
     ]
    },
    {
     "name": "stdout",
     "output_type": "stream",
     "text": [
      "Multiplier 0.75. Tier 3.0. Exponent 2\n",
      "Multiplier 0.75. Tier 3.0. Exponent 2\n",
      "Multiplier 0.75. Tier 3.0. Exponent 2\n",
      "Multiplier 0.75. Tier 3.0. Exponent 2\n",
      "Multiplier 3.0. Tier 1.0. Exponent 2\n",
      "Multiplier 3.0. Tier 1.0. Exponent 2\n",
      "Multiplier 0.75. Tier 3.0. Exponent 2\n",
      "Multiplier 3.0. Tier 1.0. Exponent 2\n"
     ]
    },
    {
     "name": "stderr",
     "output_type": "stream",
     "text": [
      "Processing matches:   6%|▌         | 769/12699 [00:19<05:28, 36.35it/s]"
     ]
    },
    {
     "name": "stdout",
     "output_type": "stream",
     "text": [
      "Multiplier 1.3333333333333333. Tier 2.0. Exponent 2\n",
      "Multiplier 1.3333333333333333. Tier 2.0. Exponent 2\n",
      "Multiplier 3.0. Tier 1.0. Exponent 2\n",
      "Multiplier 3.0. Tier 1.0. Exponent 2\n",
      "Multiplier 3.0. Tier 1.0. Exponent 2\n",
      "Multiplier 3.0. Tier 1.0. Exponent 2\n",
      "Multiplier 3.0. Tier 1.0. Exponent 2\n",
      "Multiplier 3.0. Tier 1.0. Exponent 2\n"
     ]
    },
    {
     "name": "stderr",
     "output_type": "stream",
     "text": [
      "Processing matches:   6%|▌         | 777/12699 [00:19<05:30, 36.08it/s]"
     ]
    },
    {
     "name": "stdout",
     "output_type": "stream",
     "text": [
      "Multiplier 0.48. Tier 4.0. Exponent 2\n",
      "Multiplier 1.3333333333333333. Tier 2.0. Exponent 2\n",
      "Multiplier 0.48. Tier 4.0. Exponent 2\n",
      "Multiplier 3.0. Tier 1.0. Exponent 2\n",
      "Multiplier 0.48. Tier 4.0. Exponent 2\n",
      "Multiplier 1.3333333333333333. Tier 2.0. Exponent 2\n",
      "Multiplier 1.3333333333333333. Tier 2.0. Exponent 2\n",
      "Multiplier 1.3333333333333333. Tier 2.0. Exponent 2\n"
     ]
    },
    {
     "name": "stderr",
     "output_type": "stream",
     "text": [
      "Processing matches:   6%|▌         | 785/12699 [00:20<05:25, 36.64it/s]"
     ]
    },
    {
     "name": "stdout",
     "output_type": "stream",
     "text": [
      "Multiplier 3.0. Tier 1.0. Exponent 2\n",
      "Multiplier 1.3333333333333333. Tier 2.0. Exponent 2\n",
      "Multiplier 3.0. Tier 1.0. Exponent 2\n",
      "Multiplier 3.0. Tier 1.0. Exponent 2\n",
      "Multiplier 1.3333333333333333. Tier 2.0. Exponent 2\n",
      "Multiplier 3.0. Tier 1.0. Exponent 2\n",
      "Multiplier 3.0. Tier 1.0. Exponent 2\n",
      "Multiplier 3.0. Tier 1.0. Exponent 2\n"
     ]
    },
    {
     "name": "stderr",
     "output_type": "stream",
     "text": [
      "Processing matches:   6%|▌         | 793/12699 [00:20<05:22, 36.86it/s]"
     ]
    },
    {
     "name": "stdout",
     "output_type": "stream",
     "text": [
      "Multiplier 1.3333333333333333. Tier 2.0. Exponent 2\n",
      "Multiplier 1.3333333333333333. Tier 2.0. Exponent 2\n",
      "Multiplier 0.75. Tier 3.0. Exponent 2\n",
      "Multiplier 0.75. Tier 3.0. Exponent 2\n",
      "Multiplier 0.75. Tier 3.0. Exponent 2\n",
      "Multiplier 0.75. Tier 3.0. Exponent 2\n",
      "Multiplier 0.75. Tier 3.0. Exponent 2\n",
      "Multiplier 0.75. Tier 3.0. Exponent 2\n",
      "Multiplier 3.0. Tier 1.0. Exponent 2\n"
     ]
    },
    {
     "name": "stderr",
     "output_type": "stream",
     "text": [
      "Processing matches:   6%|▋         | 801/12699 [00:20<05:19, 37.20it/s]"
     ]
    },
    {
     "name": "stdout",
     "output_type": "stream",
     "text": [
      "Multiplier 3.0. Tier 1.0. Exponent 2\n",
      "Multiplier 3.0. Tier 1.0. Exponent 2\n",
      "Multiplier 3.0. Tier 1.0. Exponent 2\n",
      "Multiplier 3.0. Tier 1.0. Exponent 2\n",
      "Multiplier 3.0. Tier 1.0. Exponent 2\n",
      "Multiplier 3.0. Tier 1.0. Exponent 2\n",
      "Multiplier 1.3333333333333333. Tier 2.0. Exponent 2\n",
      "Multiplier 3.0. Tier 1.0. Exponent 2\n"
     ]
    },
    {
     "name": "stderr",
     "output_type": "stream",
     "text": [
      "Processing matches:   6%|▋         | 809/12699 [00:20<05:28, 36.16it/s]"
     ]
    },
    {
     "name": "stdout",
     "output_type": "stream",
     "text": [
      "Multiplier 1.3333333333333333. Tier 2.0. Exponent 2\n",
      "Multiplier 1.3333333333333333. Tier 2.0. Exponent 2\n",
      "Multiplier 1.3333333333333333. Tier 2.0. Exponent 2\n",
      "Multiplier 1.3333333333333333. Tier 2.0. Exponent 2\n",
      "Multiplier 3.0. Tier 1.0. Exponent 2\n",
      "Multiplier 3.0. Tier 1.0. Exponent 2\n",
      "Multiplier 3.0. Tier 1.0. Exponent 2\n"
     ]
    },
    {
     "name": "stderr",
     "output_type": "stream",
     "text": [
      "Processing matches:   6%|▋         | 817/12699 [00:20<05:29, 36.04it/s]"
     ]
    },
    {
     "name": "stdout",
     "output_type": "stream",
     "text": [
      "Multiplier 3.0. Tier 1.0. Exponent 2\n",
      "Multiplier 1.3333333333333333. Tier 2.0. Exponent 2\n",
      "Multiplier 3.0. Tier 1.0. Exponent 2\n",
      "Multiplier 3.0. Tier 1.0. Exponent 2\n",
      "Multiplier 1.3333333333333333. Tier 2.0. Exponent 2\n",
      "Multiplier 1.3333333333333333. Tier 2.0. Exponent 2\n",
      "Multiplier 1.3333333333333333. Tier 2.0. Exponent 2\n",
      "Multiplier 3.0. Tier 1.0. Exponent 2\n",
      "Multiplier 3.0. Tier 1.0. Exponent 2\n"
     ]
    },
    {
     "name": "stderr",
     "output_type": "stream",
     "text": [
      "Processing matches:   7%|▋         | 829/12699 [00:21<05:20, 37.05it/s]"
     ]
    },
    {
     "name": "stdout",
     "output_type": "stream",
     "text": [
      "Multiplier 1.3333333333333333. Tier 2.0. Exponent 2\n",
      "Multiplier 3.0. Tier 1.0. Exponent 2\n",
      "Multiplier 0.75. Tier 3.0. Exponent 2\n",
      "Multiplier 0.75. Tier 3.0. Exponent 2\n",
      "Multiplier 0.75. Tier 3.0. Exponent 2\n",
      "Multiplier 0.75. Tier 3.0. Exponent 2\n",
      "Multiplier 0.75. Tier 3.0. Exponent 2\n",
      "Multiplier 0.75. Tier 3.0. Exponent 2\n"
     ]
    },
    {
     "name": "stderr",
     "output_type": "stream",
     "text": [
      "Processing matches:   7%|▋         | 833/12699 [00:21<05:22, 36.76it/s]"
     ]
    },
    {
     "name": "stdout",
     "output_type": "stream",
     "text": [
      "Multiplier 1.3333333333333333. Tier 2.0. Exponent 2\n",
      "Multiplier 3.0. Tier 1.0. Exponent 2\n",
      "Multiplier 1.3333333333333333. Tier 2.0. Exponent 2\n",
      "Multiplier 3.0. Tier 1.0. Exponent 2\n",
      "Multiplier 1.3333333333333333. Tier 2.0. Exponent 2\n",
      "Multiplier 3.0. Tier 1.0. Exponent 2\n",
      "Multiplier 1.3333333333333333. Tier 2.0. Exponent 2\n"
     ]
    },
    {
     "name": "stderr",
     "output_type": "stream",
     "text": [
      "Processing matches:   7%|▋         | 841/12699 [00:21<05:24, 36.51it/s]"
     ]
    },
    {
     "name": "stdout",
     "output_type": "stream",
     "text": [
      "Multiplier 1.3333333333333333. Tier 2.0. Exponent 2\n",
      "Multiplier 1.3333333333333333. Tier 2.0. Exponent 2\n",
      "Multiplier 3.0. Tier 1.0. Exponent 2\n",
      "Multiplier 1.3333333333333333. Tier 2.0. Exponent 2\n",
      "Multiplier 1.3333333333333333. Tier 2.0. Exponent 2\n",
      "Multiplier 1.3333333333333333. Tier 2.0. Exponent 2\n",
      "Multiplier 1.3333333333333333. Tier 2.0. Exponent 2\n",
      "Multiplier 3.0. Tier 1.0. Exponent 2\n"
     ]
    },
    {
     "name": "stderr",
     "output_type": "stream",
     "text": [
      "Processing matches:   7%|▋         | 849/12699 [00:21<05:27, 36.24it/s]"
     ]
    },
    {
     "name": "stdout",
     "output_type": "stream",
     "text": [
      "Multiplier 3.0. Tier 1.0. Exponent 2\n",
      "Multiplier 3.0. Tier 1.0. Exponent 2\n",
      "Multiplier 0.75. Tier 3.0. Exponent 2\n",
      "Multiplier 0.75. Tier 3.0. Exponent 2\n",
      "Multiplier 0.75. Tier 3.0. Exponent 2\n",
      "Multiplier 0.75. Tier 3.0. Exponent 2\n",
      "Multiplier 3.0. Tier 1.0. Exponent 2\n",
      "Multiplier 3.0. Tier 1.0. Exponent 2\n"
     ]
    },
    {
     "name": "stderr",
     "output_type": "stream",
     "text": [
      "Processing matches:   7%|▋         | 858/12699 [00:22<05:23, 36.66it/s]"
     ]
    },
    {
     "name": "stdout",
     "output_type": "stream",
     "text": [
      "Multiplier 3.0. Tier 1.0. Exponent 2\n",
      "Multiplier 3.0. Tier 1.0. Exponent 2\n",
      "Multiplier 0.48. Tier 4.0. Exponent 2\n",
      "Multiplier 0.48. Tier 4.0. Exponent 2\n",
      "Multiplier 0.48. Tier 4.0. Exponent 2\n",
      "Multiplier 0.48. Tier 4.0. Exponent 2\n",
      "Multiplier 3.0. Tier 1.0. Exponent 2\n",
      "Multiplier 3.0. Tier 1.0. Exponent 2\n"
     ]
    },
    {
     "name": "stderr",
     "output_type": "stream",
     "text": [
      "Processing matches:   7%|▋         | 866/12699 [00:22<05:22, 36.65it/s]"
     ]
    },
    {
     "name": "stdout",
     "output_type": "stream",
     "text": [
      "Multiplier 3.0. Tier 1.0. Exponent 2\n",
      "Multiplier 0.48. Tier 4.0. Exponent 2\n",
      "Multiplier 0.48. Tier 4.0. Exponent 2\n",
      "Multiplier 0.48. Tier 4.0. Exponent 2\n",
      "Multiplier 0.48. Tier 4.0. Exponent 2\n",
      "Multiplier 0.48. Tier 4.0. Exponent 2\n",
      "Multiplier 0.75. Tier 3.0. Exponent 2\n",
      "Multiplier 0.75. Tier 3.0. Exponent 2\n"
     ]
    },
    {
     "name": "stderr",
     "output_type": "stream",
     "text": [
      "Processing matches:   7%|▋         | 874/12699 [00:22<05:14, 37.63it/s]"
     ]
    },
    {
     "name": "stdout",
     "output_type": "stream",
     "text": [
      "Multiplier 0.75. Tier 3.0. Exponent 2\n",
      "Multiplier 0.75. Tier 3.0. Exponent 2\n",
      "Multiplier 0.75. Tier 3.0. Exponent 2\n",
      "Multiplier 0.75. Tier 3.0. Exponent 2\n",
      "Multiplier 0.75. Tier 3.0. Exponent 2\n",
      "Multiplier 0.75. Tier 3.0. Exponent 2\n",
      "Multiplier 0.75. Tier 3.0. Exponent 2\n",
      "Multiplier 0.75. Tier 3.0. Exponent 2\n",
      "Multiplier 0.75. Tier 3.0. Exponent 2\n"
     ]
    },
    {
     "name": "stderr",
     "output_type": "stream",
     "text": [
      "Processing matches:   7%|▋         | 884/12699 [00:22<05:00, 39.37it/s]"
     ]
    },
    {
     "name": "stdout",
     "output_type": "stream",
     "text": [
      "Multiplier 0.75. Tier 3.0. Exponent 2\n",
      "Multiplier 0.75. Tier 3.0. Exponent 2\n",
      "Multiplier 0.75. Tier 3.0. Exponent 2\n",
      "Multiplier 0.75. Tier 3.0. Exponent 2\n",
      "Multiplier 0.75. Tier 3.0. Exponent 2\n",
      "Multiplier 0.75. Tier 3.0. Exponent 2\n",
      "Multiplier 0.48. Tier 4.0. Exponent 2\n",
      "Multiplier 0.48. Tier 4.0. Exponent 2\n",
      "Multiplier 0.75. Tier 3.0. Exponent 2\n"
     ]
    },
    {
     "name": "stderr",
     "output_type": "stream",
     "text": [
      "Processing matches:   7%|▋         | 894/12699 [00:23<04:55, 39.98it/s]"
     ]
    },
    {
     "name": "stdout",
     "output_type": "stream",
     "text": [
      "Multiplier 0.75. Tier 3.0. Exponent 2\n",
      "Multiplier 0.48. Tier 4.0. Exponent 2\n",
      "Multiplier 0.75. Tier 3.0. Exponent 2\n",
      "Multiplier 0.75. Tier 3.0. Exponent 2\n",
      "Multiplier 0.48. Tier 4.0. Exponent 2\n",
      "Multiplier 0.75. Tier 3.0. Exponent 2\n",
      "Multiplier 0.75. Tier 3.0. Exponent 2\n",
      "Multiplier 0.75. Tier 3.0. Exponent 2\n"
     ]
    },
    {
     "name": "stderr",
     "output_type": "stream",
     "text": [
      "Processing matches:   7%|▋         | 898/12699 [00:23<05:06, 38.54it/s]"
     ]
    },
    {
     "name": "stdout",
     "output_type": "stream",
     "text": [
      "Multiplier 0.75. Tier 3.0. Exponent 2\n",
      "Multiplier 0.75. Tier 3.0. Exponent 2\n",
      "Multiplier 0.75. Tier 3.0. Exponent 2\n",
      "Multiplier 0.75. Tier 3.0. Exponent 2\n",
      "Multiplier 0.75. Tier 3.0. Exponent 2\n",
      "Multiplier 3.0. Tier 1.0. Exponent 2\n",
      "Multiplier 3.0. Tier 1.0. Exponent 2\n",
      "Multiplier 3.0. Tier 1.0. Exponent 2\n"
     ]
    },
    {
     "name": "stderr",
     "output_type": "stream",
     "text": [
      "Processing matches:   7%|▋         | 907/12699 [00:23<05:13, 37.58it/s]"
     ]
    },
    {
     "name": "stdout",
     "output_type": "stream",
     "text": [
      "Multiplier 0.75. Tier 3.0. Exponent 2\n",
      "Multiplier 3.0. Tier 1.0. Exponent 2\n",
      "Multiplier 3.0. Tier 1.0. Exponent 2\n",
      "Multiplier 3.0. Tier 1.0. Exponent 2\n",
      "Multiplier 3.0. Tier 1.0. Exponent 2\n",
      "Multiplier 3.0. Tier 1.0. Exponent 2\n",
      "Multiplier 3.0. Tier 1.0. Exponent 2\n",
      "Multiplier 3.0. Tier 1.0. Exponent 2\n"
     ]
    },
    {
     "name": "stderr",
     "output_type": "stream",
     "text": [
      "Processing matches:   7%|▋         | 916/12699 [00:23<05:07, 38.31it/s]"
     ]
    },
    {
     "name": "stdout",
     "output_type": "stream",
     "text": [
      "Multiplier 3.0. Tier 1.0. Exponent 2\n",
      "Multiplier 0.48. Tier 4.0. Exponent 2\n",
      "Multiplier 3.0. Tier 1.0. Exponent 2\n",
      "Multiplier 0.48. Tier 4.0. Exponent 2\n",
      "Multiplier 0.48. Tier 4.0. Exponent 2\n",
      "Multiplier 0.48. Tier 4.0. Exponent 2\n",
      "Multiplier 0.48. Tier 4.0. Exponent 2\n",
      "Multiplier 0.48. Tier 4.0. Exponent 2\n",
      "Multiplier 0.48. Tier 4.0. Exponent 2\n"
     ]
    },
    {
     "name": "stderr",
     "output_type": "stream",
     "text": [
      "Processing matches:   7%|▋         | 924/12699 [00:23<05:05, 38.52it/s]"
     ]
    },
    {
     "name": "stdout",
     "output_type": "stream",
     "text": [
      "Multiplier 0.48. Tier 4.0. Exponent 2\n",
      "Multiplier 0.48. Tier 4.0. Exponent 2\n",
      "Multiplier 0.48. Tier 4.0. Exponent 2\n",
      "Multiplier 0.48. Tier 4.0. Exponent 2\n",
      "Multiplier 0.48. Tier 4.0. Exponent 2\n",
      "Multiplier 0.48. Tier 4.0. Exponent 2\n",
      "Multiplier 0.48. Tier 4.0. Exponent 2\n",
      "Multiplier 0.48. Tier 4.0. Exponent 2\n"
     ]
    },
    {
     "name": "stderr",
     "output_type": "stream",
     "text": [
      "Processing matches:   7%|▋         | 934/12699 [00:24<04:56, 39.67it/s]"
     ]
    },
    {
     "name": "stdout",
     "output_type": "stream",
     "text": [
      "Multiplier 0.48. Tier 4.0. Exponent 2\n",
      "Multiplier 0.48. Tier 4.0. Exponent 2\n",
      "Multiplier 0.48. Tier 4.0. Exponent 2\n",
      "Multiplier 0.48. Tier 4.0. Exponent 2\n",
      "Multiplier 0.48. Tier 4.0. Exponent 2\n",
      "Multiplier 0.48. Tier 4.0. Exponent 2\n",
      "Multiplier 0.48. Tier 4.0. Exponent 2\n",
      "Multiplier 0.48. Tier 4.0. Exponent 2\n",
      "Multiplier 0.48. Tier 4.0. Exponent 2\n"
     ]
    },
    {
     "name": "stderr",
     "output_type": "stream",
     "text": [
      "Processing matches:   7%|▋         | 943/12699 [00:24<04:58, 39.36it/s]"
     ]
    },
    {
     "name": "stdout",
     "output_type": "stream",
     "text": [
      "Multiplier 0.48. Tier 4.0. Exponent 2\n",
      "Multiplier 0.48. Tier 4.0. Exponent 2\n",
      "Multiplier 0.48. Tier 4.0. Exponent 2\n",
      "Multiplier 0.48. Tier 4.0. Exponent 2\n",
      "Multiplier 0.48. Tier 4.0. Exponent 2\n",
      "Multiplier 0.48. Tier 4.0. Exponent 2\n",
      "Multiplier 0.48. Tier 4.0. Exponent 2\n",
      "Multiplier 0.48. Tier 4.0. Exponent 2\n",
      "Multiplier 0.48. Tier 4.0. Exponent 2\n"
     ]
    },
    {
     "name": "stderr",
     "output_type": "stream",
     "text": [
      "Processing matches:   7%|▋         | 951/12699 [00:24<05:05, 38.49it/s]"
     ]
    },
    {
     "name": "stdout",
     "output_type": "stream",
     "text": [
      "Multiplier 0.48. Tier 4.0. Exponent 2\n",
      "Multiplier 0.48. Tier 4.0. Exponent 2\n",
      "Multiplier 0.48. Tier 4.0. Exponent 2\n",
      "Multiplier 0.48. Tier 4.0. Exponent 2\n",
      "Multiplier 0.48. Tier 4.0. Exponent 2\n",
      "Multiplier 0.48. Tier 4.0. Exponent 2\n",
      "Multiplier 0.48. Tier 4.0. Exponent 2\n",
      "Multiplier 0.48. Tier 4.0. Exponent 2\n"
     ]
    },
    {
     "name": "stderr",
     "output_type": "stream",
     "text": [
      "Processing matches:   8%|▊         | 959/12699 [00:24<05:07, 38.13it/s]"
     ]
    },
    {
     "name": "stdout",
     "output_type": "stream",
     "text": [
      "Multiplier 0.48. Tier 4.0. Exponent 2\n",
      "Multiplier 0.48. Tier 4.0. Exponent 2\n",
      "Multiplier 0.48. Tier 4.0. Exponent 2\n",
      "Multiplier 0.48. Tier 4.0. Exponent 2\n",
      "Multiplier 0.48. Tier 4.0. Exponent 2\n",
      "Multiplier 0.48. Tier 4.0. Exponent 2\n",
      "Multiplier 0.48. Tier 4.0. Exponent 2\n",
      "Multiplier 0.48. Tier 4.0. Exponent 2\n"
     ]
    },
    {
     "name": "stderr",
     "output_type": "stream",
     "text": [
      "Processing matches:   8%|▊         | 967/12699 [00:24<05:10, 37.75it/s]"
     ]
    },
    {
     "name": "stdout",
     "output_type": "stream",
     "text": [
      "Multiplier 0.48. Tier 4.0. Exponent 2\n",
      "Multiplier 0.48. Tier 4.0. Exponent 2\n",
      "Multiplier 0.48. Tier 4.0. Exponent 2\n",
      "Multiplier 0.48. Tier 4.0. Exponent 2\n",
      "Multiplier 0.48. Tier 4.0. Exponent 2\n",
      "Multiplier 0.48. Tier 4.0. Exponent 2\n",
      "Multiplier 0.48. Tier 4.0. Exponent 2\n",
      "Multiplier 0.48. Tier 4.0. Exponent 2\n"
     ]
    },
    {
     "name": "stderr",
     "output_type": "stream",
     "text": [
      "Processing matches:   8%|▊         | 975/12699 [00:25<05:14, 37.27it/s]"
     ]
    },
    {
     "name": "stdout",
     "output_type": "stream",
     "text": [
      "Multiplier 0.48. Tier 4.0. Exponent 2\n",
      "Multiplier 1.3333333333333333. Tier 2.0. Exponent 2\n",
      "Multiplier 1.3333333333333333. Tier 2.0. Exponent 2\n",
      "Multiplier 0.48. Tier 4.0. Exponent 2\n",
      "Multiplier 0.48. Tier 4.0. Exponent 2\n",
      "Multiplier 1.3333333333333333. Tier 2.0. Exponent 2\n",
      "Multiplier 1.3333333333333333. Tier 2.0. Exponent 2\n",
      "Multiplier 0.48. Tier 4.0. Exponent 2\n"
     ]
    },
    {
     "name": "stderr",
     "output_type": "stream",
     "text": [
      "Processing matches:   8%|▊         | 983/12699 [00:25<05:16, 37.00it/s]"
     ]
    },
    {
     "name": "stdout",
     "output_type": "stream",
     "text": [
      "Multiplier 1.3333333333333333. Tier 2.0. Exponent 2\n",
      "Multiplier 0.48. Tier 4.0. Exponent 2\n",
      "Multiplier 1.3333333333333333. Tier 2.0. Exponent 2\n",
      "Multiplier 1.3333333333333333. Tier 2.0. Exponent 2\n",
      "Multiplier 1.3333333333333333. Tier 2.0. Exponent 2\n",
      "Multiplier 1.3333333333333333. Tier 2.0. Exponent 2\n",
      "Multiplier 1.3333333333333333. Tier 2.0. Exponent 2\n",
      "Multiplier 1.3333333333333333. Tier 2.0. Exponent 2\n"
     ]
    },
    {
     "name": "stderr",
     "output_type": "stream",
     "text": [
      "Processing matches:   8%|▊         | 991/12699 [00:25<05:23, 36.20it/s]"
     ]
    },
    {
     "name": "stdout",
     "output_type": "stream",
     "text": [
      "Multiplier 1.3333333333333333. Tier 2.0. Exponent 2\n",
      "Multiplier 1.3333333333333333. Tier 2.0. Exponent 2\n",
      "Multiplier 1.3333333333333333. Tier 2.0. Exponent 2\n",
      "Multiplier 1.3333333333333333. Tier 2.0. Exponent 2\n",
      "Multiplier 1.3333333333333333. Tier 2.0. Exponent 2\n",
      "Multiplier 3.0. Tier 1.0. Exponent 2\n",
      "Multiplier 3.0. Tier 1.0. Exponent 2\n",
      "Multiplier 3.0. Tier 1.0. Exponent 2\n"
     ]
    },
    {
     "name": "stderr",
     "output_type": "stream",
     "text": [
      "Processing matches:   8%|▊         | 995/12699 [00:25<05:45, 33.91it/s]"
     ]
    },
    {
     "name": "stdout",
     "output_type": "stream",
     "text": [
      "Multiplier 3.0. Tier 1.0. Exponent 2\n",
      "Multiplier 3.0. Tier 1.0. Exponent 2\n",
      "Multiplier 3.0. Tier 1.0. Exponent 2\n",
      "Multiplier 3.0. Tier 1.0. Exponent 2\n",
      "Multiplier 3.0. Tier 1.0. Exponent 2\n",
      "Multiplier 3.0. Tier 1.0. Exponent 2\n"
     ]
    },
    {
     "name": "stderr",
     "output_type": "stream",
     "text": [
      "Processing matches:   8%|▊         | 1003/12699 [00:25<06:03, 32.16it/s]"
     ]
    },
    {
     "name": "stdout",
     "output_type": "stream",
     "text": [
      "Multiplier 3.0. Tier 1.0. Exponent 2\n",
      "Multiplier 3.0. Tier 1.0. Exponent 2\n",
      "Multiplier 3.0. Tier 1.0. Exponent 2\n",
      "Multiplier 0.48. Tier 4.0. Exponent 2\n",
      "Multiplier 0.48. Tier 4.0. Exponent 2\n",
      "Multiplier 0.48. Tier 4.0. Exponent 2\n",
      "Multiplier 0.48. Tier 4.0. Exponent 2\n",
      "Multiplier 0.48. Tier 4.0. Exponent 2\n"
     ]
    },
    {
     "name": "stderr",
     "output_type": "stream",
     "text": [
      "Processing matches:   8%|▊         | 1012/12699 [00:26<05:23, 36.17it/s]"
     ]
    },
    {
     "name": "stdout",
     "output_type": "stream",
     "text": [
      "Multiplier 0.48. Tier 4.0. Exponent 2\n",
      "Multiplier 0.48. Tier 4.0. Exponent 2\n",
      "Multiplier 0.48. Tier 4.0. Exponent 2\n",
      "Multiplier 0.48. Tier 4.0. Exponent 2\n",
      "Multiplier 0.48. Tier 4.0. Exponent 2\n",
      "Multiplier 0.48. Tier 4.0. Exponent 2\n",
      "Multiplier 0.48. Tier 4.0. Exponent 2\n",
      "Multiplier 0.48. Tier 4.0. Exponent 2\n",
      "Multiplier 0.48. Tier 4.0. Exponent 2\n"
     ]
    },
    {
     "name": "stderr",
     "output_type": "stream",
     "text": [
      "Processing matches:   8%|▊         | 1022/12699 [00:26<04:56, 39.36it/s]"
     ]
    },
    {
     "name": "stdout",
     "output_type": "stream",
     "text": [
      "Multiplier 0.48. Tier 4.0. Exponent 2\n",
      "Multiplier 0.48. Tier 4.0. Exponent 2\n",
      "Multiplier 0.48. Tier 4.0. Exponent 2\n",
      "Multiplier 0.48. Tier 4.0. Exponent 2\n",
      "Multiplier 0.48. Tier 4.0. Exponent 2\n",
      "Multiplier 0.48. Tier 4.0. Exponent 2\n",
      "Multiplier 0.48. Tier 4.0. Exponent 2\n",
      "Multiplier 0.48. Tier 4.0. Exponent 2\n",
      "Multiplier 0.48. Tier 4.0. Exponent 2\n"
     ]
    },
    {
     "name": "stderr",
     "output_type": "stream",
     "text": [
      "Processing matches:   8%|▊         | 1030/12699 [00:26<05:03, 38.40it/s]"
     ]
    },
    {
     "name": "stdout",
     "output_type": "stream",
     "text": [
      "Multiplier 0.48. Tier 4.0. Exponent 2\n",
      "Multiplier 0.48. Tier 4.0. Exponent 2\n",
      "Multiplier 0.48. Tier 4.0. Exponent 2\n",
      "Multiplier 0.48. Tier 4.0. Exponent 2\n",
      "Multiplier 0.48. Tier 4.0. Exponent 2\n",
      "Multiplier 0.48. Tier 4.0. Exponent 2\n",
      "Multiplier 0.48. Tier 4.0. Exponent 2\n",
      "Multiplier 0.48. Tier 4.0. Exponent 2\n"
     ]
    },
    {
     "name": "stderr",
     "output_type": "stream",
     "text": [
      "Processing matches:   8%|▊         | 1039/12699 [00:26<05:00, 38.75it/s]"
     ]
    },
    {
     "name": "stdout",
     "output_type": "stream",
     "text": [
      "Multiplier 0.48. Tier 4.0. Exponent 2\n",
      "Multiplier 0.48. Tier 4.0. Exponent 2\n",
      "Multiplier 0.48. Tier 4.0. Exponent 2\n",
      "Multiplier 0.48. Tier 4.0. Exponent 2\n",
      "Multiplier 0.48. Tier 4.0. Exponent 2\n",
      "Multiplier 0.48. Tier 4.0. Exponent 2\n",
      "Multiplier 0.48. Tier 4.0. Exponent 2\n",
      "Multiplier 0.48. Tier 4.0. Exponent 2\n",
      "Multiplier 0.48. Tier 4.0. Exponent 2\n"
     ]
    },
    {
     "name": "stderr",
     "output_type": "stream",
     "text": [
      "Processing matches:   8%|▊         | 1047/12699 [00:27<05:17, 36.68it/s]"
     ]
    },
    {
     "name": "stdout",
     "output_type": "stream",
     "text": [
      "Multiplier 0.48. Tier 4.0. Exponent 2\n",
      "Multiplier 0.48. Tier 4.0. Exponent 2\n",
      "Multiplier 0.48. Tier 4.0. Exponent 2\n",
      "Multiplier 0.48. Tier 4.0. Exponent 2\n",
      "Multiplier 0.48. Tier 4.0. Exponent 2\n",
      "Multiplier 0.48. Tier 4.0. Exponent 2\n",
      "Multiplier 0.48. Tier 4.0. Exponent 2\n"
     ]
    },
    {
     "name": "stderr",
     "output_type": "stream",
     "text": [
      "Processing matches:   8%|▊         | 1056/12699 [00:27<05:06, 38.03it/s]"
     ]
    },
    {
     "name": "stdout",
     "output_type": "stream",
     "text": [
      "Multiplier 0.48. Tier 4.0. Exponent 2\n",
      "Multiplier 0.48. Tier 4.0. Exponent 2\n",
      "Multiplier 0.48. Tier 4.0. Exponent 2\n",
      "Multiplier 0.48. Tier 4.0. Exponent 2\n",
      "Multiplier 0.48. Tier 4.0. Exponent 2\n",
      "Multiplier 0.48. Tier 4.0. Exponent 2\n",
      "Multiplier 0.48. Tier 4.0. Exponent 2\n",
      "Multiplier 0.48. Tier 4.0. Exponent 2\n"
     ]
    },
    {
     "name": "stderr",
     "output_type": "stream",
     "text": [
      "Processing matches:   8%|▊         | 1064/12699 [00:27<05:05, 38.09it/s]"
     ]
    },
    {
     "name": "stdout",
     "output_type": "stream",
     "text": [
      "Multiplier 0.48. Tier 4.0. Exponent 2\n",
      "Multiplier 0.48. Tier 4.0. Exponent 2\n",
      "Multiplier 0.48. Tier 4.0. Exponent 2\n",
      "Multiplier 0.48. Tier 4.0. Exponent 2\n",
      "Multiplier 0.48. Tier 4.0. Exponent 2\n",
      "Multiplier 0.48. Tier 4.0. Exponent 2\n",
      "Multiplier 0.48. Tier 4.0. Exponent 2\n",
      "Multiplier 0.48. Tier 4.0. Exponent 2\n"
     ]
    },
    {
     "name": "stderr",
     "output_type": "stream",
     "text": [
      "Processing matches:   8%|▊         | 1072/12699 [00:27<05:14, 37.02it/s]"
     ]
    },
    {
     "name": "stdout",
     "output_type": "stream",
     "text": [
      "Multiplier 0.48. Tier 4.0. Exponent 2\n",
      "Multiplier 0.48. Tier 4.0. Exponent 2\n",
      "Multiplier 0.48. Tier 4.0. Exponent 2\n",
      "Multiplier 0.48. Tier 4.0. Exponent 2\n",
      "Multiplier 0.48. Tier 4.0. Exponent 2\n",
      "Multiplier 0.48. Tier 4.0. Exponent 2\n",
      "Multiplier 0.48. Tier 4.0. Exponent 2\n"
     ]
    },
    {
     "name": "stderr",
     "output_type": "stream",
     "text": [
      "Processing matches:   8%|▊         | 1076/12699 [00:27<05:15, 36.85it/s]"
     ]
    },
    {
     "name": "stdout",
     "output_type": "stream",
     "text": [
      "Multiplier 0.48. Tier 4.0. Exponent 2\n",
      "Multiplier 0.48. Tier 4.0. Exponent 2\n",
      "Multiplier 0.48. Tier 4.0. Exponent 2\n",
      "Multiplier 0.48. Tier 4.0. Exponent 2\n",
      "Multiplier 0.48. Tier 4.0. Exponent 2\n",
      "Multiplier 0.48. Tier 4.0. Exponent 2\n",
      "Multiplier 0.48. Tier 4.0. Exponent 2\n"
     ]
    },
    {
     "name": "stderr",
     "output_type": "stream",
     "text": [
      "Processing matches:   9%|▊         | 1084/12699 [00:28<05:16, 36.75it/s]"
     ]
    },
    {
     "name": "stdout",
     "output_type": "stream",
     "text": [
      "Multiplier 0.48. Tier 4.0. Exponent 2\n",
      "Multiplier 0.48. Tier 4.0. Exponent 2\n",
      "Multiplier 0.48. Tier 4.0. Exponent 2\n",
      "Multiplier 0.48. Tier 4.0. Exponent 2\n",
      "Multiplier 0.48. Tier 4.0. Exponent 2\n",
      "Multiplier 0.48. Tier 4.0. Exponent 2\n",
      "Multiplier 0.48. Tier 4.0. Exponent 2\n",
      "Multiplier 0.48. Tier 4.0. Exponent 2\n"
     ]
    },
    {
     "name": "stderr",
     "output_type": "stream",
     "text": [
      "Processing matches:   9%|▊         | 1092/12699 [00:28<05:23, 35.88it/s]"
     ]
    },
    {
     "name": "stdout",
     "output_type": "stream",
     "text": [
      "Multiplier 0.48. Tier 4.0. Exponent 2\n",
      "Multiplier 0.48. Tier 4.0. Exponent 2\n",
      "Multiplier 0.48. Tier 4.0. Exponent 2\n",
      "Multiplier 0.48. Tier 4.0. Exponent 2\n",
      "Multiplier 0.48. Tier 4.0. Exponent 2\n",
      "Multiplier 0.48. Tier 4.0. Exponent 2\n",
      "Multiplier 0.48. Tier 4.0. Exponent 2\n",
      "Multiplier 0.48. Tier 4.0. Exponent 2\n"
     ]
    },
    {
     "name": "stderr",
     "output_type": "stream",
     "text": [
      "Processing matches:   9%|▊         | 1100/12699 [00:28<05:14, 36.83it/s]"
     ]
    },
    {
     "name": "stdout",
     "output_type": "stream",
     "text": [
      "Multiplier 0.48. Tier 4.0. Exponent 2\n",
      "Multiplier 0.48. Tier 4.0. Exponent 2\n",
      "Multiplier 0.48. Tier 4.0. Exponent 2\n",
      "Multiplier 0.48. Tier 4.0. Exponent 2\n",
      "Multiplier 0.48. Tier 4.0. Exponent 2\n",
      "Multiplier 0.48. Tier 4.0. Exponent 2\n",
      "Multiplier 0.48. Tier 4.0. Exponent 2\n",
      "Multiplier 0.48. Tier 4.0. Exponent 2\n"
     ]
    },
    {
     "name": "stderr",
     "output_type": "stream",
     "text": [
      "Processing matches:   9%|▊         | 1108/12699 [00:28<05:23, 35.88it/s]"
     ]
    },
    {
     "name": "stdout",
     "output_type": "stream",
     "text": [
      "Multiplier 0.48. Tier 4.0. Exponent 2\n",
      "Multiplier 0.48. Tier 4.0. Exponent 2\n",
      "Multiplier 0.48. Tier 4.0. Exponent 2\n",
      "Multiplier 0.48. Tier 4.0. Exponent 2\n",
      "Multiplier 0.48. Tier 4.0. Exponent 2\n",
      "Multiplier 0.48. Tier 4.0. Exponent 2\n",
      "Multiplier 0.48. Tier 4.0. Exponent 2\n",
      "Multiplier 0.48. Tier 4.0. Exponent 2\n"
     ]
    },
    {
     "name": "stderr",
     "output_type": "stream",
     "text": [
      "Processing matches:   9%|▉         | 1117/12699 [00:29<05:13, 36.94it/s]"
     ]
    },
    {
     "name": "stdout",
     "output_type": "stream",
     "text": [
      "Multiplier 0.48. Tier 4.0. Exponent 2\n",
      "Multiplier 0.48. Tier 4.0. Exponent 2\n",
      "Multiplier 0.48. Tier 4.0. Exponent 2\n",
      "Multiplier 0.48. Tier 4.0. Exponent 2\n",
      "Multiplier 0.48. Tier 4.0. Exponent 2\n",
      "Multiplier 0.48. Tier 4.0. Exponent 2\n",
      "Multiplier 0.48. Tier 4.0. Exponent 2\n",
      "Multiplier 0.48. Tier 4.0. Exponent 2\n"
     ]
    },
    {
     "name": "stderr",
     "output_type": "stream",
     "text": [
      "Processing matches:   9%|▉         | 1125/12699 [00:29<05:10, 37.28it/s]"
     ]
    },
    {
     "name": "stdout",
     "output_type": "stream",
     "text": [
      "Multiplier 0.48. Tier 4.0. Exponent 2\n",
      "Multiplier 0.48. Tier 4.0. Exponent 2\n",
      "Multiplier 0.48. Tier 4.0. Exponent 2\n",
      "Multiplier 0.48. Tier 4.0. Exponent 2\n",
      "Multiplier 0.48. Tier 4.0. Exponent 2\n",
      "Multiplier 0.48. Tier 4.0. Exponent 2\n",
      "Multiplier 0.48. Tier 4.0. Exponent 2\n",
      "Multiplier 0.48. Tier 4.0. Exponent 2\n",
      "Multiplier 0.48. Tier 4.0. Exponent 2\n"
     ]
    },
    {
     "name": "stderr",
     "output_type": "stream",
     "text": [
      "Processing matches:   9%|▉         | 1133/12699 [00:29<05:27, 35.34it/s]"
     ]
    },
    {
     "name": "stdout",
     "output_type": "stream",
     "text": [
      "Multiplier 0.48. Tier 4.0. Exponent 2\n",
      "Multiplier 0.48. Tier 4.0. Exponent 2\n",
      "Multiplier 0.48. Tier 4.0. Exponent 2\n",
      "Multiplier 3.0. Tier 1.0. Exponent 2\n",
      "Multiplier 3.0. Tier 1.0. Exponent 2\n",
      "Multiplier 3.0. Tier 1.0. Exponent 2\n",
      "Multiplier 3.0. Tier 1.0. Exponent 2\n"
     ]
    },
    {
     "name": "stderr",
     "output_type": "stream",
     "text": [
      "Processing matches:   9%|▉         | 1137/12699 [00:29<05:51, 32.91it/s]"
     ]
    },
    {
     "name": "stdout",
     "output_type": "stream",
     "text": [
      "Multiplier 0.48. Tier 4.0. Exponent 2\n",
      "Multiplier 0.48. Tier 4.0. Exponent 2\n",
      "Multiplier 3.0. Tier 1.0. Exponent 2\n",
      "Multiplier 0.48. Tier 4.0. Exponent 2\n",
      "Multiplier 3.0. Tier 1.0. Exponent 2\n",
      "Multiplier 0.48. Tier 4.0. Exponent 2\n"
     ]
    },
    {
     "name": "stderr",
     "output_type": "stream",
     "text": [
      "Processing matches:   9%|▉         | 1145/12699 [00:29<06:11, 31.11it/s]"
     ]
    },
    {
     "name": "stdout",
     "output_type": "stream",
     "text": [
      "Multiplier 0.48. Tier 4.0. Exponent 2\n",
      "Multiplier 0.48. Tier 4.0. Exponent 2\n",
      "Multiplier 0.48. Tier 4.0. Exponent 2\n",
      "Multiplier 0.48. Tier 4.0. Exponent 2\n",
      "Multiplier 0.48. Tier 4.0. Exponent 2\n",
      "Multiplier 0.48. Tier 4.0. Exponent 2\n",
      "Multiplier 0.48. Tier 4.0. Exponent 2\n"
     ]
    },
    {
     "name": "stderr",
     "output_type": "stream",
     "text": [
      "Processing matches:   9%|▉         | 1153/12699 [00:30<05:59, 32.10it/s]"
     ]
    },
    {
     "name": "stdout",
     "output_type": "stream",
     "text": [
      "Multiplier 0.48. Tier 4.0. Exponent 2\n",
      "Multiplier 0.48. Tier 4.0. Exponent 2\n",
      "Multiplier 0.48. Tier 4.0. Exponent 2\n",
      "Multiplier 0.48. Tier 4.0. Exponent 2\n",
      "Multiplier 0.48. Tier 4.0. Exponent 2\n",
      "Multiplier 0.48. Tier 4.0. Exponent 2\n",
      "Multiplier 3.0. Tier 1.0. Exponent 2\n"
     ]
    },
    {
     "name": "stderr",
     "output_type": "stream",
     "text": [
      "Processing matches:   9%|▉         | 1157/12699 [00:30<06:18, 30.50it/s]"
     ]
    },
    {
     "name": "stdout",
     "output_type": "stream",
     "text": [
      "Multiplier 3.0. Tier 1.0. Exponent 2\n",
      "Multiplier 0.48. Tier 4.0. Exponent 2\n",
      "Multiplier 0.48. Tier 4.0. Exponent 2\n",
      "Multiplier 0.48. Tier 4.0. Exponent 2\n",
      "Multiplier 0.48. Tier 4.0. Exponent 2\n",
      "Multiplier 0.48. Tier 4.0. Exponent 2\n"
     ]
    },
    {
     "name": "stderr",
     "output_type": "stream",
     "text": [
      "Processing matches:   9%|▉         | 1165/12699 [00:30<06:23, 30.11it/s]"
     ]
    },
    {
     "name": "stdout",
     "output_type": "stream",
     "text": [
      "Multiplier 0.48. Tier 4.0. Exponent 2\n",
      "Multiplier 0.48. Tier 4.0. Exponent 2\n",
      "Multiplier 0.48. Tier 4.0. Exponent 2\n",
      "Multiplier 3.0. Tier 1.0. Exponent 2\n",
      "Multiplier 0.48. Tier 4.0. Exponent 2\n",
      "Multiplier 0.48. Tier 4.0. Exponent 2\n",
      "Multiplier 0.48. Tier 4.0. Exponent 2\n"
     ]
    },
    {
     "name": "stderr",
     "output_type": "stream",
     "text": [
      "Processing matches:   9%|▉         | 1172/12699 [00:30<06:30, 29.50it/s]"
     ]
    },
    {
     "name": "stdout",
     "output_type": "stream",
     "text": [
      "Multiplier 3.0. Tier 1.0. Exponent 2\n",
      "Multiplier 3.0. Tier 1.0. Exponent 2\n",
      "Multiplier 3.0. Tier 1.0. Exponent 2\n",
      "Multiplier 0.48. Tier 4.0. Exponent 2\n",
      "Multiplier 0.48. Tier 4.0. Exponent 2\n",
      "Multiplier 3.0. Tier 1.0. Exponent 2\n"
     ]
    },
    {
     "name": "stderr",
     "output_type": "stream",
     "text": [
      "Processing matches:   9%|▉         | 1178/12699 [00:31<07:10, 26.79it/s]"
     ]
    },
    {
     "name": "stdout",
     "output_type": "stream",
     "text": [
      "Multiplier 3.0. Tier 1.0. Exponent 2\n",
      "Multiplier 3.0. Tier 1.0. Exponent 2\n",
      "Multiplier 3.0. Tier 1.0. Exponent 2\n",
      "Multiplier 3.0. Tier 1.0. Exponent 2\n",
      "Multiplier 3.0. Tier 1.0. Exponent 2\n"
     ]
    },
    {
     "name": "stderr",
     "output_type": "stream",
     "text": [
      "Processing matches:   9%|▉         | 1184/12699 [00:31<07:20, 26.12it/s]"
     ]
    },
    {
     "name": "stdout",
     "output_type": "stream",
     "text": [
      "Multiplier 3.0. Tier 1.0. Exponent 2\n",
      "Multiplier 3.0. Tier 1.0. Exponent 2\n",
      "Multiplier 3.0. Tier 1.0. Exponent 2\n",
      "Multiplier 3.0. Tier 1.0. Exponent 2\n",
      "Multiplier 3.0. Tier 1.0. Exponent 2\n"
     ]
    },
    {
     "name": "stderr",
     "output_type": "stream",
     "text": [
      "Processing matches:   9%|▉         | 1187/12699 [00:31<07:27, 25.74it/s]"
     ]
    },
    {
     "name": "stdout",
     "output_type": "stream",
     "text": [
      "Multiplier 3.0. Tier 1.0. Exponent 2\n",
      "Multiplier 3.0. Tier 1.0. Exponent 2\n",
      "Multiplier 3.0. Tier 1.0. Exponent 2\n",
      "Multiplier 3.0. Tier 1.0. Exponent 2\n",
      "Multiplier 3.0. Tier 1.0. Exponent 2\n"
     ]
    },
    {
     "name": "stderr",
     "output_type": "stream",
     "text": [
      "Processing matches:   9%|▉         | 1193/12699 [00:31<07:33, 25.40it/s]"
     ]
    },
    {
     "name": "stdout",
     "output_type": "stream",
     "text": [
      "Multiplier 3.0. Tier 1.0. Exponent 2\n",
      "Multiplier 3.0. Tier 1.0. Exponent 2\n",
      "Multiplier 3.0. Tier 1.0. Exponent 2\n",
      "Multiplier 3.0. Tier 1.0. Exponent 2\n",
      "Multiplier 3.0. Tier 1.0. Exponent 2\n"
     ]
    },
    {
     "name": "stderr",
     "output_type": "stream",
     "text": [
      "Processing matches:   9%|▉         | 1199/12699 [00:31<07:44, 24.76it/s]"
     ]
    },
    {
     "name": "stdout",
     "output_type": "stream",
     "text": [
      "Multiplier 3.0. Tier 1.0. Exponent 2\n",
      "Multiplier 3.0. Tier 1.0. Exponent 2\n",
      "Multiplier 3.0. Tier 1.0. Exponent 2\n",
      "Multiplier 3.0. Tier 1.0. Exponent 2\n",
      "Multiplier 3.0. Tier 1.0. Exponent 2\n"
     ]
    },
    {
     "name": "stderr",
     "output_type": "stream",
     "text": [
      "Processing matches:   9%|▉         | 1202/12699 [00:31<07:42, 24.84it/s]"
     ]
    },
    {
     "name": "stdout",
     "output_type": "stream",
     "text": [
      "Multiplier 3.0. Tier 1.0. Exponent 2\n",
      "Multiplier 3.0. Tier 1.0. Exponent 2\n",
      "Multiplier 3.0. Tier 1.0. Exponent 2\n",
      "Multiplier 3.0. Tier 1.0. Exponent 2\n",
      "Multiplier 3.0. Tier 1.0. Exponent 2\n"
     ]
    },
    {
     "name": "stderr",
     "output_type": "stream",
     "text": [
      "Processing matches:  10%|▉         | 1208/12699 [00:32<07:36, 25.19it/s]"
     ]
    },
    {
     "name": "stdout",
     "output_type": "stream",
     "text": [
      "Multiplier 3.0. Tier 1.0. Exponent 2\n",
      "Multiplier 3.0. Tier 1.0. Exponent 2\n",
      "Multiplier 3.0. Tier 1.0. Exponent 2\n",
      "Multiplier 3.0. Tier 1.0. Exponent 2\n",
      "Multiplier 3.0. Tier 1.0. Exponent 2\n",
      "Multiplier 3.0. Tier 1.0. Exponent 2\n"
     ]
    },
    {
     "name": "stderr",
     "output_type": "stream",
     "text": [
      "Processing matches:  10%|▉         | 1214/12699 [00:32<07:41, 24.87it/s]"
     ]
    },
    {
     "name": "stdout",
     "output_type": "stream",
     "text": [
      "Multiplier 3.0. Tier 1.0. Exponent 2\n",
      "Multiplier 3.0. Tier 1.0. Exponent 2\n",
      "Multiplier 3.0. Tier 1.0. Exponent 2\n",
      "Multiplier 3.0. Tier 1.0. Exponent 2\n",
      "Multiplier 3.0. Tier 1.0. Exponent 2\n",
      "Multiplier 3.0. Tier 1.0. Exponent 2\n"
     ]
    },
    {
     "name": "stderr",
     "output_type": "stream",
     "text": [
      "Processing matches:  10%|▉         | 1220/12699 [00:32<07:33, 25.31it/s]"
     ]
    },
    {
     "name": "stdout",
     "output_type": "stream",
     "text": [
      "Multiplier 3.0. Tier 1.0. Exponent 2\n",
      "Multiplier 3.0. Tier 1.0. Exponent 2\n",
      "Multiplier 3.0. Tier 1.0. Exponent 2\n",
      "Multiplier 3.0. Tier 1.0. Exponent 2\n",
      "Multiplier 3.0. Tier 1.0. Exponent 2\n",
      "Multiplier 3.0. Tier 1.0. Exponent 2\n"
     ]
    },
    {
     "name": "stderr",
     "output_type": "stream",
     "text": [
      "Processing matches:  10%|▉         | 1227/12699 [00:32<06:39, 28.69it/s]"
     ]
    },
    {
     "name": "stdout",
     "output_type": "stream",
     "text": [
      "Multiplier 3.0. Tier 1.0. Exponent 2\n",
      "Multiplier 0.48. Tier 4.0. Exponent 2\n",
      "Multiplier 0.48. Tier 4.0. Exponent 2\n",
      "Multiplier 0.75. Tier 3.0. Exponent 2\n",
      "Multiplier 0.75. Tier 3.0. Exponent 2\n",
      "Multiplier 0.75. Tier 3.0. Exponent 2\n",
      "Multiplier 0.75. Tier 3.0. Exponent 2\n",
      "Multiplier 0.75. Tier 3.0. Exponent 2\n"
     ]
    },
    {
     "name": "stderr",
     "output_type": "stream",
     "text": [
      "Processing matches:  10%|▉         | 1235/12699 [00:33<05:40, 33.65it/s]"
     ]
    },
    {
     "name": "stdout",
     "output_type": "stream",
     "text": [
      "Multiplier 0.75. Tier 3.0. Exponent 2\n",
      "Multiplier 0.75. Tier 3.0. Exponent 2\n",
      "Multiplier 0.75. Tier 3.0. Exponent 2\n",
      "Multiplier 0.75. Tier 3.0. Exponent 2\n",
      "Multiplier 0.75. Tier 3.0. Exponent 2\n",
      "Multiplier 0.75. Tier 3.0. Exponent 2\n",
      "Multiplier 0.75. Tier 3.0. Exponent 2\n",
      "Multiplier 0.75. Tier 3.0. Exponent 2\n",
      "Multiplier 0.75. Tier 3.0. Exponent 2\n"
     ]
    },
    {
     "name": "stderr",
     "output_type": "stream",
     "text": [
      "Processing matches:  10%|▉         | 1243/12699 [00:33<05:18, 35.92it/s]"
     ]
    },
    {
     "name": "stdout",
     "output_type": "stream",
     "text": [
      "Multiplier 0.75. Tier 3.0. Exponent 2\n",
      "Multiplier 0.75. Tier 3.0. Exponent 2\n",
      "Multiplier 0.75. Tier 3.0. Exponent 2\n",
      "Multiplier 0.75. Tier 3.0. Exponent 2\n",
      "Multiplier 0.75. Tier 3.0. Exponent 2\n",
      "Multiplier 0.75. Tier 3.0. Exponent 2\n",
      "Multiplier 3.0. Tier 1.0. Exponent 2\n"
     ]
    },
    {
     "name": "stderr",
     "output_type": "stream",
     "text": [
      "Processing matches:  10%|▉         | 1252/12699 [00:33<05:09, 36.94it/s]"
     ]
    },
    {
     "name": "stdout",
     "output_type": "stream",
     "text": [
      "Multiplier 0.75. Tier 3.0. Exponent 2\n",
      "Multiplier 0.75. Tier 3.0. Exponent 2\n",
      "Multiplier 0.75. Tier 3.0. Exponent 2\n",
      "Multiplier 0.75. Tier 3.0. Exponent 2\n",
      "Multiplier 0.75. Tier 3.0. Exponent 2\n",
      "Multiplier 0.75. Tier 3.0. Exponent 2\n",
      "Multiplier 3.0. Tier 1.0. Exponent 2\n",
      "Multiplier 3.0. Tier 1.0. Exponent 2\n"
     ]
    },
    {
     "name": "stderr",
     "output_type": "stream",
     "text": [
      "Processing matches:  10%|▉         | 1260/12699 [00:33<05:43, 33.32it/s]"
     ]
    },
    {
     "name": "stdout",
     "output_type": "stream",
     "text": [
      "Multiplier 0.75. Tier 3.0. Exponent 2\n",
      "Multiplier 3.0. Tier 1.0. Exponent 2\n",
      "Multiplier 3.0. Tier 1.0. Exponent 2\n",
      "Multiplier 3.0. Tier 1.0. Exponent 2\n",
      "Multiplier 0.75. Tier 3.0. Exponent 2\n",
      "Multiplier 0.75. Tier 3.0. Exponent 2\n"
     ]
    },
    {
     "name": "stderr",
     "output_type": "stream",
     "text": [
      "Processing matches:  10%|▉         | 1264/12699 [00:33<05:29, 34.73it/s]"
     ]
    },
    {
     "name": "stdout",
     "output_type": "stream",
     "text": [
      "Multiplier 0.75. Tier 3.0. Exponent 2\n",
      "Multiplier 0.75. Tier 3.0. Exponent 2\n",
      "Multiplier 0.75. Tier 3.0. Exponent 2\n",
      "Multiplier 0.75. Tier 3.0. Exponent 2\n",
      "Multiplier 3.0. Tier 1.0. Exponent 2\n",
      "Multiplier 3.0. Tier 1.0. Exponent 2\n",
      "Multiplier 0.75. Tier 3.0. Exponent 2\n"
     ]
    },
    {
     "name": "stderr",
     "output_type": "stream",
     "text": [
      "Processing matches:  10%|█         | 1272/12699 [00:34<05:34, 34.13it/s]"
     ]
    },
    {
     "name": "stdout",
     "output_type": "stream",
     "text": [
      "Multiplier 3.0. Tier 1.0. Exponent 2\n",
      "Multiplier 0.75. Tier 3.0. Exponent 2\n",
      "Multiplier 0.75. Tier 3.0. Exponent 2\n",
      "Multiplier 0.75. Tier 3.0. Exponent 2\n",
      "Multiplier 0.75. Tier 3.0. Exponent 2\n",
      "Multiplier 0.75. Tier 3.0. Exponent 2\n",
      "Multiplier 0.75. Tier 3.0. Exponent 2\n",
      "Multiplier 0.75. Tier 3.0. Exponent 2\n",
      "Multiplier 0.75. Tier 3.0. Exponent 2\n"
     ]
    },
    {
     "name": "stderr",
     "output_type": "stream",
     "text": [
      "Processing matches:  10%|█         | 1281/12699 [00:34<05:12, 36.60it/s]"
     ]
    },
    {
     "name": "stdout",
     "output_type": "stream",
     "text": [
      "Multiplier 0.75. Tier 3.0. Exponent 2\n",
      "Multiplier 0.75. Tier 3.0. Exponent 2\n",
      "Multiplier 0.75. Tier 3.0. Exponent 2\n",
      "Multiplier 0.75. Tier 3.0. Exponent 2\n",
      "Multiplier 0.75. Tier 3.0. Exponent 2\n",
      "Multiplier 0.75. Tier 3.0. Exponent 2\n",
      "Multiplier 0.75. Tier 3.0. Exponent 2\n",
      "Multiplier 0.75. Tier 3.0. Exponent 2\n",
      "Multiplier 3.0. Tier 1.0. Exponent 2\n"
     ]
    },
    {
     "name": "stderr",
     "output_type": "stream",
     "text": [
      "Processing matches:  10%|█         | 1289/12699 [00:34<05:23, 35.29it/s]"
     ]
    },
    {
     "name": "stdout",
     "output_type": "stream",
     "text": [
      "Multiplier 3.0. Tier 1.0. Exponent 2\n",
      "Multiplier 0.75. Tier 3.0. Exponent 2\n",
      "Multiplier 0.75. Tier 3.0. Exponent 2\n",
      "Multiplier 0.75. Tier 3.0. Exponent 2\n",
      "Multiplier 0.75. Tier 3.0. Exponent 2\n",
      "Multiplier 3.0. Tier 1.0. Exponent 2\n",
      "Multiplier 0.75. Tier 3.0. Exponent 2\n",
      "Multiplier 0.75. Tier 3.0. Exponent 2\n"
     ]
    },
    {
     "name": "stderr",
     "output_type": "stream",
     "text": [
      "Processing matches:  10%|█         | 1297/12699 [00:34<05:11, 36.55it/s]"
     ]
    },
    {
     "name": "stdout",
     "output_type": "stream",
     "text": [
      "Multiplier 0.75. Tier 3.0. Exponent 2\n",
      "Multiplier 0.75. Tier 3.0. Exponent 2\n",
      "Multiplier 0.75. Tier 3.0. Exponent 2\n",
      "Multiplier 0.75. Tier 3.0. Exponent 2\n",
      "Multiplier 0.75. Tier 3.0. Exponent 2\n",
      "Multiplier 0.75. Tier 3.0. Exponent 2\n",
      "Multiplier 0.75. Tier 3.0. Exponent 2\n",
      "Multiplier 0.75. Tier 3.0. Exponent 2\n"
     ]
    },
    {
     "name": "stderr",
     "output_type": "stream",
     "text": [
      "Processing matches:  10%|█         | 1305/12699 [00:35<05:10, 36.65it/s]"
     ]
    },
    {
     "name": "stdout",
     "output_type": "stream",
     "text": [
      "Multiplier 0.75. Tier 3.0. Exponent 2\n",
      "Multiplier 0.75. Tier 3.0. Exponent 2\n",
      "Multiplier 0.75. Tier 3.0. Exponent 2\n",
      "Multiplier 0.75. Tier 3.0. Exponent 2\n",
      "Multiplier 0.75. Tier 3.0. Exponent 2\n",
      "Multiplier 0.75. Tier 3.0. Exponent 2\n",
      "Multiplier 0.75. Tier 3.0. Exponent 2\n",
      "Multiplier 0.75. Tier 3.0. Exponent 2\n"
     ]
    },
    {
     "name": "stderr",
     "output_type": "stream",
     "text": [
      "Processing matches:  10%|█         | 1313/12699 [00:35<05:07, 37.04it/s]"
     ]
    },
    {
     "name": "stdout",
     "output_type": "stream",
     "text": [
      "Multiplier 0.75. Tier 3.0. Exponent 2\n",
      "Multiplier 0.75. Tier 3.0. Exponent 2\n",
      "Multiplier 0.75. Tier 3.0. Exponent 2\n",
      "Multiplier 0.75. Tier 3.0. Exponent 2\n",
      "Multiplier 0.75. Tier 3.0. Exponent 2\n",
      "Multiplier 3.0. Tier 1.0. Exponent 2\n",
      "Multiplier 3.0. Tier 1.0. Exponent 2\n"
     ]
    },
    {
     "name": "stderr",
     "output_type": "stream",
     "text": [
      "Processing matches:  10%|█         | 1321/12699 [00:35<06:04, 31.23it/s]"
     ]
    },
    {
     "name": "stdout",
     "output_type": "stream",
     "text": [
      "Multiplier 3.0. Tier 1.0. Exponent 2\n",
      "Multiplier 3.0. Tier 1.0. Exponent 2\n",
      "Multiplier 3.0. Tier 1.0. Exponent 2\n",
      "Multiplier 3.0. Tier 1.0. Exponent 2\n",
      "Multiplier 3.0. Tier 1.0. Exponent 2\n",
      "Multiplier 3.0. Tier 1.0. Exponent 2\n"
     ]
    },
    {
     "name": "stderr",
     "output_type": "stream",
     "text": [
      "Processing matches:  10%|█         | 1325/12699 [00:35<06:07, 30.97it/s]"
     ]
    },
    {
     "name": "stdout",
     "output_type": "stream",
     "text": [
      "Multiplier 3.0. Tier 1.0. Exponent 2\n",
      "Multiplier 0.75. Tier 3.0. Exponent 2\n",
      "Multiplier 0.75. Tier 3.0. Exponent 2\n",
      "Multiplier 0.75. Tier 3.0. Exponent 2\n",
      "Multiplier 0.75. Tier 3.0. Exponent 2\n",
      "Multiplier 3.0. Tier 1.0. Exponent 2\n",
      "Multiplier 0.75. Tier 3.0. Exponent 2\n"
     ]
    },
    {
     "name": "stderr",
     "output_type": "stream",
     "text": [
      "Processing matches:  10%|█         | 1333/12699 [00:35<05:50, 32.45it/s]"
     ]
    },
    {
     "name": "stdout",
     "output_type": "stream",
     "text": [
      "Multiplier 0.75. Tier 3.0. Exponent 2\n",
      "Multiplier 0.75. Tier 3.0. Exponent 2\n",
      "Multiplier 0.75. Tier 3.0. Exponent 2\n",
      "Multiplier 0.75. Tier 3.0. Exponent 2\n",
      "Multiplier 0.75. Tier 3.0. Exponent 2\n",
      "Multiplier 3.0. Tier 1.0. Exponent 2\n",
      "Multiplier 3.0. Tier 1.0. Exponent 2\n"
     ]
    },
    {
     "name": "stderr",
     "output_type": "stream",
     "text": [
      "Processing matches:  11%|█         | 1341/12699 [00:36<05:44, 32.93it/s]"
     ]
    },
    {
     "name": "stdout",
     "output_type": "stream",
     "text": [
      "Multiplier 0.75. Tier 3.0. Exponent 2\n",
      "Multiplier 0.75. Tier 3.0. Exponent 2\n",
      "Multiplier 0.75. Tier 3.0. Exponent 2\n",
      "Multiplier 0.75. Tier 3.0. Exponent 2\n",
      "Multiplier 0.75. Tier 3.0. Exponent 2\n",
      "Multiplier 0.75. Tier 3.0. Exponent 2\n",
      "Multiplier 0.75. Tier 3.0. Exponent 2\n",
      "Multiplier 0.75. Tier 3.0. Exponent 2\n",
      "Multiplier 0.75. Tier 3.0. Exponent 2\n"
     ]
    },
    {
     "name": "stderr",
     "output_type": "stream",
     "text": [
      "Processing matches:  11%|█         | 1350/12699 [00:36<05:24, 34.94it/s]"
     ]
    },
    {
     "name": "stdout",
     "output_type": "stream",
     "text": [
      "Multiplier 0.75. Tier 3.0. Exponent 2\n",
      "Multiplier 0.75. Tier 3.0. Exponent 2\n",
      "Multiplier 0.75. Tier 3.0. Exponent 2\n",
      "Multiplier 0.75. Tier 3.0. Exponent 2\n",
      "Multiplier 0.75. Tier 3.0. Exponent 2\n",
      "Multiplier 0.75. Tier 3.0. Exponent 2\n",
      "Multiplier 0.75. Tier 3.0. Exponent 2\n",
      "Multiplier 3.0. Tier 1.0. Exponent 2\n"
     ]
    },
    {
     "name": "stderr",
     "output_type": "stream",
     "text": [
      "Processing matches:  11%|█         | 1358/12699 [00:36<06:28, 29.17it/s]"
     ]
    },
    {
     "name": "stdout",
     "output_type": "stream",
     "text": [
      "Multiplier 3.0. Tier 1.0. Exponent 2\n",
      "Multiplier 3.0. Tier 1.0. Exponent 2\n",
      "Multiplier 3.0. Tier 1.0. Exponent 2\n",
      "Multiplier 3.0. Tier 1.0. Exponent 2\n",
      "Multiplier 3.0. Tier 1.0. Exponent 2\n"
     ]
    },
    {
     "name": "stderr",
     "output_type": "stream",
     "text": [
      "Processing matches:  11%|█         | 1362/12699 [00:36<06:59, 27.03it/s]"
     ]
    },
    {
     "name": "stdout",
     "output_type": "stream",
     "text": [
      "Multiplier 3.0. Tier 1.0. Exponent 2\n",
      "Multiplier 3.0. Tier 1.0. Exponent 2\n",
      "Multiplier 3.0. Tier 1.0. Exponent 2\n",
      "Multiplier 3.0. Tier 1.0. Exponent 2\n",
      "Multiplier 3.0. Tier 1.0. Exponent 2\n"
     ]
    },
    {
     "name": "stderr",
     "output_type": "stream",
     "text": [
      "Processing matches:  11%|█         | 1369/12699 [00:37<06:24, 29.48it/s]"
     ]
    },
    {
     "name": "stdout",
     "output_type": "stream",
     "text": [
      "Multiplier 3.0. Tier 1.0. Exponent 2\n",
      "Multiplier 1.3333333333333333. Tier 2.0. Exponent 2\n",
      "Multiplier 1.3333333333333333. Tier 2.0. Exponent 2\n",
      "Multiplier 1.3333333333333333. Tier 2.0. Exponent 2\n",
      "Multiplier 1.3333333333333333. Tier 2.0. Exponent 2\n",
      "Multiplier 1.3333333333333333. Tier 2.0. Exponent 2\n",
      "Multiplier 1.3333333333333333. Tier 2.0. Exponent 2\n",
      "Multiplier 1.3333333333333333. Tier 2.0. Exponent 2\n"
     ]
    },
    {
     "name": "stderr",
     "output_type": "stream",
     "text": [
      "Processing matches:  11%|█         | 1377/12699 [00:37<05:49, 32.41it/s]"
     ]
    },
    {
     "name": "stdout",
     "output_type": "stream",
     "text": [
      "Multiplier 1.3333333333333333. Tier 2.0. Exponent 2\n",
      "Multiplier 1.3333333333333333. Tier 2.0. Exponent 2\n",
      "Multiplier 1.3333333333333333. Tier 2.0. Exponent 2\n",
      "Multiplier 1.3333333333333333. Tier 2.0. Exponent 2\n",
      "Multiplier 1.3333333333333333. Tier 2.0. Exponent 2\n",
      "Multiplier 1.3333333333333333. Tier 2.0. Exponent 2\n",
      "Multiplier 1.3333333333333333. Tier 2.0. Exponent 2\n",
      "Multiplier 1.3333333333333333. Tier 2.0. Exponent 2\n"
     ]
    },
    {
     "name": "stderr",
     "output_type": "stream",
     "text": [
      "Processing matches:  11%|█         | 1385/12699 [00:37<06:00, 31.36it/s]"
     ]
    },
    {
     "name": "stdout",
     "output_type": "stream",
     "text": [
      "Multiplier 1.3333333333333333. Tier 2.0. Exponent 2\n",
      "Multiplier 1.3333333333333333. Tier 2.0. Exponent 2\n",
      "Multiplier 1.3333333333333333. Tier 2.0. Exponent 2\n",
      "Multiplier 3.0. Tier 1.0. Exponent 2\n",
      "Multiplier 3.0. Tier 1.0. Exponent 2\n",
      "Multiplier 3.0. Tier 1.0. Exponent 2\n"
     ]
    },
    {
     "name": "stderr",
     "output_type": "stream",
     "text": [
      "Processing matches:  11%|█         | 1389/12699 [00:37<06:08, 30.67it/s]"
     ]
    },
    {
     "name": "stdout",
     "output_type": "stream",
     "text": [
      "Multiplier 3.0. Tier 1.0. Exponent 2\n",
      "Multiplier 3.0. Tier 1.0. Exponent 2\n",
      "Multiplier 3.0. Tier 1.0. Exponent 2\n",
      "Multiplier 1.3333333333333333. Tier 2.0. Exponent 2\n",
      "Multiplier 1.3333333333333333. Tier 2.0. Exponent 2\n",
      "Multiplier 1.3333333333333333. Tier 2.0. Exponent 2\n",
      "Multiplier 3.0. Tier 1.0. Exponent 2\n"
     ]
    },
    {
     "name": "stderr",
     "output_type": "stream",
     "text": [
      "Processing matches:  11%|█         | 1397/12699 [00:38<06:19, 29.81it/s]"
     ]
    },
    {
     "name": "stdout",
     "output_type": "stream",
     "text": [
      "Multiplier 3.0. Tier 1.0. Exponent 2\n",
      "Multiplier 1.3333333333333333. Tier 2.0. Exponent 2\n",
      "Multiplier 3.0. Tier 1.0. Exponent 2\n",
      "Multiplier 3.0. Tier 1.0. Exponent 2\n",
      "Multiplier 3.0. Tier 1.0. Exponent 2\n",
      "Multiplier 3.0. Tier 1.0. Exponent 2\n"
     ]
    },
    {
     "name": "stderr",
     "output_type": "stream",
     "text": [
      "Processing matches:  11%|█         | 1405/12699 [00:38<05:57, 31.58it/s]"
     ]
    },
    {
     "name": "stdout",
     "output_type": "stream",
     "text": [
      "Multiplier 1.3333333333333333. Tier 2.0. Exponent 2\n",
      "Multiplier 1.3333333333333333. Tier 2.0. Exponent 2\n",
      "Multiplier 1.3333333333333333. Tier 2.0. Exponent 2\n",
      "Multiplier 1.3333333333333333. Tier 2.0. Exponent 2\n",
      "Multiplier 1.3333333333333333. Tier 2.0. Exponent 2\n",
      "Multiplier 1.3333333333333333. Tier 2.0. Exponent 2\n",
      "Multiplier 1.3333333333333333. Tier 2.0. Exponent 2\n"
     ]
    },
    {
     "name": "stderr",
     "output_type": "stream",
     "text": [
      "Processing matches:  11%|█         | 1409/12699 [00:38<05:37, 33.48it/s]"
     ]
    },
    {
     "name": "stdout",
     "output_type": "stream",
     "text": [
      "Multiplier 1.3333333333333333. Tier 2.0. Exponent 2\n",
      "Multiplier 1.3333333333333333. Tier 2.0. Exponent 2\n",
      "Multiplier 1.3333333333333333. Tier 2.0. Exponent 2\n",
      "Multiplier 1.3333333333333333. Tier 2.0. Exponent 2\n",
      "Multiplier 1.3333333333333333. Tier 2.0. Exponent 2\n",
      "Multiplier 1.3333333333333333. Tier 2.0. Exponent 2\n",
      "Multiplier 1.3333333333333333. Tier 2.0. Exponent 2\n",
      "Multiplier 1.3333333333333333. Tier 2.0. Exponent 2\n"
     ]
    },
    {
     "name": "stderr",
     "output_type": "stream",
     "text": [
      "Processing matches:  11%|█         | 1417/12699 [00:38<05:20, 35.26it/s]"
     ]
    },
    {
     "name": "stdout",
     "output_type": "stream",
     "text": [
      "Multiplier 1.3333333333333333. Tier 2.0. Exponent 2\n",
      "Multiplier 1.3333333333333333. Tier 2.0. Exponent 2\n",
      "Multiplier 1.3333333333333333. Tier 2.0. Exponent 2\n",
      "Multiplier 1.3333333333333333. Tier 2.0. Exponent 2\n",
      "Multiplier 1.3333333333333333. Tier 2.0. Exponent 2\n",
      "Multiplier 1.3333333333333333. Tier 2.0. Exponent 2\n",
      "Multiplier 1.3333333333333333. Tier 2.0. Exponent 2\n",
      "Multiplier 1.3333333333333333. Tier 2.0. Exponent 2\n"
     ]
    },
    {
     "name": "stderr",
     "output_type": "stream",
     "text": [
      "Processing matches:  11%|█         | 1425/12699 [00:38<05:21, 35.05it/s]"
     ]
    },
    {
     "name": "stdout",
     "output_type": "stream",
     "text": [
      "Multiplier 1.3333333333333333. Tier 2.0. Exponent 2\n",
      "Multiplier 1.3333333333333333. Tier 2.0. Exponent 2\n",
      "Multiplier 1.3333333333333333. Tier 2.0. Exponent 2\n",
      "Multiplier 1.3333333333333333. Tier 2.0. Exponent 2\n",
      "Multiplier 1.3333333333333333. Tier 2.0. Exponent 2\n",
      "Multiplier 1.3333333333333333. Tier 2.0. Exponent 2\n",
      "Multiplier 3.0. Tier 1.0. Exponent 2\n"
     ]
    },
    {
     "name": "stderr",
     "output_type": "stream",
     "text": [
      "Processing matches:  11%|█▏        | 1433/12699 [00:39<05:39, 33.15it/s]"
     ]
    },
    {
     "name": "stdout",
     "output_type": "stream",
     "text": [
      "Multiplier 1.3333333333333333. Tier 2.0. Exponent 2\n",
      "Multiplier 3.0. Tier 1.0. Exponent 2\n",
      "Multiplier 3.0. Tier 1.0. Exponent 2\n",
      "Multiplier 1.3333333333333333. Tier 2.0. Exponent 2\n",
      "Multiplier 1.3333333333333333. Tier 2.0. Exponent 2\n",
      "Multiplier 3.0. Tier 1.0. Exponent 2\n",
      "Multiplier 3.0. Tier 1.0. Exponent 2\n"
     ]
    },
    {
     "name": "stderr",
     "output_type": "stream",
     "text": [
      "Processing matches:  11%|█▏        | 1437/12699 [00:39<05:56, 31.56it/s]"
     ]
    },
    {
     "name": "stdout",
     "output_type": "stream",
     "text": [
      "Multiplier 1.3333333333333333. Tier 2.0. Exponent 2\n",
      "Multiplier 3.0. Tier 1.0. Exponent 2\n",
      "Multiplier 1.3333333333333333. Tier 2.0. Exponent 2\n",
      "Multiplier 3.0. Tier 1.0. Exponent 2\n",
      "Multiplier 3.0. Tier 1.0. Exponent 2\n",
      "Multiplier 3.0. Tier 1.0. Exponent 2\n"
     ]
    },
    {
     "name": "stderr",
     "output_type": "stream",
     "text": [
      "Processing matches:  11%|█▏        | 1445/12699 [00:39<06:01, 31.11it/s]"
     ]
    },
    {
     "name": "stdout",
     "output_type": "stream",
     "text": [
      "Multiplier 1.3333333333333333. Tier 2.0. Exponent 2\n",
      "Multiplier 1.3333333333333333. Tier 2.0. Exponent 2\n",
      "Multiplier 1.3333333333333333. Tier 2.0. Exponent 2\n",
      "Multiplier 1.3333333333333333. Tier 2.0. Exponent 2\n",
      "Multiplier 3.0. Tier 1.0. Exponent 2\n",
      "Multiplier 1.3333333333333333. Tier 2.0. Exponent 2\n",
      "Multiplier 3.0. Tier 1.0. Exponent 2\n"
     ]
    },
    {
     "name": "stderr",
     "output_type": "stream",
     "text": [
      "Processing matches:  11%|█▏        | 1453/12699 [00:39<06:05, 30.80it/s]"
     ]
    },
    {
     "name": "stdout",
     "output_type": "stream",
     "text": [
      "Multiplier 3.0. Tier 1.0. Exponent 2\n",
      "Multiplier 1.3333333333333333. Tier 2.0. Exponent 2\n",
      "Multiplier 3.0. Tier 1.0. Exponent 2\n",
      "Multiplier 1.3333333333333333. Tier 2.0. Exponent 2\n",
      "Multiplier 3.0. Tier 1.0. Exponent 2\n",
      "Multiplier 1.3333333333333333. Tier 2.0. Exponent 2\n",
      "Multiplier 1.3333333333333333. Tier 2.0. Exponent 2\n"
     ]
    },
    {
     "name": "stderr",
     "output_type": "stream",
     "text": [
      "Processing matches:  12%|█▏        | 1461/12699 [00:40<05:40, 33.04it/s]"
     ]
    },
    {
     "name": "stdout",
     "output_type": "stream",
     "text": [
      "Multiplier 1.3333333333333333. Tier 2.0. Exponent 2\n",
      "Multiplier 1.3333333333333333. Tier 2.0. Exponent 2\n",
      "Multiplier 1.3333333333333333. Tier 2.0. Exponent 2\n",
      "Multiplier 1.3333333333333333. Tier 2.0. Exponent 2\n",
      "Multiplier 1.3333333333333333. Tier 2.0. Exponent 2\n",
      "Multiplier 1.3333333333333333. Tier 2.0. Exponent 2\n",
      "Multiplier 1.3333333333333333. Tier 2.0. Exponent 2\n",
      "Multiplier 1.3333333333333333. Tier 2.0. Exponent 2\n"
     ]
    },
    {
     "name": "stderr",
     "output_type": "stream",
     "text": [
      "Processing matches:  12%|█▏        | 1469/12699 [00:40<05:28, 34.18it/s]"
     ]
    },
    {
     "name": "stdout",
     "output_type": "stream",
     "text": [
      "Multiplier 1.3333333333333333. Tier 2.0. Exponent 2\n",
      "Multiplier 1.3333333333333333. Tier 2.0. Exponent 2\n",
      "Multiplier 1.3333333333333333. Tier 2.0. Exponent 2\n",
      "Multiplier 1.3333333333333333. Tier 2.0. Exponent 2\n",
      "Multiplier 1.3333333333333333. Tier 2.0. Exponent 2\n",
      "Multiplier 1.3333333333333333. Tier 2.0. Exponent 2\n",
      "Multiplier 1.3333333333333333. Tier 2.0. Exponent 2\n",
      "Multiplier 1.3333333333333333. Tier 2.0. Exponent 2\n"
     ]
    },
    {
     "name": "stderr",
     "output_type": "stream",
     "text": [
      "Processing matches:  12%|█▏        | 1477/12699 [00:40<05:17, 35.40it/s]"
     ]
    },
    {
     "name": "stdout",
     "output_type": "stream",
     "text": [
      "Multiplier 1.3333333333333333. Tier 2.0. Exponent 2\n",
      "Multiplier 1.3333333333333333. Tier 2.0. Exponent 2\n",
      "Multiplier 1.3333333333333333. Tier 2.0. Exponent 2\n",
      "Multiplier 1.3333333333333333. Tier 2.0. Exponent 2\n",
      "Multiplier 1.3333333333333333. Tier 2.0. Exponent 2\n",
      "Multiplier 1.3333333333333333. Tier 2.0. Exponent 2\n",
      "Multiplier 1.3333333333333333. Tier 2.0. Exponent 2\n",
      "Multiplier 1.3333333333333333. Tier 2.0. Exponent 2\n"
     ]
    },
    {
     "name": "stderr",
     "output_type": "stream",
     "text": [
      "Processing matches:  12%|█▏        | 1486/12699 [00:40<05:05, 36.74it/s]"
     ]
    },
    {
     "name": "stdout",
     "output_type": "stream",
     "text": [
      "Multiplier 1.3333333333333333. Tier 2.0. Exponent 2\n",
      "Multiplier 1.3333333333333333. Tier 2.0. Exponent 2\n",
      "Multiplier 1.3333333333333333. Tier 2.0. Exponent 2\n",
      "Multiplier 1.3333333333333333. Tier 2.0. Exponent 2\n",
      "Multiplier 1.3333333333333333. Tier 2.0. Exponent 2\n",
      "Multiplier 1.3333333333333333. Tier 2.0. Exponent 2\n",
      "Multiplier 1.3333333333333333. Tier 2.0. Exponent 2\n",
      "Multiplier 1.3333333333333333. Tier 2.0. Exponent 2\n"
     ]
    },
    {
     "name": "stderr",
     "output_type": "stream",
     "text": [
      "Processing matches:  12%|█▏        | 1490/12699 [00:40<05:17, 35.33it/s]"
     ]
    },
    {
     "name": "stdout",
     "output_type": "stream",
     "text": [
      "Multiplier 1.3333333333333333. Tier 2.0. Exponent 2\n",
      "Multiplier 0.75. Tier 3.0. Exponent 2\n",
      "Multiplier 1.3333333333333333. Tier 2.0. Exponent 2\n",
      "Multiplier 1.3333333333333333. Tier 2.0. Exponent 2\n",
      "Multiplier 0.75. Tier 3.0. Exponent 2\n",
      "Multiplier 0.75. Tier 3.0. Exponent 2\n",
      "Multiplier 0.75. Tier 3.0. Exponent 2\n",
      "Multiplier 0.75. Tier 3.0. Exponent 2\n"
     ]
    },
    {
     "name": "stderr",
     "output_type": "stream",
     "text": [
      "Processing matches:  12%|█▏        | 1500/12699 [00:41<04:53, 38.19it/s]"
     ]
    },
    {
     "name": "stdout",
     "output_type": "stream",
     "text": [
      "Multiplier 0.75. Tier 3.0. Exponent 2\n",
      "Multiplier 0.75. Tier 3.0. Exponent 2\n",
      "Multiplier 0.75. Tier 3.0. Exponent 2\n",
      "Multiplier 0.75. Tier 3.0. Exponent 2\n",
      "Multiplier 0.75. Tier 3.0. Exponent 2\n",
      "Multiplier 0.75. Tier 3.0. Exponent 2\n",
      "Multiplier 1.3333333333333333. Tier 2.0. Exponent 2\n",
      "Multiplier 1.3333333333333333. Tier 2.0. Exponent 2\n"
     ]
    },
    {
     "name": "stderr",
     "output_type": "stream",
     "text": [
      "Processing matches:  12%|█▏        | 1508/12699 [00:41<04:53, 38.15it/s]"
     ]
    },
    {
     "name": "stdout",
     "output_type": "stream",
     "text": [
      "Multiplier 0.75. Tier 3.0. Exponent 2\n",
      "Multiplier 0.75. Tier 3.0. Exponent 2\n",
      "Multiplier 1.3333333333333333. Tier 2.0. Exponent 2\n",
      "Multiplier 0.75. Tier 3.0. Exponent 2\n",
      "Multiplier 1.3333333333333333. Tier 2.0. Exponent 2\n",
      "Multiplier 1.3333333333333333. Tier 2.0. Exponent 2\n",
      "Multiplier 1.3333333333333333. Tier 2.0. Exponent 2\n",
      "Multiplier 1.3333333333333333. Tier 2.0. Exponent 2\n"
     ]
    },
    {
     "name": "stderr",
     "output_type": "stream",
     "text": [
      "Processing matches:  12%|█▏        | 1517/12699 [00:41<05:03, 36.79it/s]"
     ]
    },
    {
     "name": "stdout",
     "output_type": "stream",
     "text": [
      "Multiplier 1.3333333333333333. Tier 2.0. Exponent 2\n",
      "Multiplier 1.3333333333333333. Tier 2.0. Exponent 2\n",
      "Multiplier 1.3333333333333333. Tier 2.0. Exponent 2\n",
      "Multiplier 1.3333333333333333. Tier 2.0. Exponent 2\n",
      "Multiplier 1.3333333333333333. Tier 2.0. Exponent 2\n",
      "Multiplier 1.3333333333333333. Tier 2.0. Exponent 2\n",
      "Multiplier 1.3333333333333333. Tier 2.0. Exponent 2\n",
      "Multiplier 1.3333333333333333. Tier 2.0. Exponent 2\n"
     ]
    },
    {
     "name": "stderr",
     "output_type": "stream",
     "text": [
      "Processing matches:  12%|█▏        | 1525/12699 [00:41<05:04, 36.72it/s]"
     ]
    },
    {
     "name": "stdout",
     "output_type": "stream",
     "text": [
      "Multiplier 1.3333333333333333. Tier 2.0. Exponent 2\n",
      "Multiplier 1.3333333333333333. Tier 2.0. Exponent 2\n",
      "Multiplier 1.3333333333333333. Tier 2.0. Exponent 2\n",
      "Multiplier 1.3333333333333333. Tier 2.0. Exponent 2\n",
      "Multiplier 1.3333333333333333. Tier 2.0. Exponent 2\n",
      "Multiplier 1.3333333333333333. Tier 2.0. Exponent 2\n",
      "Multiplier 1.3333333333333333. Tier 2.0. Exponent 2\n",
      "Multiplier 1.3333333333333333. Tier 2.0. Exponent 2\n"
     ]
    },
    {
     "name": "stderr",
     "output_type": "stream",
     "text": [
      "Processing matches:  12%|█▏        | 1533/12699 [00:41<05:10, 35.96it/s]"
     ]
    },
    {
     "name": "stdout",
     "output_type": "stream",
     "text": [
      "Multiplier 1.3333333333333333. Tier 2.0. Exponent 2\n",
      "Multiplier 1.3333333333333333. Tier 2.0. Exponent 2\n",
      "Multiplier 1.3333333333333333. Tier 2.0. Exponent 2\n",
      "Multiplier 1.3333333333333333. Tier 2.0. Exponent 2\n",
      "Multiplier 1.3333333333333333. Tier 2.0. Exponent 2\n",
      "Multiplier 1.3333333333333333. Tier 2.0. Exponent 2\n",
      "Multiplier 1.3333333333333333. Tier 2.0. Exponent 2\n"
     ]
    },
    {
     "name": "stderr",
     "output_type": "stream",
     "text": [
      "Processing matches:  12%|█▏        | 1537/12699 [00:42<05:40, 32.79it/s]"
     ]
    },
    {
     "name": "stdout",
     "output_type": "stream",
     "text": [
      "Multiplier 3.0. Tier 1.0. Exponent 2\n",
      "Multiplier 3.0. Tier 1.0. Exponent 2\n",
      "Multiplier 3.0. Tier 1.0. Exponent 2\n",
      "Multiplier 1.3333333333333333. Tier 2.0. Exponent 2\n",
      "Multiplier 1.3333333333333333. Tier 2.0. Exponent 2\n",
      "Multiplier 3.0. Tier 1.0. Exponent 2\n"
     ]
    },
    {
     "name": "stderr",
     "output_type": "stream",
     "text": [
      "Processing matches:  12%|█▏        | 1545/12699 [00:42<05:57, 31.18it/s]"
     ]
    },
    {
     "name": "stdout",
     "output_type": "stream",
     "text": [
      "Multiplier 3.0. Tier 1.0. Exponent 2\n",
      "Multiplier 3.0. Tier 1.0. Exponent 2\n",
      "Multiplier 1.3333333333333333. Tier 2.0. Exponent 2\n",
      "Multiplier 3.0. Tier 1.0. Exponent 2\n",
      "Multiplier 3.0. Tier 1.0. Exponent 2\n",
      "Multiplier 3.0. Tier 1.0. Exponent 2\n"
     ]
    },
    {
     "name": "stderr",
     "output_type": "stream",
     "text": [
      "Processing matches:  12%|█▏        | 1549/12699 [00:42<05:57, 31.17it/s]"
     ]
    },
    {
     "name": "stdout",
     "output_type": "stream",
     "text": [
      "Multiplier 1.3333333333333333. Tier 2.0. Exponent 2\n",
      "Multiplier 1.3333333333333333. Tier 2.0. Exponent 2\n",
      "Multiplier 1.3333333333333333. Tier 2.0. Exponent 2\n",
      "Multiplier 1.3333333333333333. Tier 2.0. Exponent 2\n",
      "Multiplier 3.0. Tier 1.0. Exponent 2\n",
      "Multiplier 3.0. Tier 1.0. Exponent 2\n",
      "Multiplier 3.0. Tier 1.0. Exponent 2\n"
     ]
    },
    {
     "name": "stderr",
     "output_type": "stream",
     "text": [
      "Processing matches:  12%|█▏        | 1557/12699 [00:42<05:47, 32.07it/s]"
     ]
    },
    {
     "name": "stdout",
     "output_type": "stream",
     "text": [
      "Multiplier 1.3333333333333333. Tier 2.0. Exponent 2\n",
      "Multiplier 1.3333333333333333. Tier 2.0. Exponent 2\n",
      "Multiplier 1.3333333333333333. Tier 2.0. Exponent 2\n",
      "Multiplier 1.3333333333333333. Tier 2.0. Exponent 2\n",
      "Multiplier 1.3333333333333333. Tier 2.0. Exponent 2\n",
      "Multiplier 1.3333333333333333. Tier 2.0. Exponent 2\n",
      "Multiplier 1.3333333333333333. Tier 2.0. Exponent 2\n",
      "Multiplier 1.3333333333333333. Tier 2.0. Exponent 2\n"
     ]
    },
    {
     "name": "stderr",
     "output_type": "stream",
     "text": [
      "Processing matches:  12%|█▏        | 1565/12699 [00:42<05:18, 34.98it/s]"
     ]
    },
    {
     "name": "stdout",
     "output_type": "stream",
     "text": [
      "Multiplier 1.3333333333333333. Tier 2.0. Exponent 2\n",
      "Multiplier 1.3333333333333333. Tier 2.0. Exponent 2\n",
      "Multiplier 1.3333333333333333. Tier 2.0. Exponent 2\n",
      "Multiplier 1.3333333333333333. Tier 2.0. Exponent 2\n",
      "Multiplier 1.3333333333333333. Tier 2.0. Exponent 2\n",
      "Multiplier 1.3333333333333333. Tier 2.0. Exponent 2\n",
      "Multiplier 1.3333333333333333. Tier 2.0. Exponent 2\n",
      "Multiplier 1.3333333333333333. Tier 2.0. Exponent 2\n"
     ]
    },
    {
     "name": "stderr",
     "output_type": "stream",
     "text": [
      "Processing matches:  12%|█▏        | 1573/12699 [00:43<05:15, 35.27it/s]"
     ]
    },
    {
     "name": "stdout",
     "output_type": "stream",
     "text": [
      "Multiplier 1.3333333333333333. Tier 2.0. Exponent 2\n",
      "Multiplier 1.3333333333333333. Tier 2.0. Exponent 2\n",
      "Multiplier 1.3333333333333333. Tier 2.0. Exponent 2\n",
      "Multiplier 1.3333333333333333. Tier 2.0. Exponent 2\n",
      "Multiplier 1.3333333333333333. Tier 2.0. Exponent 2\n",
      "Multiplier 1.3333333333333333. Tier 2.0. Exponent 2\n",
      "Multiplier 1.3333333333333333. Tier 2.0. Exponent 2\n"
     ]
    },
    {
     "name": "stderr",
     "output_type": "stream",
     "text": [
      "Processing matches:  12%|█▏        | 1581/12699 [00:43<05:24, 34.24it/s]"
     ]
    },
    {
     "name": "stdout",
     "output_type": "stream",
     "text": [
      "Multiplier 1.3333333333333333. Tier 2.0. Exponent 2\n",
      "Multiplier 1.3333333333333333. Tier 2.0. Exponent 2\n",
      "Multiplier 1.3333333333333333. Tier 2.0. Exponent 2\n",
      "Multiplier 1.3333333333333333. Tier 2.0. Exponent 2\n",
      "Multiplier 1.3333333333333333. Tier 2.0. Exponent 2\n",
      "Multiplier 1.3333333333333333. Tier 2.0. Exponent 2\n",
      "Multiplier 1.3333333333333333. Tier 2.0. Exponent 2\n",
      "Multiplier 1.3333333333333333. Tier 2.0. Exponent 2\n"
     ]
    },
    {
     "name": "stderr",
     "output_type": "stream",
     "text": [
      "Processing matches:  13%|█▎        | 1589/12699 [00:43<05:45, 32.14it/s]"
     ]
    },
    {
     "name": "stdout",
     "output_type": "stream",
     "text": [
      "Multiplier 3.0. Tier 1.0. Exponent 2\n",
      "Multiplier 3.0. Tier 1.0. Exponent 2\n",
      "Multiplier 3.0. Tier 1.0. Exponent 2\n",
      "Multiplier 1.3333333333333333. Tier 2.0. Exponent 2\n",
      "Multiplier 1.3333333333333333. Tier 2.0. Exponent 2\n",
      "Multiplier 1.3333333333333333. Tier 2.0. Exponent 2\n",
      "Multiplier 1.3333333333333333. Tier 2.0. Exponent 2\n"
     ]
    },
    {
     "name": "stderr",
     "output_type": "stream",
     "text": [
      "Processing matches:  13%|█▎        | 1597/12699 [00:43<05:46, 32.08it/s]"
     ]
    },
    {
     "name": "stdout",
     "output_type": "stream",
     "text": [
      "Multiplier 3.0. Tier 1.0. Exponent 2\n",
      "Multiplier 3.0. Tier 1.0. Exponent 2\n",
      "Multiplier 3.0. Tier 1.0. Exponent 2\n",
      "Multiplier 0.48. Tier 4.0. Exponent 2\n",
      "Multiplier 0.48. Tier 4.0. Exponent 2\n",
      "Multiplier 0.48. Tier 4.0. Exponent 2\n"
     ]
    },
    {
     "name": "stderr",
     "output_type": "stream",
     "text": [
      "Processing matches:  13%|█▎        | 1601/12699 [00:44<05:50, 31.64it/s]"
     ]
    },
    {
     "name": "stdout",
     "output_type": "stream",
     "text": [
      "Multiplier 0.48. Tier 4.0. Exponent 2\n",
      "Multiplier 0.48. Tier 4.0. Exponent 2\n",
      "Multiplier 3.0. Tier 1.0. Exponent 2\n",
      "Multiplier 1.3333333333333333. Tier 2.0. Exponent 2\n",
      "Multiplier 1.3333333333333333. Tier 2.0. Exponent 2\n",
      "Multiplier 1.3333333333333333. Tier 2.0. Exponent 2\n",
      "Multiplier 1.3333333333333333. Tier 2.0. Exponent 2\n"
     ]
    },
    {
     "name": "stderr",
     "output_type": "stream",
     "text": [
      "Processing matches:  13%|█▎        | 1609/12699 [00:44<06:02, 30.56it/s]"
     ]
    },
    {
     "name": "stdout",
     "output_type": "stream",
     "text": [
      "Multiplier 0.48. Tier 4.0. Exponent 2\n",
      "Multiplier 0.48. Tier 4.0. Exponent 2\n",
      "Multiplier 3.0. Tier 1.0. Exponent 2\n",
      "Multiplier 1.3333333333333333. Tier 2.0. Exponent 2\n",
      "Multiplier 0.48. Tier 4.0. Exponent 2\n",
      "Multiplier 1.3333333333333333. Tier 2.0. Exponent 2\n",
      "Multiplier 3.0. Tier 1.0. Exponent 2\n"
     ]
    },
    {
     "name": "stderr",
     "output_type": "stream",
     "text": [
      "Processing matches:  13%|█▎        | 1617/12699 [00:44<06:07, 30.18it/s]"
     ]
    },
    {
     "name": "stdout",
     "output_type": "stream",
     "text": [
      "Multiplier 3.0. Tier 1.0. Exponent 2\n",
      "Multiplier 3.0. Tier 1.0. Exponent 2\n",
      "Multiplier 3.0. Tier 1.0. Exponent 2\n",
      "Multiplier 1.3333333333333333. Tier 2.0. Exponent 2\n",
      "Multiplier 1.3333333333333333. Tier 2.0. Exponent 2\n",
      "Multiplier 1.3333333333333333. Tier 2.0. Exponent 2\n"
     ]
    },
    {
     "name": "stderr",
     "output_type": "stream",
     "text": [
      "Processing matches:  13%|█▎        | 1621/12699 [00:44<06:01, 30.60it/s]"
     ]
    },
    {
     "name": "stdout",
     "output_type": "stream",
     "text": [
      "Multiplier 1.3333333333333333. Tier 2.0. Exponent 2\n",
      "Multiplier 1.3333333333333333. Tier 2.0. Exponent 2\n",
      "Multiplier 1.3333333333333333. Tier 2.0. Exponent 2\n",
      "Multiplier 1.3333333333333333. Tier 2.0. Exponent 2\n",
      "Multiplier 1.3333333333333333. Tier 2.0. Exponent 2\n",
      "Multiplier 1.3333333333333333. Tier 2.0. Exponent 2\n",
      "Multiplier 0.48. Tier 4.0. Exponent 2\n"
     ]
    },
    {
     "name": "stderr",
     "output_type": "stream",
     "text": [
      "Processing matches:  13%|█▎        | 1629/12699 [00:44<05:47, 31.89it/s]"
     ]
    },
    {
     "name": "stdout",
     "output_type": "stream",
     "text": [
      "Multiplier 0.48. Tier 4.0. Exponent 2\n",
      "Multiplier 0.48. Tier 4.0. Exponent 2\n",
      "Multiplier 0.48. Tier 4.0. Exponent 2\n",
      "Multiplier 0.48. Tier 4.0. Exponent 2\n",
      "Multiplier 0.48. Tier 4.0. Exponent 2\n",
      "Multiplier 0.48. Tier 4.0. Exponent 2\n",
      "Multiplier 0.48. Tier 4.0. Exponent 2\n",
      "Multiplier 0.48. Tier 4.0. Exponent 2\n"
     ]
    },
    {
     "name": "stderr",
     "output_type": "stream",
     "text": [
      "Processing matches:  13%|█▎        | 1637/12699 [00:45<05:48, 31.72it/s]"
     ]
    },
    {
     "name": "stdout",
     "output_type": "stream",
     "text": [
      "Multiplier 0.48. Tier 4.0. Exponent 2\n",
      "Multiplier 0.48. Tier 4.0. Exponent 2\n",
      "Multiplier 0.48. Tier 4.0. Exponent 2\n",
      "Multiplier 0.48. Tier 4.0. Exponent 2\n",
      "Multiplier 0.48. Tier 4.0. Exponent 2\n",
      "Multiplier 0.48. Tier 4.0. Exponent 2\n",
      "Multiplier 0.48. Tier 4.0. Exponent 2\n"
     ]
    },
    {
     "name": "stderr",
     "output_type": "stream",
     "text": [
      "Processing matches:  13%|█▎        | 1645/12699 [00:45<05:38, 32.61it/s]"
     ]
    },
    {
     "name": "stdout",
     "output_type": "stream",
     "text": [
      "Multiplier 1.3333333333333333. Tier 2.0. Exponent 2\n",
      "Multiplier 1.3333333333333333. Tier 2.0. Exponent 2\n",
      "Multiplier 0.48. Tier 4.0. Exponent 2\n",
      "Multiplier 0.48. Tier 4.0. Exponent 2\n",
      "Multiplier 0.48. Tier 4.0. Exponent 2\n",
      "Multiplier 0.48. Tier 4.0. Exponent 2\n",
      "Multiplier 0.48. Tier 4.0. Exponent 2\n",
      "Multiplier 0.48. Tier 4.0. Exponent 2\n"
     ]
    },
    {
     "name": "stderr",
     "output_type": "stream",
     "text": [
      "Processing matches:  13%|█▎        | 1653/12699 [00:45<05:32, 33.23it/s]"
     ]
    },
    {
     "name": "stdout",
     "output_type": "stream",
     "text": [
      "Multiplier 0.48. Tier 4.0. Exponent 2\n",
      "Multiplier 0.48. Tier 4.0. Exponent 2\n",
      "Multiplier 0.48. Tier 4.0. Exponent 2\n",
      "Multiplier 0.48. Tier 4.0. Exponent 2\n",
      "Multiplier 0.48. Tier 4.0. Exponent 2\n",
      "Multiplier 0.48. Tier 4.0. Exponent 2\n",
      "Multiplier 0.48. Tier 4.0. Exponent 2\n",
      "Multiplier 0.48. Tier 4.0. Exponent 2\n"
     ]
    },
    {
     "name": "stderr",
     "output_type": "stream",
     "text": [
      "Processing matches:  13%|█▎        | 1661/12699 [00:45<05:16, 34.86it/s]"
     ]
    },
    {
     "name": "stdout",
     "output_type": "stream",
     "text": [
      "Multiplier 0.48. Tier 4.0. Exponent 2\n",
      "Multiplier 0.48. Tier 4.0. Exponent 2\n",
      "Multiplier 0.48. Tier 4.0. Exponent 2\n",
      "Multiplier 0.48. Tier 4.0. Exponent 2\n",
      "Multiplier 0.48. Tier 4.0. Exponent 2\n",
      "Multiplier 0.48. Tier 4.0. Exponent 2\n",
      "Multiplier 0.48. Tier 4.0. Exponent 2\n",
      "Multiplier 0.48. Tier 4.0. Exponent 2\n",
      "Multiplier 0.48. Tier 4.0. Exponent 2\n"
     ]
    },
    {
     "name": "stderr",
     "output_type": "stream",
     "text": [
      "Processing matches:  13%|█▎        | 1669/12699 [00:46<05:21, 34.32it/s]"
     ]
    },
    {
     "name": "stdout",
     "output_type": "stream",
     "text": [
      "Multiplier 0.48. Tier 4.0. Exponent 2\n",
      "Multiplier 0.48. Tier 4.0. Exponent 2\n",
      "Multiplier 0.48. Tier 4.0. Exponent 2\n",
      "Multiplier 0.48. Tier 4.0. Exponent 2\n",
      "Multiplier 0.48. Tier 4.0. Exponent 2\n",
      "Multiplier 0.48. Tier 4.0. Exponent 2\n",
      "Multiplier 0.48. Tier 4.0. Exponent 2\n",
      "Multiplier 0.48. Tier 4.0. Exponent 2\n"
     ]
    },
    {
     "name": "stderr",
     "output_type": "stream",
     "text": [
      "Processing matches:  13%|█▎        | 1677/12699 [00:46<05:15, 34.93it/s]"
     ]
    },
    {
     "name": "stdout",
     "output_type": "stream",
     "text": [
      "Multiplier 0.48. Tier 4.0. Exponent 2\n",
      "Multiplier 0.48. Tier 4.0. Exponent 2\n",
      "Multiplier 0.48. Tier 4.0. Exponent 2\n",
      "Multiplier 0.48. Tier 4.0. Exponent 2\n",
      "Multiplier 0.48. Tier 4.0. Exponent 2\n",
      "Multiplier 0.48. Tier 4.0. Exponent 2\n",
      "Multiplier 0.48. Tier 4.0. Exponent 2\n",
      "Multiplier 0.48. Tier 4.0. Exponent 2\n"
     ]
    },
    {
     "name": "stderr",
     "output_type": "stream",
     "text": [
      "Processing matches:  13%|█▎        | 1685/12699 [00:46<05:41, 32.24it/s]"
     ]
    },
    {
     "name": "stdout",
     "output_type": "stream",
     "text": [
      "Multiplier 0.48. Tier 4.0. Exponent 2\n",
      "Multiplier 0.48. Tier 4.0. Exponent 2\n",
      "Multiplier 3.0. Tier 1.0. Exponent 2\n",
      "Multiplier 3.0. Tier 1.0. Exponent 2\n",
      "Multiplier 3.0. Tier 1.0. Exponent 2\n",
      "Multiplier 1.3333333333333333. Tier 2.0. Exponent 2\n"
     ]
    },
    {
     "name": "stderr",
     "output_type": "stream",
     "text": [
      "Processing matches:  13%|█▎        | 1689/12699 [00:46<05:47, 31.69it/s]"
     ]
    },
    {
     "name": "stdout",
     "output_type": "stream",
     "text": [
      "Multiplier 1.3333333333333333. Tier 2.0. Exponent 2\n",
      "Multiplier 3.0. Tier 1.0. Exponent 2\n",
      "Multiplier 3.0. Tier 1.0. Exponent 2\n",
      "Multiplier 1.3333333333333333. Tier 2.0. Exponent 2\n",
      "Multiplier 1.3333333333333333. Tier 2.0. Exponent 2\n",
      "Multiplier 3.0. Tier 1.0. Exponent 2\n",
      "Multiplier 0.48. Tier 4.0. Exponent 2\n"
     ]
    },
    {
     "name": "stderr",
     "output_type": "stream",
     "text": [
      "Processing matches:  13%|█▎        | 1697/12699 [00:47<05:28, 33.53it/s]"
     ]
    },
    {
     "name": "stdout",
     "output_type": "stream",
     "text": [
      "Multiplier 0.48. Tier 4.0. Exponent 2\n",
      "Multiplier 0.48. Tier 4.0. Exponent 2\n",
      "Multiplier 0.48. Tier 4.0. Exponent 2\n",
      "Multiplier 0.48. Tier 4.0. Exponent 2\n",
      "Multiplier 0.48. Tier 4.0. Exponent 2\n",
      "Multiplier 0.48. Tier 4.0. Exponent 2\n",
      "Multiplier 0.48. Tier 4.0. Exponent 2\n",
      "Multiplier 0.48. Tier 4.0. Exponent 2\n"
     ]
    },
    {
     "name": "stderr",
     "output_type": "stream",
     "text": [
      "Processing matches:  13%|█▎        | 1705/12699 [00:47<05:11, 35.31it/s]"
     ]
    },
    {
     "name": "stdout",
     "output_type": "stream",
     "text": [
      "Multiplier 0.48. Tier 4.0. Exponent 2\n",
      "Multiplier 0.48. Tier 4.0. Exponent 2\n",
      "Multiplier 0.48. Tier 4.0. Exponent 2\n",
      "Multiplier 0.48. Tier 4.0. Exponent 2\n",
      "Multiplier 0.48. Tier 4.0. Exponent 2\n",
      "Multiplier 0.48. Tier 4.0. Exponent 2\n",
      "Multiplier 0.48. Tier 4.0. Exponent 2\n",
      "Multiplier 0.48. Tier 4.0. Exponent 2\n"
     ]
    },
    {
     "name": "stderr",
     "output_type": "stream",
     "text": [
      "Processing matches:  13%|█▎        | 1713/12699 [00:47<05:33, 32.95it/s]"
     ]
    },
    {
     "name": "stdout",
     "output_type": "stream",
     "text": [
      "Multiplier 0.48. Tier 4.0. Exponent 2\n",
      "Multiplier 0.48. Tier 4.0. Exponent 2\n",
      "Multiplier 3.0. Tier 1.0. Exponent 2\n",
      "Multiplier 3.0. Tier 1.0. Exponent 2\n",
      "Multiplier 0.48. Tier 4.0. Exponent 2\n",
      "Multiplier 0.48. Tier 4.0. Exponent 2\n"
     ]
    },
    {
     "name": "stderr",
     "output_type": "stream",
     "text": [
      "Processing matches:  14%|█▎        | 1721/12699 [00:47<05:22, 34.07it/s]"
     ]
    },
    {
     "name": "stdout",
     "output_type": "stream",
     "text": [
      "Multiplier 3.0. Tier 1.0. Exponent 2\n",
      "Multiplier 0.48. Tier 4.0. Exponent 2\n",
      "Multiplier 0.48. Tier 4.0. Exponent 2\n",
      "Multiplier 0.48. Tier 4.0. Exponent 2\n",
      "Multiplier 0.48. Tier 4.0. Exponent 2\n",
      "Multiplier 0.48. Tier 4.0. Exponent 2\n",
      "Multiplier 0.48. Tier 4.0. Exponent 2\n",
      "Multiplier 0.48. Tier 4.0. Exponent 2\n",
      "Multiplier 0.48. Tier 4.0. Exponent 2\n"
     ]
    },
    {
     "name": "stderr",
     "output_type": "stream",
     "text": [
      "Processing matches:  14%|█▎        | 1729/12699 [00:47<05:08, 35.57it/s]"
     ]
    },
    {
     "name": "stdout",
     "output_type": "stream",
     "text": [
      "Multiplier 0.48. Tier 4.0. Exponent 2\n",
      "Multiplier 0.48. Tier 4.0. Exponent 2\n",
      "Multiplier 0.48. Tier 4.0. Exponent 2\n",
      "Multiplier 0.48. Tier 4.0. Exponent 2\n",
      "Multiplier 0.48. Tier 4.0. Exponent 2\n",
      "Multiplier 0.48. Tier 4.0. Exponent 2\n",
      "Multiplier 0.48. Tier 4.0. Exponent 2\n",
      "Multiplier 0.48. Tier 4.0. Exponent 2\n"
     ]
    },
    {
     "name": "stderr",
     "output_type": "stream",
     "text": [
      "Processing matches:  14%|█▎        | 1738/12699 [00:48<04:50, 37.73it/s]"
     ]
    },
    {
     "name": "stdout",
     "output_type": "stream",
     "text": [
      "Multiplier 0.48. Tier 4.0. Exponent 2\n",
      "Multiplier 0.48. Tier 4.0. Exponent 2\n",
      "Multiplier 0.48. Tier 4.0. Exponent 2\n",
      "Multiplier 0.48. Tier 4.0. Exponent 2\n",
      "Multiplier 0.48. Tier 4.0. Exponent 2\n",
      "Multiplier 0.48. Tier 4.0. Exponent 2\n",
      "Multiplier 0.48. Tier 4.0. Exponent 2\n",
      "Multiplier 0.48. Tier 4.0. Exponent 2\n"
     ]
    },
    {
     "name": "stderr",
     "output_type": "stream",
     "text": [
      "Processing matches:  14%|█▎        | 1746/12699 [00:48<05:10, 35.26it/s]"
     ]
    },
    {
     "name": "stdout",
     "output_type": "stream",
     "text": [
      "Multiplier 0.48. Tier 4.0. Exponent 2\n",
      "Multiplier 0.48. Tier 4.0. Exponent 2\n",
      "Multiplier 0.48. Tier 4.0. Exponent 2\n",
      "Multiplier 0.48. Tier 4.0. Exponent 2\n",
      "Multiplier 0.48. Tier 4.0. Exponent 2\n",
      "Multiplier 0.48. Tier 4.0. Exponent 2\n",
      "Multiplier 0.48. Tier 4.0. Exponent 2\n",
      "Multiplier 0.48. Tier 4.0. Exponent 2\n"
     ]
    },
    {
     "name": "stderr",
     "output_type": "stream",
     "text": [
      "Processing matches:  14%|█▍        | 1754/12699 [00:48<05:06, 35.75it/s]"
     ]
    },
    {
     "name": "stdout",
     "output_type": "stream",
     "text": [
      "Multiplier 0.48. Tier 4.0. Exponent 2\n",
      "Multiplier 0.48. Tier 4.0. Exponent 2\n",
      "Multiplier 0.48. Tier 4.0. Exponent 2\n",
      "Multiplier 0.48. Tier 4.0. Exponent 2\n",
      "Multiplier 0.48. Tier 4.0. Exponent 2\n",
      "Multiplier 0.48. Tier 4.0. Exponent 2\n",
      "Multiplier 3.0. Tier 1.0. Exponent 2\n",
      "Multiplier 3.0. Tier 1.0. Exponent 2\n"
     ]
    },
    {
     "name": "stderr",
     "output_type": "stream",
     "text": [
      "Processing matches:  14%|█▍        | 1762/12699 [00:48<05:23, 33.83it/s]"
     ]
    },
    {
     "name": "stdout",
     "output_type": "stream",
     "text": [
      "Multiplier 0.48. Tier 4.0. Exponent 2\n",
      "Multiplier 1.3333333333333333. Tier 2.0. Exponent 2\n",
      "Multiplier 1.3333333333333333. Tier 2.0. Exponent 2\n",
      "Multiplier 0.48. Tier 4.0. Exponent 2\n",
      "Multiplier 0.48. Tier 4.0. Exponent 2\n",
      "Multiplier 0.48. Tier 4.0. Exponent 2\n",
      "Multiplier 0.48. Tier 4.0. Exponent 2\n",
      "Multiplier 0.48. Tier 4.0. Exponent 2\n"
     ]
    },
    {
     "name": "stderr",
     "output_type": "stream",
     "text": [
      "Processing matches:  14%|█▍        | 1770/12699 [00:49<05:27, 33.40it/s]"
     ]
    },
    {
     "name": "stdout",
     "output_type": "stream",
     "text": [
      "Multiplier 3.0. Tier 1.0. Exponent 2\n",
      "Multiplier 0.48. Tier 4.0. Exponent 2\n",
      "Multiplier 0.48. Tier 4.0. Exponent 2\n",
      "Multiplier 1.3333333333333333. Tier 2.0. Exponent 2\n",
      "Multiplier 0.75. Tier 3.0. Exponent 2\n",
      "Multiplier 0.75. Tier 3.0. Exponent 2\n"
     ]
    },
    {
     "name": "stderr",
     "output_type": "stream",
     "text": [
      "Processing matches:  14%|█▍        | 1774/12699 [00:49<05:55, 30.75it/s]"
     ]
    },
    {
     "name": "stdout",
     "output_type": "stream",
     "text": [
      "Multiplier 0.75. Tier 3.0. Exponent 2\n",
      "Multiplier 0.75. Tier 3.0. Exponent 2\n",
      "Multiplier 3.0. Tier 1.0. Exponent 2\n",
      "Multiplier 3.0. Tier 1.0. Exponent 2\n",
      "Multiplier 3.0. Tier 1.0. Exponent 2\n",
      "Multiplier 3.0. Tier 1.0. Exponent 2\n"
     ]
    },
    {
     "name": "stderr",
     "output_type": "stream",
     "text": [
      "Processing matches:  14%|█▍        | 1781/12699 [00:49<06:30, 27.96it/s]"
     ]
    },
    {
     "name": "stdout",
     "output_type": "stream",
     "text": [
      "Multiplier 3.0. Tier 1.0. Exponent 2\n",
      "Multiplier 3.0. Tier 1.0. Exponent 2\n",
      "Multiplier 3.0. Tier 1.0. Exponent 2\n",
      "Multiplier 3.0. Tier 1.0. Exponent 2\n",
      "Multiplier 3.0. Tier 1.0. Exponent 2\n"
     ]
    },
    {
     "name": "stderr",
     "output_type": "stream",
     "text": [
      "Processing matches:  14%|█▍        | 1784/12699 [00:49<06:44, 26.99it/s]"
     ]
    },
    {
     "name": "stdout",
     "output_type": "stream",
     "text": [
      "Multiplier 3.0. Tier 1.0. Exponent 2\n",
      "Multiplier 3.0. Tier 1.0. Exponent 2\n",
      "Multiplier 3.0. Tier 1.0. Exponent 2\n",
      "Multiplier 3.0. Tier 1.0. Exponent 2\n",
      "Multiplier 3.0. Tier 1.0. Exponent 2\n",
      "Multiplier 3.0. Tier 1.0. Exponent 2\n"
     ]
    },
    {
     "name": "stderr",
     "output_type": "stream",
     "text": [
      "Processing matches:  14%|█▍        | 1790/12699 [00:49<06:54, 26.34it/s]"
     ]
    },
    {
     "name": "stdout",
     "output_type": "stream",
     "text": [
      "Multiplier 3.0. Tier 1.0. Exponent 2\n",
      "Multiplier 3.0. Tier 1.0. Exponent 2\n",
      "Multiplier 3.0. Tier 1.0. Exponent 2\n",
      "Multiplier 3.0. Tier 1.0. Exponent 2\n",
      "Multiplier 3.0. Tier 1.0. Exponent 2\n",
      "Multiplier 3.0. Tier 1.0. Exponent 2\n"
     ]
    },
    {
     "name": "stderr",
     "output_type": "stream",
     "text": [
      "Processing matches:  14%|█▍        | 1796/12699 [00:50<07:13, 25.13it/s]"
     ]
    },
    {
     "name": "stdout",
     "output_type": "stream",
     "text": [
      "Multiplier 3.0. Tier 1.0. Exponent 2\n",
      "Multiplier 3.0. Tier 1.0. Exponent 2\n",
      "Multiplier 3.0. Tier 1.0. Exponent 2\n",
      "Multiplier 3.0. Tier 1.0. Exponent 2\n",
      "Multiplier 3.0. Tier 1.0. Exponent 2\n"
     ]
    },
    {
     "name": "stderr",
     "output_type": "stream",
     "text": [
      "Processing matches:  14%|█▍        | 1803/12699 [00:50<06:44, 26.91it/s]"
     ]
    },
    {
     "name": "stdout",
     "output_type": "stream",
     "text": [
      "Multiplier 3.0. Tier 1.0. Exponent 2\n",
      "Multiplier 0.75. Tier 3.0. Exponent 2\n",
      "Multiplier 0.75. Tier 3.0. Exponent 2\n",
      "Multiplier 0.75. Tier 3.0. Exponent 2\n",
      "Multiplier 3.0. Tier 1.0. Exponent 2\n",
      "Multiplier 3.0. Tier 1.0. Exponent 2\n"
     ]
    },
    {
     "name": "stderr",
     "output_type": "stream",
     "text": [
      "Processing matches:  14%|█▍        | 1806/12699 [00:50<07:37, 23.80it/s]"
     ]
    },
    {
     "name": "stdout",
     "output_type": "stream",
     "text": [
      "Multiplier 3.0. Tier 1.0. Exponent 2\n",
      "Multiplier 3.0. Tier 1.0. Exponent 2\n",
      "Multiplier 3.0. Tier 1.0. Exponent 2\n",
      "Multiplier 3.0. Tier 1.0. Exponent 2\n"
     ]
    },
    {
     "name": "stderr",
     "output_type": "stream",
     "text": [
      "Processing matches:  14%|█▍        | 1812/12699 [00:50<08:38, 21.00it/s]"
     ]
    },
    {
     "name": "stdout",
     "output_type": "stream",
     "text": [
      "Multiplier 3.0. Tier 1.0. Exponent 2\n",
      "Multiplier 3.0. Tier 1.0. Exponent 2\n",
      "Multiplier 3.0. Tier 1.0. Exponent 2\n",
      "Multiplier 3.0. Tier 1.0. Exponent 2\n"
     ]
    },
    {
     "name": "stderr",
     "output_type": "stream",
     "text": [
      "Processing matches:  14%|█▍        | 1815/12699 [00:51<08:21, 21.69it/s]"
     ]
    },
    {
     "name": "stdout",
     "output_type": "stream",
     "text": [
      "Multiplier 3.0. Tier 1.0. Exponent 2\n",
      "Multiplier 3.0. Tier 1.0. Exponent 2\n",
      "Multiplier 3.0. Tier 1.0. Exponent 2\n",
      "Multiplier 3.0. Tier 1.0. Exponent 2\n",
      "Multiplier 3.0. Tier 1.0. Exponent 2\n"
     ]
    },
    {
     "name": "stderr",
     "output_type": "stream",
     "text": [
      "Processing matches:  14%|█▍        | 1821/12699 [00:51<08:28, 21.39it/s]"
     ]
    },
    {
     "name": "stdout",
     "output_type": "stream",
     "text": [
      "Multiplier 3.0. Tier 1.0. Exponent 2\n",
      "Multiplier 3.0. Tier 1.0. Exponent 2\n",
      "Multiplier 3.0. Tier 1.0. Exponent 2\n",
      "Multiplier 3.0. Tier 1.0. Exponent 2\n"
     ]
    },
    {
     "name": "stderr",
     "output_type": "stream",
     "text": [
      "Processing matches:  14%|█▍        | 1824/12699 [00:51<07:56, 22.84it/s]"
     ]
    },
    {
     "name": "stdout",
     "output_type": "stream",
     "text": [
      "Multiplier 3.0. Tier 1.0. Exponent 2\n",
      "Multiplier 0.75. Tier 3.0. Exponent 2\n",
      "Multiplier 0.75. Tier 3.0. Exponent 2\n",
      "Multiplier 0.75. Tier 3.0. Exponent 2\n",
      "Multiplier 0.75. Tier 3.0. Exponent 2\n",
      "Multiplier 3.0. Tier 1.0. Exponent 2\n"
     ]
    },
    {
     "name": "stderr",
     "output_type": "stream",
     "text": [
      "Processing matches:  14%|█▍        | 1831/12699 [00:51<07:10, 25.26it/s]"
     ]
    },
    {
     "name": "stdout",
     "output_type": "stream",
     "text": [
      "Multiplier 0.75. Tier 3.0. Exponent 2\n",
      "Multiplier 3.0. Tier 1.0. Exponent 2\n",
      "Multiplier 0.75. Tier 3.0. Exponent 2\n",
      "Multiplier 0.75. Tier 3.0. Exponent 2\n",
      "Multiplier 3.0. Tier 1.0. Exponent 2\n",
      "Multiplier 0.75. Tier 3.0. Exponent 2\n"
     ]
    },
    {
     "name": "stderr",
     "output_type": "stream",
     "text": [
      "Processing matches:  14%|█▍        | 1839/12699 [00:51<06:11, 29.20it/s]"
     ]
    },
    {
     "name": "stdout",
     "output_type": "stream",
     "text": [
      "Multiplier 0.75. Tier 3.0. Exponent 2\n",
      "Multiplier 3.0. Tier 1.0. Exponent 2\n",
      "Multiplier 0.75. Tier 3.0. Exponent 2\n",
      "Multiplier 0.75. Tier 3.0. Exponent 2\n",
      "Multiplier 0.75. Tier 3.0. Exponent 2\n",
      "Multiplier 0.75. Tier 3.0. Exponent 2\n",
      "Multiplier 0.75. Tier 3.0. Exponent 2\n"
     ]
    },
    {
     "name": "stderr",
     "output_type": "stream",
     "text": [
      "Processing matches:  15%|█▍        | 1845/12699 [00:52<06:36, 27.41it/s]"
     ]
    },
    {
     "name": "stdout",
     "output_type": "stream",
     "text": [
      "Multiplier 0.75. Tier 3.0. Exponent 2\n",
      "Multiplier 3.0. Tier 1.0. Exponent 2\n",
      "Multiplier 3.0. Tier 1.0. Exponent 2\n",
      "Multiplier 3.0. Tier 1.0. Exponent 2\n",
      "Multiplier 3.0. Tier 1.0. Exponent 2\n"
     ]
    },
    {
     "name": "stderr",
     "output_type": "stream",
     "text": [
      "Processing matches:  15%|█▍        | 1848/12699 [00:52<07:01, 25.76it/s]"
     ]
    },
    {
     "name": "stdout",
     "output_type": "stream",
     "text": [
      "Multiplier 3.0. Tier 1.0. Exponent 2\n",
      "Multiplier 3.0. Tier 1.0. Exponent 2\n",
      "Multiplier 3.0. Tier 1.0. Exponent 2\n",
      "Multiplier 3.0. Tier 1.0. Exponent 2\n",
      "Multiplier 3.0. Tier 1.0. Exponent 2\n"
     ]
    },
    {
     "name": "stderr",
     "output_type": "stream",
     "text": [
      "Processing matches:  15%|█▍        | 1854/12699 [00:52<07:19, 24.65it/s]"
     ]
    },
    {
     "name": "stdout",
     "output_type": "stream",
     "text": [
      "Multiplier 3.0. Tier 1.0. Exponent 2\n",
      "Multiplier 3.0. Tier 1.0. Exponent 2\n",
      "Multiplier 3.0. Tier 1.0. Exponent 2\n",
      "Multiplier 3.0. Tier 1.0. Exponent 2\n",
      "Multiplier 3.0. Tier 1.0. Exponent 2\n"
     ]
    },
    {
     "name": "stderr",
     "output_type": "stream",
     "text": [
      "Processing matches:  15%|█▍        | 1860/12699 [00:52<07:23, 24.45it/s]"
     ]
    },
    {
     "name": "stdout",
     "output_type": "stream",
     "text": [
      "Multiplier 3.0. Tier 1.0. Exponent 2\n",
      "Multiplier 3.0. Tier 1.0. Exponent 2\n",
      "Multiplier 3.0. Tier 1.0. Exponent 2\n",
      "Multiplier 3.0. Tier 1.0. Exponent 2\n",
      "Multiplier 3.0. Tier 1.0. Exponent 2\n"
     ]
    },
    {
     "name": "stderr",
     "output_type": "stream",
     "text": [
      "Processing matches:  15%|█▍        | 1863/12699 [00:52<07:18, 24.69it/s]"
     ]
    },
    {
     "name": "stdout",
     "output_type": "stream",
     "text": [
      "Multiplier 3.0. Tier 1.0. Exponent 2\n",
      "Multiplier 3.0. Tier 1.0. Exponent 2\n",
      "Multiplier 3.0. Tier 1.0. Exponent 2\n",
      "Multiplier 3.0. Tier 1.0. Exponent 2\n",
      "Multiplier 3.0. Tier 1.0. Exponent 2\n"
     ]
    },
    {
     "name": "stderr",
     "output_type": "stream",
     "text": [
      "Processing matches:  15%|█▍        | 1870/12699 [00:53<06:40, 27.01it/s]"
     ]
    },
    {
     "name": "stdout",
     "output_type": "stream",
     "text": [
      "Multiplier 0.75. Tier 3.0. Exponent 2\n",
      "Multiplier 0.75. Tier 3.0. Exponent 2\n",
      "Multiplier 0.75. Tier 3.0. Exponent 2\n",
      "Multiplier 0.75. Tier 3.0. Exponent 2\n",
      "Multiplier 0.75. Tier 3.0. Exponent 2\n",
      "Multiplier 0.75. Tier 3.0. Exponent 2\n",
      "Multiplier 0.75. Tier 3.0. Exponent 2\n",
      "Multiplier 0.75. Tier 3.0. Exponent 2\n"
     ]
    },
    {
     "name": "stderr",
     "output_type": "stream",
     "text": [
      "Processing matches:  15%|█▍        | 1878/12699 [00:53<05:52, 30.74it/s]"
     ]
    },
    {
     "name": "stdout",
     "output_type": "stream",
     "text": [
      "Multiplier 0.75. Tier 3.0. Exponent 2\n",
      "Multiplier 0.75. Tier 3.0. Exponent 2\n",
      "Multiplier 0.75. Tier 3.0. Exponent 2\n",
      "Multiplier 0.75. Tier 3.0. Exponent 2\n",
      "Multiplier 0.75. Tier 3.0. Exponent 2\n",
      "Multiplier 0.75. Tier 3.0. Exponent 2\n",
      "Multiplier 0.75. Tier 3.0. Exponent 2\n",
      "Multiplier 0.75. Tier 3.0. Exponent 2\n"
     ]
    },
    {
     "name": "stderr",
     "output_type": "stream",
     "text": [
      "Processing matches:  15%|█▍        | 1886/12699 [00:53<06:07, 29.42it/s]"
     ]
    },
    {
     "name": "stdout",
     "output_type": "stream",
     "text": [
      "Multiplier 0.75. Tier 3.0. Exponent 2\n",
      "Multiplier 0.75. Tier 3.0. Exponent 2\n",
      "Multiplier 0.75. Tier 3.0. Exponent 2\n",
      "Multiplier 0.75. Tier 3.0. Exponent 2\n",
      "Multiplier 3.0. Tier 1.0. Exponent 2\n"
     ]
    },
    {
     "name": "stderr",
     "output_type": "stream",
     "text": [
      "Processing matches:  15%|█▍        | 1889/12699 [00:53<06:14, 28.84it/s]"
     ]
    },
    {
     "name": "stdout",
     "output_type": "stream",
     "text": [
      "Multiplier 3.0. Tier 1.0. Exponent 2\n",
      "Multiplier 0.75. Tier 3.0. Exponent 2\n",
      "Multiplier 0.75. Tier 3.0. Exponent 2\n",
      "Multiplier 0.75. Tier 3.0. Exponent 2\n",
      "Multiplier 3.0. Tier 1.0. Exponent 2\n"
     ]
    },
    {
     "name": "stderr",
     "output_type": "stream",
     "text": [
      "Processing matches:  15%|█▍        | 1895/12699 [00:54<06:51, 26.25it/s]"
     ]
    },
    {
     "name": "stdout",
     "output_type": "stream",
     "text": [
      "Multiplier 0.75. Tier 3.0. Exponent 2\n",
      "Multiplier 0.75. Tier 3.0. Exponent 2\n",
      "Multiplier 3.0. Tier 1.0. Exponent 2\n",
      "Multiplier 3.0. Tier 1.0. Exponent 2\n",
      "Multiplier 3.0. Tier 1.0. Exponent 2\n",
      "Multiplier 0.75. Tier 3.0. Exponent 2\n"
     ]
    },
    {
     "name": "stderr",
     "output_type": "stream",
     "text": [
      "Processing matches:  15%|█▍        | 1901/12699 [00:54<06:50, 26.29it/s]"
     ]
    },
    {
     "name": "stdout",
     "output_type": "stream",
     "text": [
      "Multiplier 0.75. Tier 3.0. Exponent 2\n",
      "Multiplier 0.75. Tier 3.0. Exponent 2\n",
      "Multiplier 3.0. Tier 1.0. Exponent 2\n",
      "Multiplier 0.75. Tier 3.0. Exponent 2\n",
      "Multiplier 0.75. Tier 3.0. Exponent 2\n",
      "Multiplier 0.75. Tier 3.0. Exponent 2\n",
      "Multiplier 0.75. Tier 3.0. Exponent 2\n"
     ]
    },
    {
     "name": "stderr",
     "output_type": "stream",
     "text": [
      "Processing matches:  15%|█▌        | 1908/12699 [00:54<06:33, 27.41it/s]"
     ]
    },
    {
     "name": "stdout",
     "output_type": "stream",
     "text": [
      "Multiplier 0.75. Tier 3.0. Exponent 2\n",
      "Multiplier 0.75. Tier 3.0. Exponent 2\n",
      "Multiplier 3.0. Tier 1.0. Exponent 2\n",
      "Multiplier 3.0. Tier 1.0. Exponent 2\n",
      "Multiplier 0.75. Tier 3.0. Exponent 2\n",
      "Multiplier 0.75. Tier 3.0. Exponent 2\n",
      "Multiplier 0.75. Tier 3.0. Exponent 2\n"
     ]
    },
    {
     "name": "stderr",
     "output_type": "stream",
     "text": [
      "Processing matches:  15%|█▌        | 1915/12699 [00:54<06:13, 28.88it/s]"
     ]
    },
    {
     "name": "stdout",
     "output_type": "stream",
     "text": [
      "Multiplier 0.75. Tier 3.0. Exponent 2\n",
      "Multiplier 0.75. Tier 3.0. Exponent 2\n",
      "Multiplier 3.0. Tier 1.0. Exponent 2\n",
      "Multiplier 3.0. Tier 1.0. Exponent 2\n",
      "Multiplier 0.75. Tier 3.0. Exponent 2\n",
      "Multiplier 3.0. Tier 1.0. Exponent 2\n",
      "Multiplier 0.75. Tier 3.0. Exponent 2\n"
     ]
    },
    {
     "name": "stderr",
     "output_type": "stream",
     "text": [
      "Processing matches:  15%|█▌        | 1921/12699 [00:54<06:23, 28.09it/s]"
     ]
    },
    {
     "name": "stdout",
     "output_type": "stream",
     "text": [
      "Multiplier 0.75. Tier 3.0. Exponent 2\n",
      "Multiplier 0.75. Tier 3.0. Exponent 2\n",
      "Multiplier 0.75. Tier 3.0. Exponent 2\n",
      "Multiplier 0.75. Tier 3.0. Exponent 2\n",
      "Multiplier 0.75. Tier 3.0. Exponent 2\n"
     ]
    },
    {
     "name": "stderr",
     "output_type": "stream",
     "text": [
      "Processing matches:  15%|█▌        | 1927/12699 [00:55<06:28, 27.75it/s]"
     ]
    },
    {
     "name": "stdout",
     "output_type": "stream",
     "text": [
      "Multiplier 0.75. Tier 3.0. Exponent 2\n",
      "Multiplier 0.75. Tier 3.0. Exponent 2\n",
      "Multiplier 0.75. Tier 3.0. Exponent 2\n",
      "Multiplier 0.75. Tier 3.0. Exponent 2\n",
      "Multiplier 0.75. Tier 3.0. Exponent 2\n",
      "Multiplier 0.75. Tier 3.0. Exponent 2\n",
      "Multiplier 0.75. Tier 3.0. Exponent 2\n"
     ]
    },
    {
     "name": "stderr",
     "output_type": "stream",
     "text": [
      "Processing matches:  15%|█▌        | 1934/12699 [00:55<06:04, 29.51it/s]"
     ]
    },
    {
     "name": "stdout",
     "output_type": "stream",
     "text": [
      "Multiplier 0.75. Tier 3.0. Exponent 2\n",
      "Multiplier 0.75. Tier 3.0. Exponent 2\n",
      "Multiplier 3.0. Tier 1.0. Exponent 2\n",
      "Multiplier 0.75. Tier 3.0. Exponent 2\n",
      "Multiplier 3.0. Tier 1.0. Exponent 2\n",
      "Multiplier 0.75. Tier 3.0. Exponent 2\n",
      "Multiplier 3.0. Tier 1.0. Exponent 2\n"
     ]
    },
    {
     "name": "stderr",
     "output_type": "stream",
     "text": [
      "Processing matches:  15%|█▌        | 1941/12699 [00:55<05:53, 30.41it/s]"
     ]
    },
    {
     "name": "stdout",
     "output_type": "stream",
     "text": [
      "Multiplier 0.75. Tier 3.0. Exponent 2\n",
      "Multiplier 0.75. Tier 3.0. Exponent 2\n",
      "Multiplier 0.75. Tier 3.0. Exponent 2\n",
      "Multiplier 0.75. Tier 3.0. Exponent 2\n",
      "Multiplier 0.75. Tier 3.0. Exponent 2\n",
      "Multiplier 0.75. Tier 3.0. Exponent 2\n",
      "Multiplier 0.75. Tier 3.0. Exponent 2\n"
     ]
    },
    {
     "name": "stderr",
     "output_type": "stream",
     "text": [
      "Processing matches:  15%|█▌        | 1949/12699 [00:55<05:51, 30.61it/s]"
     ]
    },
    {
     "name": "stdout",
     "output_type": "stream",
     "text": [
      "Multiplier 0.75. Tier 3.0. Exponent 2\n",
      "Multiplier 0.75. Tier 3.0. Exponent 2\n",
      "Multiplier 0.75. Tier 3.0. Exponent 2\n",
      "Multiplier 0.75. Tier 3.0. Exponent 2\n",
      "Multiplier 0.75. Tier 3.0. Exponent 2\n",
      "Multiplier 0.75. Tier 3.0. Exponent 2\n",
      "Multiplier 0.75. Tier 3.0. Exponent 2\n"
     ]
    },
    {
     "name": "stderr",
     "output_type": "stream",
     "text": [
      "Processing matches:  15%|█▌        | 1957/12699 [00:56<05:25, 33.01it/s]"
     ]
    },
    {
     "name": "stdout",
     "output_type": "stream",
     "text": [
      "Multiplier 0.75. Tier 3.0. Exponent 2\n",
      "Multiplier 0.75. Tier 3.0. Exponent 2\n",
      "Multiplier 0.75. Tier 3.0. Exponent 2\n",
      "Multiplier 0.75. Tier 3.0. Exponent 2\n",
      "Multiplier 0.75. Tier 3.0. Exponent 2\n",
      "Multiplier 0.75. Tier 3.0. Exponent 2\n",
      "Multiplier 0.75. Tier 3.0. Exponent 2\n",
      "Multiplier 0.75. Tier 3.0. Exponent 2\n"
     ]
    },
    {
     "name": "stderr",
     "output_type": "stream",
     "text": [
      "Processing matches:  15%|█▌        | 1965/12699 [00:56<05:21, 33.38it/s]"
     ]
    },
    {
     "name": "stdout",
     "output_type": "stream",
     "text": [
      "Multiplier 0.75. Tier 3.0. Exponent 2\n",
      "Multiplier 0.75. Tier 3.0. Exponent 2\n",
      "Multiplier 0.75. Tier 3.0. Exponent 2\n",
      "Multiplier 0.75. Tier 3.0. Exponent 2\n",
      "Multiplier 0.75. Tier 3.0. Exponent 2\n",
      "Multiplier 0.75. Tier 3.0. Exponent 2\n",
      "Multiplier 0.75. Tier 3.0. Exponent 2\n",
      "Multiplier 0.75. Tier 3.0. Exponent 2\n"
     ]
    },
    {
     "name": "stderr",
     "output_type": "stream",
     "text": [
      "Processing matches:  16%|█▌        | 1973/12699 [00:56<05:16, 33.87it/s]"
     ]
    },
    {
     "name": "stdout",
     "output_type": "stream",
     "text": [
      "Multiplier 0.75. Tier 3.0. Exponent 2\n",
      "Multiplier 1.3333333333333333. Tier 2.0. Exponent 2\n",
      "Multiplier 1.3333333333333333. Tier 2.0. Exponent 2\n",
      "Multiplier 1.3333333333333333. Tier 2.0. Exponent 2\n",
      "Multiplier 1.3333333333333333. Tier 2.0. Exponent 2\n",
      "Multiplier 1.3333333333333333. Tier 2.0. Exponent 2\n",
      "Multiplier 1.3333333333333333. Tier 2.0. Exponent 2\n"
     ]
    },
    {
     "name": "stderr",
     "output_type": "stream",
     "text": [
      "Processing matches:  16%|█▌        | 1977/12699 [00:56<05:34, 32.02it/s]"
     ]
    },
    {
     "name": "stdout",
     "output_type": "stream",
     "text": [
      "Multiplier 1.3333333333333333. Tier 2.0. Exponent 2\n",
      "Multiplier 1.3333333333333333. Tier 2.0. Exponent 2\n",
      "Multiplier 1.3333333333333333. Tier 2.0. Exponent 2\n",
      "Multiplier 1.3333333333333333. Tier 2.0. Exponent 2\n",
      "Multiplier 1.3333333333333333. Tier 2.0. Exponent 2\n",
      "Multiplier 1.3333333333333333. Tier 2.0. Exponent 2\n",
      "Multiplier 1.3333333333333333. Tier 2.0. Exponent 2\n"
     ]
    },
    {
     "name": "stderr",
     "output_type": "stream",
     "text": [
      "Processing matches:  16%|█▌        | 1985/12699 [00:56<05:32, 32.23it/s]"
     ]
    },
    {
     "name": "stdout",
     "output_type": "stream",
     "text": [
      "Multiplier 1.3333333333333333. Tier 2.0. Exponent 2\n",
      "Multiplier 1.3333333333333333. Tier 2.0. Exponent 2\n",
      "Multiplier 1.3333333333333333. Tier 2.0. Exponent 2\n",
      "Multiplier 1.3333333333333333. Tier 2.0. Exponent 2\n",
      "Multiplier 1.3333333333333333. Tier 2.0. Exponent 2\n",
      "Multiplier 1.3333333333333333. Tier 2.0. Exponent 2\n",
      "Multiplier 1.3333333333333333. Tier 2.0. Exponent 2\n"
     ]
    },
    {
     "name": "stderr",
     "output_type": "stream",
     "text": [
      "Processing matches:  16%|█▌        | 1993/12699 [00:57<05:18, 33.63it/s]"
     ]
    },
    {
     "name": "stdout",
     "output_type": "stream",
     "text": [
      "Multiplier 1.3333333333333333. Tier 2.0. Exponent 2\n",
      "Multiplier 1.3333333333333333. Tier 2.0. Exponent 2\n",
      "Multiplier 1.3333333333333333. Tier 2.0. Exponent 2\n",
      "Multiplier 1.3333333333333333. Tier 2.0. Exponent 2\n",
      "Multiplier 1.3333333333333333. Tier 2.0. Exponent 2\n",
      "Multiplier 1.3333333333333333. Tier 2.0. Exponent 2\n",
      "Multiplier 1.3333333333333333. Tier 2.0. Exponent 2\n"
     ]
    },
    {
     "name": "stderr",
     "output_type": "stream",
     "text": [
      "Processing matches:  16%|█▌        | 2001/12699 [00:57<05:20, 33.34it/s]"
     ]
    },
    {
     "name": "stdout",
     "output_type": "stream",
     "text": [
      "Multiplier 1.3333333333333333. Tier 2.0. Exponent 2\n",
      "Multiplier 1.3333333333333333. Tier 2.0. Exponent 2\n",
      "Multiplier 1.3333333333333333. Tier 2.0. Exponent 2\n",
      "Multiplier 1.3333333333333333. Tier 2.0. Exponent 2\n",
      "Multiplier 1.3333333333333333. Tier 2.0. Exponent 2\n",
      "Multiplier 1.3333333333333333. Tier 2.0. Exponent 2\n",
      "Multiplier 1.3333333333333333. Tier 2.0. Exponent 2\n"
     ]
    },
    {
     "name": "stderr",
     "output_type": "stream",
     "text": [
      "Processing matches:  16%|█▌        | 2009/12699 [00:57<05:13, 34.11it/s]"
     ]
    },
    {
     "name": "stdout",
     "output_type": "stream",
     "text": [
      "Multiplier 1.3333333333333333. Tier 2.0. Exponent 2\n",
      "Multiplier 1.3333333333333333. Tier 2.0. Exponent 2\n",
      "Multiplier 1.3333333333333333. Tier 2.0. Exponent 2\n",
      "Multiplier 1.3333333333333333. Tier 2.0. Exponent 2\n",
      "Multiplier 1.3333333333333333. Tier 2.0. Exponent 2\n",
      "Multiplier 1.3333333333333333. Tier 2.0. Exponent 2\n",
      "Multiplier 1.3333333333333333. Tier 2.0. Exponent 2\n"
     ]
    },
    {
     "name": "stderr",
     "output_type": "stream",
     "text": [
      "Processing matches:  16%|█▌        | 2013/12699 [00:57<05:11, 34.29it/s]"
     ]
    },
    {
     "name": "stdout",
     "output_type": "stream",
     "text": [
      "Multiplier 1.3333333333333333. Tier 2.0. Exponent 2\n",
      "Multiplier 1.3333333333333333. Tier 2.0. Exponent 2\n",
      "Multiplier 1.3333333333333333. Tier 2.0. Exponent 2\n",
      "Multiplier 1.3333333333333333. Tier 2.0. Exponent 2\n",
      "Multiplier 1.3333333333333333. Tier 2.0. Exponent 2\n",
      "Multiplier 1.3333333333333333. Tier 2.0. Exponent 2\n",
      "Multiplier 3.0. Tier 1.0. Exponent 2\n"
     ]
    },
    {
     "name": "stderr",
     "output_type": "stream",
     "text": [
      "Processing matches:  16%|█▌        | 2021/12699 [00:58<05:34, 31.95it/s]"
     ]
    },
    {
     "name": "stdout",
     "output_type": "stream",
     "text": [
      "Multiplier 3.0. Tier 1.0. Exponent 2\n",
      "Multiplier 1.3333333333333333. Tier 2.0. Exponent 2\n",
      "Multiplier 1.3333333333333333. Tier 2.0. Exponent 2\n",
      "Multiplier 1.3333333333333333. Tier 2.0. Exponent 2\n",
      "Multiplier 1.3333333333333333. Tier 2.0. Exponent 2\n",
      "Multiplier 1.3333333333333333. Tier 2.0. Exponent 2\n",
      "Multiplier 1.3333333333333333. Tier 2.0. Exponent 2\n"
     ]
    },
    {
     "name": "stderr",
     "output_type": "stream",
     "text": [
      "Processing matches:  16%|█▌        | 2025/12699 [00:58<05:35, 31.81it/s]"
     ]
    },
    {
     "name": "stdout",
     "output_type": "stream",
     "text": [
      "Multiplier 1.3333333333333333. Tier 2.0. Exponent 2\n",
      "Multiplier 1.3333333333333333. Tier 2.0. Exponent 2\n",
      "Multiplier 3.0. Tier 1.0. Exponent 2\n",
      "Multiplier 3.0. Tier 1.0. Exponent 2\n",
      "Multiplier 1.3333333333333333. Tier 2.0. Exponent 2\n",
      "Multiplier 1.3333333333333333. Tier 2.0. Exponent 2\n"
     ]
    },
    {
     "name": "stderr",
     "output_type": "stream",
     "text": [
      "Processing matches:  16%|█▌        | 2033/12699 [00:58<05:50, 30.39it/s]"
     ]
    },
    {
     "name": "stdout",
     "output_type": "stream",
     "text": [
      "Multiplier 1.3333333333333333. Tier 2.0. Exponent 2\n",
      "Multiplier 3.0. Tier 1.0. Exponent 2\n",
      "Multiplier 3.0. Tier 1.0. Exponent 2\n",
      "Multiplier 1.3333333333333333. Tier 2.0. Exponent 2\n",
      "Multiplier 1.3333333333333333. Tier 2.0. Exponent 2\n",
      "Multiplier 1.3333333333333333. Tier 2.0. Exponent 2\n",
      "Multiplier 1.3333333333333333. Tier 2.0. Exponent 2\n"
     ]
    },
    {
     "name": "stderr",
     "output_type": "stream",
     "text": [
      "Processing matches:  16%|█▌        | 2041/12699 [00:58<05:47, 30.66it/s]"
     ]
    },
    {
     "name": "stdout",
     "output_type": "stream",
     "text": [
      "Multiplier 1.3333333333333333. Tier 2.0. Exponent 2\n",
      "Multiplier 1.3333333333333333. Tier 2.0. Exponent 2\n",
      "Multiplier 1.3333333333333333. Tier 2.0. Exponent 2\n",
      "Multiplier 1.3333333333333333. Tier 2.0. Exponent 2\n",
      "Multiplier 1.3333333333333333. Tier 2.0. Exponent 2\n",
      "Multiplier 1.3333333333333333. Tier 2.0. Exponent 2\n",
      "Multiplier 1.3333333333333333. Tier 2.0. Exponent 2\n",
      "Multiplier 1.3333333333333333. Tier 2.0. Exponent 2\n"
     ]
    },
    {
     "name": "stderr",
     "output_type": "stream",
     "text": [
      "Processing matches:  16%|█▌        | 2049/12699 [00:58<05:34, 31.86it/s]"
     ]
    },
    {
     "name": "stdout",
     "output_type": "stream",
     "text": [
      "Multiplier 1.3333333333333333. Tier 2.0. Exponent 2\n",
      "Multiplier 1.3333333333333333. Tier 2.0. Exponent 2\n",
      "Multiplier 1.3333333333333333. Tier 2.0. Exponent 2\n",
      "Multiplier 1.3333333333333333. Tier 2.0. Exponent 2\n",
      "Multiplier 1.3333333333333333. Tier 2.0. Exponent 2\n",
      "Multiplier 1.3333333333333333. Tier 2.0. Exponent 2\n",
      "Multiplier 1.3333333333333333. Tier 2.0. Exponent 2\n"
     ]
    },
    {
     "name": "stderr",
     "output_type": "stream",
     "text": [
      "Processing matches:  16%|█▌        | 2057/12699 [00:59<05:36, 31.67it/s]"
     ]
    },
    {
     "name": "stdout",
     "output_type": "stream",
     "text": [
      "Multiplier 1.3333333333333333. Tier 2.0. Exponent 2\n",
      "Multiplier 1.3333333333333333. Tier 2.0. Exponent 2\n",
      "Multiplier 3.0. Tier 1.0. Exponent 2\n",
      "Multiplier 3.0. Tier 1.0. Exponent 2\n",
      "Multiplier 1.3333333333333333. Tier 2.0. Exponent 2\n",
      "Multiplier 1.3333333333333333. Tier 2.0. Exponent 2\n"
     ]
    },
    {
     "name": "stderr",
     "output_type": "stream",
     "text": [
      "Processing matches:  16%|█▌        | 2061/12699 [00:59<05:28, 32.42it/s]"
     ]
    },
    {
     "name": "stdout",
     "output_type": "stream",
     "text": [
      "Multiplier 1.3333333333333333. Tier 2.0. Exponent 2\n",
      "Multiplier 1.3333333333333333. Tier 2.0. Exponent 2\n",
      "Multiplier 1.3333333333333333. Tier 2.0. Exponent 2\n",
      "Multiplier 1.3333333333333333. Tier 2.0. Exponent 2\n",
      "Multiplier 1.3333333333333333. Tier 2.0. Exponent 2\n",
      "Multiplier 3.0. Tier 1.0. Exponent 2\n",
      "Multiplier 1.3333333333333333. Tier 2.0. Exponent 2\n"
     ]
    },
    {
     "name": "stderr",
     "output_type": "stream",
     "text": [
      "Processing matches:  16%|█▋        | 2069/12699 [00:59<05:32, 32.01it/s]"
     ]
    },
    {
     "name": "stdout",
     "output_type": "stream",
     "text": [
      "Multiplier 1.3333333333333333. Tier 2.0. Exponent 2\n",
      "Multiplier 1.3333333333333333. Tier 2.0. Exponent 2\n",
      "Multiplier 3.0. Tier 1.0. Exponent 2\n",
      "Multiplier 1.3333333333333333. Tier 2.0. Exponent 2\n",
      "Multiplier 1.3333333333333333. Tier 2.0. Exponent 2\n",
      "Multiplier 1.3333333333333333. Tier 2.0. Exponent 2\n",
      "Multiplier 1.3333333333333333. Tier 2.0. Exponent 2\n"
     ]
    },
    {
     "name": "stderr",
     "output_type": "stream",
     "text": [
      "Processing matches:  16%|█▋        | 2077/12699 [00:59<05:24, 32.69it/s]"
     ]
    },
    {
     "name": "stdout",
     "output_type": "stream",
     "text": [
      "Multiplier 1.3333333333333333. Tier 2.0. Exponent 2\n",
      "Multiplier 1.3333333333333333. Tier 2.0. Exponent 2\n",
      "Multiplier 1.3333333333333333. Tier 2.0. Exponent 2\n",
      "Multiplier 1.3333333333333333. Tier 2.0. Exponent 2\n",
      "Multiplier 1.3333333333333333. Tier 2.0. Exponent 2\n",
      "Multiplier 1.3333333333333333. Tier 2.0. Exponent 2\n",
      "Multiplier 1.3333333333333333. Tier 2.0. Exponent 2\n",
      "Multiplier 1.3333333333333333. Tier 2.0. Exponent 2\n"
     ]
    },
    {
     "name": "stderr",
     "output_type": "stream",
     "text": [
      "Processing matches:  16%|█▋        | 2085/12699 [01:00<05:31, 32.03it/s]"
     ]
    },
    {
     "name": "stdout",
     "output_type": "stream",
     "text": [
      "Multiplier 1.3333333333333333. Tier 2.0. Exponent 2\n",
      "Multiplier 1.3333333333333333. Tier 2.0. Exponent 2\n",
      "Multiplier 1.3333333333333333. Tier 2.0. Exponent 2\n",
      "Multiplier 1.3333333333333333. Tier 2.0. Exponent 2\n",
      "Multiplier 1.3333333333333333. Tier 2.0. Exponent 2\n",
      "Multiplier 1.3333333333333333. Tier 2.0. Exponent 2\n"
     ]
    },
    {
     "name": "stderr",
     "output_type": "stream",
     "text": [
      "Processing matches:  16%|█▋        | 2089/12699 [01:00<05:34, 31.71it/s]"
     ]
    },
    {
     "name": "stdout",
     "output_type": "stream",
     "text": [
      "Multiplier 1.3333333333333333. Tier 2.0. Exponent 2\n",
      "Multiplier 1.3333333333333333. Tier 2.0. Exponent 2\n",
      "Multiplier 1.3333333333333333. Tier 2.0. Exponent 2\n",
      "Multiplier 1.3333333333333333. Tier 2.0. Exponent 2\n",
      "Multiplier 1.3333333333333333. Tier 2.0. Exponent 2\n",
      "Multiplier 1.3333333333333333. Tier 2.0. Exponent 2\n",
      "Multiplier 1.3333333333333333. Tier 2.0. Exponent 2\n"
     ]
    },
    {
     "name": "stderr",
     "output_type": "stream",
     "text": [
      "Processing matches:  17%|█▋        | 2097/12699 [01:00<05:39, 31.27it/s]"
     ]
    },
    {
     "name": "stdout",
     "output_type": "stream",
     "text": [
      "Multiplier 1.3333333333333333. Tier 2.0. Exponent 2\n",
      "Multiplier 1.3333333333333333. Tier 2.0. Exponent 2\n",
      "Multiplier 1.3333333333333333. Tier 2.0. Exponent 2\n",
      "Multiplier 1.3333333333333333. Tier 2.0. Exponent 2\n",
      "Multiplier 1.3333333333333333. Tier 2.0. Exponent 2\n",
      "Multiplier 1.3333333333333333. Tier 2.0. Exponent 2\n",
      "Multiplier 1.3333333333333333. Tier 2.0. Exponent 2\n",
      "Multiplier 3.0. Tier 1.0. Exponent 2\n"
     ]
    },
    {
     "name": "stderr",
     "output_type": "stream",
     "text": [
      "Processing matches:  17%|█▋        | 2105/12699 [01:00<05:35, 31.61it/s]"
     ]
    },
    {
     "name": "stdout",
     "output_type": "stream",
     "text": [
      "Multiplier 1.3333333333333333. Tier 2.0. Exponent 2\n",
      "Multiplier 1.3333333333333333. Tier 2.0. Exponent 2\n",
      "Multiplier 3.0. Tier 1.0. Exponent 2\n",
      "Multiplier 1.3333333333333333. Tier 2.0. Exponent 2\n",
      "Multiplier 1.3333333333333333. Tier 2.0. Exponent 2\n",
      "Multiplier 1.3333333333333333. Tier 2.0. Exponent 2\n",
      "Multiplier 1.3333333333333333. Tier 2.0. Exponent 2\n"
     ]
    },
    {
     "name": "stderr",
     "output_type": "stream",
     "text": [
      "Processing matches:  17%|█▋        | 2113/12699 [01:00<05:21, 32.88it/s]"
     ]
    },
    {
     "name": "stdout",
     "output_type": "stream",
     "text": [
      "Multiplier 1.3333333333333333. Tier 2.0. Exponent 2\n",
      "Multiplier 1.3333333333333333. Tier 2.0. Exponent 2\n",
      "Multiplier 1.3333333333333333. Tier 2.0. Exponent 2\n",
      "Multiplier 1.3333333333333333. Tier 2.0. Exponent 2\n",
      "Multiplier 1.3333333333333333. Tier 2.0. Exponent 2\n",
      "Multiplier 1.3333333333333333. Tier 2.0. Exponent 2\n",
      "Multiplier 1.3333333333333333. Tier 2.0. Exponent 2\n",
      "Multiplier 1.3333333333333333. Tier 2.0. Exponent 2\n"
     ]
    },
    {
     "name": "stderr",
     "output_type": "stream",
     "text": [
      "Processing matches:  17%|█▋        | 2121/12699 [01:01<05:07, 34.36it/s]"
     ]
    },
    {
     "name": "stdout",
     "output_type": "stream",
     "text": [
      "Multiplier 1.3333333333333333. Tier 2.0. Exponent 2\n",
      "Multiplier 1.3333333333333333. Tier 2.0. Exponent 2\n",
      "Multiplier 1.3333333333333333. Tier 2.0. Exponent 2\n",
      "Multiplier 1.3333333333333333. Tier 2.0. Exponent 2\n",
      "Multiplier 1.3333333333333333. Tier 2.0. Exponent 2\n",
      "Multiplier 1.3333333333333333. Tier 2.0. Exponent 2\n",
      "Multiplier 1.3333333333333333. Tier 2.0. Exponent 2\n",
      "Multiplier 1.3333333333333333. Tier 2.0. Exponent 2\n"
     ]
    },
    {
     "name": "stderr",
     "output_type": "stream",
     "text": [
      "Processing matches:  17%|█▋        | 2129/12699 [01:01<05:10, 34.08it/s]"
     ]
    },
    {
     "name": "stdout",
     "output_type": "stream",
     "text": [
      "Multiplier 1.3333333333333333. Tier 2.0. Exponent 2\n",
      "Multiplier 1.3333333333333333. Tier 2.0. Exponent 2\n",
      "Multiplier 1.3333333333333333. Tier 2.0. Exponent 2\n",
      "Multiplier 1.3333333333333333. Tier 2.0. Exponent 2\n",
      "Multiplier 1.3333333333333333. Tier 2.0. Exponent 2\n",
      "Multiplier 1.3333333333333333. Tier 2.0. Exponent 2\n",
      "Multiplier 1.3333333333333333. Tier 2.0. Exponent 2\n",
      "Multiplier 1.3333333333333333. Tier 2.0. Exponent 2\n"
     ]
    },
    {
     "name": "stderr",
     "output_type": "stream",
     "text": [
      "Processing matches:  17%|█▋        | 2137/12699 [01:01<05:10, 33.98it/s]"
     ]
    },
    {
     "name": "stdout",
     "output_type": "stream",
     "text": [
      "Multiplier 1.3333333333333333. Tier 2.0. Exponent 2\n",
      "Multiplier 1.3333333333333333. Tier 2.0. Exponent 2\n",
      "Multiplier 1.3333333333333333. Tier 2.0. Exponent 2\n",
      "Multiplier 1.3333333333333333. Tier 2.0. Exponent 2\n",
      "Multiplier 1.3333333333333333. Tier 2.0. Exponent 2\n",
      "Multiplier 0.48. Tier 4.0. Exponent 2\n",
      "Multiplier 0.48. Tier 4.0. Exponent 2\n"
     ]
    },
    {
     "name": "stderr",
     "output_type": "stream",
     "text": [
      "Processing matches:  17%|█▋        | 2145/12699 [01:01<05:02, 34.85it/s]"
     ]
    },
    {
     "name": "stdout",
     "output_type": "stream",
     "text": [
      "Multiplier 0.48. Tier 4.0. Exponent 2\n",
      "Multiplier 0.48. Tier 4.0. Exponent 2\n",
      "Multiplier 0.48. Tier 4.0. Exponent 2\n",
      "Multiplier 0.48. Tier 4.0. Exponent 2\n",
      "Multiplier 0.48. Tier 4.0. Exponent 2\n",
      "Multiplier 0.48. Tier 4.0. Exponent 2\n",
      "Multiplier 0.48. Tier 4.0. Exponent 2\n"
     ]
    },
    {
     "name": "stderr",
     "output_type": "stream",
     "text": [
      "Processing matches:  17%|█▋        | 2153/12699 [01:02<04:46, 36.77it/s]"
     ]
    },
    {
     "name": "stdout",
     "output_type": "stream",
     "text": [
      "Multiplier 0.48. Tier 4.0. Exponent 2\n",
      "Multiplier 0.48. Tier 4.0. Exponent 2\n",
      "Multiplier 0.48. Tier 4.0. Exponent 2\n",
      "Multiplier 0.48. Tier 4.0. Exponent 2\n",
      "Multiplier 0.48. Tier 4.0. Exponent 2\n",
      "Multiplier 0.48. Tier 4.0. Exponent 2\n",
      "Multiplier 0.48. Tier 4.0. Exponent 2\n",
      "Multiplier 0.48. Tier 4.0. Exponent 2\n"
     ]
    },
    {
     "name": "stderr",
     "output_type": "stream",
     "text": [
      "Processing matches:  17%|█▋        | 2157/12699 [01:02<04:59, 35.21it/s]"
     ]
    },
    {
     "name": "stdout",
     "output_type": "stream",
     "text": [
      "Multiplier 0.48. Tier 4.0. Exponent 2\n",
      "Multiplier 0.48. Tier 4.0. Exponent 2\n",
      "Multiplier 0.48. Tier 4.0. Exponent 2\n",
      "Multiplier 0.48. Tier 4.0. Exponent 2\n",
      "Multiplier 0.48. Tier 4.0. Exponent 2\n",
      "Multiplier 0.48. Tier 4.0. Exponent 2\n",
      "Multiplier 0.48. Tier 4.0. Exponent 2\n"
     ]
    },
    {
     "name": "stderr",
     "output_type": "stream",
     "text": [
      "Processing matches:  17%|█▋        | 2165/12699 [01:02<04:53, 35.90it/s]"
     ]
    },
    {
     "name": "stdout",
     "output_type": "stream",
     "text": [
      "Multiplier 0.48. Tier 4.0. Exponent 2\n",
      "Multiplier 0.48. Tier 4.0. Exponent 2\n",
      "Multiplier 0.48. Tier 4.0. Exponent 2\n",
      "Multiplier 0.48. Tier 4.0. Exponent 2\n",
      "Multiplier 0.48. Tier 4.0. Exponent 2\n",
      "Multiplier 0.48. Tier 4.0. Exponent 2\n",
      "Multiplier 0.48. Tier 4.0. Exponent 2\n",
      "Multiplier 0.48. Tier 4.0. Exponent 2\n"
     ]
    },
    {
     "name": "stderr",
     "output_type": "stream",
     "text": [
      "Processing matches:  17%|█▋        | 2173/12699 [01:02<04:57, 35.40it/s]"
     ]
    },
    {
     "name": "stdout",
     "output_type": "stream",
     "text": [
      "Multiplier 0.48. Tier 4.0. Exponent 2\n",
      "Multiplier 0.48. Tier 4.0. Exponent 2\n",
      "Multiplier 0.48. Tier 4.0. Exponent 2\n",
      "Multiplier 0.48. Tier 4.0. Exponent 2\n",
      "Multiplier 0.48. Tier 4.0. Exponent 2\n",
      "Multiplier 0.48. Tier 4.0. Exponent 2\n",
      "Multiplier 0.48. Tier 4.0. Exponent 2\n",
      "Multiplier 0.48. Tier 4.0. Exponent 2\n"
     ]
    },
    {
     "name": "stderr",
     "output_type": "stream",
     "text": [
      "Processing matches:  17%|█▋        | 2181/12699 [01:02<04:56, 35.47it/s]"
     ]
    },
    {
     "name": "stdout",
     "output_type": "stream",
     "text": [
      "Multiplier 0.48. Tier 4.0. Exponent 2\n",
      "Multiplier 0.48. Tier 4.0. Exponent 2\n",
      "Multiplier 0.48. Tier 4.0. Exponent 2\n",
      "Multiplier 0.48. Tier 4.0. Exponent 2\n",
      "Multiplier 0.48. Tier 4.0. Exponent 2\n",
      "Multiplier 0.48. Tier 4.0. Exponent 2\n",
      "Multiplier 0.48. Tier 4.0. Exponent 2\n"
     ]
    },
    {
     "name": "stderr",
     "output_type": "stream",
     "text": [
      "Processing matches:  17%|█▋        | 2189/12699 [01:03<04:57, 35.31it/s]"
     ]
    },
    {
     "name": "stdout",
     "output_type": "stream",
     "text": [
      "Multiplier 0.48. Tier 4.0. Exponent 2\n",
      "Multiplier 0.48. Tier 4.0. Exponent 2\n",
      "Multiplier 0.48. Tier 4.0. Exponent 2\n",
      "Multiplier 0.48. Tier 4.0. Exponent 2\n",
      "Multiplier 0.48. Tier 4.0. Exponent 2\n",
      "Multiplier 0.48. Tier 4.0. Exponent 2\n",
      "Multiplier 0.48. Tier 4.0. Exponent 2\n",
      "Multiplier 0.48. Tier 4.0. Exponent 2\n"
     ]
    },
    {
     "name": "stderr",
     "output_type": "stream",
     "text": [
      "Processing matches:  17%|█▋        | 2197/12699 [01:03<04:59, 35.02it/s]"
     ]
    },
    {
     "name": "stdout",
     "output_type": "stream",
     "text": [
      "Multiplier 0.48. Tier 4.0. Exponent 2\n",
      "Multiplier 0.48. Tier 4.0. Exponent 2\n",
      "Multiplier 0.48. Tier 4.0. Exponent 2\n",
      "Multiplier 0.48. Tier 4.0. Exponent 2\n",
      "Multiplier 0.48. Tier 4.0. Exponent 2\n",
      "Multiplier 0.48. Tier 4.0. Exponent 2\n",
      "Multiplier 0.48. Tier 4.0. Exponent 2\n",
      "Multiplier 0.48. Tier 4.0. Exponent 2\n"
     ]
    },
    {
     "name": "stderr",
     "output_type": "stream",
     "text": [
      "Processing matches:  17%|█▋        | 2205/12699 [01:03<05:01, 34.79it/s]"
     ]
    },
    {
     "name": "stdout",
     "output_type": "stream",
     "text": [
      "Multiplier 0.48. Tier 4.0. Exponent 2\n",
      "Multiplier 0.48. Tier 4.0. Exponent 2\n",
      "Multiplier 0.48. Tier 4.0. Exponent 2\n",
      "Multiplier 0.48. Tier 4.0. Exponent 2\n",
      "Multiplier 0.48. Tier 4.0. Exponent 2\n",
      "Multiplier 0.48. Tier 4.0. Exponent 2\n",
      "Multiplier 0.48. Tier 4.0. Exponent 2\n"
     ]
    },
    {
     "name": "stderr",
     "output_type": "stream",
     "text": [
      "Processing matches:  17%|█▋        | 2209/12699 [01:03<05:09, 33.89it/s]"
     ]
    },
    {
     "name": "stdout",
     "output_type": "stream",
     "text": [
      "Multiplier 0.48. Tier 4.0. Exponent 2\n",
      "Multiplier 0.48. Tier 4.0. Exponent 2\n",
      "Multiplier 0.48. Tier 4.0. Exponent 2\n",
      "Multiplier 0.48. Tier 4.0. Exponent 2\n",
      "Multiplier 0.48. Tier 4.0. Exponent 2\n",
      "Multiplier 0.48. Tier 4.0. Exponent 2\n",
      "Multiplier 0.48. Tier 4.0. Exponent 2\n"
     ]
    },
    {
     "name": "stderr",
     "output_type": "stream",
     "text": [
      "Processing matches:  17%|█▋        | 2217/12699 [01:03<05:15, 33.22it/s]"
     ]
    },
    {
     "name": "stdout",
     "output_type": "stream",
     "text": [
      "Multiplier 0.48. Tier 4.0. Exponent 2\n",
      "Multiplier 0.48. Tier 4.0. Exponent 2\n",
      "Multiplier 0.48. Tier 4.0. Exponent 2\n",
      "Multiplier 0.48. Tier 4.0. Exponent 2\n",
      "Multiplier 0.48. Tier 4.0. Exponent 2\n",
      "Multiplier 0.48. Tier 4.0. Exponent 2\n",
      "Multiplier 0.48. Tier 4.0. Exponent 2\n"
     ]
    },
    {
     "name": "stderr",
     "output_type": "stream",
     "text": [
      "Processing matches:  18%|█▊        | 2225/12699 [01:04<05:21, 32.53it/s]"
     ]
    },
    {
     "name": "stdout",
     "output_type": "stream",
     "text": [
      "Multiplier 0.48. Tier 4.0. Exponent 2\n",
      "Multiplier 0.48. Tier 4.0. Exponent 2\n",
      "Multiplier 0.48. Tier 4.0. Exponent 2\n",
      "Multiplier 0.48. Tier 4.0. Exponent 2\n",
      "Multiplier 0.48. Tier 4.0. Exponent 2\n",
      "Multiplier 0.48. Tier 4.0. Exponent 2\n",
      "Multiplier 0.48. Tier 4.0. Exponent 2\n"
     ]
    },
    {
     "name": "stderr",
     "output_type": "stream",
     "text": [
      "Processing matches:  18%|█▊        | 2233/12699 [01:04<05:13, 33.36it/s]"
     ]
    },
    {
     "name": "stdout",
     "output_type": "stream",
     "text": [
      "Multiplier 0.48. Tier 4.0. Exponent 2\n",
      "Multiplier 0.48. Tier 4.0. Exponent 2\n",
      "Multiplier 0.48. Tier 4.0. Exponent 2\n",
      "Multiplier 0.48. Tier 4.0. Exponent 2\n",
      "Multiplier 0.48. Tier 4.0. Exponent 2\n",
      "Multiplier 0.48. Tier 4.0. Exponent 2\n",
      "Multiplier 0.48. Tier 4.0. Exponent 2\n",
      "Multiplier 0.48. Tier 4.0. Exponent 2\n"
     ]
    },
    {
     "name": "stderr",
     "output_type": "stream",
     "text": [
      "Processing matches:  18%|█▊        | 2241/12699 [01:04<05:11, 33.58it/s]"
     ]
    },
    {
     "name": "stdout",
     "output_type": "stream",
     "text": [
      "Multiplier 0.48. Tier 4.0. Exponent 2\n",
      "Multiplier 0.48. Tier 4.0. Exponent 2\n",
      "Multiplier 0.48. Tier 4.0. Exponent 2\n",
      "Multiplier 0.48. Tier 4.0. Exponent 2\n",
      "Multiplier 0.48. Tier 4.0. Exponent 2\n",
      "Multiplier 0.48. Tier 4.0. Exponent 2\n",
      "Multiplier 0.48. Tier 4.0. Exponent 2\n"
     ]
    },
    {
     "name": "stderr",
     "output_type": "stream",
     "text": [
      "Processing matches:  18%|█▊        | 2245/12699 [01:04<05:09, 33.81it/s]"
     ]
    },
    {
     "name": "stdout",
     "output_type": "stream",
     "text": [
      "Multiplier 0.48. Tier 4.0. Exponent 2\n",
      "Multiplier 0.48. Tier 4.0. Exponent 2\n",
      "Multiplier 0.48. Tier 4.0. Exponent 2\n",
      "Multiplier 0.48. Tier 4.0. Exponent 2\n",
      "Multiplier 0.48. Tier 4.0. Exponent 2\n",
      "Multiplier 0.48. Tier 4.0. Exponent 2\n",
      "Multiplier 0.48. Tier 4.0. Exponent 2\n"
     ]
    },
    {
     "name": "stderr",
     "output_type": "stream",
     "text": [
      "Processing matches:  18%|█▊        | 2253/12699 [01:04<05:12, 33.47it/s]"
     ]
    },
    {
     "name": "stdout",
     "output_type": "stream",
     "text": [
      "Multiplier 0.48. Tier 4.0. Exponent 2\n",
      "Multiplier 0.48. Tier 4.0. Exponent 2\n",
      "Multiplier 0.48. Tier 4.0. Exponent 2\n",
      "Multiplier 0.48. Tier 4.0. Exponent 2\n",
      "Multiplier 0.48. Tier 4.0. Exponent 2\n",
      "Multiplier 0.48. Tier 4.0. Exponent 2\n",
      "Multiplier 0.48. Tier 4.0. Exponent 2\n"
     ]
    },
    {
     "name": "stderr",
     "output_type": "stream",
     "text": [
      "Processing matches:  18%|█▊        | 2261/12699 [01:05<05:28, 31.79it/s]"
     ]
    },
    {
     "name": "stdout",
     "output_type": "stream",
     "text": [
      "Multiplier 0.48. Tier 4.0. Exponent 2\n",
      "Multiplier 0.48. Tier 4.0. Exponent 2\n",
      "Multiplier 0.48. Tier 4.0. Exponent 2\n",
      "Multiplier 0.48. Tier 4.0. Exponent 2\n",
      "Multiplier 0.48. Tier 4.0. Exponent 2\n",
      "Multiplier 0.48. Tier 4.0. Exponent 2\n",
      "Multiplier 0.48. Tier 4.0. Exponent 2\n"
     ]
    },
    {
     "name": "stderr",
     "output_type": "stream",
     "text": [
      "Processing matches:  18%|█▊        | 2269/12699 [01:05<05:09, 33.75it/s]"
     ]
    },
    {
     "name": "stdout",
     "output_type": "stream",
     "text": [
      "Multiplier 0.48. Tier 4.0. Exponent 2\n",
      "Multiplier 0.48. Tier 4.0. Exponent 2\n",
      "Multiplier 0.48. Tier 4.0. Exponent 2\n",
      "Multiplier 0.48. Tier 4.0. Exponent 2\n",
      "Multiplier 0.48. Tier 4.0. Exponent 2\n",
      "Multiplier 0.48. Tier 4.0. Exponent 2\n",
      "Multiplier 0.48. Tier 4.0. Exponent 2\n",
      "Multiplier 0.48. Tier 4.0. Exponent 2\n"
     ]
    },
    {
     "name": "stderr",
     "output_type": "stream",
     "text": [
      "Processing matches:  18%|█▊        | 2277/12699 [01:05<05:20, 32.52it/s]"
     ]
    },
    {
     "name": "stdout",
     "output_type": "stream",
     "text": [
      "Multiplier 0.48. Tier 4.0. Exponent 2\n",
      "Multiplier 0.48. Tier 4.0. Exponent 2\n",
      "Multiplier 0.48. Tier 4.0. Exponent 2\n",
      "Multiplier 0.48. Tier 4.0. Exponent 2\n",
      "Multiplier 0.48. Tier 4.0. Exponent 2\n",
      "Multiplier 0.48. Tier 4.0. Exponent 2\n"
     ]
    },
    {
     "name": "stderr",
     "output_type": "stream",
     "text": [
      "Processing matches:  18%|█▊        | 2281/12699 [01:05<05:17, 32.78it/s]"
     ]
    },
    {
     "name": "stdout",
     "output_type": "stream",
     "text": [
      "Multiplier 0.48. Tier 4.0. Exponent 2\n",
      "Multiplier 0.48. Tier 4.0. Exponent 2\n",
      "Multiplier 0.48. Tier 4.0. Exponent 2\n",
      "Multiplier 0.48. Tier 4.0. Exponent 2\n",
      "Multiplier 0.48. Tier 4.0. Exponent 2\n",
      "Multiplier 0.48. Tier 4.0. Exponent 2\n",
      "Multiplier 0.48. Tier 4.0. Exponent 2\n"
     ]
    },
    {
     "name": "stderr",
     "output_type": "stream",
     "text": [
      "Processing matches:  18%|█▊        | 2289/12699 [01:06<05:24, 32.11it/s]"
     ]
    },
    {
     "name": "stdout",
     "output_type": "stream",
     "text": [
      "Multiplier 0.48. Tier 4.0. Exponent 2\n",
      "Multiplier 0.48. Tier 4.0. Exponent 2\n",
      "Multiplier 0.48. Tier 4.0. Exponent 2\n",
      "Multiplier 0.48. Tier 4.0. Exponent 2\n",
      "Multiplier 0.48. Tier 4.0. Exponent 2\n",
      "Multiplier 0.48. Tier 4.0. Exponent 2\n",
      "Multiplier 0.48. Tier 4.0. Exponent 2\n"
     ]
    },
    {
     "name": "stderr",
     "output_type": "stream",
     "text": [
      "Processing matches:  18%|█▊        | 2297/12699 [01:06<05:35, 31.04it/s]"
     ]
    },
    {
     "name": "stdout",
     "output_type": "stream",
     "text": [
      "Multiplier 0.48. Tier 4.0. Exponent 2\n",
      "Multiplier 0.48. Tier 4.0. Exponent 2\n",
      "Multiplier 0.48. Tier 4.0. Exponent 2\n",
      "Multiplier 0.48. Tier 4.0. Exponent 2\n",
      "Multiplier 0.48. Tier 4.0. Exponent 2\n",
      "Multiplier 0.48. Tier 4.0. Exponent 2\n"
     ]
    },
    {
     "name": "stderr",
     "output_type": "stream",
     "text": [
      "Processing matches:  18%|█▊        | 2301/12699 [01:06<05:25, 31.95it/s]"
     ]
    },
    {
     "name": "stdout",
     "output_type": "stream",
     "text": [
      "Multiplier 0.48. Tier 4.0. Exponent 2\n",
      "Multiplier 0.48. Tier 4.0. Exponent 2\n",
      "Multiplier 0.48. Tier 4.0. Exponent 2\n",
      "Multiplier 0.48. Tier 4.0. Exponent 2\n",
      "Multiplier 0.48. Tier 4.0. Exponent 2\n",
      "Multiplier 0.48. Tier 4.0. Exponent 2\n",
      "Multiplier 0.48. Tier 4.0. Exponent 2\n",
      "Multiplier 0.48. Tier 4.0. Exponent 2\n"
     ]
    },
    {
     "name": "stderr",
     "output_type": "stream",
     "text": [
      "Processing matches:  18%|█▊        | 2309/12699 [01:06<04:58, 34.85it/s]"
     ]
    },
    {
     "name": "stdout",
     "output_type": "stream",
     "text": [
      "Multiplier 0.48. Tier 4.0. Exponent 2\n",
      "Multiplier 0.48. Tier 4.0. Exponent 2\n",
      "Multiplier 0.48. Tier 4.0. Exponent 2\n",
      "Multiplier 0.48. Tier 4.0. Exponent 2\n",
      "Multiplier 0.48. Tier 4.0. Exponent 2\n",
      "Multiplier 0.48. Tier 4.0. Exponent 2\n",
      "Multiplier 0.48. Tier 4.0. Exponent 2\n",
      "Multiplier 0.48. Tier 4.0. Exponent 2\n"
     ]
    },
    {
     "name": "stderr",
     "output_type": "stream",
     "text": [
      "Processing matches:  18%|█▊        | 2317/12699 [01:06<04:54, 35.31it/s]"
     ]
    },
    {
     "name": "stdout",
     "output_type": "stream",
     "text": [
      "Multiplier 0.48. Tier 4.0. Exponent 2\n",
      "Multiplier 0.48. Tier 4.0. Exponent 2\n",
      "Multiplier 0.48. Tier 4.0. Exponent 2\n",
      "Multiplier 0.48. Tier 4.0. Exponent 2\n",
      "Multiplier 0.48. Tier 4.0. Exponent 2\n",
      "Multiplier 0.48. Tier 4.0. Exponent 2\n",
      "Multiplier 0.48. Tier 4.0. Exponent 2\n",
      "Multiplier 0.48. Tier 4.0. Exponent 2\n"
     ]
    },
    {
     "name": "stderr",
     "output_type": "stream",
     "text": [
      "Processing matches:  18%|█▊        | 2325/12699 [01:07<04:46, 36.25it/s]"
     ]
    },
    {
     "name": "stdout",
     "output_type": "stream",
     "text": [
      "Multiplier 0.48. Tier 4.0. Exponent 2\n",
      "Multiplier 0.48. Tier 4.0. Exponent 2\n",
      "Multiplier 0.48. Tier 4.0. Exponent 2\n",
      "Multiplier 0.48. Tier 4.0. Exponent 2\n",
      "Multiplier 0.48. Tier 4.0. Exponent 2\n",
      "Multiplier 0.48. Tier 4.0. Exponent 2\n",
      "Multiplier 0.48. Tier 4.0. Exponent 2\n",
      "Multiplier 0.48. Tier 4.0. Exponent 2\n"
     ]
    },
    {
     "name": "stderr",
     "output_type": "stream",
     "text": [
      "Processing matches:  18%|█▊        | 2333/12699 [01:07<04:41, 36.88it/s]"
     ]
    },
    {
     "name": "stdout",
     "output_type": "stream",
     "text": [
      "Multiplier 0.48. Tier 4.0. Exponent 2\n",
      "Multiplier 0.48. Tier 4.0. Exponent 2\n",
      "Multiplier 0.48. Tier 4.0. Exponent 2\n",
      "Multiplier 0.48. Tier 4.0. Exponent 2\n",
      "Multiplier 0.48. Tier 4.0. Exponent 2\n",
      "Multiplier 0.75. Tier 3.0. Exponent 2\n",
      "Multiplier 0.75. Tier 3.0. Exponent 2\n",
      "Multiplier 0.75. Tier 3.0. Exponent 2\n"
     ]
    },
    {
     "name": "stderr",
     "output_type": "stream",
     "text": [
      "Processing matches:  18%|█▊        | 2341/12699 [01:07<04:58, 34.65it/s]"
     ]
    },
    {
     "name": "stdout",
     "output_type": "stream",
     "text": [
      "Multiplier 0.75. Tier 3.0. Exponent 2\n",
      "Multiplier 0.75. Tier 3.0. Exponent 2\n",
      "Multiplier 0.75. Tier 3.0. Exponent 2\n",
      "Multiplier 0.75. Tier 3.0. Exponent 2\n",
      "Multiplier 0.75. Tier 3.0. Exponent 2\n",
      "Multiplier 0.75. Tier 3.0. Exponent 2\n",
      "Multiplier 0.75. Tier 3.0. Exponent 2\n"
     ]
    },
    {
     "name": "stderr",
     "output_type": "stream",
     "text": [
      "Processing matches:  18%|█▊        | 2349/12699 [01:07<05:00, 34.48it/s]"
     ]
    },
    {
     "name": "stdout",
     "output_type": "stream",
     "text": [
      "Multiplier 0.75. Tier 3.0. Exponent 2\n",
      "Multiplier 0.75. Tier 3.0. Exponent 2\n",
      "Multiplier 0.75. Tier 3.0. Exponent 2\n",
      "Multiplier 0.75. Tier 3.0. Exponent 2\n",
      "Multiplier 0.75. Tier 3.0. Exponent 2\n",
      "Multiplier 0.75. Tier 3.0. Exponent 2\n",
      "Multiplier 0.75. Tier 3.0. Exponent 2\n"
     ]
    },
    {
     "name": "stderr",
     "output_type": "stream",
     "text": [
      "Processing matches:  19%|█▊        | 2357/12699 [01:08<05:08, 33.53it/s]"
     ]
    },
    {
     "name": "stdout",
     "output_type": "stream",
     "text": [
      "Multiplier 0.75. Tier 3.0. Exponent 2\n",
      "Multiplier 0.75. Tier 3.0. Exponent 2\n",
      "Multiplier 0.75. Tier 3.0. Exponent 2\n",
      "Multiplier 0.75. Tier 3.0. Exponent 2\n",
      "Multiplier 0.75. Tier 3.0. Exponent 2\n",
      "Multiplier 0.75. Tier 3.0. Exponent 2\n",
      "Multiplier 0.75. Tier 3.0. Exponent 2\n"
     ]
    },
    {
     "name": "stderr",
     "output_type": "stream",
     "text": [
      "Processing matches:  19%|█▊        | 2361/12699 [01:08<05:12, 33.09it/s]"
     ]
    },
    {
     "name": "stdout",
     "output_type": "stream",
     "text": [
      "Multiplier 0.75. Tier 3.0. Exponent 2\n",
      "Multiplier 0.75. Tier 3.0. Exponent 2\n",
      "Multiplier 0.75. Tier 3.0. Exponent 2\n",
      "Multiplier 0.75. Tier 3.0. Exponent 2\n",
      "Multiplier 0.75. Tier 3.0. Exponent 2\n",
      "Multiplier 0.75. Tier 3.0. Exponent 2\n",
      "Multiplier 0.75. Tier 3.0. Exponent 2\n"
     ]
    },
    {
     "name": "stderr",
     "output_type": "stream",
     "text": [
      "Processing matches:  19%|█▊        | 2369/12699 [01:08<05:29, 31.36it/s]"
     ]
    },
    {
     "name": "stdout",
     "output_type": "stream",
     "text": [
      "Multiplier 0.75. Tier 3.0. Exponent 2\n",
      "Multiplier 0.75. Tier 3.0. Exponent 2\n",
      "Multiplier 0.75. Tier 3.0. Exponent 2\n",
      "Multiplier 0.75. Tier 3.0. Exponent 2\n",
      "Multiplier 0.75. Tier 3.0. Exponent 2\n",
      "Multiplier 0.75. Tier 3.0. Exponent 2\n",
      "Multiplier 0.75. Tier 3.0. Exponent 2\n"
     ]
    },
    {
     "name": "stderr",
     "output_type": "stream",
     "text": [
      "Processing matches:  19%|█▊        | 2377/12699 [01:08<05:23, 31.91it/s]"
     ]
    },
    {
     "name": "stdout",
     "output_type": "stream",
     "text": [
      "Multiplier 0.75. Tier 3.0. Exponent 2\n",
      "Multiplier 0.75. Tier 3.0. Exponent 2\n",
      "Multiplier 0.75. Tier 3.0. Exponent 2\n",
      "Multiplier 0.75. Tier 3.0. Exponent 2\n",
      "Multiplier 0.75. Tier 3.0. Exponent 2\n",
      "Multiplier 0.75. Tier 3.0. Exponent 2\n",
      "Multiplier 0.75. Tier 3.0. Exponent 2\n"
     ]
    },
    {
     "name": "stderr",
     "output_type": "stream",
     "text": [
      "Processing matches:  19%|█▉        | 2385/12699 [01:08<05:02, 34.11it/s]"
     ]
    },
    {
     "name": "stdout",
     "output_type": "stream",
     "text": [
      "Multiplier 0.75. Tier 3.0. Exponent 2\n",
      "Multiplier 0.75. Tier 3.0. Exponent 2\n",
      "Multiplier 0.75. Tier 3.0. Exponent 2\n",
      "Multiplier 0.75. Tier 3.0. Exponent 2\n",
      "Multiplier 0.75. Tier 3.0. Exponent 2\n",
      "Multiplier 0.75. Tier 3.0. Exponent 2\n",
      "Multiplier 0.75. Tier 3.0. Exponent 2\n",
      "Multiplier 0.75. Tier 3.0. Exponent 2\n"
     ]
    },
    {
     "name": "stderr",
     "output_type": "stream",
     "text": [
      "Processing matches:  19%|█▉        | 2393/12699 [01:09<04:51, 35.33it/s]"
     ]
    },
    {
     "name": "stdout",
     "output_type": "stream",
     "text": [
      "Multiplier 0.75. Tier 3.0. Exponent 2\n",
      "Multiplier 0.75. Tier 3.0. Exponent 2\n",
      "Multiplier 0.75. Tier 3.0. Exponent 2\n",
      "Multiplier 0.75. Tier 3.0. Exponent 2\n",
      "Multiplier 0.75. Tier 3.0. Exponent 2\n",
      "Multiplier 0.75. Tier 3.0. Exponent 2\n",
      "Multiplier 0.75. Tier 3.0. Exponent 2\n",
      "Multiplier 0.75. Tier 3.0. Exponent 2\n"
     ]
    },
    {
     "name": "stderr",
     "output_type": "stream",
     "text": [
      "Processing matches:  19%|█▉        | 2401/12699 [01:09<04:50, 35.44it/s]"
     ]
    },
    {
     "name": "stdout",
     "output_type": "stream",
     "text": [
      "Multiplier 0.75. Tier 3.0. Exponent 2\n",
      "Multiplier 0.75. Tier 3.0. Exponent 2\n",
      "Multiplier 0.75. Tier 3.0. Exponent 2\n",
      "Multiplier 0.75. Tier 3.0. Exponent 2\n",
      "Multiplier 0.75. Tier 3.0. Exponent 2\n",
      "Multiplier 0.75. Tier 3.0. Exponent 2\n",
      "Multiplier 0.75. Tier 3.0. Exponent 2\n",
      "Multiplier 0.75. Tier 3.0. Exponent 2\n",
      "Multiplier 0.75. Tier 3.0. Exponent 2\n"
     ]
    },
    {
     "name": "stderr",
     "output_type": "stream",
     "text": [
      "Processing matches:  19%|█▉        | 2409/12699 [01:09<04:44, 36.20it/s]"
     ]
    },
    {
     "name": "stdout",
     "output_type": "stream",
     "text": [
      "Multiplier 0.75. Tier 3.0. Exponent 2\n",
      "Multiplier 0.75. Tier 3.0. Exponent 2\n",
      "Multiplier 0.75. Tier 3.0. Exponent 2\n",
      "Multiplier 0.75. Tier 3.0. Exponent 2\n",
      "Multiplier 0.75. Tier 3.0. Exponent 2\n",
      "Multiplier 0.75. Tier 3.0. Exponent 2\n",
      "Multiplier 0.75. Tier 3.0. Exponent 2\n",
      "Multiplier 0.75. Tier 3.0. Exponent 2\n"
     ]
    },
    {
     "name": "stderr",
     "output_type": "stream",
     "text": [
      "Processing matches:  19%|█▉        | 2417/12699 [01:09<04:47, 35.81it/s]"
     ]
    },
    {
     "name": "stdout",
     "output_type": "stream",
     "text": [
      "Multiplier 0.75. Tier 3.0. Exponent 2\n",
      "Multiplier 0.75. Tier 3.0. Exponent 2\n",
      "Multiplier 0.75. Tier 3.0. Exponent 2\n",
      "Multiplier 0.75. Tier 3.0. Exponent 2\n",
      "Multiplier 0.75. Tier 3.0. Exponent 2\n",
      "Multiplier 0.75. Tier 3.0. Exponent 2\n",
      "Multiplier 0.75. Tier 3.0. Exponent 2\n",
      "Multiplier 0.75. Tier 3.0. Exponent 2\n"
     ]
    },
    {
     "name": "stderr",
     "output_type": "stream",
     "text": [
      "Processing matches:  19%|█▉        | 2425/12699 [01:10<04:49, 35.49it/s]"
     ]
    },
    {
     "name": "stdout",
     "output_type": "stream",
     "text": [
      "Multiplier 0.75. Tier 3.0. Exponent 2\n",
      "Multiplier 0.75. Tier 3.0. Exponent 2\n",
      "Multiplier 0.75. Tier 3.0. Exponent 2\n",
      "Multiplier 0.75. Tier 3.0. Exponent 2\n",
      "Multiplier 0.75. Tier 3.0. Exponent 2\n",
      "Multiplier 0.75. Tier 3.0. Exponent 2\n",
      "Multiplier 0.75. Tier 3.0. Exponent 2\n",
      "Multiplier 0.75. Tier 3.0. Exponent 2\n"
     ]
    },
    {
     "name": "stderr",
     "output_type": "stream",
     "text": [
      "Processing matches:  19%|█▉        | 2433/12699 [01:10<05:00, 34.14it/s]"
     ]
    },
    {
     "name": "stdout",
     "output_type": "stream",
     "text": [
      "Multiplier 0.75. Tier 3.0. Exponent 2\n",
      "Multiplier 0.75. Tier 3.0. Exponent 2\n",
      "Multiplier 0.75. Tier 3.0. Exponent 2\n",
      "Multiplier 0.75. Tier 3.0. Exponent 2\n",
      "Multiplier 0.75. Tier 3.0. Exponent 2\n",
      "Multiplier 0.75. Tier 3.0. Exponent 2\n",
      "Multiplier 0.75. Tier 3.0. Exponent 2\n",
      "Multiplier 0.75. Tier 3.0. Exponent 2\n"
     ]
    },
    {
     "name": "stderr",
     "output_type": "stream",
     "text": [
      "Processing matches:  19%|█▉        | 2441/12699 [01:10<05:06, 33.50it/s]"
     ]
    },
    {
     "name": "stdout",
     "output_type": "stream",
     "text": [
      "Multiplier 0.75. Tier 3.0. Exponent 2\n",
      "Multiplier 0.75. Tier 3.0. Exponent 2\n",
      "Multiplier 0.75. Tier 3.0. Exponent 2\n",
      "Multiplier 0.75. Tier 3.0. Exponent 2\n",
      "Multiplier 0.75. Tier 3.0. Exponent 2\n",
      "Multiplier 0.75. Tier 3.0. Exponent 2\n",
      "Multiplier 0.75. Tier 3.0. Exponent 2\n"
     ]
    },
    {
     "name": "stderr",
     "output_type": "stream",
     "text": [
      "Processing matches:  19%|█▉        | 2449/12699 [01:10<04:55, 34.73it/s]"
     ]
    },
    {
     "name": "stdout",
     "output_type": "stream",
     "text": [
      "Multiplier 0.75. Tier 3.0. Exponent 2\n",
      "Multiplier 0.75. Tier 3.0. Exponent 2\n",
      "Multiplier 0.75. Tier 3.0. Exponent 2\n",
      "Multiplier 0.75. Tier 3.0. Exponent 2\n",
      "Multiplier 0.75. Tier 3.0. Exponent 2\n",
      "Multiplier 0.75. Tier 3.0. Exponent 2\n",
      "Multiplier 0.75. Tier 3.0. Exponent 2\n",
      "Multiplier 0.75. Tier 3.0. Exponent 2\n"
     ]
    },
    {
     "name": "stderr",
     "output_type": "stream",
     "text": [
      "Processing matches:  19%|█▉        | 2457/12699 [01:10<04:57, 34.48it/s]"
     ]
    },
    {
     "name": "stdout",
     "output_type": "stream",
     "text": [
      "Multiplier 0.75. Tier 3.0. Exponent 2\n",
      "Multiplier 0.75. Tier 3.0. Exponent 2\n",
      "Multiplier 0.75. Tier 3.0. Exponent 2\n",
      "Multiplier 0.75. Tier 3.0. Exponent 2\n",
      "Multiplier 0.75. Tier 3.0. Exponent 2\n",
      "Multiplier 0.75. Tier 3.0. Exponent 2\n",
      "Multiplier 0.75. Tier 3.0. Exponent 2\n"
     ]
    },
    {
     "name": "stderr",
     "output_type": "stream",
     "text": [
      "Processing matches:  19%|█▉        | 2465/12699 [01:11<04:50, 35.27it/s]"
     ]
    },
    {
     "name": "stdout",
     "output_type": "stream",
     "text": [
      "Multiplier 0.75. Tier 3.0. Exponent 2\n",
      "Multiplier 0.75. Tier 3.0. Exponent 2\n",
      "Multiplier 0.75. Tier 3.0. Exponent 2\n",
      "Multiplier 0.75. Tier 3.0. Exponent 2\n",
      "Multiplier 0.75. Tier 3.0. Exponent 2\n",
      "Multiplier 0.75. Tier 3.0. Exponent 2\n",
      "Multiplier 0.75. Tier 3.0. Exponent 2\n",
      "Multiplier 0.75. Tier 3.0. Exponent 2\n"
     ]
    },
    {
     "name": "stderr",
     "output_type": "stream",
     "text": [
      "Processing matches:  19%|█▉        | 2473/12699 [01:11<05:01, 33.86it/s]"
     ]
    },
    {
     "name": "stdout",
     "output_type": "stream",
     "text": [
      "Multiplier 0.75. Tier 3.0. Exponent 2\n",
      "Multiplier 0.75. Tier 3.0. Exponent 2\n",
      "Multiplier 0.75. Tier 3.0. Exponent 2\n",
      "Multiplier 0.75. Tier 3.0. Exponent 2\n",
      "Multiplier 0.75. Tier 3.0. Exponent 2\n",
      "Multiplier 0.75. Tier 3.0. Exponent 2\n",
      "Multiplier 0.75. Tier 3.0. Exponent 2\n"
     ]
    },
    {
     "name": "stderr",
     "output_type": "stream",
     "text": [
      "Processing matches:  20%|█▉        | 2477/12699 [01:11<04:58, 34.24it/s]"
     ]
    },
    {
     "name": "stdout",
     "output_type": "stream",
     "text": [
      "Multiplier 0.75. Tier 3.0. Exponent 2\n",
      "Multiplier 0.75. Tier 3.0. Exponent 2\n",
      "Multiplier 0.75. Tier 3.0. Exponent 2\n",
      "Multiplier 0.75. Tier 3.0. Exponent 2\n",
      "Multiplier 0.75. Tier 3.0. Exponent 2\n",
      "Multiplier 0.75. Tier 3.0. Exponent 2\n",
      "Multiplier 0.75. Tier 3.0. Exponent 2\n",
      "Multiplier 0.75. Tier 3.0. Exponent 2\n"
     ]
    },
    {
     "name": "stderr",
     "output_type": "stream",
     "text": [
      "Processing matches:  20%|█▉        | 2485/12699 [01:11<05:04, 33.57it/s]"
     ]
    },
    {
     "name": "stdout",
     "output_type": "stream",
     "text": [
      "Multiplier 0.75. Tier 3.0. Exponent 2\n",
      "Multiplier 0.75. Tier 3.0. Exponent 2\n",
      "Multiplier 0.75. Tier 3.0. Exponent 2\n",
      "Multiplier 1.3333333333333333. Tier 2.0. Exponent 2\n",
      "Multiplier 1.3333333333333333. Tier 2.0. Exponent 2\n",
      "Multiplier 1.3333333333333333. Tier 2.0. Exponent 2\n",
      "Multiplier 1.3333333333333333. Tier 2.0. Exponent 2\n"
     ]
    },
    {
     "name": "stderr",
     "output_type": "stream",
     "text": [
      "Processing matches:  20%|█▉        | 2493/12699 [01:12<04:52, 34.89it/s]"
     ]
    },
    {
     "name": "stdout",
     "output_type": "stream",
     "text": [
      "Multiplier 1.3333333333333333. Tier 2.0. Exponent 2\n",
      "Multiplier 1.3333333333333333. Tier 2.0. Exponent 2\n",
      "Multiplier 1.3333333333333333. Tier 2.0. Exponent 2\n",
      "Multiplier 1.3333333333333333. Tier 2.0. Exponent 2\n",
      "Multiplier 1.3333333333333333. Tier 2.0. Exponent 2\n",
      "Multiplier 1.3333333333333333. Tier 2.0. Exponent 2\n",
      "Multiplier 1.3333333333333333. Tier 2.0. Exponent 2\n",
      "Multiplier 1.3333333333333333. Tier 2.0. Exponent 2\n"
     ]
    },
    {
     "name": "stderr",
     "output_type": "stream",
     "text": [
      "Processing matches:  20%|█▉        | 2501/12699 [01:12<04:56, 34.36it/s]"
     ]
    },
    {
     "name": "stdout",
     "output_type": "stream",
     "text": [
      "Multiplier 1.3333333333333333. Tier 2.0. Exponent 2\n",
      "Multiplier 1.3333333333333333. Tier 2.0. Exponent 2\n",
      "Multiplier 1.3333333333333333. Tier 2.0. Exponent 2\n",
      "Multiplier 1.3333333333333333. Tier 2.0. Exponent 2\n",
      "Multiplier 1.3333333333333333. Tier 2.0. Exponent 2\n",
      "Multiplier 1.3333333333333333. Tier 2.0. Exponent 2\n",
      "Multiplier 1.3333333333333333. Tier 2.0. Exponent 2\n",
      "Multiplier 1.3333333333333333. Tier 2.0. Exponent 2\n"
     ]
    },
    {
     "name": "stderr",
     "output_type": "stream",
     "text": [
      "Processing matches:  20%|█▉        | 2509/12699 [01:12<05:03, 33.59it/s]"
     ]
    },
    {
     "name": "stdout",
     "output_type": "stream",
     "text": [
      "Multiplier 1.3333333333333333. Tier 2.0. Exponent 2\n",
      "Multiplier 1.3333333333333333. Tier 2.0. Exponent 2\n",
      "Multiplier 1.3333333333333333. Tier 2.0. Exponent 2\n",
      "Multiplier 1.3333333333333333. Tier 2.0. Exponent 2\n",
      "Multiplier 1.3333333333333333. Tier 2.0. Exponent 2\n",
      "Multiplier 1.3333333333333333. Tier 2.0. Exponent 2\n",
      "Multiplier 1.3333333333333333. Tier 2.0. Exponent 2\n"
     ]
    },
    {
     "name": "stderr",
     "output_type": "stream",
     "text": [
      "Processing matches:  20%|█▉        | 2517/12699 [01:12<05:05, 33.28it/s]"
     ]
    },
    {
     "name": "stdout",
     "output_type": "stream",
     "text": [
      "Multiplier 1.3333333333333333. Tier 2.0. Exponent 2\n",
      "Multiplier 1.3333333333333333. Tier 2.0. Exponent 2\n",
      "Multiplier 1.3333333333333333. Tier 2.0. Exponent 2\n",
      "Multiplier 1.3333333333333333. Tier 2.0. Exponent 2\n",
      "Multiplier 1.3333333333333333. Tier 2.0. Exponent 2\n",
      "Multiplier 1.3333333333333333. Tier 2.0. Exponent 2\n"
     ]
    },
    {
     "name": "stderr",
     "output_type": "stream",
     "text": [
      "Processing matches:  20%|█▉        | 2521/12699 [01:12<04:55, 34.44it/s]"
     ]
    },
    {
     "name": "stdout",
     "output_type": "stream",
     "text": [
      "Multiplier 1.3333333333333333. Tier 2.0. Exponent 2\n",
      "Multiplier 1.3333333333333333. Tier 2.0. Exponent 2\n",
      "Multiplier 1.3333333333333333. Tier 2.0. Exponent 2\n",
      "Multiplier 1.3333333333333333. Tier 2.0. Exponent 2\n",
      "Multiplier 1.3333333333333333. Tier 2.0. Exponent 2\n",
      "Multiplier 1.3333333333333333. Tier 2.0. Exponent 2\n",
      "Multiplier 1.3333333333333333. Tier 2.0. Exponent 2\n"
     ]
    },
    {
     "name": "stderr",
     "output_type": "stream",
     "text": [
      "Processing matches:  20%|█▉        | 2529/12699 [01:13<04:57, 34.15it/s]"
     ]
    },
    {
     "name": "stdout",
     "output_type": "stream",
     "text": [
      "Multiplier 1.3333333333333333. Tier 2.0. Exponent 2\n",
      "Multiplier 1.3333333333333333. Tier 2.0. Exponent 2\n",
      "Multiplier 1.3333333333333333. Tier 2.0. Exponent 2\n",
      "Multiplier 1.3333333333333333. Tier 2.0. Exponent 2\n",
      "Multiplier 1.3333333333333333. Tier 2.0. Exponent 2\n",
      "Multiplier 1.3333333333333333. Tier 2.0. Exponent 2\n",
      "Multiplier 1.3333333333333333. Tier 2.0. Exponent 2\n",
      "Multiplier 1.3333333333333333. Tier 2.0. Exponent 2\n"
     ]
    },
    {
     "name": "stderr",
     "output_type": "stream",
     "text": [
      "Processing matches:  20%|█▉        | 2537/12699 [01:13<04:52, 34.77it/s]"
     ]
    },
    {
     "name": "stdout",
     "output_type": "stream",
     "text": [
      "Multiplier 0.48. Tier 4.0. Exponent 2\n",
      "Multiplier 0.48. Tier 4.0. Exponent 2\n",
      "Multiplier 0.48. Tier 4.0. Exponent 2\n",
      "Multiplier 0.48. Tier 4.0. Exponent 2\n",
      "Multiplier 0.48. Tier 4.0. Exponent 2\n",
      "Multiplier 0.48. Tier 4.0. Exponent 2\n",
      "Multiplier 1.3333333333333333. Tier 2.0. Exponent 2\n"
     ]
    },
    {
     "name": "stderr",
     "output_type": "stream",
     "text": [
      "Processing matches:  20%|██        | 2545/12699 [01:13<05:08, 32.87it/s]"
     ]
    },
    {
     "name": "stdout",
     "output_type": "stream",
     "text": [
      "Multiplier 0.48. Tier 4.0. Exponent 2\n",
      "Multiplier 0.48. Tier 4.0. Exponent 2\n",
      "Multiplier 0.48. Tier 4.0. Exponent 2\n",
      "Multiplier 0.48. Tier 4.0. Exponent 2\n",
      "Multiplier 0.48. Tier 4.0. Exponent 2\n",
      "Multiplier 0.48. Tier 4.0. Exponent 2\n",
      "Multiplier 1.3333333333333333. Tier 2.0. Exponent 2\n"
     ]
    },
    {
     "name": "stderr",
     "output_type": "stream",
     "text": [
      "Processing matches:  20%|██        | 2549/12699 [01:13<05:11, 32.62it/s]"
     ]
    },
    {
     "name": "stdout",
     "output_type": "stream",
     "text": [
      "Multiplier 1.3333333333333333. Tier 2.0. Exponent 2\n",
      "Multiplier 1.3333333333333333. Tier 2.0. Exponent 2\n",
      "Multiplier 1.3333333333333333. Tier 2.0. Exponent 2\n",
      "Multiplier 1.3333333333333333. Tier 2.0. Exponent 2\n",
      "Multiplier 1.3333333333333333. Tier 2.0. Exponent 2\n",
      "Multiplier 1.3333333333333333. Tier 2.0. Exponent 2\n",
      "Multiplier 1.3333333333333333. Tier 2.0. Exponent 2\n"
     ]
    },
    {
     "name": "stderr",
     "output_type": "stream",
     "text": [
      "Processing matches:  20%|██        | 2557/12699 [01:13<05:20, 31.64it/s]"
     ]
    },
    {
     "name": "stdout",
     "output_type": "stream",
     "text": [
      "Multiplier 1.3333333333333333. Tier 2.0. Exponent 2\n",
      "Multiplier 1.3333333333333333. Tier 2.0. Exponent 2\n",
      "Multiplier 1.3333333333333333. Tier 2.0. Exponent 2\n",
      "Multiplier 1.3333333333333333. Tier 2.0. Exponent 2\n",
      "Multiplier 1.3333333333333333. Tier 2.0. Exponent 2\n",
      "Multiplier 1.3333333333333333. Tier 2.0. Exponent 2\n"
     ]
    },
    {
     "name": "stderr",
     "output_type": "stream",
     "text": [
      "Processing matches:  20%|██        | 2565/12699 [01:14<05:04, 33.27it/s]"
     ]
    },
    {
     "name": "stdout",
     "output_type": "stream",
     "text": [
      "Multiplier 1.3333333333333333. Tier 2.0. Exponent 2\n",
      "Multiplier 1.3333333333333333. Tier 2.0. Exponent 2\n",
      "Multiplier 1.3333333333333333. Tier 2.0. Exponent 2\n",
      "Multiplier 1.3333333333333333. Tier 2.0. Exponent 2\n",
      "Multiplier 1.3333333333333333. Tier 2.0. Exponent 2\n",
      "Multiplier 1.3333333333333333. Tier 2.0. Exponent 2\n",
      "Multiplier 1.3333333333333333. Tier 2.0. Exponent 2\n"
     ]
    },
    {
     "name": "stderr",
     "output_type": "stream",
     "text": [
      "Processing matches:  20%|██        | 2569/12699 [01:14<05:04, 33.25it/s]"
     ]
    },
    {
     "name": "stdout",
     "output_type": "stream",
     "text": [
      "Multiplier 1.3333333333333333. Tier 2.0. Exponent 2\n",
      "Multiplier 1.3333333333333333. Tier 2.0. Exponent 2\n",
      "Multiplier 1.3333333333333333. Tier 2.0. Exponent 2\n",
      "Multiplier 1.3333333333333333. Tier 2.0. Exponent 2\n",
      "Multiplier 1.3333333333333333. Tier 2.0. Exponent 2\n",
      "Multiplier 1.3333333333333333. Tier 2.0. Exponent 2\n"
     ]
    },
    {
     "name": "stderr",
     "output_type": "stream",
     "text": [
      "Processing matches:  20%|██        | 2577/12699 [01:14<05:02, 33.46it/s]"
     ]
    },
    {
     "name": "stdout",
     "output_type": "stream",
     "text": [
      "Multiplier 1.3333333333333333. Tier 2.0. Exponent 2\n",
      "Multiplier 1.3333333333333333. Tier 2.0. Exponent 2\n",
      "Multiplier 1.3333333333333333. Tier 2.0. Exponent 2\n",
      "Multiplier 1.3333333333333333. Tier 2.0. Exponent 2\n",
      "Multiplier 1.3333333333333333. Tier 2.0. Exponent 2\n",
      "Multiplier 0.48. Tier 4.0. Exponent 2\n",
      "Multiplier 0.48. Tier 4.0. Exponent 2\n"
     ]
    },
    {
     "name": "stderr",
     "output_type": "stream",
     "text": [
      "Processing matches:  20%|██        | 2585/12699 [01:14<05:17, 31.87it/s]"
     ]
    },
    {
     "name": "stdout",
     "output_type": "stream",
     "text": [
      "Multiplier 1.3333333333333333. Tier 2.0. Exponent 2\n",
      "Multiplier 0.48. Tier 4.0. Exponent 2\n",
      "Multiplier 0.48. Tier 4.0. Exponent 2\n",
      "Multiplier 0.48. Tier 4.0. Exponent 2\n",
      "Multiplier 0.48. Tier 4.0. Exponent 2\n",
      "Multiplier 0.48. Tier 4.0. Exponent 2\n"
     ]
    },
    {
     "name": "stderr",
     "output_type": "stream",
     "text": [
      "Processing matches:  20%|██        | 2589/12699 [01:14<05:06, 32.96it/s]"
     ]
    },
    {
     "name": "stdout",
     "output_type": "stream",
     "text": [
      "Multiplier 0.48. Tier 4.0. Exponent 2\n",
      "Multiplier 0.48. Tier 4.0. Exponent 2\n",
      "Multiplier 0.48. Tier 4.0. Exponent 2\n",
      "Multiplier 0.48. Tier 4.0. Exponent 2\n",
      "Multiplier 0.48. Tier 4.0. Exponent 2\n",
      "Multiplier 0.48. Tier 4.0. Exponent 2\n",
      "Multiplier 0.48. Tier 4.0. Exponent 2\n"
     ]
    },
    {
     "name": "stderr",
     "output_type": "stream",
     "text": [
      "Processing matches:  20%|██        | 2597/12699 [01:15<05:01, 33.55it/s]"
     ]
    },
    {
     "name": "stdout",
     "output_type": "stream",
     "text": [
      "Multiplier 0.48. Tier 4.0. Exponent 2\n",
      "Multiplier 0.48. Tier 4.0. Exponent 2\n",
      "Multiplier 0.48. Tier 4.0. Exponent 2\n",
      "Multiplier 0.48. Tier 4.0. Exponent 2\n",
      "Multiplier 0.48. Tier 4.0. Exponent 2\n",
      "Multiplier 0.48. Tier 4.0. Exponent 2\n",
      "Multiplier 0.48. Tier 4.0. Exponent 2\n",
      "Multiplier 0.48. Tier 4.0. Exponent 2\n"
     ]
    },
    {
     "name": "stderr",
     "output_type": "stream",
     "text": [
      "Processing matches:  21%|██        | 2605/12699 [01:15<05:00, 33.54it/s]"
     ]
    },
    {
     "name": "stdout",
     "output_type": "stream",
     "text": [
      "Multiplier 0.48. Tier 4.0. Exponent 2\n",
      "Multiplier 0.48. Tier 4.0. Exponent 2\n",
      "Multiplier 0.48. Tier 4.0. Exponent 2\n",
      "Multiplier 0.48. Tier 4.0. Exponent 2\n",
      "Multiplier 0.48. Tier 4.0. Exponent 2\n",
      "Multiplier 0.48. Tier 4.0. Exponent 2\n",
      "Multiplier 0.48. Tier 4.0. Exponent 2\n"
     ]
    },
    {
     "name": "stderr",
     "output_type": "stream",
     "text": [
      "Processing matches:  21%|██        | 2613/12699 [01:15<04:56, 34.04it/s]"
     ]
    },
    {
     "name": "stdout",
     "output_type": "stream",
     "text": [
      "Multiplier 0.48. Tier 4.0. Exponent 2\n",
      "Multiplier 0.48. Tier 4.0. Exponent 2\n",
      "Multiplier 1.3333333333333333. Tier 2.0. Exponent 2\n",
      "Multiplier 0.48. Tier 4.0. Exponent 2\n",
      "Multiplier 0.48. Tier 4.0. Exponent 2\n",
      "Multiplier 0.48. Tier 4.0. Exponent 2\n",
      "Multiplier 0.48. Tier 4.0. Exponent 2\n",
      "Multiplier 0.48. Tier 4.0. Exponent 2\n"
     ]
    },
    {
     "name": "stderr",
     "output_type": "stream",
     "text": [
      "Processing matches:  21%|██        | 2621/12699 [01:15<04:46, 35.21it/s]"
     ]
    },
    {
     "name": "stdout",
     "output_type": "stream",
     "text": [
      "Multiplier 0.48. Tier 4.0. Exponent 2\n",
      "Multiplier 0.48. Tier 4.0. Exponent 2\n",
      "Multiplier 0.48. Tier 4.0. Exponent 2\n",
      "Multiplier 0.48. Tier 4.0. Exponent 2\n",
      "Multiplier 0.48. Tier 4.0. Exponent 2\n",
      "Multiplier 0.48. Tier 4.0. Exponent 2\n",
      "Multiplier 0.48. Tier 4.0. Exponent 2\n",
      "Multiplier 0.48. Tier 4.0. Exponent 2\n"
     ]
    },
    {
     "name": "stderr",
     "output_type": "stream",
     "text": [
      "Processing matches:  21%|██        | 2629/12699 [01:16<04:44, 35.44it/s]"
     ]
    },
    {
     "name": "stdout",
     "output_type": "stream",
     "text": [
      "Multiplier 0.48. Tier 4.0. Exponent 2\n",
      "Multiplier 0.48. Tier 4.0. Exponent 2\n",
      "Multiplier 0.48. Tier 4.0. Exponent 2\n",
      "Multiplier 0.48. Tier 4.0. Exponent 2\n",
      "Multiplier 0.48. Tier 4.0. Exponent 2\n",
      "Multiplier 0.48. Tier 4.0. Exponent 2\n",
      "Multiplier 0.48. Tier 4.0. Exponent 2\n",
      "Multiplier 0.48. Tier 4.0. Exponent 2\n"
     ]
    },
    {
     "name": "stderr",
     "output_type": "stream",
     "text": [
      "Processing matches:  21%|██        | 2637/12699 [01:16<04:56, 33.97it/s]"
     ]
    },
    {
     "name": "stdout",
     "output_type": "stream",
     "text": [
      "Multiplier 0.48. Tier 4.0. Exponent 2\n",
      "Multiplier 0.48. Tier 4.0. Exponent 2\n",
      "Multiplier 0.48. Tier 4.0. Exponent 2\n",
      "Multiplier 0.48. Tier 4.0. Exponent 2\n",
      "Multiplier 1.3333333333333333. Tier 2.0. Exponent 2\n",
      "Multiplier 1.3333333333333333. Tier 2.0. Exponent 2\n"
     ]
    },
    {
     "name": "stderr",
     "output_type": "stream",
     "text": [
      "Processing matches:  21%|██        | 2641/12699 [01:16<04:54, 34.10it/s]"
     ]
    },
    {
     "name": "stdout",
     "output_type": "stream",
     "text": [
      "Multiplier 0.48. Tier 4.0. Exponent 2\n",
      "Multiplier 0.48. Tier 4.0. Exponent 2\n",
      "Multiplier 0.48. Tier 4.0. Exponent 2\n",
      "Multiplier 0.48. Tier 4.0. Exponent 2\n",
      "Multiplier 0.48. Tier 4.0. Exponent 2\n",
      "Multiplier 0.48. Tier 4.0. Exponent 2\n",
      "Multiplier 0.48. Tier 4.0. Exponent 2\n"
     ]
    },
    {
     "name": "stderr",
     "output_type": "stream",
     "text": [
      "Processing matches:  21%|██        | 2649/12699 [01:16<04:53, 34.24it/s]"
     ]
    },
    {
     "name": "stdout",
     "output_type": "stream",
     "text": [
      "Multiplier 0.48. Tier 4.0. Exponent 2\n",
      "Multiplier 0.48. Tier 4.0. Exponent 2\n",
      "Multiplier 0.48. Tier 4.0. Exponent 2\n",
      "Multiplier 0.48. Tier 4.0. Exponent 2\n",
      "Multiplier 0.48. Tier 4.0. Exponent 2\n",
      "Multiplier 0.48. Tier 4.0. Exponent 2\n",
      "Multiplier 0.48. Tier 4.0. Exponent 2\n",
      "Multiplier 0.48. Tier 4.0. Exponent 2\n"
     ]
    },
    {
     "name": "stderr",
     "output_type": "stream",
     "text": [
      "Processing matches:  21%|██        | 2657/12699 [01:16<05:19, 31.39it/s]"
     ]
    },
    {
     "name": "stdout",
     "output_type": "stream",
     "text": [
      "Multiplier 0.48. Tier 4.0. Exponent 2\n",
      "Multiplier 0.48. Tier 4.0. Exponent 2\n",
      "Multiplier 0.48. Tier 4.0. Exponent 2\n",
      "Multiplier 1.3333333333333333. Tier 2.0. Exponent 2\n",
      "Multiplier 0.48. Tier 4.0. Exponent 2\n",
      "Multiplier 0.48. Tier 4.0. Exponent 2\n"
     ]
    },
    {
     "name": "stderr",
     "output_type": "stream",
     "text": [
      "Processing matches:  21%|██        | 2665/12699 [01:17<05:09, 32.37it/s]"
     ]
    },
    {
     "name": "stdout",
     "output_type": "stream",
     "text": [
      "Multiplier 0.48. Tier 4.0. Exponent 2\n",
      "Multiplier 0.48. Tier 4.0. Exponent 2\n",
      "Multiplier 0.48. Tier 4.0. Exponent 2\n",
      "Multiplier 0.48. Tier 4.0. Exponent 2\n",
      "Multiplier 0.48. Tier 4.0. Exponent 2\n",
      "Multiplier 0.48. Tier 4.0. Exponent 2\n",
      "Multiplier 0.48. Tier 4.0. Exponent 2\n"
     ]
    },
    {
     "name": "stderr",
     "output_type": "stream",
     "text": [
      "Processing matches:  21%|██        | 2669/12699 [01:17<05:16, 31.73it/s]"
     ]
    },
    {
     "name": "stdout",
     "output_type": "stream",
     "text": [
      "Multiplier 1.3333333333333333. Tier 2.0. Exponent 2\n",
      "Multiplier 1.3333333333333333. Tier 2.0. Exponent 2\n",
      "Multiplier 1.3333333333333333. Tier 2.0. Exponent 2\n",
      "Multiplier 1.3333333333333333. Tier 2.0. Exponent 2\n",
      "Multiplier 1.3333333333333333. Tier 2.0. Exponent 2\n",
      "Multiplier 1.3333333333333333. Tier 2.0. Exponent 2\n"
     ]
    },
    {
     "name": "stderr",
     "output_type": "stream",
     "text": [
      "Processing matches:  21%|██        | 2677/12699 [01:17<05:01, 33.27it/s]"
     ]
    },
    {
     "name": "stdout",
     "output_type": "stream",
     "text": [
      "Multiplier 1.3333333333333333. Tier 2.0. Exponent 2\n",
      "Multiplier 1.3333333333333333. Tier 2.0. Exponent 2\n",
      "Multiplier 1.3333333333333333. Tier 2.0. Exponent 2\n",
      "Multiplier 1.3333333333333333. Tier 2.0. Exponent 2\n",
      "Multiplier 1.3333333333333333. Tier 2.0. Exponent 2\n",
      "Multiplier 1.3333333333333333. Tier 2.0. Exponent 2\n",
      "Multiplier 1.3333333333333333. Tier 2.0. Exponent 2\n",
      "Multiplier 1.3333333333333333. Tier 2.0. Exponent 2\n"
     ]
    },
    {
     "name": "stderr",
     "output_type": "stream",
     "text": [
      "Processing matches:  21%|██        | 2685/12699 [01:17<04:51, 34.31it/s]"
     ]
    },
    {
     "name": "stdout",
     "output_type": "stream",
     "text": [
      "Multiplier 1.3333333333333333. Tier 2.0. Exponent 2\n",
      "Multiplier 1.3333333333333333. Tier 2.0. Exponent 2\n",
      "Multiplier 1.3333333333333333. Tier 2.0. Exponent 2\n",
      "Multiplier 1.3333333333333333. Tier 2.0. Exponent 2\n",
      "Multiplier 1.3333333333333333. Tier 2.0. Exponent 2\n",
      "Multiplier 1.3333333333333333. Tier 2.0. Exponent 2\n",
      "Multiplier 1.3333333333333333. Tier 2.0. Exponent 2\n",
      "Multiplier 1.3333333333333333. Tier 2.0. Exponent 2\n"
     ]
    },
    {
     "name": "stderr",
     "output_type": "stream",
     "text": [
      "Processing matches:  21%|██        | 2693/12699 [01:18<05:00, 33.32it/s]"
     ]
    },
    {
     "name": "stdout",
     "output_type": "stream",
     "text": [
      "Multiplier 1.3333333333333333. Tier 2.0. Exponent 2\n",
      "Multiplier 1.3333333333333333. Tier 2.0. Exponent 2\n",
      "Multiplier 1.3333333333333333. Tier 2.0. Exponent 2\n",
      "Multiplier 0.48. Tier 4.0. Exponent 2\n",
      "Multiplier 0.48. Tier 4.0. Exponent 2\n",
      "Multiplier 1.3333333333333333. Tier 2.0. Exponent 2\n"
     ]
    },
    {
     "name": "stderr",
     "output_type": "stream",
     "text": [
      "Processing matches:  21%|██        | 2697/12699 [01:18<05:03, 32.94it/s]"
     ]
    },
    {
     "name": "stdout",
     "output_type": "stream",
     "text": [
      "Multiplier 1.3333333333333333. Tier 2.0. Exponent 2\n",
      "Multiplier 0.48. Tier 4.0. Exponent 2\n",
      "Multiplier 1.3333333333333333. Tier 2.0. Exponent 2\n",
      "Multiplier 1.3333333333333333. Tier 2.0. Exponent 2\n",
      "Multiplier 0.48. Tier 4.0. Exponent 2\n",
      "Multiplier 1.3333333333333333. Tier 2.0. Exponent 2\n",
      "Multiplier 1.3333333333333333. Tier 2.0. Exponent 2\n"
     ]
    },
    {
     "name": "stderr",
     "output_type": "stream",
     "text": [
      "Processing matches:  21%|██▏       | 2705/12699 [01:18<05:15, 31.73it/s]"
     ]
    },
    {
     "name": "stdout",
     "output_type": "stream",
     "text": [
      "Multiplier 1.3333333333333333. Tier 2.0. Exponent 2\n",
      "Multiplier 1.3333333333333333. Tier 2.0. Exponent 2\n",
      "Multiplier 1.3333333333333333. Tier 2.0. Exponent 2\n",
      "Multiplier 1.3333333333333333. Tier 2.0. Exponent 2\n",
      "Multiplier 1.3333333333333333. Tier 2.0. Exponent 2\n",
      "Multiplier 1.3333333333333333. Tier 2.0. Exponent 2\n",
      "Multiplier 1.3333333333333333. Tier 2.0. Exponent 2\n"
     ]
    },
    {
     "name": "stderr",
     "output_type": "stream",
     "text": [
      "Processing matches:  21%|██▏       | 2713/12699 [01:18<04:52, 34.16it/s]"
     ]
    },
    {
     "name": "stdout",
     "output_type": "stream",
     "text": [
      "Multiplier 1.3333333333333333. Tier 2.0. Exponent 2\n",
      "Multiplier 1.3333333333333333. Tier 2.0. Exponent 2\n",
      "Multiplier 1.3333333333333333. Tier 2.0. Exponent 2\n",
      "Multiplier 1.3333333333333333. Tier 2.0. Exponent 2\n",
      "Multiplier 1.3333333333333333. Tier 2.0. Exponent 2\n",
      "Multiplier 1.3333333333333333. Tier 2.0. Exponent 2\n",
      "Multiplier 1.3333333333333333. Tier 2.0. Exponent 2\n",
      "Multiplier 1.3333333333333333. Tier 2.0. Exponent 2\n"
     ]
    },
    {
     "name": "stderr",
     "output_type": "stream",
     "text": [
      "Processing matches:  21%|██▏       | 2721/12699 [01:18<04:44, 35.07it/s]"
     ]
    },
    {
     "name": "stdout",
     "output_type": "stream",
     "text": [
      "Multiplier 1.3333333333333333. Tier 2.0. Exponent 2\n",
      "Multiplier 1.3333333333333333. Tier 2.0. Exponent 2\n",
      "Multiplier 1.3333333333333333. Tier 2.0. Exponent 2\n",
      "Multiplier 1.3333333333333333. Tier 2.0. Exponent 2\n",
      "Multiplier 1.3333333333333333. Tier 2.0. Exponent 2\n",
      "Multiplier 1.3333333333333333. Tier 2.0. Exponent 2\n",
      "Multiplier 1.3333333333333333. Tier 2.0. Exponent 2\n"
     ]
    },
    {
     "name": "stderr",
     "output_type": "stream",
     "text": [
      "Processing matches:  21%|██▏       | 2725/12699 [01:18<04:55, 33.80it/s]"
     ]
    },
    {
     "name": "stdout",
     "output_type": "stream",
     "text": [
      "Multiplier 1.3333333333333333. Tier 2.0. Exponent 2\n",
      "Multiplier 1.3333333333333333. Tier 2.0. Exponent 2\n",
      "Multiplier 1.3333333333333333. Tier 2.0. Exponent 2\n",
      "Multiplier 1.3333333333333333. Tier 2.0. Exponent 2\n",
      "Multiplier 1.3333333333333333. Tier 2.0. Exponent 2\n",
      "Multiplier 1.3333333333333333. Tier 2.0. Exponent 2\n",
      "Multiplier 1.3333333333333333. Tier 2.0. Exponent 2\n"
     ]
    },
    {
     "name": "stderr",
     "output_type": "stream",
     "text": [
      "Processing matches:  22%|██▏       | 2733/12699 [01:19<05:19, 31.24it/s]"
     ]
    },
    {
     "name": "stdout",
     "output_type": "stream",
     "text": [
      "Multiplier 1.3333333333333333. Tier 2.0. Exponent 2\n",
      "Multiplier 1.3333333333333333. Tier 2.0. Exponent 2\n",
      "Multiplier 1.3333333333333333. Tier 2.0. Exponent 2\n",
      "Multiplier 1.3333333333333333. Tier 2.0. Exponent 2\n",
      "Multiplier 1.3333333333333333. Tier 2.0. Exponent 2\n",
      "Multiplier 1.3333333333333333. Tier 2.0. Exponent 2\n",
      "Multiplier 1.3333333333333333. Tier 2.0. Exponent 2\n"
     ]
    },
    {
     "name": "stderr",
     "output_type": "stream",
     "text": [
      "Processing matches:  22%|██▏       | 2741/12699 [01:19<05:18, 31.28it/s]"
     ]
    },
    {
     "name": "stdout",
     "output_type": "stream",
     "text": [
      "Multiplier 1.3333333333333333. Tier 2.0. Exponent 2\n",
      "Multiplier 1.3333333333333333. Tier 2.0. Exponent 2\n",
      "Multiplier 1.3333333333333333. Tier 2.0. Exponent 2\n",
      "Multiplier 0.75. Tier 3.0. Exponent 2\n",
      "Multiplier 0.75. Tier 3.0. Exponent 2\n",
      "Multiplier 0.75. Tier 3.0. Exponent 2\n",
      "Multiplier 0.75. Tier 3.0. Exponent 2\n"
     ]
    },
    {
     "name": "stderr",
     "output_type": "stream",
     "text": [
      "Processing matches:  22%|██▏       | 2749/12699 [01:19<05:01, 32.96it/s]"
     ]
    },
    {
     "name": "stdout",
     "output_type": "stream",
     "text": [
      "Multiplier 0.75. Tier 3.0. Exponent 2\n",
      "Multiplier 0.75. Tier 3.0. Exponent 2\n",
      "Multiplier 0.75. Tier 3.0. Exponent 2\n",
      "Multiplier 0.75. Tier 3.0. Exponent 2\n",
      "Multiplier 0.75. Tier 3.0. Exponent 2\n",
      "Multiplier 0.75. Tier 3.0. Exponent 2\n",
      "Multiplier 0.75. Tier 3.0. Exponent 2\n",
      "Multiplier 0.75. Tier 3.0. Exponent 2\n"
     ]
    },
    {
     "name": "stderr",
     "output_type": "stream",
     "text": [
      "Processing matches:  22%|██▏       | 2757/12699 [01:19<04:57, 33.40it/s]"
     ]
    },
    {
     "name": "stdout",
     "output_type": "stream",
     "text": [
      "Multiplier 0.75. Tier 3.0. Exponent 2\n",
      "Multiplier 0.75. Tier 3.0. Exponent 2\n",
      "Multiplier 0.75. Tier 3.0. Exponent 2\n",
      "Multiplier 0.48. Tier 4.0. Exponent 2\n",
      "Multiplier 0.48. Tier 4.0. Exponent 2\n",
      "Multiplier 0.48. Tier 4.0. Exponent 2\n",
      "Multiplier 0.48. Tier 4.0. Exponent 2\n",
      "Multiplier 0.48. Tier 4.0. Exponent 2\n"
     ]
    },
    {
     "name": "stderr",
     "output_type": "stream",
     "text": [
      "Processing matches:  22%|██▏       | 2766/12699 [01:20<04:36, 35.92it/s]"
     ]
    },
    {
     "name": "stdout",
     "output_type": "stream",
     "text": [
      "Multiplier 0.48. Tier 4.0. Exponent 2\n",
      "Multiplier 0.48. Tier 4.0. Exponent 2\n",
      "Multiplier 0.48. Tier 4.0. Exponent 2\n",
      "Multiplier 0.48. Tier 4.0. Exponent 2\n",
      "Multiplier 0.48. Tier 4.0. Exponent 2\n",
      "Multiplier 0.48. Tier 4.0. Exponent 2\n",
      "Multiplier 0.48. Tier 4.0. Exponent 2\n",
      "Multiplier 0.48. Tier 4.0. Exponent 2\n",
      "Multiplier 0.48. Tier 4.0. Exponent 2\n"
     ]
    },
    {
     "name": "stderr",
     "output_type": "stream",
     "text": [
      "Processing matches:  22%|██▏       | 2774/12699 [01:20<04:24, 37.50it/s]"
     ]
    },
    {
     "name": "stdout",
     "output_type": "stream",
     "text": [
      "Multiplier 0.48. Tier 4.0. Exponent 2\n",
      "Multiplier 0.48. Tier 4.0. Exponent 2\n",
      "Multiplier 0.48. Tier 4.0. Exponent 2\n",
      "Multiplier 0.48. Tier 4.0. Exponent 2\n",
      "Multiplier 0.48. Tier 4.0. Exponent 2\n",
      "Multiplier 0.48. Tier 4.0. Exponent 2\n",
      "Multiplier 0.48. Tier 4.0. Exponent 2\n",
      "Multiplier 0.48. Tier 4.0. Exponent 2\n",
      "Multiplier 0.48. Tier 4.0. Exponent 2\n"
     ]
    },
    {
     "name": "stderr",
     "output_type": "stream",
     "text": [
      "Processing matches:  22%|██▏       | 2782/12699 [01:20<04:20, 38.11it/s]"
     ]
    },
    {
     "name": "stdout",
     "output_type": "stream",
     "text": [
      "Multiplier 0.48. Tier 4.0. Exponent 2\n",
      "Multiplier 0.48. Tier 4.0. Exponent 2\n",
      "Multiplier 0.48. Tier 4.0. Exponent 2\n",
      "Multiplier 0.48. Tier 4.0. Exponent 2\n",
      "Multiplier 0.48. Tier 4.0. Exponent 2\n",
      "Multiplier 0.48. Tier 4.0. Exponent 2\n",
      "Multiplier 0.48. Tier 4.0. Exponent 2\n",
      "Multiplier 0.48. Tier 4.0. Exponent 2\n"
     ]
    },
    {
     "name": "stderr",
     "output_type": "stream",
     "text": [
      "Processing matches:  22%|██▏       | 2790/12699 [01:20<04:35, 35.93it/s]"
     ]
    },
    {
     "name": "stdout",
     "output_type": "stream",
     "text": [
      "Multiplier 0.48. Tier 4.0. Exponent 2\n",
      "Multiplier 0.48. Tier 4.0. Exponent 2\n",
      "Multiplier 0.48. Tier 4.0. Exponent 2\n",
      "Multiplier 0.48. Tier 4.0. Exponent 2\n",
      "Multiplier 0.48. Tier 4.0. Exponent 2\n",
      "Multiplier 0.48. Tier 4.0. Exponent 2\n",
      "Multiplier 0.48. Tier 4.0. Exponent 2\n",
      "Multiplier 0.48. Tier 4.0. Exponent 2\n"
     ]
    },
    {
     "name": "stderr",
     "output_type": "stream",
     "text": [
      "Processing matches:  22%|██▏       | 2798/12699 [01:21<04:59, 33.09it/s]"
     ]
    },
    {
     "name": "stdout",
     "output_type": "stream",
     "text": [
      "Multiplier 0.48. Tier 4.0. Exponent 2\n",
      "Multiplier 0.48. Tier 4.0. Exponent 2\n",
      "Multiplier 0.48. Tier 4.0. Exponent 2\n",
      "Multiplier 0.48. Tier 4.0. Exponent 2\n",
      "Multiplier 0.48. Tier 4.0. Exponent 2\n",
      "Multiplier 0.48. Tier 4.0. Exponent 2\n",
      "Multiplier 0.48. Tier 4.0. Exponent 2\n"
     ]
    },
    {
     "name": "stderr",
     "output_type": "stream",
     "text": [
      "Processing matches:  22%|██▏       | 2806/12699 [01:21<04:50, 34.08it/s]"
     ]
    },
    {
     "name": "stdout",
     "output_type": "stream",
     "text": [
      "Multiplier 0.48. Tier 4.0. Exponent 2\n",
      "Multiplier 0.48. Tier 4.0. Exponent 2\n",
      "Multiplier 0.48. Tier 4.0. Exponent 2\n",
      "Multiplier 0.48. Tier 4.0. Exponent 2\n",
      "Multiplier 0.48. Tier 4.0. Exponent 2\n",
      "Multiplier 0.48. Tier 4.0. Exponent 2\n",
      "Multiplier 0.48. Tier 4.0. Exponent 2\n",
      "Multiplier 0.48. Tier 4.0. Exponent 2\n"
     ]
    },
    {
     "name": "stderr",
     "output_type": "stream",
     "text": [
      "Processing matches:  22%|██▏       | 2814/12699 [01:21<04:43, 34.87it/s]"
     ]
    },
    {
     "name": "stdout",
     "output_type": "stream",
     "text": [
      "Multiplier 0.48. Tier 4.0. Exponent 2\n",
      "Multiplier 0.48. Tier 4.0. Exponent 2\n",
      "Multiplier 0.48. Tier 4.0. Exponent 2\n",
      "Multiplier 0.48. Tier 4.0. Exponent 2\n",
      "Multiplier 0.48. Tier 4.0. Exponent 2\n",
      "Multiplier 0.48. Tier 4.0. Exponent 2\n",
      "Multiplier 0.48. Tier 4.0. Exponent 2\n",
      "Multiplier 0.48. Tier 4.0. Exponent 2\n"
     ]
    },
    {
     "name": "stderr",
     "output_type": "stream",
     "text": [
      "Processing matches:  22%|██▏       | 2822/12699 [01:21<04:26, 37.11it/s]"
     ]
    },
    {
     "name": "stdout",
     "output_type": "stream",
     "text": [
      "Multiplier 0.48. Tier 4.0. Exponent 2\n",
      "Multiplier 0.48. Tier 4.0. Exponent 2\n",
      "Multiplier 0.48. Tier 4.0. Exponent 2\n",
      "Multiplier 0.48. Tier 4.0. Exponent 2\n",
      "Multiplier 0.48. Tier 4.0. Exponent 2\n",
      "Multiplier 0.48. Tier 4.0. Exponent 2\n",
      "Multiplier 0.48. Tier 4.0. Exponent 2\n",
      "Multiplier 0.48. Tier 4.0. Exponent 2\n"
     ]
    },
    {
     "name": "stderr",
     "output_type": "stream",
     "text": [
      "Processing matches:  22%|██▏       | 2830/12699 [01:21<04:24, 37.28it/s]"
     ]
    },
    {
     "name": "stdout",
     "output_type": "stream",
     "text": [
      "Multiplier 0.48. Tier 4.0. Exponent 2\n",
      "Multiplier 0.48. Tier 4.0. Exponent 2\n",
      "Multiplier 0.48. Tier 4.0. Exponent 2\n",
      "Multiplier 0.48. Tier 4.0. Exponent 2\n",
      "Multiplier 0.48. Tier 4.0. Exponent 2\n",
      "Multiplier 0.48. Tier 4.0. Exponent 2\n",
      "Multiplier 0.48. Tier 4.0. Exponent 2\n",
      "Multiplier 0.48. Tier 4.0. Exponent 2\n"
     ]
    },
    {
     "name": "stderr",
     "output_type": "stream",
     "text": [
      "Processing matches:  22%|██▏       | 2838/12699 [01:22<04:41, 35.09it/s]"
     ]
    },
    {
     "name": "stdout",
     "output_type": "stream",
     "text": [
      "Multiplier 0.48. Tier 4.0. Exponent 2\n",
      "Multiplier 0.48. Tier 4.0. Exponent 2\n",
      "Multiplier 0.48. Tier 4.0. Exponent 2\n",
      "Multiplier 0.48. Tier 4.0. Exponent 2\n",
      "Multiplier 0.48. Tier 4.0. Exponent 2\n",
      "Multiplier 0.48. Tier 4.0. Exponent 2\n",
      "Multiplier 0.48. Tier 4.0. Exponent 2\n",
      "Multiplier 0.48. Tier 4.0. Exponent 2\n"
     ]
    },
    {
     "name": "stderr",
     "output_type": "stream",
     "text": [
      "Processing matches:  22%|██▏       | 2846/12699 [01:22<04:59, 32.86it/s]"
     ]
    },
    {
     "name": "stdout",
     "output_type": "stream",
     "text": [
      "Multiplier 0.48. Tier 4.0. Exponent 2\n",
      "Multiplier 0.48. Tier 4.0. Exponent 2\n",
      "Multiplier 0.48. Tier 4.0. Exponent 2\n",
      "Multiplier 0.48. Tier 4.0. Exponent 2\n",
      "Multiplier 0.48. Tier 4.0. Exponent 2\n",
      "Multiplier 0.48. Tier 4.0. Exponent 2\n",
      "Multiplier 0.48. Tier 4.0. Exponent 2\n",
      "Multiplier 0.48. Tier 4.0. Exponent 2\n"
     ]
    },
    {
     "name": "stderr",
     "output_type": "stream",
     "text": [
      "Processing matches:  22%|██▏       | 2854/12699 [01:22<04:46, 34.36it/s]"
     ]
    },
    {
     "name": "stdout",
     "output_type": "stream",
     "text": [
      "Multiplier 0.48. Tier 4.0. Exponent 2\n",
      "Multiplier 0.48. Tier 4.0. Exponent 2\n",
      "Multiplier 0.48. Tier 4.0. Exponent 2\n",
      "Multiplier 0.48. Tier 4.0. Exponent 2\n",
      "Multiplier 0.48. Tier 4.0. Exponent 2\n",
      "Multiplier 0.48. Tier 4.0. Exponent 2\n",
      "Multiplier 0.48. Tier 4.0. Exponent 2\n",
      "Multiplier 0.48. Tier 4.0. Exponent 2\n"
     ]
    },
    {
     "name": "stderr",
     "output_type": "stream",
     "text": [
      "Processing matches:  23%|██▎       | 2862/12699 [01:22<04:44, 34.58it/s]"
     ]
    },
    {
     "name": "stdout",
     "output_type": "stream",
     "text": [
      "Multiplier 0.48. Tier 4.0. Exponent 2\n",
      "Multiplier 0.48. Tier 4.0. Exponent 2\n",
      "Multiplier 0.48. Tier 4.0. Exponent 2\n",
      "Multiplier 0.48. Tier 4.0. Exponent 2\n",
      "Multiplier 0.48. Tier 4.0. Exponent 2\n",
      "Multiplier 0.48. Tier 4.0. Exponent 2\n",
      "Multiplier 0.48. Tier 4.0. Exponent 2\n",
      "Multiplier 0.48. Tier 4.0. Exponent 2\n"
     ]
    },
    {
     "name": "stderr",
     "output_type": "stream",
     "text": [
      "Processing matches:  23%|██▎       | 2870/12699 [01:23<04:49, 34.01it/s]"
     ]
    },
    {
     "name": "stdout",
     "output_type": "stream",
     "text": [
      "Multiplier 0.48. Tier 4.0. Exponent 2\n",
      "Multiplier 0.48. Tier 4.0. Exponent 2\n",
      "Multiplier 0.48. Tier 4.0. Exponent 2\n",
      "Multiplier 0.48. Tier 4.0. Exponent 2\n",
      "Multiplier 0.48. Tier 4.0. Exponent 2\n",
      "Multiplier 0.75. Tier 3.0. Exponent 2\n",
      "Multiplier 0.48. Tier 4.0. Exponent 2\n"
     ]
    },
    {
     "name": "stderr",
     "output_type": "stream",
     "text": [
      "Processing matches:  23%|██▎       | 2878/12699 [01:23<04:51, 33.70it/s]"
     ]
    },
    {
     "name": "stdout",
     "output_type": "stream",
     "text": [
      "Multiplier 0.48. Tier 4.0. Exponent 2\n",
      "Multiplier 0.48. Tier 4.0. Exponent 2\n",
      "Multiplier 0.48. Tier 4.0. Exponent 2\n",
      "Multiplier 0.48. Tier 4.0. Exponent 2\n",
      "Multiplier 0.48. Tier 4.0. Exponent 2\n",
      "Multiplier 0.48. Tier 4.0. Exponent 2\n",
      "Multiplier 0.48. Tier 4.0. Exponent 2\n"
     ]
    },
    {
     "name": "stderr",
     "output_type": "stream",
     "text": [
      "Processing matches:  23%|██▎       | 2882/12699 [01:23<04:50, 33.77it/s]"
     ]
    },
    {
     "name": "stdout",
     "output_type": "stream",
     "text": [
      "Multiplier 0.48. Tier 4.0. Exponent 2\n",
      "Multiplier 0.48. Tier 4.0. Exponent 2\n",
      "Multiplier 0.48. Tier 4.0. Exponent 2\n",
      "Multiplier 0.48. Tier 4.0. Exponent 2\n",
      "Multiplier 0.48. Tier 4.0. Exponent 2\n",
      "Multiplier 0.48. Tier 4.0. Exponent 2\n",
      "Multiplier 0.48. Tier 4.0. Exponent 2\n"
     ]
    },
    {
     "name": "stderr",
     "output_type": "stream",
     "text": [
      "Processing matches:  23%|██▎       | 2890/12699 [01:23<05:11, 31.50it/s]"
     ]
    },
    {
     "name": "stdout",
     "output_type": "stream",
     "text": [
      "Multiplier 0.75. Tier 3.0. Exponent 2\n",
      "Multiplier 0.75. Tier 3.0. Exponent 2\n",
      "Multiplier 0.75. Tier 3.0. Exponent 2\n",
      "Multiplier 0.75. Tier 3.0. Exponent 2\n",
      "Multiplier 0.75. Tier 3.0. Exponent 2\n",
      "Multiplier 0.75. Tier 3.0. Exponent 2\n"
     ]
    },
    {
     "name": "stderr",
     "output_type": "stream",
     "text": [
      "Processing matches:  23%|██▎       | 2894/12699 [01:23<05:38, 28.95it/s]"
     ]
    },
    {
     "name": "stdout",
     "output_type": "stream",
     "text": [
      "Multiplier 0.75. Tier 3.0. Exponent 2\n",
      "Multiplier 0.75. Tier 3.0. Exponent 2\n",
      "Multiplier 0.75. Tier 3.0. Exponent 2\n",
      "Multiplier 0.75. Tier 3.0. Exponent 2\n",
      "Multiplier 0.75. Tier 3.0. Exponent 2\n",
      "Multiplier 0.75. Tier 3.0. Exponent 2\n"
     ]
    },
    {
     "name": "stderr",
     "output_type": "stream",
     "text": [
      "Processing matches:  23%|██▎       | 2901/12699 [01:24<05:37, 29.05it/s]"
     ]
    },
    {
     "name": "stdout",
     "output_type": "stream",
     "text": [
      "Multiplier 0.75. Tier 3.0. Exponent 2\n",
      "Multiplier 0.75. Tier 3.0. Exponent 2\n",
      "Multiplier 0.75. Tier 3.0. Exponent 2\n",
      "Multiplier 0.75. Tier 3.0. Exponent 2\n",
      "Multiplier 0.75. Tier 3.0. Exponent 2\n",
      "Multiplier 0.75. Tier 3.0. Exponent 2\n"
     ]
    },
    {
     "name": "stderr",
     "output_type": "stream",
     "text": [
      "Processing matches:  23%|██▎       | 2909/12699 [01:24<05:08, 31.71it/s]"
     ]
    },
    {
     "name": "stdout",
     "output_type": "stream",
     "text": [
      "Multiplier 0.75. Tier 3.0. Exponent 2\n",
      "Multiplier 0.75. Tier 3.0. Exponent 2\n",
      "Multiplier 0.75. Tier 3.0. Exponent 2\n",
      "Multiplier 0.75. Tier 3.0. Exponent 2\n",
      "Multiplier 0.75. Tier 3.0. Exponent 2\n",
      "Multiplier 0.75. Tier 3.0. Exponent 2\n",
      "Multiplier 0.75. Tier 3.0. Exponent 2\n",
      "Multiplier 0.75. Tier 3.0. Exponent 2\n"
     ]
    },
    {
     "name": "stderr",
     "output_type": "stream",
     "text": [
      "Processing matches:  23%|██▎       | 2917/12699 [01:24<04:55, 33.13it/s]"
     ]
    },
    {
     "name": "stdout",
     "output_type": "stream",
     "text": [
      "Multiplier 0.75. Tier 3.0. Exponent 2\n",
      "Multiplier 0.75. Tier 3.0. Exponent 2\n",
      "Multiplier 0.75. Tier 3.0. Exponent 2\n",
      "Multiplier 0.75. Tier 3.0. Exponent 2\n",
      "Multiplier 0.75. Tier 3.0. Exponent 2\n",
      "Multiplier 0.75. Tier 3.0. Exponent 2\n",
      "Multiplier 0.75. Tier 3.0. Exponent 2\n",
      "Multiplier 0.75. Tier 3.0. Exponent 2\n"
     ]
    },
    {
     "name": "stderr",
     "output_type": "stream",
     "text": [
      "Processing matches:  23%|██▎       | 2925/12699 [01:24<04:46, 34.13it/s]"
     ]
    },
    {
     "name": "stdout",
     "output_type": "stream",
     "text": [
      "Multiplier 0.48. Tier 4.0. Exponent 2\n",
      "Multiplier 0.75. Tier 3.0. Exponent 2\n",
      "Multiplier 0.75. Tier 3.0. Exponent 2\n",
      "Multiplier 0.75. Tier 3.0. Exponent 2\n",
      "Multiplier 0.75. Tier 3.0. Exponent 2\n",
      "Multiplier 0.75. Tier 3.0. Exponent 2\n",
      "Multiplier 0.75. Tier 3.0. Exponent 2\n",
      "Multiplier 0.75. Tier 3.0. Exponent 2\n"
     ]
    },
    {
     "name": "stderr",
     "output_type": "stream",
     "text": [
      "Processing matches:  23%|██▎       | 2933/12699 [01:25<04:41, 34.64it/s]"
     ]
    },
    {
     "name": "stdout",
     "output_type": "stream",
     "text": [
      "Multiplier 0.75. Tier 3.0. Exponent 2\n",
      "Multiplier 0.75. Tier 3.0. Exponent 2\n",
      "Multiplier 0.75. Tier 3.0. Exponent 2\n",
      "Multiplier 0.75. Tier 3.0. Exponent 2\n",
      "Multiplier 0.75. Tier 3.0. Exponent 2\n",
      "Multiplier 0.75. Tier 3.0. Exponent 2\n",
      "Multiplier 0.75. Tier 3.0. Exponent 2\n",
      "Multiplier 0.75. Tier 3.0. Exponent 2\n"
     ]
    },
    {
     "name": "stderr",
     "output_type": "stream",
     "text": [
      "Processing matches:  23%|██▎       | 2941/12699 [01:25<05:08, 31.64it/s]"
     ]
    },
    {
     "name": "stdout",
     "output_type": "stream",
     "text": [
      "Multiplier 0.75. Tier 3.0. Exponent 2\n",
      "Multiplier 0.75. Tier 3.0. Exponent 2\n",
      "Multiplier 0.75. Tier 3.0. Exponent 2\n",
      "Multiplier 0.75. Tier 3.0. Exponent 2\n",
      "Multiplier 0.75. Tier 3.0. Exponent 2\n",
      "Multiplier 0.75. Tier 3.0. Exponent 2\n"
     ]
    },
    {
     "name": "stderr",
     "output_type": "stream",
     "text": [
      "Processing matches:  23%|██▎       | 2945/12699 [01:25<04:53, 33.27it/s]"
     ]
    },
    {
     "name": "stdout",
     "output_type": "stream",
     "text": [
      "Multiplier 0.75. Tier 3.0. Exponent 2\n",
      "Multiplier 0.75. Tier 3.0. Exponent 2\n",
      "Multiplier 0.75. Tier 3.0. Exponent 2\n",
      "Multiplier 0.75. Tier 3.0. Exponent 2\n",
      "Multiplier 0.75. Tier 3.0. Exponent 2\n",
      "Multiplier 0.75. Tier 3.0. Exponent 2\n",
      "Multiplier 0.75. Tier 3.0. Exponent 2\n"
     ]
    },
    {
     "name": "stderr",
     "output_type": "stream",
     "text": [
      "Processing matches:  23%|██▎       | 2953/12699 [01:25<04:47, 33.88it/s]"
     ]
    },
    {
     "name": "stdout",
     "output_type": "stream",
     "text": [
      "Multiplier 0.75. Tier 3.0. Exponent 2\n",
      "Multiplier 0.75. Tier 3.0. Exponent 2\n",
      "Multiplier 0.75. Tier 3.0. Exponent 2\n",
      "Multiplier 0.48. Tier 4.0. Exponent 2\n",
      "Multiplier 0.75. Tier 3.0. Exponent 2\n",
      "Multiplier 0.75. Tier 3.0. Exponent 2\n",
      "Multiplier 0.75. Tier 3.0. Exponent 2\n",
      "Multiplier 3.0. Tier 1.0. Exponent 2\n"
     ]
    },
    {
     "name": "stderr",
     "output_type": "stream",
     "text": [
      "Processing matches:  23%|██▎       | 2961/12699 [01:25<05:01, 32.28it/s]"
     ]
    },
    {
     "name": "stdout",
     "output_type": "stream",
     "text": [
      "Multiplier 3.0. Tier 1.0. Exponent 2\n",
      "Multiplier 3.0. Tier 1.0. Exponent 2\n",
      "Multiplier 0.75. Tier 3.0. Exponent 2\n",
      "Multiplier 3.0. Tier 1.0. Exponent 2\n",
      "Multiplier 0.75. Tier 3.0. Exponent 2\n",
      "Multiplier 0.75. Tier 3.0. Exponent 2\n",
      "Multiplier 0.75. Tier 3.0. Exponent 2\n",
      "Multiplier 0.75. Tier 3.0. Exponent 2\n"
     ]
    },
    {
     "name": "stderr",
     "output_type": "stream",
     "text": [
      "Processing matches:  23%|██▎       | 2969/12699 [01:26<05:21, 30.26it/s]"
     ]
    },
    {
     "name": "stdout",
     "output_type": "stream",
     "text": [
      "Multiplier 3.0. Tier 1.0. Exponent 2\n",
      "Multiplier 0.75. Tier 3.0. Exponent 2\n",
      "Multiplier 3.0. Tier 1.0. Exponent 2\n",
      "Multiplier 3.0. Tier 1.0. Exponent 2\n",
      "Multiplier 3.0. Tier 1.0. Exponent 2\n"
     ]
    },
    {
     "name": "stderr",
     "output_type": "stream",
     "text": [
      "Processing matches:  23%|██▎       | 2973/12699 [01:26<05:09, 31.43it/s]"
     ]
    },
    {
     "name": "stdout",
     "output_type": "stream",
     "text": [
      "Multiplier 0.75. Tier 3.0. Exponent 2\n",
      "Multiplier 0.75. Tier 3.0. Exponent 2\n",
      "Multiplier 0.75. Tier 3.0. Exponent 2\n",
      "Multiplier 0.75. Tier 3.0. Exponent 2\n",
      "Multiplier 0.75. Tier 3.0. Exponent 2\n",
      "Multiplier 3.0. Tier 1.0. Exponent 2\n",
      "Multiplier 0.75. Tier 3.0. Exponent 2\n"
     ]
    },
    {
     "name": "stderr",
     "output_type": "stream",
     "text": [
      "Processing matches:  23%|██▎       | 2981/12699 [01:26<05:12, 31.09it/s]"
     ]
    },
    {
     "name": "stdout",
     "output_type": "stream",
     "text": [
      "Multiplier 0.75. Tier 3.0. Exponent 2\n",
      "Multiplier 0.75. Tier 3.0. Exponent 2\n",
      "Multiplier 0.75. Tier 3.0. Exponent 2\n",
      "Multiplier 0.75. Tier 3.0. Exponent 2\n",
      "Multiplier 3.0. Tier 1.0. Exponent 2\n",
      "Multiplier 3.0. Tier 1.0. Exponent 2\n",
      "Multiplier 3.0. Tier 1.0. Exponent 2\n"
     ]
    },
    {
     "name": "stderr",
     "output_type": "stream",
     "text": [
      "Processing matches:  24%|██▎       | 2989/12699 [01:26<05:35, 28.95it/s]"
     ]
    },
    {
     "name": "stdout",
     "output_type": "stream",
     "text": [
      "Multiplier 0.75. Tier 3.0. Exponent 2\n",
      "Multiplier 0.75. Tier 3.0. Exponent 2\n",
      "Multiplier 0.75. Tier 3.0. Exponent 2\n",
      "Multiplier 3.0. Tier 1.0. Exponent 2\n",
      "Multiplier 3.0. Tier 1.0. Exponent 2\n",
      "Multiplier 3.0. Tier 1.0. Exponent 2\n"
     ]
    },
    {
     "name": "stderr",
     "output_type": "stream",
     "text": [
      "Processing matches:  24%|██▎       | 2993/12699 [01:27<05:13, 30.95it/s]"
     ]
    },
    {
     "name": "stdout",
     "output_type": "stream",
     "text": [
      "Multiplier 0.75. Tier 3.0. Exponent 2\n",
      "Multiplier 0.75. Tier 3.0. Exponent 2\n",
      "Multiplier 0.75. Tier 3.0. Exponent 2\n",
      "Multiplier 0.75. Tier 3.0. Exponent 2\n",
      "Multiplier 0.75. Tier 3.0. Exponent 2\n",
      "Multiplier 3.0. Tier 1.0. Exponent 2\n",
      "Multiplier 0.75. Tier 3.0. Exponent 2\n"
     ]
    },
    {
     "name": "stderr",
     "output_type": "stream",
     "text": [
      "Processing matches:  24%|██▎       | 3001/12699 [01:27<05:11, 31.17it/s]"
     ]
    },
    {
     "name": "stdout",
     "output_type": "stream",
     "text": [
      "Multiplier 0.75. Tier 3.0. Exponent 2\n",
      "Multiplier 0.75. Tier 3.0. Exponent 2\n",
      "Multiplier 0.75. Tier 3.0. Exponent 2\n",
      "Multiplier 0.48. Tier 4.0. Exponent 2\n",
      "Multiplier 3.0. Tier 1.0. Exponent 2\n",
      "Multiplier 3.0. Tier 1.0. Exponent 2\n",
      "Multiplier 3.0. Tier 1.0. Exponent 2\n"
     ]
    },
    {
     "name": "stderr",
     "output_type": "stream",
     "text": [
      "Processing matches:  24%|██▎       | 3008/12699 [01:27<05:42, 28.28it/s]"
     ]
    },
    {
     "name": "stdout",
     "output_type": "stream",
     "text": [
      "Multiplier 3.0. Tier 1.0. Exponent 2\n",
      "Multiplier 3.0. Tier 1.0. Exponent 2\n",
      "Multiplier 3.0. Tier 1.0. Exponent 2\n",
      "Multiplier 3.0. Tier 1.0. Exponent 2\n",
      "Multiplier 3.0. Tier 1.0. Exponent 2\n"
     ]
    },
    {
     "name": "stderr",
     "output_type": "stream",
     "text": [
      "Processing matches:  24%|██▎       | 3011/12699 [01:27<05:51, 27.60it/s]"
     ]
    },
    {
     "name": "stdout",
     "output_type": "stream",
     "text": [
      "Multiplier 3.0. Tier 1.0. Exponent 2\n",
      "Multiplier 3.0. Tier 1.0. Exponent 2\n",
      "Multiplier 3.0. Tier 1.0. Exponent 2\n",
      "Multiplier 3.0. Tier 1.0. Exponent 2\n",
      "Multiplier 3.0. Tier 1.0. Exponent 2\n"
     ]
    },
    {
     "name": "stderr",
     "output_type": "stream",
     "text": [
      "Processing matches:  24%|██▍       | 3017/12699 [01:27<06:03, 26.66it/s]"
     ]
    },
    {
     "name": "stdout",
     "output_type": "stream",
     "text": [
      "Multiplier 3.0. Tier 1.0. Exponent 2\n",
      "Multiplier 3.0. Tier 1.0. Exponent 2\n",
      "Multiplier 3.0. Tier 1.0. Exponent 2\n",
      "Multiplier 1.3333333333333333. Tier 2.0. Exponent 2\n",
      "Multiplier 1.3333333333333333. Tier 2.0. Exponent 2\n",
      "Multiplier 1.3333333333333333. Tier 2.0. Exponent 2\n"
     ]
    },
    {
     "name": "stderr",
     "output_type": "stream",
     "text": [
      "Processing matches:  24%|██▍       | 3024/12699 [01:28<05:34, 28.94it/s]"
     ]
    },
    {
     "name": "stdout",
     "output_type": "stream",
     "text": [
      "Multiplier 1.3333333333333333. Tier 2.0. Exponent 2\n",
      "Multiplier 1.3333333333333333. Tier 2.0. Exponent 2\n",
      "Multiplier 1.3333333333333333. Tier 2.0. Exponent 2\n",
      "Multiplier 1.3333333333333333. Tier 2.0. Exponent 2\n",
      "Multiplier 3.0. Tier 1.0. Exponent 2\n",
      "Multiplier 3.0. Tier 1.0. Exponent 2\n"
     ]
    },
    {
     "name": "stderr",
     "output_type": "stream",
     "text": [
      "Processing matches:  24%|██▍       | 3027/12699 [01:28<05:46, 27.90it/s]"
     ]
    },
    {
     "name": "stdout",
     "output_type": "stream",
     "text": [
      "Multiplier 1.3333333333333333. Tier 2.0. Exponent 2\n",
      "Multiplier 3.0. Tier 1.0. Exponent 2\n",
      "Multiplier 1.3333333333333333. Tier 2.0. Exponent 2\n",
      "Multiplier 1.3333333333333333. Tier 2.0. Exponent 2\n",
      "Multiplier 1.3333333333333333. Tier 2.0. Exponent 2\n",
      "Multiplier 3.0. Tier 1.0. Exponent 2\n"
     ]
    },
    {
     "name": "stderr",
     "output_type": "stream",
     "text": [
      "Processing matches:  24%|██▍       | 3035/12699 [01:28<05:19, 30.23it/s]"
     ]
    },
    {
     "name": "stdout",
     "output_type": "stream",
     "text": [
      "Multiplier 1.3333333333333333. Tier 2.0. Exponent 2\n",
      "Multiplier 1.3333333333333333. Tier 2.0. Exponent 2\n",
      "Multiplier 1.3333333333333333. Tier 2.0. Exponent 2\n",
      "Multiplier 3.0. Tier 1.0. Exponent 2\n",
      "Multiplier 3.0. Tier 1.0. Exponent 2\n",
      "Multiplier 3.0. Tier 1.0. Exponent 2\n",
      "Multiplier 3.0. Tier 1.0. Exponent 2\n"
     ]
    },
    {
     "name": "stderr",
     "output_type": "stream",
     "text": [
      "Processing matches:  24%|██▍       | 3042/12699 [01:28<05:26, 29.58it/s]"
     ]
    },
    {
     "name": "stdout",
     "output_type": "stream",
     "text": [
      "Multiplier 1.3333333333333333. Tier 2.0. Exponent 2\n",
      "Multiplier 0.48. Tier 4.0. Exponent 2\n",
      "Multiplier 0.48. Tier 4.0. Exponent 2\n",
      "Multiplier 3.0. Tier 1.0. Exponent 2\n",
      "Multiplier 3.0. Tier 1.0. Exponent 2\n",
      "Multiplier 3.0. Tier 1.0. Exponent 2\n"
     ]
    },
    {
     "name": "stderr",
     "output_type": "stream",
     "text": [
      "Processing matches:  24%|██▍       | 3049/12699 [01:28<05:38, 28.52it/s]"
     ]
    },
    {
     "name": "stdout",
     "output_type": "stream",
     "text": [
      "Multiplier 0.48. Tier 4.0. Exponent 2\n",
      "Multiplier 0.48. Tier 4.0. Exponent 2\n",
      "Multiplier 0.48. Tier 4.0. Exponent 2\n",
      "Multiplier 0.48. Tier 4.0. Exponent 2\n",
      "Multiplier 0.48. Tier 4.0. Exponent 2\n",
      "Multiplier 0.48. Tier 4.0. Exponent 2\n"
     ]
    },
    {
     "name": "stderr",
     "output_type": "stream",
     "text": [
      "Processing matches:  24%|██▍       | 3052/12699 [01:29<06:50, 23.52it/s]"
     ]
    },
    {
     "name": "stdout",
     "output_type": "stream",
     "text": [
      "Multiplier 3.0. Tier 1.0. Exponent 2\n",
      "Multiplier 3.0. Tier 1.0. Exponent 2\n",
      "Multiplier 3.0. Tier 1.0. Exponent 2\n",
      "Multiplier 3.0. Tier 1.0. Exponent 2\n"
     ]
    },
    {
     "name": "stderr",
     "output_type": "stream",
     "text": [
      "Processing matches:  24%|██▍       | 3058/12699 [01:29<07:24, 21.68it/s]"
     ]
    },
    {
     "name": "stdout",
     "output_type": "stream",
     "text": [
      "Multiplier 3.0. Tier 1.0. Exponent 2\n",
      "Multiplier 1.3333333333333333. Tier 2.0. Exponent 2\n",
      "Multiplier 1.3333333333333333. Tier 2.0. Exponent 2\n",
      "Multiplier 0.48. Tier 4.0. Exponent 2\n",
      "Multiplier 1.3333333333333333. Tier 2.0. Exponent 2\n"
     ]
    },
    {
     "name": "stderr",
     "output_type": "stream",
     "text": [
      "Processing matches:  24%|██▍       | 3061/12699 [01:29<07:32, 21.28it/s]"
     ]
    },
    {
     "name": "stdout",
     "output_type": "stream",
     "text": [
      "Multiplier 1.3333333333333333. Tier 2.0. Exponent 2\n",
      "Multiplier 1.3333333333333333. Tier 2.0. Exponent 2\n",
      "Multiplier 0.48. Tier 4.0. Exponent 2\n",
      "Multiplier 1.3333333333333333. Tier 2.0. Exponent 2\n",
      "Multiplier 0.48. Tier 4.0. Exponent 2\n"
     ]
    },
    {
     "name": "stderr",
     "output_type": "stream",
     "text": [
      "Processing matches:  24%|██▍       | 3067/12699 [01:29<07:08, 22.48it/s]"
     ]
    },
    {
     "name": "stdout",
     "output_type": "stream",
     "text": [
      "Multiplier 0.48. Tier 4.0. Exponent 2\n",
      "Multiplier 1.3333333333333333. Tier 2.0. Exponent 2\n",
      "Multiplier 1.3333333333333333. Tier 2.0. Exponent 2\n",
      "Multiplier 1.3333333333333333. Tier 2.0. Exponent 2\n",
      "Multiplier 1.3333333333333333. Tier 2.0. Exponent 2\n",
      "Multiplier 1.3333333333333333. Tier 2.0. Exponent 2\n"
     ]
    },
    {
     "name": "stderr",
     "output_type": "stream",
     "text": [
      "Processing matches:  24%|██▍       | 3073/12699 [01:30<07:16, 22.03it/s]"
     ]
    },
    {
     "name": "stdout",
     "output_type": "stream",
     "text": [
      "Multiplier 1.3333333333333333. Tier 2.0. Exponent 2\n",
      "Multiplier 1.3333333333333333. Tier 2.0. Exponent 2\n",
      "Multiplier 1.3333333333333333. Tier 2.0. Exponent 2\n",
      "Multiplier 3.0. Tier 1.0. Exponent 2\n",
      "Multiplier 3.0. Tier 1.0. Exponent 2\n"
     ]
    },
    {
     "name": "stderr",
     "output_type": "stream",
     "text": [
      "Processing matches:  24%|██▍       | 3080/12699 [01:30<06:20, 25.25it/s]"
     ]
    },
    {
     "name": "stdout",
     "output_type": "stream",
     "text": [
      "Multiplier 1.3333333333333333. Tier 2.0. Exponent 2\n",
      "Multiplier 1.3333333333333333. Tier 2.0. Exponent 2\n",
      "Multiplier 3.0. Tier 1.0. Exponent 2\n",
      "Multiplier 1.3333333333333333. Tier 2.0. Exponent 2\n",
      "Multiplier 1.3333333333333333. Tier 2.0. Exponent 2\n",
      "Multiplier 1.3333333333333333. Tier 2.0. Exponent 2\n",
      "Multiplier 1.3333333333333333. Tier 2.0. Exponent 2\n"
     ]
    },
    {
     "name": "stderr",
     "output_type": "stream",
     "text": [
      "Processing matches:  24%|██▍       | 3086/12699 [01:30<06:05, 26.29it/s]"
     ]
    },
    {
     "name": "stdout",
     "output_type": "stream",
     "text": [
      "Multiplier 3.0. Tier 1.0. Exponent 2\n",
      "Multiplier 1.3333333333333333. Tier 2.0. Exponent 2\n",
      "Multiplier 3.0. Tier 1.0. Exponent 2\n",
      "Multiplier 1.3333333333333333. Tier 2.0. Exponent 2\n",
      "Multiplier 3.0. Tier 1.0. Exponent 2\n",
      "Multiplier 3.0. Tier 1.0. Exponent 2\n"
     ]
    },
    {
     "name": "stderr",
     "output_type": "stream",
     "text": [
      "Processing matches:  24%|██▍       | 3089/12699 [01:30<06:15, 25.60it/s]"
     ]
    },
    {
     "name": "stdout",
     "output_type": "stream",
     "text": [
      "Multiplier 3.0. Tier 1.0. Exponent 2\n",
      "Multiplier 3.0. Tier 1.0. Exponent 2\n",
      "Multiplier 3.0. Tier 1.0. Exponent 2\n",
      "Multiplier 3.0. Tier 1.0. Exponent 2\n"
     ]
    },
    {
     "name": "stderr",
     "output_type": "stream",
     "text": [
      "Processing matches:  24%|██▍       | 3095/12699 [01:31<07:40, 20.84it/s]"
     ]
    },
    {
     "name": "stdout",
     "output_type": "stream",
     "text": [
      "Multiplier 3.0. Tier 1.0. Exponent 2\n",
      "Multiplier 3.0. Tier 1.0. Exponent 2\n",
      "Multiplier 3.0. Tier 1.0. Exponent 2\n",
      "Multiplier 1.3333333333333333. Tier 2.0. Exponent 2\n"
     ]
    },
    {
     "name": "stderr",
     "output_type": "stream",
     "text": [
      "Processing matches:  24%|██▍       | 3099/12699 [01:31<06:42, 23.87it/s]"
     ]
    },
    {
     "name": "stdout",
     "output_type": "stream",
     "text": [
      "Multiplier 1.3333333333333333. Tier 2.0. Exponent 2\n",
      "Multiplier 1.3333333333333333. Tier 2.0. Exponent 2\n",
      "Multiplier 1.3333333333333333. Tier 2.0. Exponent 2\n",
      "Multiplier 1.3333333333333333. Tier 2.0. Exponent 2\n",
      "Multiplier 1.3333333333333333. Tier 2.0. Exponent 2\n",
      "Multiplier 1.3333333333333333. Tier 2.0. Exponent 2\n",
      "Multiplier 1.3333333333333333. Tier 2.0. Exponent 2\n"
     ]
    },
    {
     "name": "stderr",
     "output_type": "stream",
     "text": [
      "Processing matches:  24%|██▍       | 3106/12699 [01:31<05:53, 27.13it/s]"
     ]
    },
    {
     "name": "stdout",
     "output_type": "stream",
     "text": [
      "Multiplier 1.3333333333333333. Tier 2.0. Exponent 2\n",
      "Multiplier 1.3333333333333333. Tier 2.0. Exponent 2\n",
      "Multiplier 1.3333333333333333. Tier 2.0. Exponent 2\n",
      "Multiplier 1.3333333333333333. Tier 2.0. Exponent 2\n",
      "Multiplier 1.3333333333333333. Tier 2.0. Exponent 2\n",
      "Multiplier 1.3333333333333333. Tier 2.0. Exponent 2\n"
     ]
    },
    {
     "name": "stderr",
     "output_type": "stream",
     "text": [
      "Processing matches:  25%|██▍       | 3113/12699 [01:31<05:37, 28.41it/s]"
     ]
    },
    {
     "name": "stdout",
     "output_type": "stream",
     "text": [
      "Multiplier 1.3333333333333333. Tier 2.0. Exponent 2\n",
      "Multiplier 1.3333333333333333. Tier 2.0. Exponent 2\n",
      "Multiplier 1.3333333333333333. Tier 2.0. Exponent 2\n",
      "Multiplier 1.3333333333333333. Tier 2.0. Exponent 2\n",
      "Multiplier 1.3333333333333333. Tier 2.0. Exponent 2\n",
      "Multiplier 1.3333333333333333. Tier 2.0. Exponent 2\n"
     ]
    },
    {
     "name": "stderr",
     "output_type": "stream",
     "text": [
      "Processing matches:  25%|██▍       | 3121/12699 [01:31<05:05, 31.38it/s]"
     ]
    },
    {
     "name": "stdout",
     "output_type": "stream",
     "text": [
      "Multiplier 1.3333333333333333. Tier 2.0. Exponent 2\n",
      "Multiplier 1.3333333333333333. Tier 2.0. Exponent 2\n",
      "Multiplier 1.3333333333333333. Tier 2.0. Exponent 2\n",
      "Multiplier 1.3333333333333333. Tier 2.0. Exponent 2\n",
      "Multiplier 1.3333333333333333. Tier 2.0. Exponent 2\n",
      "Multiplier 1.3333333333333333. Tier 2.0. Exponent 2\n",
      "Multiplier 3.0. Tier 1.0. Exponent 2\n"
     ]
    },
    {
     "name": "stderr",
     "output_type": "stream",
     "text": [
      "Processing matches:  25%|██▍       | 3125/12699 [01:32<06:21, 25.08it/s]"
     ]
    },
    {
     "name": "stdout",
     "output_type": "stream",
     "text": [
      "Multiplier 3.0. Tier 1.0. Exponent 2\n",
      "Multiplier 3.0. Tier 1.0. Exponent 2\n",
      "Multiplier 3.0. Tier 1.0. Exponent 2\n",
      "Multiplier 3.0. Tier 1.0. Exponent 2\n"
     ]
    },
    {
     "name": "stderr",
     "output_type": "stream",
     "text": [
      "Processing matches:  25%|██▍       | 3131/12699 [01:32<06:26, 24.73it/s]"
     ]
    },
    {
     "name": "stdout",
     "output_type": "stream",
     "text": [
      "Multiplier 3.0. Tier 1.0. Exponent 2\n",
      "Multiplier 3.0. Tier 1.0. Exponent 2\n",
      "Multiplier 1.3333333333333333. Tier 2.0. Exponent 2\n",
      "Multiplier 1.3333333333333333. Tier 2.0. Exponent 2\n",
      "Multiplier 3.0. Tier 1.0. Exponent 2\n"
     ]
    },
    {
     "name": "stderr",
     "output_type": "stream",
     "text": [
      "Processing matches:  25%|██▍       | 3137/12699 [01:32<06:07, 25.99it/s]"
     ]
    },
    {
     "name": "stdout",
     "output_type": "stream",
     "text": [
      "Multiplier 1.3333333333333333. Tier 2.0. Exponent 2\n",
      "Multiplier 1.3333333333333333. Tier 2.0. Exponent 2\n",
      "Multiplier 1.3333333333333333. Tier 2.0. Exponent 2\n",
      "Multiplier 1.3333333333333333. Tier 2.0. Exponent 2\n",
      "Multiplier 1.3333333333333333. Tier 2.0. Exponent 2\n",
      "Multiplier 1.3333333333333333. Tier 2.0. Exponent 2\n"
     ]
    },
    {
     "name": "stderr",
     "output_type": "stream",
     "text": [
      "Processing matches:  25%|██▍       | 3140/12699 [01:32<06:10, 25.80it/s]"
     ]
    },
    {
     "name": "stdout",
     "output_type": "stream",
     "text": [
      "Multiplier 1.3333333333333333. Tier 2.0. Exponent 2\n",
      "Multiplier 1.3333333333333333. Tier 2.0. Exponent 2\n",
      "Multiplier 1.3333333333333333. Tier 2.0. Exponent 2\n",
      "Multiplier 3.0. Tier 1.0. Exponent 2\n",
      "Multiplier 3.0. Tier 1.0. Exponent 2\n",
      "Multiplier 1.3333333333333333. Tier 2.0. Exponent 2\n"
     ]
    },
    {
     "name": "stderr",
     "output_type": "stream",
     "text": [
      "Processing matches:  25%|██▍       | 3147/12699 [01:32<05:44, 27.73it/s]"
     ]
    },
    {
     "name": "stdout",
     "output_type": "stream",
     "text": [
      "Multiplier 1.3333333333333333. Tier 2.0. Exponent 2\n",
      "Multiplier 1.3333333333333333. Tier 2.0. Exponent 2\n",
      "Multiplier 1.3333333333333333. Tier 2.0. Exponent 2\n",
      "Multiplier 1.3333333333333333. Tier 2.0. Exponent 2\n",
      "Multiplier 1.3333333333333333. Tier 2.0. Exponent 2\n",
      "Multiplier 1.3333333333333333. Tier 2.0. Exponent 2\n"
     ]
    },
    {
     "name": "stderr",
     "output_type": "stream",
     "text": [
      "Processing matches:  25%|██▍       | 3154/12699 [01:33<05:27, 29.12it/s]"
     ]
    },
    {
     "name": "stdout",
     "output_type": "stream",
     "text": [
      "Multiplier 1.3333333333333333. Tier 2.0. Exponent 2\n",
      "Multiplier 1.3333333333333333. Tier 2.0. Exponent 2\n",
      "Multiplier 1.3333333333333333. Tier 2.0. Exponent 2\n",
      "Multiplier 1.3333333333333333. Tier 2.0. Exponent 2\n",
      "Multiplier 1.3333333333333333. Tier 2.0. Exponent 2\n",
      "Multiplier 1.3333333333333333. Tier 2.0. Exponent 2\n",
      "Multiplier 1.3333333333333333. Tier 2.0. Exponent 2\n"
     ]
    },
    {
     "name": "stderr",
     "output_type": "stream",
     "text": [
      "Processing matches:  25%|██▍       | 3162/12699 [01:33<05:14, 30.31it/s]"
     ]
    },
    {
     "name": "stdout",
     "output_type": "stream",
     "text": [
      "Multiplier 1.3333333333333333. Tier 2.0. Exponent 2\n",
      "Multiplier 0.48. Tier 4.0. Exponent 2\n",
      "Multiplier 0.48. Tier 4.0. Exponent 2\n",
      "Multiplier 0.48. Tier 4.0. Exponent 2\n",
      "Multiplier 0.48. Tier 4.0. Exponent 2\n",
      "Multiplier 0.48. Tier 4.0. Exponent 2\n"
     ]
    },
    {
     "name": "stderr",
     "output_type": "stream",
     "text": [
      "Processing matches:  25%|██▍       | 3166/12699 [01:33<05:05, 31.16it/s]"
     ]
    },
    {
     "name": "stdout",
     "output_type": "stream",
     "text": [
      "Multiplier 0.48. Tier 4.0. Exponent 2\n",
      "Multiplier 0.48. Tier 4.0. Exponent 2\n",
      "Multiplier 0.48. Tier 4.0. Exponent 2\n",
      "Multiplier 0.48. Tier 4.0. Exponent 2\n",
      "Multiplier 0.48. Tier 4.0. Exponent 2\n",
      "Multiplier 0.48. Tier 4.0. Exponent 2\n",
      "Multiplier 0.48. Tier 4.0. Exponent 2\n"
     ]
    },
    {
     "name": "stderr",
     "output_type": "stream",
     "text": [
      "Processing matches:  25%|██▍       | 3174/12699 [01:33<05:05, 31.22it/s]"
     ]
    },
    {
     "name": "stdout",
     "output_type": "stream",
     "text": [
      "Multiplier 0.48. Tier 4.0. Exponent 2\n",
      "Multiplier 0.48. Tier 4.0. Exponent 2\n",
      "Multiplier 0.48. Tier 4.0. Exponent 2\n",
      "Multiplier 0.48. Tier 4.0. Exponent 2\n",
      "Multiplier 0.48. Tier 4.0. Exponent 2\n",
      "Multiplier 0.48. Tier 4.0. Exponent 2\n",
      "Multiplier 0.48. Tier 4.0. Exponent 2\n"
     ]
    },
    {
     "name": "stderr",
     "output_type": "stream",
     "text": [
      "Processing matches:  25%|██▌       | 3182/12699 [01:34<04:55, 32.23it/s]"
     ]
    },
    {
     "name": "stdout",
     "output_type": "stream",
     "text": [
      "Multiplier 0.48. Tier 4.0. Exponent 2\n",
      "Multiplier 0.48. Tier 4.0. Exponent 2\n",
      "Multiplier 0.48. Tier 4.0. Exponent 2\n",
      "Multiplier 0.48. Tier 4.0. Exponent 2\n",
      "Multiplier 0.48. Tier 4.0. Exponent 2\n",
      "Multiplier 0.48. Tier 4.0. Exponent 2\n",
      "Multiplier 0.48. Tier 4.0. Exponent 2\n",
      "Multiplier 0.48. Tier 4.0. Exponent 2\n"
     ]
    },
    {
     "name": "stderr",
     "output_type": "stream",
     "text": [
      "Processing matches:  25%|██▌       | 3190/12699 [01:34<05:08, 30.80it/s]"
     ]
    },
    {
     "name": "stdout",
     "output_type": "stream",
     "text": [
      "Multiplier 0.48. Tier 4.0. Exponent 2\n",
      "Multiplier 0.48. Tier 4.0. Exponent 2\n",
      "Multiplier 0.48. Tier 4.0. Exponent 2\n",
      "Multiplier 0.48. Tier 4.0. Exponent 2\n",
      "Multiplier 0.48. Tier 4.0. Exponent 2\n",
      "Multiplier 0.48. Tier 4.0. Exponent 2\n"
     ]
    },
    {
     "name": "stderr",
     "output_type": "stream",
     "text": [
      "Processing matches:  25%|██▌       | 3194/12699 [01:34<05:14, 30.25it/s]"
     ]
    },
    {
     "name": "stdout",
     "output_type": "stream",
     "text": [
      "Multiplier 0.48. Tier 4.0. Exponent 2\n",
      "Multiplier 0.48. Tier 4.0. Exponent 2\n",
      "Multiplier 0.48. Tier 4.0. Exponent 2\n",
      "Multiplier 0.48. Tier 4.0. Exponent 2\n",
      "Multiplier 0.48. Tier 4.0. Exponent 2\n",
      "Multiplier 0.48. Tier 4.0. Exponent 2\n"
     ]
    },
    {
     "name": "stderr",
     "output_type": "stream",
     "text": [
      "Processing matches:  25%|██▌       | 3202/12699 [01:34<04:57, 31.96it/s]"
     ]
    },
    {
     "name": "stdout",
     "output_type": "stream",
     "text": [
      "Multiplier 0.48. Tier 4.0. Exponent 2\n",
      "Multiplier 0.48. Tier 4.0. Exponent 2\n",
      "Multiplier 0.48. Tier 4.0. Exponent 2\n",
      "Multiplier 0.48. Tier 4.0. Exponent 2\n",
      "Multiplier 0.48. Tier 4.0. Exponent 2\n",
      "Multiplier 0.48. Tier 4.0. Exponent 2\n",
      "Multiplier 0.48. Tier 4.0. Exponent 2\n"
     ]
    },
    {
     "name": "stderr",
     "output_type": "stream",
     "text": [
      "Processing matches:  25%|██▌       | 3206/12699 [01:34<04:50, 32.63it/s]"
     ]
    },
    {
     "name": "stdout",
     "output_type": "stream",
     "text": [
      "Multiplier 0.48. Tier 4.0. Exponent 2\n",
      "Multiplier 0.48. Tier 4.0. Exponent 2\n",
      "Multiplier 0.48. Tier 4.0. Exponent 2\n",
      "Multiplier 0.48. Tier 4.0. Exponent 2\n",
      "Multiplier 0.48. Tier 4.0. Exponent 2\n",
      "Multiplier 0.48. Tier 4.0. Exponent 2\n",
      "Multiplier 1.3333333333333333. Tier 2.0. Exponent 2\n"
     ]
    },
    {
     "name": "stderr",
     "output_type": "stream",
     "text": [
      "Processing matches:  25%|██▌       | 3214/12699 [01:35<04:56, 31.98it/s]"
     ]
    },
    {
     "name": "stdout",
     "output_type": "stream",
     "text": [
      "Multiplier 0.48. Tier 4.0. Exponent 2\n",
      "Multiplier 1.3333333333333333. Tier 2.0. Exponent 2\n",
      "Multiplier 0.48. Tier 4.0. Exponent 2\n",
      "Multiplier 1.3333333333333333. Tier 2.0. Exponent 2\n",
      "Multiplier 1.3333333333333333. Tier 2.0. Exponent 2\n",
      "Multiplier 1.3333333333333333. Tier 2.0. Exponent 2\n",
      "Multiplier 1.3333333333333333. Tier 2.0. Exponent 2\n"
     ]
    },
    {
     "name": "stderr",
     "output_type": "stream",
     "text": [
      "Processing matches:  25%|██▌       | 3222/12699 [01:35<05:04, 31.17it/s]"
     ]
    },
    {
     "name": "stdout",
     "output_type": "stream",
     "text": [
      "Multiplier 1.3333333333333333. Tier 2.0. Exponent 2\n",
      "Multiplier 1.3333333333333333. Tier 2.0. Exponent 2\n",
      "Multiplier 1.3333333333333333. Tier 2.0. Exponent 2\n",
      "Multiplier 1.3333333333333333. Tier 2.0. Exponent 2\n",
      "Multiplier 1.3333333333333333. Tier 2.0. Exponent 2\n",
      "Multiplier 1.3333333333333333. Tier 2.0. Exponent 2\n",
      "Multiplier 1.3333333333333333. Tier 2.0. Exponent 2\n"
     ]
    },
    {
     "name": "stderr",
     "output_type": "stream",
     "text": [
      "Processing matches:  25%|██▌       | 3230/12699 [01:35<05:06, 30.87it/s]"
     ]
    },
    {
     "name": "stdout",
     "output_type": "stream",
     "text": [
      "Multiplier 1.3333333333333333. Tier 2.0. Exponent 2\n",
      "Multiplier 1.3333333333333333. Tier 2.0. Exponent 2\n",
      "Multiplier 1.3333333333333333. Tier 2.0. Exponent 2\n",
      "Multiplier 1.3333333333333333. Tier 2.0. Exponent 2\n",
      "Multiplier 1.3333333333333333. Tier 2.0. Exponent 2\n",
      "Multiplier 1.3333333333333333. Tier 2.0. Exponent 2\n"
     ]
    },
    {
     "name": "stderr",
     "output_type": "stream",
     "text": [
      "Processing matches:  25%|██▌       | 3234/12699 [01:35<05:15, 29.97it/s]"
     ]
    },
    {
     "name": "stdout",
     "output_type": "stream",
     "text": [
      "Multiplier 1.3333333333333333. Tier 2.0. Exponent 2\n",
      "Multiplier 1.3333333333333333. Tier 2.0. Exponent 2\n",
      "Multiplier 1.3333333333333333. Tier 2.0. Exponent 2\n",
      "Multiplier 1.3333333333333333. Tier 2.0. Exponent 2\n",
      "Multiplier 1.3333333333333333. Tier 2.0. Exponent 2\n",
      "Multiplier 1.3333333333333333. Tier 2.0. Exponent 2\n"
     ]
    },
    {
     "name": "stderr",
     "output_type": "stream",
     "text": [
      "Processing matches:  26%|██▌       | 3241/12699 [01:36<05:33, 28.33it/s]"
     ]
    },
    {
     "name": "stdout",
     "output_type": "stream",
     "text": [
      "Multiplier 1.3333333333333333. Tier 2.0. Exponent 2\n",
      "Multiplier 1.3333333333333333. Tier 2.0. Exponent 2\n",
      "Multiplier 1.3333333333333333. Tier 2.0. Exponent 2\n",
      "Multiplier 0.48. Tier 4.0. Exponent 2\n",
      "Multiplier 0.48. Tier 4.0. Exponent 2\n",
      "Multiplier 0.48. Tier 4.0. Exponent 2\n"
     ]
    },
    {
     "name": "stderr",
     "output_type": "stream",
     "text": [
      "Processing matches:  26%|██▌       | 3247/12699 [01:36<06:03, 25.99it/s]"
     ]
    },
    {
     "name": "stdout",
     "output_type": "stream",
     "text": [
      "Multiplier 1.3333333333333333. Tier 2.0. Exponent 2\n",
      "Multiplier 0.48. Tier 4.0. Exponent 2\n",
      "Multiplier 0.48. Tier 4.0. Exponent 2\n",
      "Multiplier 0.48. Tier 4.0. Exponent 2\n",
      "Multiplier 0.48. Tier 4.0. Exponent 2\n"
     ]
    },
    {
     "name": "stderr",
     "output_type": "stream",
     "text": [
      "Processing matches:  26%|██▌       | 3250/12699 [01:36<06:19, 24.89it/s]"
     ]
    },
    {
     "name": "stdout",
     "output_type": "stream",
     "text": [
      "Multiplier 0.48. Tier 4.0. Exponent 2\n",
      "Multiplier 0.48. Tier 4.0. Exponent 2\n",
      "Multiplier 0.48. Tier 4.0. Exponent 2\n",
      "Multiplier 0.48. Tier 4.0. Exponent 2\n",
      "Multiplier 0.48. Tier 4.0. Exponent 2\n"
     ]
    },
    {
     "name": "stderr",
     "output_type": "stream",
     "text": [
      "Processing matches:  26%|██▌       | 3256/12699 [01:36<06:48, 23.12it/s]"
     ]
    },
    {
     "name": "stdout",
     "output_type": "stream",
     "text": [
      "Multiplier 0.48. Tier 4.0. Exponent 2\n",
      "Multiplier 0.48. Tier 4.0. Exponent 2\n",
      "Multiplier 0.48. Tier 4.0. Exponent 2\n",
      "Multiplier 0.48. Tier 4.0. Exponent 2\n",
      "Multiplier 0.48. Tier 4.0. Exponent 2\n"
     ]
    },
    {
     "name": "stderr",
     "output_type": "stream",
     "text": [
      "Processing matches:  26%|██▌       | 3262/12699 [01:36<06:18, 24.93it/s]"
     ]
    },
    {
     "name": "stdout",
     "output_type": "stream",
     "text": [
      "Multiplier 0.48. Tier 4.0. Exponent 2\n",
      "Multiplier 0.48. Tier 4.0. Exponent 2\n",
      "Multiplier 0.48. Tier 4.0. Exponent 2\n",
      "Multiplier 0.48. Tier 4.0. Exponent 2\n",
      "Multiplier 0.48. Tier 4.0. Exponent 2\n",
      "Multiplier 0.48. Tier 4.0. Exponent 2\n"
     ]
    },
    {
     "name": "stderr",
     "output_type": "stream",
     "text": [
      "Processing matches:  26%|██▌       | 3268/12699 [01:37<05:51, 26.81it/s]"
     ]
    },
    {
     "name": "stdout",
     "output_type": "stream",
     "text": [
      "Multiplier 0.48. Tier 4.0. Exponent 2\n",
      "Multiplier 0.48. Tier 4.0. Exponent 2\n",
      "Multiplier 0.48. Tier 4.0. Exponent 2\n",
      "Multiplier 0.48. Tier 4.0. Exponent 2\n",
      "Multiplier 0.48. Tier 4.0. Exponent 2\n",
      "Multiplier 0.48. Tier 4.0. Exponent 2\n",
      "Multiplier 0.48. Tier 4.0. Exponent 2\n"
     ]
    },
    {
     "name": "stderr",
     "output_type": "stream",
     "text": [
      "Processing matches:  26%|██▌       | 3276/12699 [01:37<05:17, 29.67it/s]"
     ]
    },
    {
     "name": "stdout",
     "output_type": "stream",
     "text": [
      "Multiplier 0.48. Tier 4.0. Exponent 2\n",
      "Multiplier 0.48. Tier 4.0. Exponent 2\n",
      "Multiplier 0.48. Tier 4.0. Exponent 2\n",
      "Multiplier 0.48. Tier 4.0. Exponent 2\n",
      "Multiplier 0.48. Tier 4.0. Exponent 2\n",
      "Multiplier 0.48. Tier 4.0. Exponent 2\n"
     ]
    },
    {
     "name": "stderr",
     "output_type": "stream",
     "text": [
      "Processing matches:  26%|██▌       | 3280/12699 [01:37<04:59, 31.42it/s]"
     ]
    },
    {
     "name": "stdout",
     "output_type": "stream",
     "text": [
      "Multiplier 0.48. Tier 4.0. Exponent 2\n",
      "Multiplier 0.48. Tier 4.0. Exponent 2\n",
      "Multiplier 0.48. Tier 4.0. Exponent 2\n",
      "Multiplier 1.3333333333333333. Tier 2.0. Exponent 2\n",
      "Multiplier 1.3333333333333333. Tier 2.0. Exponent 2\n",
      "Multiplier 0.48. Tier 4.0. Exponent 2\n",
      "Multiplier 0.48. Tier 4.0. Exponent 2\n"
     ]
    },
    {
     "name": "stderr",
     "output_type": "stream",
     "text": [
      "Processing matches:  26%|██▌       | 3288/12699 [01:37<04:45, 32.97it/s]"
     ]
    },
    {
     "name": "stdout",
     "output_type": "stream",
     "text": [
      "Multiplier 0.48. Tier 4.0. Exponent 2\n",
      "Multiplier 0.48. Tier 4.0. Exponent 2\n",
      "Multiplier 0.48. Tier 4.0. Exponent 2\n",
      "Multiplier 0.48. Tier 4.0. Exponent 2\n",
      "Multiplier 0.48. Tier 4.0. Exponent 2\n",
      "Multiplier 1.3333333333333333. Tier 2.0. Exponent 2\n",
      "Multiplier 1.3333333333333333. Tier 2.0. Exponent 2\n",
      "Multiplier 1.3333333333333333. Tier 2.0. Exponent 2\n"
     ]
    },
    {
     "name": "stderr",
     "output_type": "stream",
     "text": [
      "Processing matches:  26%|██▌       | 3296/12699 [01:37<05:09, 30.34it/s]"
     ]
    },
    {
     "name": "stdout",
     "output_type": "stream",
     "text": [
      "Multiplier 1.3333333333333333. Tier 2.0. Exponent 2\n",
      "Multiplier 1.3333333333333333. Tier 2.0. Exponent 2\n",
      "Multiplier 1.3333333333333333. Tier 2.0. Exponent 2\n",
      "Multiplier 1.3333333333333333. Tier 2.0. Exponent 2\n",
      "Multiplier 1.3333333333333333. Tier 2.0. Exponent 2\n"
     ]
    },
    {
     "name": "stderr",
     "output_type": "stream",
     "text": [
      "Processing matches:  26%|██▌       | 3300/12699 [01:38<05:27, 28.71it/s]"
     ]
    },
    {
     "name": "stdout",
     "output_type": "stream",
     "text": [
      "Multiplier 1.3333333333333333. Tier 2.0. Exponent 2\n",
      "Multiplier 1.3333333333333333. Tier 2.0. Exponent 2\n",
      "Multiplier 1.3333333333333333. Tier 2.0. Exponent 2\n",
      "Multiplier 1.3333333333333333. Tier 2.0. Exponent 2\n",
      "Multiplier 1.3333333333333333. Tier 2.0. Exponent 2\n"
     ]
    },
    {
     "name": "stderr",
     "output_type": "stream",
     "text": [
      "Processing matches:  26%|██▌       | 3306/12699 [01:38<05:57, 26.25it/s]"
     ]
    },
    {
     "name": "stdout",
     "output_type": "stream",
     "text": [
      "Multiplier 3.0. Tier 1.0. Exponent 2\n",
      "Multiplier 3.0. Tier 1.0. Exponent 2\n",
      "Multiplier 1.3333333333333333. Tier 2.0. Exponent 2\n",
      "Multiplier 1.3333333333333333. Tier 2.0. Exponent 2\n",
      "Multiplier 1.3333333333333333. Tier 2.0. Exponent 2\n"
     ]
    },
    {
     "name": "stderr",
     "output_type": "stream",
     "text": [
      "Processing matches:  26%|██▌       | 3309/12699 [01:38<06:07, 25.53it/s]"
     ]
    },
    {
     "name": "stdout",
     "output_type": "stream",
     "text": [
      "Multiplier 1.3333333333333333. Tier 2.0. Exponent 2\n",
      "Multiplier 3.0. Tier 1.0. Exponent 2\n",
      "Multiplier 3.0. Tier 1.0. Exponent 2\n",
      "Multiplier 3.0. Tier 1.0. Exponent 2\n",
      "Multiplier 3.0. Tier 1.0. Exponent 2\n"
     ]
    },
    {
     "name": "stderr",
     "output_type": "stream",
     "text": [
      "Processing matches:  26%|██▌       | 3316/12699 [01:38<05:50, 26.75it/s]"
     ]
    },
    {
     "name": "stdout",
     "output_type": "stream",
     "text": [
      "Multiplier 3.0. Tier 1.0. Exponent 2\n",
      "Multiplier 1.3333333333333333. Tier 2.0. Exponent 2\n",
      "Multiplier 1.3333333333333333. Tier 2.0. Exponent 2\n",
      "Multiplier 1.3333333333333333. Tier 2.0. Exponent 2\n",
      "Multiplier 1.3333333333333333. Tier 2.0. Exponent 2\n",
      "Multiplier 3.0. Tier 1.0. Exponent 2\n",
      "Multiplier 3.0. Tier 1.0. Exponent 2\n"
     ]
    },
    {
     "name": "stderr",
     "output_type": "stream",
     "text": [
      "Processing matches:  26%|██▌       | 3322/12699 [01:39<06:12, 25.21it/s]"
     ]
    },
    {
     "name": "stdout",
     "output_type": "stream",
     "text": [
      "Multiplier 3.0. Tier 1.0. Exponent 2\n",
      "Multiplier 3.0. Tier 1.0. Exponent 2\n",
      "Multiplier 3.0. Tier 1.0. Exponent 2\n",
      "Multiplier 1.3333333333333333. Tier 2.0. Exponent 2\n",
      "Multiplier 1.3333333333333333. Tier 2.0. Exponent 2\n"
     ]
    },
    {
     "name": "stderr",
     "output_type": "stream",
     "text": [
      "Processing matches:  26%|██▌       | 3326/12699 [01:39<05:54, 26.44it/s]"
     ]
    },
    {
     "name": "stdout",
     "output_type": "stream",
     "text": [
      "Multiplier 1.3333333333333333. Tier 2.0. Exponent 2\n",
      "Multiplier 1.3333333333333333. Tier 2.0. Exponent 2\n",
      "Multiplier 3.0. Tier 1.0. Exponent 2\n",
      "Multiplier 3.0. Tier 1.0. Exponent 2\n",
      "Multiplier 3.0. Tier 1.0. Exponent 2\n"
     ]
    },
    {
     "name": "stderr",
     "output_type": "stream",
     "text": [
      "Processing matches:  26%|██▌       | 3332/12699 [01:39<06:16, 24.85it/s]"
     ]
    },
    {
     "name": "stdout",
     "output_type": "stream",
     "text": [
      "Multiplier 3.0. Tier 1.0. Exponent 2\n",
      "Multiplier 1.3333333333333333. Tier 2.0. Exponent 2\n",
      "Multiplier 1.3333333333333333. Tier 2.0. Exponent 2\n",
      "Multiplier 1.3333333333333333. Tier 2.0. Exponent 2\n",
      "Multiplier 1.3333333333333333. Tier 2.0. Exponent 2\n",
      "Multiplier 1.3333333333333333. Tier 2.0. Exponent 2\n"
     ]
    },
    {
     "name": "stderr",
     "output_type": "stream",
     "text": [
      "Processing matches:  26%|██▋       | 3338/12699 [01:39<06:00, 25.99it/s]"
     ]
    },
    {
     "name": "stdout",
     "output_type": "stream",
     "text": [
      "Multiplier 1.3333333333333333. Tier 2.0. Exponent 2\n",
      "Multiplier 1.3333333333333333. Tier 2.0. Exponent 2\n",
      "Multiplier 1.3333333333333333. Tier 2.0. Exponent 2\n",
      "Multiplier 1.3333333333333333. Tier 2.0. Exponent 2\n",
      "Multiplier 1.3333333333333333. Tier 2.0. Exponent 2\n",
      "Multiplier 1.3333333333333333. Tier 2.0. Exponent 2\n"
     ]
    },
    {
     "name": "stderr",
     "output_type": "stream",
     "text": [
      "Processing matches:  26%|██▋       | 3346/12699 [01:39<05:23, 28.89it/s]"
     ]
    },
    {
     "name": "stdout",
     "output_type": "stream",
     "text": [
      "Multiplier 1.3333333333333333. Tier 2.0. Exponent 2\n",
      "Multiplier 1.3333333333333333. Tier 2.0. Exponent 2\n",
      "Multiplier 1.3333333333333333. Tier 2.0. Exponent 2\n",
      "Multiplier 1.3333333333333333. Tier 2.0. Exponent 2\n",
      "Multiplier 1.3333333333333333. Tier 2.0. Exponent 2\n",
      "Multiplier 1.3333333333333333. Tier 2.0. Exponent 2\n",
      "Multiplier 3.0. Tier 1.0. Exponent 2\n"
     ]
    },
    {
     "name": "stderr",
     "output_type": "stream",
     "text": [
      "Processing matches:  26%|██▋       | 3352/12699 [01:40<05:48, 26.82it/s]"
     ]
    },
    {
     "name": "stdout",
     "output_type": "stream",
     "text": [
      "Multiplier 3.0. Tier 1.0. Exponent 2\n",
      "Multiplier 3.0. Tier 1.0. Exponent 2\n",
      "Multiplier 1.3333333333333333. Tier 2.0. Exponent 2\n",
      "Multiplier 1.3333333333333333. Tier 2.0. Exponent 2\n",
      "Multiplier 3.0. Tier 1.0. Exponent 2\n"
     ]
    },
    {
     "name": "stderr",
     "output_type": "stream",
     "text": [
      "Processing matches:  26%|██▋       | 3358/12699 [01:40<05:35, 27.84it/s]"
     ]
    },
    {
     "name": "stdout",
     "output_type": "stream",
     "text": [
      "Multiplier 1.3333333333333333. Tier 2.0. Exponent 2\n",
      "Multiplier 1.3333333333333333. Tier 2.0. Exponent 2\n",
      "Multiplier 1.3333333333333333. Tier 2.0. Exponent 2\n",
      "Multiplier 1.3333333333333333. Tier 2.0. Exponent 2\n",
      "Multiplier 1.3333333333333333. Tier 2.0. Exponent 2\n",
      "Multiplier 3.0. Tier 1.0. Exponent 2\n"
     ]
    },
    {
     "name": "stderr",
     "output_type": "stream",
     "text": [
      "Processing matches:  26%|██▋       | 3361/12699 [01:40<05:54, 26.31it/s]"
     ]
    },
    {
     "name": "stdout",
     "output_type": "stream",
     "text": [
      "Multiplier 3.0. Tier 1.0. Exponent 2\n",
      "Multiplier 3.0. Tier 1.0. Exponent 2\n",
      "Multiplier 3.0. Tier 1.0. Exponent 2\n",
      "Multiplier 1.3333333333333333. Tier 2.0. Exponent 2\n",
      "Multiplier 3.0. Tier 1.0. Exponent 2\n"
     ]
    },
    {
     "name": "stderr",
     "output_type": "stream",
     "text": [
      "Processing matches:  27%|██▋       | 3367/12699 [01:40<05:53, 26.37it/s]"
     ]
    },
    {
     "name": "stdout",
     "output_type": "stream",
     "text": [
      "Multiplier 3.0. Tier 1.0. Exponent 2\n",
      "Multiplier 3.0. Tier 1.0. Exponent 2\n",
      "Multiplier 3.0. Tier 1.0. Exponent 2\n",
      "Multiplier 0.75. Tier 3.0. Exponent 2\n",
      "Multiplier 3.0. Tier 1.0. Exponent 2\n",
      "Multiplier 0.75. Tier 3.0. Exponent 2\n"
     ]
    },
    {
     "name": "stderr",
     "output_type": "stream",
     "text": [
      "Processing matches:  27%|██▋       | 3374/12699 [01:40<05:42, 27.26it/s]"
     ]
    },
    {
     "name": "stdout",
     "output_type": "stream",
     "text": [
      "Multiplier 3.0. Tier 1.0. Exponent 2\n",
      "Multiplier 0.75. Tier 3.0. Exponent 2\n",
      "Multiplier 0.75. Tier 3.0. Exponent 2\n",
      "Multiplier 3.0. Tier 1.0. Exponent 2\n",
      "Multiplier 3.0. Tier 1.0. Exponent 2\n",
      "Multiplier 1.3333333333333333. Tier 2.0. Exponent 2\n"
     ]
    },
    {
     "name": "stderr",
     "output_type": "stream",
     "text": [
      "Processing matches:  27%|██▋       | 3382/12699 [01:41<05:03, 30.69it/s]"
     ]
    },
    {
     "name": "stdout",
     "output_type": "stream",
     "text": [
      "Multiplier 1.3333333333333333. Tier 2.0. Exponent 2\n",
      "Multiplier 0.75. Tier 3.0. Exponent 2\n",
      "Multiplier 0.75. Tier 3.0. Exponent 2\n",
      "Multiplier 0.75. Tier 3.0. Exponent 2\n",
      "Multiplier 0.75. Tier 3.0. Exponent 2\n",
      "Multiplier 1.3333333333333333. Tier 2.0. Exponent 2\n",
      "Multiplier 0.75. Tier 3.0. Exponent 2\n"
     ]
    },
    {
     "name": "stderr",
     "output_type": "stream",
     "text": [
      "Processing matches:  27%|██▋       | 3386/12699 [01:41<05:11, 29.87it/s]"
     ]
    },
    {
     "name": "stdout",
     "output_type": "stream",
     "text": [
      "Multiplier 0.75. Tier 3.0. Exponent 2\n",
      "Multiplier 0.75. Tier 3.0. Exponent 2\n",
      "Multiplier 0.75. Tier 3.0. Exponent 2\n",
      "Multiplier 1.3333333333333333. Tier 2.0. Exponent 2\n",
      "Multiplier 0.75. Tier 3.0. Exponent 2\n",
      "Multiplier 0.75. Tier 3.0. Exponent 2\n"
     ]
    },
    {
     "name": "stderr",
     "output_type": "stream",
     "text": [
      "Processing matches:  27%|██▋       | 3392/12699 [01:41<05:24, 28.66it/s]"
     ]
    },
    {
     "name": "stdout",
     "output_type": "stream",
     "text": [
      "Multiplier 1.3333333333333333. Tier 2.0. Exponent 2\n",
      "Multiplier 1.3333333333333333. Tier 2.0. Exponent 2\n",
      "Multiplier 1.3333333333333333. Tier 2.0. Exponent 2\n",
      "Multiplier 1.3333333333333333. Tier 2.0. Exponent 2\n",
      "Multiplier 1.3333333333333333. Tier 2.0. Exponent 2\n",
      "Multiplier 1.3333333333333333. Tier 2.0. Exponent 2\n"
     ]
    },
    {
     "name": "stderr",
     "output_type": "stream",
     "text": [
      "Processing matches:  27%|██▋       | 3399/12699 [01:41<05:19, 29.07it/s]"
     ]
    },
    {
     "name": "stdout",
     "output_type": "stream",
     "text": [
      "Multiplier 1.3333333333333333. Tier 2.0. Exponent 2\n",
      "Multiplier 0.75. Tier 3.0. Exponent 2\n",
      "Multiplier 0.75. Tier 3.0. Exponent 2\n",
      "Multiplier 1.3333333333333333. Tier 2.0. Exponent 2\n",
      "Multiplier 1.3333333333333333. Tier 2.0. Exponent 2\n",
      "Multiplier 1.3333333333333333. Tier 2.0. Exponent 2\n"
     ]
    },
    {
     "name": "stderr",
     "output_type": "stream",
     "text": [
      "Processing matches:  27%|██▋       | 3405/12699 [01:42<05:35, 27.66it/s]"
     ]
    },
    {
     "name": "stdout",
     "output_type": "stream",
     "text": [
      "Multiplier 0.75. Tier 3.0. Exponent 2\n",
      "Multiplier 0.75. Tier 3.0. Exponent 2\n",
      "Multiplier 0.75. Tier 3.0. Exponent 2\n",
      "Multiplier 1.3333333333333333. Tier 2.0. Exponent 2\n",
      "Multiplier 1.3333333333333333. Tier 2.0. Exponent 2\n",
      "Multiplier 1.3333333333333333. Tier 2.0. Exponent 2\n",
      "Multiplier 3.0. Tier 1.0. Exponent 2\n"
     ]
    },
    {
     "name": "stderr",
     "output_type": "stream",
     "text": [
      "Processing matches:  27%|██▋       | 3411/12699 [01:42<05:54, 26.18it/s]"
     ]
    },
    {
     "name": "stdout",
     "output_type": "stream",
     "text": [
      "Multiplier 3.0. Tier 1.0. Exponent 2\n",
      "Multiplier 1.3333333333333333. Tier 2.0. Exponent 2\n",
      "Multiplier 3.0. Tier 1.0. Exponent 2\n",
      "Multiplier 1.3333333333333333. Tier 2.0. Exponent 2\n",
      "Multiplier 1.3333333333333333. Tier 2.0. Exponent 2\n",
      "Multiplier 1.3333333333333333. Tier 2.0. Exponent 2\n"
     ]
    },
    {
     "name": "stderr",
     "output_type": "stream",
     "text": [
      "Processing matches:  27%|██▋       | 3417/12699 [01:42<06:00, 25.75it/s]"
     ]
    },
    {
     "name": "stdout",
     "output_type": "stream",
     "text": [
      "Multiplier 3.0. Tier 1.0. Exponent 2\n",
      "Multiplier 3.0. Tier 1.0. Exponent 2\n",
      "Multiplier 3.0. Tier 1.0. Exponent 2\n",
      "Multiplier 3.0. Tier 1.0. Exponent 2\n",
      "Multiplier 3.0. Tier 1.0. Exponent 2\n",
      "Multiplier 0.48. Tier 4.0. Exponent 2\n"
     ]
    },
    {
     "name": "stderr",
     "output_type": "stream",
     "text": [
      "Processing matches:  27%|██▋       | 3425/12699 [01:42<05:04, 30.47it/s]"
     ]
    },
    {
     "name": "stdout",
     "output_type": "stream",
     "text": [
      "Multiplier 0.48. Tier 4.0. Exponent 2\n",
      "Multiplier 0.48. Tier 4.0. Exponent 2\n",
      "Multiplier 0.48. Tier 4.0. Exponent 2\n",
      "Multiplier 0.48. Tier 4.0. Exponent 2\n",
      "Multiplier 0.48. Tier 4.0. Exponent 2\n",
      "Multiplier 0.48. Tier 4.0. Exponent 2\n",
      "Multiplier 1.3333333333333333. Tier 2.0. Exponent 2\n",
      "Multiplier 0.48. Tier 4.0. Exponent 2\n"
     ]
    },
    {
     "name": "stderr",
     "output_type": "stream",
     "text": [
      "Processing matches:  27%|██▋       | 3433/12699 [01:42<04:33, 33.94it/s]"
     ]
    },
    {
     "name": "stdout",
     "output_type": "stream",
     "text": [
      "Multiplier 0.48. Tier 4.0. Exponent 2\n",
      "Multiplier 0.48. Tier 4.0. Exponent 2\n",
      "Multiplier 0.48. Tier 4.0. Exponent 2\n",
      "Multiplier 1.3333333333333333. Tier 2.0. Exponent 2\n",
      "Multiplier 1.3333333333333333. Tier 2.0. Exponent 2\n",
      "Multiplier 1.3333333333333333. Tier 2.0. Exponent 2\n",
      "Multiplier 0.48. Tier 4.0. Exponent 2\n",
      "Multiplier 0.48. Tier 4.0. Exponent 2\n"
     ]
    },
    {
     "name": "stderr",
     "output_type": "stream",
     "text": [
      "Processing matches:  27%|██▋       | 3437/12699 [01:43<04:48, 32.11it/s]"
     ]
    },
    {
     "name": "stdout",
     "output_type": "stream",
     "text": [
      "Multiplier 0.48. Tier 4.0. Exponent 2\n",
      "Multiplier 3.0. Tier 1.0. Exponent 2\n",
      "Multiplier 3.0. Tier 1.0. Exponent 2\n",
      "Multiplier 3.0. Tier 1.0. Exponent 2\n",
      "Multiplier 3.0. Tier 1.0. Exponent 2\n"
     ]
    },
    {
     "name": "stderr",
     "output_type": "stream",
     "text": [
      "Processing matches:  27%|██▋       | 3445/12699 [01:43<05:29, 28.07it/s]"
     ]
    },
    {
     "name": "stdout",
     "output_type": "stream",
     "text": [
      "Multiplier 3.0. Tier 1.0. Exponent 2\n",
      "Multiplier 3.0. Tier 1.0. Exponent 2\n",
      "Multiplier 3.0. Tier 1.0. Exponent 2\n",
      "Multiplier 3.0. Tier 1.0. Exponent 2\n",
      "Multiplier 1.3333333333333333. Tier 2.0. Exponent 2\n"
     ]
    },
    {
     "name": "stderr",
     "output_type": "stream",
     "text": [
      "Processing matches:  27%|██▋       | 3449/12699 [01:43<05:14, 29.40it/s]"
     ]
    },
    {
     "name": "stdout",
     "output_type": "stream",
     "text": [
      "Multiplier 1.3333333333333333. Tier 2.0. Exponent 2\n",
      "Multiplier 1.3333333333333333. Tier 2.0. Exponent 2\n",
      "Multiplier 1.3333333333333333. Tier 2.0. Exponent 2\n",
      "Multiplier 0.48. Tier 4.0. Exponent 2\n",
      "Multiplier 0.48. Tier 4.0. Exponent 2\n",
      "Multiplier 0.48. Tier 4.0. Exponent 2\n",
      "Multiplier 1.3333333333333333. Tier 2.0. Exponent 2\n"
     ]
    },
    {
     "name": "stderr",
     "output_type": "stream",
     "text": [
      "Processing matches:  27%|██▋       | 3457/12699 [01:43<04:55, 31.30it/s]"
     ]
    },
    {
     "name": "stdout",
     "output_type": "stream",
     "text": [
      "Multiplier 0.48. Tier 4.0. Exponent 2\n",
      "Multiplier 0.48. Tier 4.0. Exponent 2\n",
      "Multiplier 0.48. Tier 4.0. Exponent 2\n",
      "Multiplier 0.48. Tier 4.0. Exponent 2\n",
      "Multiplier 0.48. Tier 4.0. Exponent 2\n",
      "Multiplier 0.48. Tier 4.0. Exponent 2\n",
      "Multiplier 0.48. Tier 4.0. Exponent 2\n"
     ]
    },
    {
     "name": "stderr",
     "output_type": "stream",
     "text": [
      "Processing matches:  27%|██▋       | 3465/12699 [01:44<04:42, 32.69it/s]"
     ]
    },
    {
     "name": "stdout",
     "output_type": "stream",
     "text": [
      "Multiplier 0.48. Tier 4.0. Exponent 2\n",
      "Multiplier 0.48. Tier 4.0. Exponent 2\n",
      "Multiplier 0.48. Tier 4.0. Exponent 2\n",
      "Multiplier 0.48. Tier 4.0. Exponent 2\n",
      "Multiplier 0.48. Tier 4.0. Exponent 2\n",
      "Multiplier 0.48. Tier 4.0. Exponent 2\n",
      "Multiplier 3.0. Tier 1.0. Exponent 2\n",
      "Multiplier 0.48. Tier 4.0. Exponent 2\n"
     ]
    },
    {
     "name": "stderr",
     "output_type": "stream",
     "text": [
      "Processing matches:  27%|██▋       | 3473/12699 [01:44<04:39, 33.05it/s]"
     ]
    },
    {
     "name": "stdout",
     "output_type": "stream",
     "text": [
      "Multiplier 0.48. Tier 4.0. Exponent 2\n",
      "Multiplier 0.48. Tier 4.0. Exponent 2\n",
      "Multiplier 0.48. Tier 4.0. Exponent 2\n",
      "Multiplier 0.48. Tier 4.0. Exponent 2\n",
      "Multiplier 0.48. Tier 4.0. Exponent 2\n",
      "Multiplier 0.48. Tier 4.0. Exponent 2\n",
      "Multiplier 0.48. Tier 4.0. Exponent 2\n",
      "Multiplier 0.48. Tier 4.0. Exponent 2\n"
     ]
    },
    {
     "name": "stderr",
     "output_type": "stream",
     "text": [
      "Processing matches:  27%|██▋       | 3481/12699 [01:44<04:40, 32.82it/s]"
     ]
    },
    {
     "name": "stdout",
     "output_type": "stream",
     "text": [
      "Multiplier 0.48. Tier 4.0. Exponent 2\n",
      "Multiplier 0.48. Tier 4.0. Exponent 2\n",
      "Multiplier 0.48. Tier 4.0. Exponent 2\n",
      "Multiplier 0.48. Tier 4.0. Exponent 2\n",
      "Multiplier 0.48. Tier 4.0. Exponent 2\n",
      "Multiplier 0.48. Tier 4.0. Exponent 2\n",
      "Multiplier 0.48. Tier 4.0. Exponent 2\n",
      "Multiplier 0.48. Tier 4.0. Exponent 2\n"
     ]
    },
    {
     "name": "stderr",
     "output_type": "stream",
     "text": [
      "Processing matches:  27%|██▋       | 3489/12699 [01:44<04:33, 33.63it/s]"
     ]
    },
    {
     "name": "stdout",
     "output_type": "stream",
     "text": [
      "Multiplier 0.48. Tier 4.0. Exponent 2\n",
      "Multiplier 0.48. Tier 4.0. Exponent 2\n",
      "Multiplier 0.48. Tier 4.0. Exponent 2\n",
      "Multiplier 0.48. Tier 4.0. Exponent 2\n",
      "Multiplier 0.48. Tier 4.0. Exponent 2\n",
      "Multiplier 0.48. Tier 4.0. Exponent 2\n",
      "Multiplier 0.48. Tier 4.0. Exponent 2\n",
      "Multiplier 0.48. Tier 4.0. Exponent 2\n"
     ]
    },
    {
     "name": "stderr",
     "output_type": "stream",
     "text": [
      "Processing matches:  28%|██▊       | 3497/12699 [01:44<04:34, 33.49it/s]"
     ]
    },
    {
     "name": "stdout",
     "output_type": "stream",
     "text": [
      "Multiplier 0.48. Tier 4.0. Exponent 2\n",
      "Multiplier 0.48. Tier 4.0. Exponent 2\n",
      "Multiplier 0.48. Tier 4.0. Exponent 2\n",
      "Multiplier 0.48. Tier 4.0. Exponent 2\n",
      "Multiplier 0.48. Tier 4.0. Exponent 2\n",
      "Multiplier 0.48. Tier 4.0. Exponent 2\n",
      "Multiplier 0.48. Tier 4.0. Exponent 2\n"
     ]
    },
    {
     "name": "stderr",
     "output_type": "stream",
     "text": [
      "Processing matches:  28%|██▊       | 3501/12699 [01:45<04:45, 32.19it/s]"
     ]
    },
    {
     "name": "stdout",
     "output_type": "stream",
     "text": [
      "Multiplier 0.48. Tier 4.0. Exponent 2\n",
      "Multiplier 0.48. Tier 4.0. Exponent 2\n",
      "Multiplier 0.48. Tier 4.0. Exponent 2\n",
      "Multiplier 3.0. Tier 1.0. Exponent 2\n",
      "Multiplier 3.0. Tier 1.0. Exponent 2\n",
      "Multiplier 3.0. Tier 1.0. Exponent 2\n"
     ]
    },
    {
     "name": "stderr",
     "output_type": "stream",
     "text": [
      "Processing matches:  28%|██▊       | 3509/12699 [01:45<04:53, 31.26it/s]"
     ]
    },
    {
     "name": "stdout",
     "output_type": "stream",
     "text": [
      "Multiplier 0.48. Tier 4.0. Exponent 2\n",
      "Multiplier 0.48. Tier 4.0. Exponent 2\n",
      "Multiplier 0.48. Tier 4.0. Exponent 2\n",
      "Multiplier 0.48. Tier 4.0. Exponent 2\n",
      "Multiplier 0.48. Tier 4.0. Exponent 2\n",
      "Multiplier 0.48. Tier 4.0. Exponent 2\n",
      "Multiplier 0.48. Tier 4.0. Exponent 2\n"
     ]
    },
    {
     "name": "stderr",
     "output_type": "stream",
     "text": [
      "Processing matches:  28%|██▊       | 3517/12699 [01:45<04:46, 32.03it/s]"
     ]
    },
    {
     "name": "stdout",
     "output_type": "stream",
     "text": [
      "Multiplier 0.48. Tier 4.0. Exponent 2\n",
      "Multiplier 0.48. Tier 4.0. Exponent 2\n",
      "Multiplier 0.48. Tier 4.0. Exponent 2\n",
      "Multiplier 0.48. Tier 4.0. Exponent 2\n",
      "Multiplier 0.48. Tier 4.0. Exponent 2\n",
      "Multiplier 0.48. Tier 4.0. Exponent 2\n"
     ]
    },
    {
     "name": "stderr",
     "output_type": "stream",
     "text": [
      "Processing matches:  28%|██▊       | 3521/12699 [01:45<04:47, 31.90it/s]"
     ]
    },
    {
     "name": "stdout",
     "output_type": "stream",
     "text": [
      "Multiplier 0.48. Tier 4.0. Exponent 2\n",
      "Multiplier 0.48. Tier 4.0. Exponent 2\n",
      "Multiplier 0.48. Tier 4.0. Exponent 2\n",
      "Multiplier 0.48. Tier 4.0. Exponent 2\n",
      "Multiplier 0.48. Tier 4.0. Exponent 2\n",
      "Multiplier 0.48. Tier 4.0. Exponent 2\n"
     ]
    },
    {
     "name": "stderr",
     "output_type": "stream",
     "text": [
      "Processing matches:  28%|██▊       | 3529/12699 [01:46<04:45, 32.07it/s]"
     ]
    },
    {
     "name": "stdout",
     "output_type": "stream",
     "text": [
      "Multiplier 3.0. Tier 1.0. Exponent 2\n",
      "Multiplier 0.48. Tier 4.0. Exponent 2\n",
      "Multiplier 0.48. Tier 4.0. Exponent 2\n",
      "Multiplier 0.48. Tier 4.0. Exponent 2\n",
      "Multiplier 1.3333333333333333. Tier 2.0. Exponent 2\n",
      "Multiplier 0.48. Tier 4.0. Exponent 2\n"
     ]
    },
    {
     "name": "stderr",
     "output_type": "stream",
     "text": [
      "Processing matches:  28%|██▊       | 3533/12699 [01:46<05:02, 30.32it/s]"
     ]
    },
    {
     "name": "stdout",
     "output_type": "stream",
     "text": [
      "Multiplier 0.48. Tier 4.0. Exponent 2\n",
      "Multiplier 0.48. Tier 4.0. Exponent 2\n",
      "Multiplier 3.0. Tier 1.0. Exponent 2\n",
      "Multiplier 3.0. Tier 1.0. Exponent 2\n",
      "Multiplier 3.0. Tier 1.0. Exponent 2\n",
      "Multiplier 1.3333333333333333. Tier 2.0. Exponent 2\n"
     ]
    },
    {
     "name": "stderr",
     "output_type": "stream",
     "text": [
      "Processing matches:  28%|██▊       | 3541/12699 [01:46<05:03, 30.20it/s]"
     ]
    },
    {
     "name": "stdout",
     "output_type": "stream",
     "text": [
      "Multiplier 0.48. Tier 4.0. Exponent 2\n",
      "Multiplier 0.48. Tier 4.0. Exponent 2\n",
      "Multiplier 0.48. Tier 4.0. Exponent 2\n",
      "Multiplier 0.48. Tier 4.0. Exponent 2\n",
      "Multiplier 0.48. Tier 4.0. Exponent 2\n",
      "Multiplier 0.48. Tier 4.0. Exponent 2\n"
     ]
    },
    {
     "name": "stderr",
     "output_type": "stream",
     "text": [
      "Processing matches:  28%|██▊       | 3545/12699 [01:46<05:23, 28.31it/s]"
     ]
    },
    {
     "name": "stdout",
     "output_type": "stream",
     "text": [
      "Multiplier 1.3333333333333333. Tier 2.0. Exponent 2\n",
      "Multiplier 1.3333333333333333. Tier 2.0. Exponent 2\n",
      "Multiplier 1.3333333333333333. Tier 2.0. Exponent 2\n",
      "Multiplier 1.3333333333333333. Tier 2.0. Exponent 2\n",
      "Multiplier 1.3333333333333333. Tier 2.0. Exponent 2\n"
     ]
    },
    {
     "name": "stderr",
     "output_type": "stream",
     "text": [
      "Processing matches:  28%|██▊       | 3552/12699 [01:46<05:14, 29.06it/s]"
     ]
    },
    {
     "name": "stdout",
     "output_type": "stream",
     "text": [
      "Multiplier 1.3333333333333333. Tier 2.0. Exponent 2\n",
      "Multiplier 1.3333333333333333. Tier 2.0. Exponent 2\n",
      "Multiplier 1.3333333333333333. Tier 2.0. Exponent 2\n",
      "Multiplier 1.3333333333333333. Tier 2.0. Exponent 2\n",
      "Multiplier 1.3333333333333333. Tier 2.0. Exponent 2\n",
      "Multiplier 1.3333333333333333. Tier 2.0. Exponent 2\n"
     ]
    },
    {
     "name": "stderr",
     "output_type": "stream",
     "text": [
      "Processing matches:  28%|██▊       | 3555/12699 [01:46<05:26, 28.00it/s]"
     ]
    },
    {
     "name": "stdout",
     "output_type": "stream",
     "text": [
      "Multiplier 1.3333333333333333. Tier 2.0. Exponent 2\n",
      "Multiplier 3.0. Tier 1.0. Exponent 2\n",
      "Multiplier 3.0. Tier 1.0. Exponent 2\n",
      "Multiplier 3.0. Tier 1.0. Exponent 2\n",
      "Multiplier 3.0. Tier 1.0. Exponent 2\n",
      "Multiplier 3.0. Tier 1.0. Exponent 2\n"
     ]
    },
    {
     "name": "stderr",
     "output_type": "stream",
     "text": [
      "Processing matches:  28%|██▊       | 3561/12699 [01:47<05:23, 28.23it/s]"
     ]
    },
    {
     "name": "stdout",
     "output_type": "stream",
     "text": [
      "Multiplier 3.0. Tier 1.0. Exponent 2\n",
      "Multiplier 1.3333333333333333. Tier 2.0. Exponent 2\n",
      "Multiplier 1.3333333333333333. Tier 2.0. Exponent 2\n",
      "Multiplier 3.0. Tier 1.0. Exponent 2\n",
      "Multiplier 3.0. Tier 1.0. Exponent 2\n",
      "Multiplier 3.0. Tier 1.0. Exponent 2\n"
     ]
    },
    {
     "name": "stderr",
     "output_type": "stream",
     "text": [
      "Processing matches:  28%|██▊       | 3570/12699 [01:47<05:28, 27.80it/s]"
     ]
    },
    {
     "name": "stdout",
     "output_type": "stream",
     "text": [
      "Multiplier 1.3333333333333333. Tier 2.0. Exponent 2\n",
      "Multiplier 1.3333333333333333. Tier 2.0. Exponent 2\n",
      "Multiplier 3.0. Tier 1.0. Exponent 2\n",
      "Multiplier 1.3333333333333333. Tier 2.0. Exponent 2\n",
      "Multiplier 3.0. Tier 1.0. Exponent 2\n",
      "Multiplier 3.0. Tier 1.0. Exponent 2\n"
     ]
    },
    {
     "name": "stderr",
     "output_type": "stream",
     "text": [
      "Processing matches:  28%|██▊       | 3573/12699 [01:47<05:54, 25.74it/s]"
     ]
    },
    {
     "name": "stdout",
     "output_type": "stream",
     "text": [
      "Multiplier 3.0. Tier 1.0. Exponent 2\n",
      "Multiplier 3.0. Tier 1.0. Exponent 2\n",
      "Multiplier 0.75. Tier 3.0. Exponent 2\n",
      "Multiplier 3.0. Tier 1.0. Exponent 2\n",
      "Multiplier 3.0. Tier 1.0. Exponent 2\n"
     ]
    },
    {
     "name": "stderr",
     "output_type": "stream",
     "text": [
      "Processing matches:  28%|██▊       | 3580/12699 [01:47<05:23, 28.21it/s]"
     ]
    },
    {
     "name": "stdout",
     "output_type": "stream",
     "text": [
      "Multiplier 1.3333333333333333. Tier 2.0. Exponent 2\n",
      "Multiplier 1.3333333333333333. Tier 2.0. Exponent 2\n",
      "Multiplier 0.48. Tier 4.0. Exponent 2\n",
      "Multiplier 0.48. Tier 4.0. Exponent 2\n",
      "Multiplier 0.48. Tier 4.0. Exponent 2\n",
      "Multiplier 0.48. Tier 4.0. Exponent 2\n",
      "Multiplier 0.48. Tier 4.0. Exponent 2\n"
     ]
    },
    {
     "name": "stderr",
     "output_type": "stream",
     "text": [
      "Processing matches:  28%|██▊       | 3588/12699 [01:48<04:53, 31.10it/s]"
     ]
    },
    {
     "name": "stdout",
     "output_type": "stream",
     "text": [
      "Multiplier 0.48. Tier 4.0. Exponent 2\n",
      "Multiplier 0.48. Tier 4.0. Exponent 2\n",
      "Multiplier 1.3333333333333333. Tier 2.0. Exponent 2\n",
      "Multiplier 1.3333333333333333. Tier 2.0. Exponent 2\n",
      "Multiplier 0.75. Tier 3.0. Exponent 2\n",
      "Multiplier 0.75. Tier 3.0. Exponent 2\n",
      "Multiplier 1.3333333333333333. Tier 2.0. Exponent 2\n"
     ]
    },
    {
     "name": "stderr",
     "output_type": "stream",
     "text": [
      "Processing matches:  28%|██▊       | 3592/12699 [01:48<04:59, 30.45it/s]"
     ]
    },
    {
     "name": "stdout",
     "output_type": "stream",
     "text": [
      "Multiplier 1.3333333333333333. Tier 2.0. Exponent 2\n",
      "Multiplier 0.48. Tier 4.0. Exponent 2\n",
      "Multiplier 1.3333333333333333. Tier 2.0. Exponent 2\n",
      "Multiplier 0.75. Tier 3.0. Exponent 2\n",
      "Multiplier 0.75. Tier 3.0. Exponent 2\n",
      "Multiplier 0.48. Tier 4.0. Exponent 2\n"
     ]
    },
    {
     "name": "stderr",
     "output_type": "stream",
     "text": [
      "Processing matches:  28%|██▊       | 3599/12699 [01:48<05:06, 29.65it/s]"
     ]
    },
    {
     "name": "stdout",
     "output_type": "stream",
     "text": [
      "Multiplier 0.48. Tier 4.0. Exponent 2\n",
      "Multiplier 0.48. Tier 4.0. Exponent 2\n",
      "Multiplier 0.48. Tier 4.0. Exponent 2\n",
      "Multiplier 0.48. Tier 4.0. Exponent 2\n",
      "Multiplier 0.75. Tier 3.0. Exponent 2\n",
      "Multiplier 0.48. Tier 4.0. Exponent 2\n",
      "Multiplier 0.48. Tier 4.0. Exponent 2\n"
     ]
    },
    {
     "name": "stderr",
     "output_type": "stream",
     "text": [
      "Processing matches:  28%|██▊       | 3605/12699 [01:48<05:42, 26.57it/s]"
     ]
    },
    {
     "name": "stdout",
     "output_type": "stream",
     "text": [
      "Multiplier 3.0. Tier 1.0. Exponent 2\n",
      "Multiplier 0.75. Tier 3.0. Exponent 2\n",
      "Multiplier 0.48. Tier 4.0. Exponent 2\n",
      "Multiplier 0.75. Tier 3.0. Exponent 2\n",
      "Multiplier 0.48. Tier 4.0. Exponent 2\n",
      "Multiplier 0.48. Tier 4.0. Exponent 2\n"
     ]
    },
    {
     "name": "stderr",
     "output_type": "stream",
     "text": [
      "Processing matches:  28%|██▊       | 3611/12699 [01:48<05:46, 26.20it/s]"
     ]
    },
    {
     "name": "stdout",
     "output_type": "stream",
     "text": [
      "Multiplier 3.0. Tier 1.0. Exponent 2\n",
      "Multiplier 0.75. Tier 3.0. Exponent 2\n",
      "Multiplier 1.3333333333333333. Tier 2.0. Exponent 2\n",
      "Multiplier 1.3333333333333333. Tier 2.0. Exponent 2\n",
      "Multiplier 0.48. Tier 4.0. Exponent 2\n"
     ]
    },
    {
     "name": "stderr",
     "output_type": "stream",
     "text": [
      "Processing matches:  28%|██▊       | 3618/12699 [01:49<05:38, 26.84it/s]"
     ]
    },
    {
     "name": "stdout",
     "output_type": "stream",
     "text": [
      "Multiplier 0.48. Tier 4.0. Exponent 2\n",
      "Multiplier 0.48. Tier 4.0. Exponent 2\n",
      "Multiplier 0.48. Tier 4.0. Exponent 2\n",
      "Multiplier 0.48. Tier 4.0. Exponent 2\n",
      "Multiplier 3.0. Tier 1.0. Exponent 2\n",
      "Multiplier 1.3333333333333333. Tier 2.0. Exponent 2\n",
      "Multiplier 3.0. Tier 1.0. Exponent 2\n"
     ]
    },
    {
     "name": "stderr",
     "output_type": "stream",
     "text": [
      "Processing matches:  29%|██▊       | 3626/12699 [01:49<05:14, 28.87it/s]"
     ]
    },
    {
     "name": "stdout",
     "output_type": "stream",
     "text": [
      "Multiplier 0.48. Tier 4.0. Exponent 2\n",
      "Multiplier 0.75. Tier 3.0. Exponent 2\n",
      "Multiplier 0.75. Tier 3.0. Exponent 2\n",
      "Multiplier 0.75. Tier 3.0. Exponent 2\n",
      "Multiplier 0.75. Tier 3.0. Exponent 2\n",
      "Multiplier 0.75. Tier 3.0. Exponent 2\n"
     ]
    },
    {
     "name": "stderr",
     "output_type": "stream",
     "text": [
      "Processing matches:  29%|██▊       | 3630/12699 [01:49<05:02, 29.95it/s]"
     ]
    },
    {
     "name": "stdout",
     "output_type": "stream",
     "text": [
      "Multiplier 1.3333333333333333. Tier 2.0. Exponent 2\n",
      "Multiplier 0.75. Tier 3.0. Exponent 2\n",
      "Multiplier 0.75. Tier 3.0. Exponent 2\n",
      "Multiplier 0.75. Tier 3.0. Exponent 2\n",
      "Multiplier 0.75. Tier 3.0. Exponent 2\n",
      "Multiplier 0.75. Tier 3.0. Exponent 2\n",
      "Multiplier 0.75. Tier 3.0. Exponent 2\n"
     ]
    },
    {
     "name": "stderr",
     "output_type": "stream",
     "text": [
      "Processing matches:  29%|██▊       | 3637/12699 [01:49<05:06, 29.57it/s]"
     ]
    },
    {
     "name": "stdout",
     "output_type": "stream",
     "text": [
      "Multiplier 1.3333333333333333. Tier 2.0. Exponent 2\n",
      "Multiplier 0.75. Tier 3.0. Exponent 2\n",
      "Multiplier 1.3333333333333333. Tier 2.0. Exponent 2\n",
      "Multiplier 3.0. Tier 1.0. Exponent 2\n",
      "Multiplier 1.3333333333333333. Tier 2.0. Exponent 2\n",
      "Multiplier 0.75. Tier 3.0. Exponent 2\n",
      "Multiplier 0.75. Tier 3.0. Exponent 2\n"
     ]
    },
    {
     "name": "stderr",
     "output_type": "stream",
     "text": [
      "Processing matches:  29%|██▊       | 3645/12699 [01:50<04:38, 32.56it/s]"
     ]
    },
    {
     "name": "stdout",
     "output_type": "stream",
     "text": [
      "Multiplier 0.75. Tier 3.0. Exponent 2\n",
      "Multiplier 0.75. Tier 3.0. Exponent 2\n",
      "Multiplier 0.75. Tier 3.0. Exponent 2\n",
      "Multiplier 0.75. Tier 3.0. Exponent 2\n",
      "Multiplier 0.75. Tier 3.0. Exponent 2\n",
      "Multiplier 0.75. Tier 3.0. Exponent 2\n",
      "Multiplier 0.75. Tier 3.0. Exponent 2\n",
      "Multiplier 0.75. Tier 3.0. Exponent 2\n"
     ]
    },
    {
     "name": "stderr",
     "output_type": "stream",
     "text": [
      "Processing matches:  29%|██▉       | 3653/12699 [01:50<04:20, 34.69it/s]"
     ]
    },
    {
     "name": "stdout",
     "output_type": "stream",
     "text": [
      "Multiplier 0.75. Tier 3.0. Exponent 2\n",
      "Multiplier 0.75. Tier 3.0. Exponent 2\n",
      "Multiplier 0.75. Tier 3.0. Exponent 2\n",
      "Multiplier 0.75. Tier 3.0. Exponent 2\n",
      "Multiplier 0.75. Tier 3.0. Exponent 2\n",
      "Multiplier 0.75. Tier 3.0. Exponent 2\n",
      "Multiplier 0.75. Tier 3.0. Exponent 2\n"
     ]
    },
    {
     "name": "stderr",
     "output_type": "stream",
     "text": [
      "Processing matches:  29%|██▉       | 3661/12699 [01:50<04:23, 34.36it/s]"
     ]
    },
    {
     "name": "stdout",
     "output_type": "stream",
     "text": [
      "Multiplier 0.75. Tier 3.0. Exponent 2\n",
      "Multiplier 0.75. Tier 3.0. Exponent 2\n",
      "Multiplier 0.75. Tier 3.0. Exponent 2\n",
      "Multiplier 0.75. Tier 3.0. Exponent 2\n",
      "Multiplier 0.75. Tier 3.0. Exponent 2\n",
      "Multiplier 0.75. Tier 3.0. Exponent 2\n"
     ]
    },
    {
     "name": "stderr",
     "output_type": "stream",
     "text": [
      "Processing matches:  29%|██▉       | 3665/12699 [01:50<05:12, 28.93it/s]"
     ]
    },
    {
     "name": "stdout",
     "output_type": "stream",
     "text": [
      "Multiplier 1.3333333333333333. Tier 2.0. Exponent 2\n",
      "Multiplier 1.3333333333333333. Tier 2.0. Exponent 2\n",
      "Multiplier 1.3333333333333333. Tier 2.0. Exponent 2\n",
      "Multiplier 0.48. Tier 4.0. Exponent 2\n",
      "Multiplier 0.48. Tier 4.0. Exponent 2\n",
      "Multiplier 0.48. Tier 4.0. Exponent 2\n",
      "Multiplier 1.3333333333333333. Tier 2.0. Exponent 2\n",
      "Multiplier 0.75. Tier 3.0. Exponent 2\n"
     ]
    },
    {
     "name": "stderr",
     "output_type": "stream",
     "text": [
      "Processing matches:  29%|██▉       | 3673/12699 [01:50<04:50, 31.08it/s]"
     ]
    },
    {
     "name": "stdout",
     "output_type": "stream",
     "text": [
      "Multiplier 0.75. Tier 3.0. Exponent 2\n",
      "Multiplier 1.3333333333333333. Tier 2.0. Exponent 2\n",
      "Multiplier 1.3333333333333333. Tier 2.0. Exponent 2\n",
      "Multiplier 0.48. Tier 4.0. Exponent 2\n",
      "Multiplier 0.75. Tier 3.0. Exponent 2\n",
      "Multiplier 0.48. Tier 4.0. Exponent 2\n",
      "Multiplier 0.75. Tier 3.0. Exponent 2\n"
     ]
    },
    {
     "name": "stderr",
     "output_type": "stream",
     "text": [
      "Processing matches:  29%|██▉       | 3681/12699 [01:51<04:31, 33.26it/s]"
     ]
    },
    {
     "name": "stdout",
     "output_type": "stream",
     "text": [
      "Multiplier 1.3333333333333333. Tier 2.0. Exponent 2\n",
      "Multiplier 0.75. Tier 3.0. Exponent 2\n",
      "Multiplier 1.3333333333333333. Tier 2.0. Exponent 2\n",
      "Multiplier 0.75. Tier 3.0. Exponent 2\n",
      "Multiplier 1.3333333333333333. Tier 2.0. Exponent 2\n",
      "Multiplier 1.3333333333333333. Tier 2.0. Exponent 2\n",
      "Multiplier 1.3333333333333333. Tier 2.0. Exponent 2\n",
      "Multiplier 1.3333333333333333. Tier 2.0. Exponent 2\n"
     ]
    },
    {
     "name": "stderr",
     "output_type": "stream",
     "text": [
      "Processing matches:  29%|██▉       | 3689/12699 [01:51<04:25, 33.90it/s]"
     ]
    },
    {
     "name": "stdout",
     "output_type": "stream",
     "text": [
      "Multiplier 0.48. Tier 4.0. Exponent 2\n",
      "Multiplier 0.48. Tier 4.0. Exponent 2\n",
      "Multiplier 0.48. Tier 4.0. Exponent 2\n",
      "Multiplier 0.48. Tier 4.0. Exponent 2\n",
      "Multiplier 0.48. Tier 4.0. Exponent 2\n",
      "Multiplier 0.48. Tier 4.0. Exponent 2\n",
      "Multiplier 0.48. Tier 4.0. Exponent 2\n",
      "Multiplier 0.48. Tier 4.0. Exponent 2\n"
     ]
    },
    {
     "name": "stderr",
     "output_type": "stream",
     "text": [
      "Processing matches:  29%|██▉       | 3697/12699 [01:51<04:07, 36.36it/s]"
     ]
    },
    {
     "name": "stdout",
     "output_type": "stream",
     "text": [
      "Multiplier 0.48. Tier 4.0. Exponent 2\n",
      "Multiplier 0.75. Tier 3.0. Exponent 2\n",
      "Multiplier 0.48. Tier 4.0. Exponent 2\n",
      "Multiplier 0.48. Tier 4.0. Exponent 2\n",
      "Multiplier 0.48. Tier 4.0. Exponent 2\n",
      "Multiplier 0.48. Tier 4.0. Exponent 2\n",
      "Multiplier 0.75. Tier 3.0. Exponent 2\n",
      "Multiplier 0.48. Tier 4.0. Exponent 2\n"
     ]
    },
    {
     "name": "stderr",
     "output_type": "stream",
     "text": [
      "Processing matches:  29%|██▉       | 3705/12699 [01:51<04:34, 32.80it/s]"
     ]
    },
    {
     "name": "stdout",
     "output_type": "stream",
     "text": [
      "Multiplier 1.3333333333333333. Tier 2.0. Exponent 2\n",
      "Multiplier 1.3333333333333333. Tier 2.0. Exponent 2\n",
      "Multiplier 0.75. Tier 3.0. Exponent 2\n",
      "Multiplier 1.3333333333333333. Tier 2.0. Exponent 2\n",
      "Multiplier 1.3333333333333333. Tier 2.0. Exponent 2\n",
      "Multiplier 0.75. Tier 3.0. Exponent 2\n"
     ]
    },
    {
     "name": "stderr",
     "output_type": "stream",
     "text": [
      "Processing matches:  29%|██▉       | 3709/12699 [01:51<04:35, 32.57it/s]"
     ]
    },
    {
     "name": "stdout",
     "output_type": "stream",
     "text": [
      "Multiplier 0.75. Tier 3.0. Exponent 2\n",
      "Multiplier 0.75. Tier 3.0. Exponent 2\n",
      "Multiplier 0.75. Tier 3.0. Exponent 2\n",
      "Multiplier 0.75. Tier 3.0. Exponent 2\n",
      "Multiplier 0.75. Tier 3.0. Exponent 2\n",
      "Multiplier 0.75. Tier 3.0. Exponent 2\n",
      "Multiplier 0.75. Tier 3.0. Exponent 2\n"
     ]
    },
    {
     "name": "stderr",
     "output_type": "stream",
     "text": [
      "Processing matches:  29%|██▉       | 3717/12699 [01:52<04:29, 33.32it/s]"
     ]
    },
    {
     "name": "stdout",
     "output_type": "stream",
     "text": [
      "Multiplier 0.75. Tier 3.0. Exponent 2\n",
      "Multiplier 0.75. Tier 3.0. Exponent 2\n",
      "Multiplier 0.75. Tier 3.0. Exponent 2\n",
      "Multiplier 0.75. Tier 3.0. Exponent 2\n",
      "Multiplier 1.3333333333333333. Tier 2.0. Exponent 2\n",
      "Multiplier 0.75. Tier 3.0. Exponent 2\n",
      "Multiplier 0.75. Tier 3.0. Exponent 2\n"
     ]
    },
    {
     "name": "stderr",
     "output_type": "stream",
     "text": [
      "Processing matches:  29%|██▉       | 3725/12699 [01:52<04:21, 34.27it/s]"
     ]
    },
    {
     "name": "stdout",
     "output_type": "stream",
     "text": [
      "Multiplier 0.75. Tier 3.0. Exponent 2\n",
      "Multiplier 0.75. Tier 3.0. Exponent 2\n",
      "Multiplier 0.75. Tier 3.0. Exponent 2\n",
      "Multiplier 1.3333333333333333. Tier 2.0. Exponent 2\n",
      "Multiplier 0.75. Tier 3.0. Exponent 2\n",
      "Multiplier 0.75. Tier 3.0. Exponent 2\n",
      "Multiplier 0.75. Tier 3.0. Exponent 2\n"
     ]
    },
    {
     "name": "stderr",
     "output_type": "stream",
     "text": [
      "Processing matches:  29%|██▉       | 3729/12699 [01:52<04:30, 33.14it/s]"
     ]
    },
    {
     "name": "stdout",
     "output_type": "stream",
     "text": [
      "Multiplier 0.75. Tier 3.0. Exponent 2\n",
      "Multiplier 0.75. Tier 3.0. Exponent 2\n",
      "Multiplier 3.0. Tier 1.0. Exponent 2\n",
      "Multiplier 3.0. Tier 1.0. Exponent 2\n",
      "Multiplier 3.0. Tier 1.0. Exponent 2\n",
      "Multiplier 3.0. Tier 1.0. Exponent 2\n"
     ]
    },
    {
     "name": "stderr",
     "output_type": "stream",
     "text": [
      "Processing matches:  29%|██▉       | 3737/12699 [01:52<05:16, 28.32it/s]"
     ]
    },
    {
     "name": "stdout",
     "output_type": "stream",
     "text": [
      "Multiplier 3.0. Tier 1.0. Exponent 2\n",
      "Multiplier 3.0. Tier 1.0. Exponent 2\n",
      "Multiplier 3.0. Tier 1.0. Exponent 2\n",
      "Multiplier 3.0. Tier 1.0. Exponent 2\n",
      "Multiplier 0.75. Tier 3.0. Exponent 2\n",
      "Multiplier 3.0. Tier 1.0. Exponent 2\n"
     ]
    },
    {
     "name": "stderr",
     "output_type": "stream",
     "text": [
      "Processing matches:  29%|██▉       | 3743/12699 [01:53<05:17, 28.17it/s]"
     ]
    },
    {
     "name": "stdout",
     "output_type": "stream",
     "text": [
      "Multiplier 3.0. Tier 1.0. Exponent 2\n",
      "Multiplier 3.0. Tier 1.0. Exponent 2\n",
      "Multiplier 3.0. Tier 1.0. Exponent 2\n",
      "Multiplier 0.75. Tier 3.0. Exponent 2\n",
      "Multiplier 0.75. Tier 3.0. Exponent 2\n",
      "Multiplier 3.0. Tier 1.0. Exponent 2\n"
     ]
    },
    {
     "name": "stderr",
     "output_type": "stream",
     "text": [
      "Processing matches:  30%|██▉       | 3749/12699 [01:53<05:16, 28.29it/s]"
     ]
    },
    {
     "name": "stdout",
     "output_type": "stream",
     "text": [
      "Multiplier 3.0. Tier 1.0. Exponent 2\n",
      "Multiplier 3.0. Tier 1.0. Exponent 2\n",
      "Multiplier 3.0. Tier 1.0. Exponent 2\n",
      "Multiplier 0.75. Tier 3.0. Exponent 2\n",
      "Multiplier 0.75. Tier 3.0. Exponent 2\n",
      "Multiplier 0.75. Tier 3.0. Exponent 2\n",
      "Multiplier 0.75. Tier 3.0. Exponent 2\n"
     ]
    },
    {
     "name": "stderr",
     "output_type": "stream",
     "text": [
      "Processing matches:  30%|██▉       | 3757/12699 [01:53<05:06, 29.20it/s]"
     ]
    },
    {
     "name": "stdout",
     "output_type": "stream",
     "text": [
      "Multiplier 3.0. Tier 1.0. Exponent 2\n",
      "Multiplier 3.0. Tier 1.0. Exponent 2\n",
      "Multiplier 3.0. Tier 1.0. Exponent 2\n",
      "Multiplier 1.3333333333333333. Tier 2.0. Exponent 2\n",
      "Multiplier 1.3333333333333333. Tier 2.0. Exponent 2\n",
      "Multiplier 0.75. Tier 3.0. Exponent 2\n"
     ]
    },
    {
     "name": "stderr",
     "output_type": "stream",
     "text": [
      "Processing matches:  30%|██▉       | 3761/12699 [01:53<04:54, 30.31it/s]"
     ]
    },
    {
     "name": "stdout",
     "output_type": "stream",
     "text": [
      "Multiplier 1.3333333333333333. Tier 2.0. Exponent 2\n",
      "Multiplier 1.3333333333333333. Tier 2.0. Exponent 2\n",
      "Multiplier 3.0. Tier 1.0. Exponent 2\n",
      "Multiplier 1.3333333333333333. Tier 2.0. Exponent 2\n",
      "Multiplier 1.3333333333333333. Tier 2.0. Exponent 2\n",
      "Multiplier 3.0. Tier 1.0. Exponent 2\n",
      "Multiplier 3.0. Tier 1.0. Exponent 2\n"
     ]
    },
    {
     "name": "stderr",
     "output_type": "stream",
     "text": [
      "Processing matches:  30%|██▉       | 3768/12699 [01:53<05:14, 28.43it/s]"
     ]
    },
    {
     "name": "stdout",
     "output_type": "stream",
     "text": [
      "Multiplier 3.0. Tier 1.0. Exponent 2\n",
      "Multiplier 3.0. Tier 1.0. Exponent 2\n",
      "Multiplier 3.0. Tier 1.0. Exponent 2\n",
      "Multiplier 3.0. Tier 1.0. Exponent 2\n",
      "Multiplier 3.0. Tier 1.0. Exponent 2\n",
      "Multiplier 1.3333333333333333. Tier 2.0. Exponent 2\n"
     ]
    },
    {
     "name": "stderr",
     "output_type": "stream",
     "text": [
      "Processing matches:  30%|██▉       | 3775/12699 [01:54<05:04, 29.27it/s]"
     ]
    },
    {
     "name": "stdout",
     "output_type": "stream",
     "text": [
      "Multiplier 1.3333333333333333. Tier 2.0. Exponent 2\n",
      "Multiplier 3.0. Tier 1.0. Exponent 2\n",
      "Multiplier 1.3333333333333333. Tier 2.0. Exponent 2\n",
      "Multiplier 3.0. Tier 1.0. Exponent 2\n",
      "Multiplier 3.0. Tier 1.0. Exponent 2\n",
      "Multiplier 3.0. Tier 1.0. Exponent 2\n"
     ]
    },
    {
     "name": "stderr",
     "output_type": "stream",
     "text": [
      "Processing matches:  30%|██▉       | 3782/12699 [01:54<05:05, 29.17it/s]"
     ]
    },
    {
     "name": "stdout",
     "output_type": "stream",
     "text": [
      "Multiplier 3.0. Tier 1.0. Exponent 2\n",
      "Multiplier 1.3333333333333333. Tier 2.0. Exponent 2\n",
      "Multiplier 1.3333333333333333. Tier 2.0. Exponent 2\n",
      "Multiplier 1.3333333333333333. Tier 2.0. Exponent 2\n",
      "Multiplier 1.3333333333333333. Tier 2.0. Exponent 2\n",
      "Multiplier 1.3333333333333333. Tier 2.0. Exponent 2\n",
      "Multiplier 1.3333333333333333. Tier 2.0. Exponent 2\n"
     ]
    },
    {
     "name": "stderr",
     "output_type": "stream",
     "text": [
      "Processing matches:  30%|██▉       | 3790/12699 [01:54<04:39, 31.91it/s]"
     ]
    },
    {
     "name": "stdout",
     "output_type": "stream",
     "text": [
      "Multiplier 1.3333333333333333. Tier 2.0. Exponent 2\n",
      "Multiplier 1.3333333333333333. Tier 2.0. Exponent 2\n",
      "Multiplier 1.3333333333333333. Tier 2.0. Exponent 2\n",
      "Multiplier 1.3333333333333333. Tier 2.0. Exponent 2\n",
      "Multiplier 1.3333333333333333. Tier 2.0. Exponent 2\n",
      "Multiplier 1.3333333333333333. Tier 2.0. Exponent 2\n",
      "Multiplier 1.3333333333333333. Tier 2.0. Exponent 2\n",
      "Multiplier 3.0. Tier 1.0. Exponent 2\n"
     ]
    },
    {
     "name": "stderr",
     "output_type": "stream",
     "text": [
      "Processing matches:  30%|██▉       | 3794/12699 [01:54<04:54, 30.24it/s]"
     ]
    },
    {
     "name": "stdout",
     "output_type": "stream",
     "text": [
      "Multiplier 3.0. Tier 1.0. Exponent 2\n",
      "Multiplier 3.0. Tier 1.0. Exponent 2\n",
      "Multiplier 3.0. Tier 1.0. Exponent 2\n",
      "Multiplier 1.3333333333333333. Tier 2.0. Exponent 2\n",
      "Multiplier 1.3333333333333333. Tier 2.0. Exponent 2\n"
     ]
    },
    {
     "name": "stderr",
     "output_type": "stream",
     "text": [
      "Processing matches:  30%|██▉       | 3801/12699 [01:55<05:10, 28.65it/s]"
     ]
    },
    {
     "name": "stdout",
     "output_type": "stream",
     "text": [
      "Multiplier 1.3333333333333333. Tier 2.0. Exponent 2\n",
      "Multiplier 1.3333333333333333. Tier 2.0. Exponent 2\n",
      "Multiplier 3.0. Tier 1.0. Exponent 2\n",
      "Multiplier 1.3333333333333333. Tier 2.0. Exponent 2\n",
      "Multiplier 1.3333333333333333. Tier 2.0. Exponent 2\n",
      "Multiplier 3.0. Tier 1.0. Exponent 2\n"
     ]
    },
    {
     "name": "stderr",
     "output_type": "stream",
     "text": [
      "Processing matches:  30%|██▉       | 3807/12699 [01:55<05:17, 28.00it/s]"
     ]
    },
    {
     "name": "stdout",
     "output_type": "stream",
     "text": [
      "Multiplier 3.0. Tier 1.0. Exponent 2\n",
      "Multiplier 3.0. Tier 1.0. Exponent 2\n",
      "Multiplier 3.0. Tier 1.0. Exponent 2\n",
      "Multiplier 3.0. Tier 1.0. Exponent 2\n",
      "Multiplier 1.3333333333333333. Tier 2.0. Exponent 2\n",
      "Multiplier 3.0. Tier 1.0. Exponent 2\n"
     ]
    },
    {
     "name": "stderr",
     "output_type": "stream",
     "text": [
      "Processing matches:  30%|███       | 3813/12699 [01:55<05:16, 28.04it/s]"
     ]
    },
    {
     "name": "stdout",
     "output_type": "stream",
     "text": [
      "Multiplier 1.3333333333333333. Tier 2.0. Exponent 2\n",
      "Multiplier 3.0. Tier 1.0. Exponent 2\n",
      "Multiplier 3.0. Tier 1.0. Exponent 2\n",
      "Multiplier 3.0. Tier 1.0. Exponent 2\n",
      "Multiplier 1.3333333333333333. Tier 2.0. Exponent 2\n",
      "Multiplier 1.3333333333333333. Tier 2.0. Exponent 2\n",
      "Multiplier 3.0. Tier 1.0. Exponent 2\n"
     ]
    },
    {
     "name": "stderr",
     "output_type": "stream",
     "text": [
      "Processing matches:  30%|███       | 3821/12699 [01:55<04:48, 30.77it/s]"
     ]
    },
    {
     "name": "stdout",
     "output_type": "stream",
     "text": [
      "Multiplier 3.0. Tier 1.0. Exponent 2\n",
      "Multiplier 1.3333333333333333. Tier 2.0. Exponent 2\n",
      "Multiplier 1.3333333333333333. Tier 2.0. Exponent 2\n",
      "Multiplier 1.3333333333333333. Tier 2.0. Exponent 2\n",
      "Multiplier 1.3333333333333333. Tier 2.0. Exponent 2\n",
      "Multiplier 1.3333333333333333. Tier 2.0. Exponent 2\n",
      "Multiplier 1.3333333333333333. Tier 2.0. Exponent 2\n",
      "Multiplier 1.3333333333333333. Tier 2.0. Exponent 2\n"
     ]
    },
    {
     "name": "stderr",
     "output_type": "stream",
     "text": [
      "Processing matches:  30%|███       | 3829/12699 [01:56<04:37, 31.94it/s]"
     ]
    },
    {
     "name": "stdout",
     "output_type": "stream",
     "text": [
      "Multiplier 1.3333333333333333. Tier 2.0. Exponent 2\n",
      "Multiplier 1.3333333333333333. Tier 2.0. Exponent 2\n",
      "Multiplier 1.3333333333333333. Tier 2.0. Exponent 2\n",
      "Multiplier 1.3333333333333333. Tier 2.0. Exponent 2\n",
      "Multiplier 1.3333333333333333. Tier 2.0. Exponent 2\n",
      "Multiplier 1.3333333333333333. Tier 2.0. Exponent 2\n",
      "Multiplier 1.3333333333333333. Tier 2.0. Exponent 2\n"
     ]
    },
    {
     "name": "stderr",
     "output_type": "stream",
     "text": [
      "Processing matches:  30%|███       | 3837/12699 [01:56<04:54, 30.09it/s]"
     ]
    },
    {
     "name": "stdout",
     "output_type": "stream",
     "text": [
      "Multiplier 1.3333333333333333. Tier 2.0. Exponent 2\n",
      "Multiplier 1.3333333333333333. Tier 2.0. Exponent 2\n",
      "Multiplier 1.3333333333333333. Tier 2.0. Exponent 2\n",
      "Multiplier 1.3333333333333333. Tier 2.0. Exponent 2\n",
      "Multiplier 1.3333333333333333. Tier 2.0. Exponent 2\n",
      "Multiplier 3.0. Tier 1.0. Exponent 2\n"
     ]
    },
    {
     "name": "stderr",
     "output_type": "stream",
     "text": [
      "Processing matches:  30%|███       | 3841/12699 [01:56<04:59, 29.54it/s]"
     ]
    },
    {
     "name": "stdout",
     "output_type": "stream",
     "text": [
      "Multiplier 3.0. Tier 1.0. Exponent 2\n",
      "Multiplier 3.0. Tier 1.0. Exponent 2\n",
      "Multiplier 1.3333333333333333. Tier 2.0. Exponent 2\n",
      "Multiplier 3.0. Tier 1.0. Exponent 2\n",
      "Multiplier 1.3333333333333333. Tier 2.0. Exponent 2\n",
      "Multiplier 3.0. Tier 1.0. Exponent 2\n"
     ]
    },
    {
     "name": "stderr",
     "output_type": "stream",
     "text": [
      "Processing matches:  30%|███       | 3847/12699 [01:56<05:02, 29.24it/s]"
     ]
    },
    {
     "name": "stdout",
     "output_type": "stream",
     "text": [
      "Multiplier 3.0. Tier 1.0. Exponent 2\n",
      "Multiplier 1.3333333333333333. Tier 2.0. Exponent 2\n",
      "Multiplier 3.0. Tier 1.0. Exponent 2\n",
      "Multiplier 1.3333333333333333. Tier 2.0. Exponent 2\n",
      "Multiplier 1.3333333333333333. Tier 2.0. Exponent 2\n",
      "Multiplier 3.0. Tier 1.0. Exponent 2\n"
     ]
    },
    {
     "name": "stderr",
     "output_type": "stream",
     "text": [
      "Processing matches:  30%|███       | 3853/12699 [01:56<05:27, 27.01it/s]"
     ]
    },
    {
     "name": "stdout",
     "output_type": "stream",
     "text": [
      "Multiplier 3.0. Tier 1.0. Exponent 2\n",
      "Multiplier 3.0. Tier 1.0. Exponent 2\n",
      "Multiplier 3.0. Tier 1.0. Exponent 2\n",
      "Multiplier 3.0. Tier 1.0. Exponent 2\n",
      "Multiplier 3.0. Tier 1.0. Exponent 2\n"
     ]
    },
    {
     "name": "stderr",
     "output_type": "stream",
     "text": [
      "Processing matches:  30%|███       | 3860/12699 [01:57<05:03, 29.16it/s]"
     ]
    },
    {
     "name": "stdout",
     "output_type": "stream",
     "text": [
      "Multiplier 3.0. Tier 1.0. Exponent 2\n",
      "Multiplier 1.3333333333333333. Tier 2.0. Exponent 2\n",
      "Multiplier 1.3333333333333333. Tier 2.0. Exponent 2\n",
      "Multiplier 1.3333333333333333. Tier 2.0. Exponent 2\n",
      "Multiplier 1.3333333333333333. Tier 2.0. Exponent 2\n",
      "Multiplier 1.3333333333333333. Tier 2.0. Exponent 2\n"
     ]
    },
    {
     "name": "stderr",
     "output_type": "stream",
     "text": [
      "Processing matches:  30%|███       | 3864/12699 [01:57<04:52, 30.15it/s]"
     ]
    },
    {
     "name": "stdout",
     "output_type": "stream",
     "text": [
      "Multiplier 1.3333333333333333. Tier 2.0. Exponent 2\n",
      "Multiplier 1.3333333333333333. Tier 2.0. Exponent 2\n",
      "Multiplier 1.3333333333333333. Tier 2.0. Exponent 2\n",
      "Multiplier 1.3333333333333333. Tier 2.0. Exponent 2\n",
      "Multiplier 1.3333333333333333. Tier 2.0. Exponent 2\n",
      "Multiplier 1.3333333333333333. Tier 2.0. Exponent 2\n",
      "Multiplier 1.3333333333333333. Tier 2.0. Exponent 2\n"
     ]
    },
    {
     "name": "stderr",
     "output_type": "stream",
     "text": [
      "Processing matches:  30%|███       | 3872/12699 [01:57<04:42, 31.22it/s]"
     ]
    },
    {
     "name": "stdout",
     "output_type": "stream",
     "text": [
      "Multiplier 1.3333333333333333. Tier 2.0. Exponent 2\n",
      "Multiplier 1.3333333333333333. Tier 2.0. Exponent 2\n",
      "Multiplier 1.3333333333333333. Tier 2.0. Exponent 2\n",
      "Multiplier 1.3333333333333333. Tier 2.0. Exponent 2\n",
      "Multiplier 1.3333333333333333. Tier 2.0. Exponent 2\n",
      "Multiplier 1.3333333333333333. Tier 2.0. Exponent 2\n",
      "Multiplier 1.3333333333333333. Tier 2.0. Exponent 2\n"
     ]
    },
    {
     "name": "stderr",
     "output_type": "stream",
     "text": [
      "Processing matches:  31%|███       | 3880/12699 [01:57<04:41, 31.32it/s]"
     ]
    },
    {
     "name": "stdout",
     "output_type": "stream",
     "text": [
      "Multiplier 1.3333333333333333. Tier 2.0. Exponent 2\n",
      "Multiplier 1.3333333333333333. Tier 2.0. Exponent 2\n",
      "Multiplier 1.3333333333333333. Tier 2.0. Exponent 2\n",
      "Multiplier 1.3333333333333333. Tier 2.0. Exponent 2\n",
      "Multiplier 1.3333333333333333. Tier 2.0. Exponent 2\n",
      "Multiplier 1.3333333333333333. Tier 2.0. Exponent 2\n"
     ]
    },
    {
     "name": "stderr",
     "output_type": "stream",
     "text": [
      "Processing matches:  31%|███       | 3884/12699 [01:57<04:56, 29.75it/s]"
     ]
    },
    {
     "name": "stdout",
     "output_type": "stream",
     "text": [
      "Multiplier 1.3333333333333333. Tier 2.0. Exponent 2\n",
      "Multiplier 3.0. Tier 1.0. Exponent 2\n",
      "Multiplier 3.0. Tier 1.0. Exponent 2\n",
      "Multiplier 3.0. Tier 1.0. Exponent 2\n",
      "Multiplier 3.0. Tier 1.0. Exponent 2\n",
      "Multiplier 1.3333333333333333. Tier 2.0. Exponent 2\n"
     ]
    },
    {
     "name": "stderr",
     "output_type": "stream",
     "text": [
      "Processing matches:  31%|███       | 3888/12699 [01:58<04:48, 30.58it/s]"
     ]
    },
    {
     "name": "stdout",
     "output_type": "stream",
     "text": [
      "Multiplier 1.3333333333333333. Tier 2.0. Exponent 2\n",
      "Multiplier 1.3333333333333333. Tier 2.0. Exponent 2\n",
      "Multiplier 3.0. Tier 1.0. Exponent 2\n",
      "Multiplier 3.0. Tier 1.0. Exponent 2\n",
      "Multiplier 1.3333333333333333. Tier 2.0. Exponent 2\n",
      "Multiplier 3.0. Tier 1.0. Exponent 2\n"
     ]
    },
    {
     "name": "stderr",
     "output_type": "stream",
     "text": [
      "Processing matches:  31%|███       | 3895/12699 [01:58<05:03, 28.97it/s]"
     ]
    },
    {
     "name": "stdout",
     "output_type": "stream",
     "text": [
      "Multiplier 3.0. Tier 1.0. Exponent 2\n",
      "Multiplier 1.3333333333333333. Tier 2.0. Exponent 2\n",
      "Multiplier 1.3333333333333333. Tier 2.0. Exponent 2\n",
      "Multiplier 1.3333333333333333. Tier 2.0. Exponent 2\n",
      "Multiplier 1.3333333333333333. Tier 2.0. Exponent 2\n",
      "Multiplier 1.3333333333333333. Tier 2.0. Exponent 2\n",
      "Multiplier 1.3333333333333333. Tier 2.0. Exponent 2\n"
     ]
    },
    {
     "name": "stderr",
     "output_type": "stream",
     "text": [
      "Processing matches:  31%|███       | 3903/12699 [01:58<04:41, 31.30it/s]"
     ]
    },
    {
     "name": "stdout",
     "output_type": "stream",
     "text": [
      "Multiplier 1.3333333333333333. Tier 2.0. Exponent 2\n",
      "Multiplier 1.3333333333333333. Tier 2.0. Exponent 2\n",
      "Multiplier 1.3333333333333333. Tier 2.0. Exponent 2\n",
      "Multiplier 1.3333333333333333. Tier 2.0. Exponent 2\n",
      "Multiplier 1.3333333333333333. Tier 2.0. Exponent 2\n",
      "Multiplier 1.3333333333333333. Tier 2.0. Exponent 2\n",
      "Multiplier 1.3333333333333333. Tier 2.0. Exponent 2\n",
      "Multiplier 1.3333333333333333. Tier 2.0. Exponent 2\n"
     ]
    },
    {
     "name": "stderr",
     "output_type": "stream",
     "text": [
      "Processing matches:  31%|███       | 3911/12699 [01:58<04:37, 31.73it/s]"
     ]
    },
    {
     "name": "stdout",
     "output_type": "stream",
     "text": [
      "Multiplier 1.3333333333333333. Tier 2.0. Exponent 2\n",
      "Multiplier 1.3333333333333333. Tier 2.0. Exponent 2\n",
      "Multiplier 1.3333333333333333. Tier 2.0. Exponent 2\n",
      "Multiplier 1.3333333333333333. Tier 2.0. Exponent 2\n",
      "Multiplier 3.0. Tier 1.0. Exponent 2\n",
      "Multiplier 3.0. Tier 1.0. Exponent 2\n"
     ]
    },
    {
     "name": "stderr",
     "output_type": "stream",
     "text": [
      "Processing matches:  31%|███       | 3919/12699 [01:59<04:44, 30.87it/s]"
     ]
    },
    {
     "name": "stdout",
     "output_type": "stream",
     "text": [
      "Multiplier 1.3333333333333333. Tier 2.0. Exponent 2\n",
      "Multiplier 1.3333333333333333. Tier 2.0. Exponent 2\n",
      "Multiplier 1.3333333333333333. Tier 2.0. Exponent 2\n",
      "Multiplier 1.3333333333333333. Tier 2.0. Exponent 2\n",
      "Multiplier 3.0. Tier 1.0. Exponent 2\n",
      "Multiplier 1.3333333333333333. Tier 2.0. Exponent 2\n",
      "Multiplier 3.0. Tier 1.0. Exponent 2\n"
     ]
    },
    {
     "name": "stderr",
     "output_type": "stream",
     "text": [
      "Processing matches:  31%|███       | 3923/12699 [01:59<04:53, 29.88it/s]"
     ]
    },
    {
     "name": "stdout",
     "output_type": "stream",
     "text": [
      "Multiplier 1.3333333333333333. Tier 2.0. Exponent 2\n",
      "Multiplier 3.0. Tier 1.0. Exponent 2\n",
      "Multiplier 3.0. Tier 1.0. Exponent 2\n",
      "Multiplier 1.3333333333333333. Tier 2.0. Exponent 2\n",
      "Multiplier 1.3333333333333333. Tier 2.0. Exponent 2\n",
      "Multiplier 1.3333333333333333. Tier 2.0. Exponent 2\n"
     ]
    },
    {
     "name": "stderr",
     "output_type": "stream",
     "text": [
      "Processing matches:  31%|███       | 3931/12699 [01:59<04:56, 29.60it/s]"
     ]
    },
    {
     "name": "stdout",
     "output_type": "stream",
     "text": [
      "Multiplier 1.3333333333333333. Tier 2.0. Exponent 2\n",
      "Multiplier 3.0. Tier 1.0. Exponent 2\n",
      "Multiplier 1.3333333333333333. Tier 2.0. Exponent 2\n",
      "Multiplier 1.3333333333333333. Tier 2.0. Exponent 2\n",
      "Multiplier 1.3333333333333333. Tier 2.0. Exponent 2\n",
      "Multiplier 1.3333333333333333. Tier 2.0. Exponent 2\n",
      "Multiplier 1.3333333333333333. Tier 2.0. Exponent 2\n"
     ]
    },
    {
     "name": "stderr",
     "output_type": "stream",
     "text": [
      "Processing matches:  31%|███       | 3939/12699 [01:59<04:31, 32.26it/s]"
     ]
    },
    {
     "name": "stdout",
     "output_type": "stream",
     "text": [
      "Multiplier 1.3333333333333333. Tier 2.0. Exponent 2\n",
      "Multiplier 1.3333333333333333. Tier 2.0. Exponent 2\n",
      "Multiplier 1.3333333333333333. Tier 2.0. Exponent 2\n",
      "Multiplier 1.3333333333333333. Tier 2.0. Exponent 2\n",
      "Multiplier 1.3333333333333333. Tier 2.0. Exponent 2\n",
      "Multiplier 1.3333333333333333. Tier 2.0. Exponent 2\n",
      "Multiplier 1.3333333333333333. Tier 2.0. Exponent 2\n",
      "Multiplier 1.3333333333333333. Tier 2.0. Exponent 2\n"
     ]
    },
    {
     "name": "stderr",
     "output_type": "stream",
     "text": [
      "Processing matches:  31%|███       | 3947/12699 [01:59<04:32, 32.07it/s]"
     ]
    },
    {
     "name": "stdout",
     "output_type": "stream",
     "text": [
      "Multiplier 1.3333333333333333. Tier 2.0. Exponent 2\n",
      "Multiplier 1.3333333333333333. Tier 2.0. Exponent 2\n",
      "Multiplier 1.3333333333333333. Tier 2.0. Exponent 2\n",
      "Multiplier 1.3333333333333333. Tier 2.0. Exponent 2\n",
      "Multiplier 1.3333333333333333. Tier 2.0. Exponent 2\n",
      "Multiplier 1.3333333333333333. Tier 2.0. Exponent 2\n"
     ]
    },
    {
     "name": "stderr",
     "output_type": "stream",
     "text": [
      "Processing matches:  31%|███       | 3951/12699 [02:00<04:24, 33.10it/s]"
     ]
    },
    {
     "name": "stdout",
     "output_type": "stream",
     "text": [
      "Multiplier 1.3333333333333333. Tier 2.0. Exponent 2\n",
      "Multiplier 1.3333333333333333. Tier 2.0. Exponent 2\n",
      "Multiplier 1.3333333333333333. Tier 2.0. Exponent 2\n",
      "Multiplier 1.3333333333333333. Tier 2.0. Exponent 2\n",
      "Multiplier 1.3333333333333333. Tier 2.0. Exponent 2\n",
      "Multiplier 1.3333333333333333. Tier 2.0. Exponent 2\n",
      "Multiplier 1.3333333333333333. Tier 2.0. Exponent 2\n"
     ]
    },
    {
     "name": "stderr",
     "output_type": "stream",
     "text": [
      "Processing matches:  31%|███       | 3959/12699 [02:00<04:19, 33.68it/s]"
     ]
    },
    {
     "name": "stdout",
     "output_type": "stream",
     "text": [
      "Multiplier 1.3333333333333333. Tier 2.0. Exponent 2\n",
      "Multiplier 1.3333333333333333. Tier 2.0. Exponent 2\n",
      "Multiplier 1.3333333333333333. Tier 2.0. Exponent 2\n",
      "Multiplier 1.3333333333333333. Tier 2.0. Exponent 2\n",
      "Multiplier 1.3333333333333333. Tier 2.0. Exponent 2\n",
      "Multiplier 1.3333333333333333. Tier 2.0. Exponent 2\n",
      "Multiplier 1.3333333333333333. Tier 2.0. Exponent 2\n"
     ]
    },
    {
     "name": "stderr",
     "output_type": "stream",
     "text": [
      "Processing matches:  31%|███       | 3967/12699 [02:00<04:18, 33.78it/s]"
     ]
    },
    {
     "name": "stdout",
     "output_type": "stream",
     "text": [
      "Multiplier 1.3333333333333333. Tier 2.0. Exponent 2\n",
      "Multiplier 1.3333333333333333. Tier 2.0. Exponent 2\n",
      "Multiplier 1.3333333333333333. Tier 2.0. Exponent 2\n",
      "Multiplier 1.3333333333333333. Tier 2.0. Exponent 2\n",
      "Multiplier 1.3333333333333333. Tier 2.0. Exponent 2\n",
      "Multiplier 1.3333333333333333. Tier 2.0. Exponent 2\n",
      "Multiplier 1.3333333333333333. Tier 2.0. Exponent 2\n",
      "Multiplier 1.3333333333333333. Tier 2.0. Exponent 2\n"
     ]
    },
    {
     "name": "stderr",
     "output_type": "stream",
     "text": [
      "Processing matches:  31%|███▏      | 3975/12699 [02:00<04:37, 31.44it/s]"
     ]
    },
    {
     "name": "stdout",
     "output_type": "stream",
     "text": [
      "Multiplier 1.3333333333333333. Tier 2.0. Exponent 2\n",
      "Multiplier 1.3333333333333333. Tier 2.0. Exponent 2\n",
      "Multiplier 1.3333333333333333. Tier 2.0. Exponent 2\n",
      "Multiplier 1.3333333333333333. Tier 2.0. Exponent 2\n",
      "Multiplier 1.3333333333333333. Tier 2.0. Exponent 2\n",
      "Multiplier 3.0. Tier 1.0. Exponent 2\n"
     ]
    },
    {
     "name": "stderr",
     "output_type": "stream",
     "text": [
      "Processing matches:  31%|███▏      | 3979/12699 [02:00<04:55, 29.51it/s]"
     ]
    },
    {
     "name": "stdout",
     "output_type": "stream",
     "text": [
      "Multiplier 3.0. Tier 1.0. Exponent 2\n",
      "Multiplier 3.0. Tier 1.0. Exponent 2\n",
      "Multiplier 3.0. Tier 1.0. Exponent 2\n",
      "Multiplier 1.3333333333333333. Tier 2.0. Exponent 2\n",
      "Multiplier 1.3333333333333333. Tier 2.0. Exponent 2\n",
      "Multiplier 1.3333333333333333. Tier 2.0. Exponent 2\n"
     ]
    },
    {
     "name": "stderr",
     "output_type": "stream",
     "text": [
      "Processing matches:  31%|███▏      | 3986/12699 [02:01<05:00, 29.01it/s]"
     ]
    },
    {
     "name": "stdout",
     "output_type": "stream",
     "text": [
      "Multiplier 3.0. Tier 1.0. Exponent 2\n",
      "Multiplier 3.0. Tier 1.0. Exponent 2\n",
      "Multiplier 3.0. Tier 1.0. Exponent 2\n",
      "Multiplier 3.0. Tier 1.0. Exponent 2\n",
      "Multiplier 1.3333333333333333. Tier 2.0. Exponent 2\n",
      "Multiplier 1.3333333333333333. Tier 2.0. Exponent 2\n"
     ]
    },
    {
     "name": "stderr",
     "output_type": "stream",
     "text": [
      "Processing matches:  31%|███▏      | 3992/12699 [02:01<05:17, 27.44it/s]"
     ]
    },
    {
     "name": "stdout",
     "output_type": "stream",
     "text": [
      "Multiplier 3.0. Tier 1.0. Exponent 2\n",
      "Multiplier 3.0. Tier 1.0. Exponent 2\n",
      "Multiplier 3.0. Tier 1.0. Exponent 2\n",
      "Multiplier 3.0. Tier 1.0. Exponent 2\n",
      "Multiplier 3.0. Tier 1.0. Exponent 2\n"
     ]
    },
    {
     "name": "stderr",
     "output_type": "stream",
     "text": [
      "Processing matches:  31%|███▏      | 3995/12699 [02:01<05:20, 27.12it/s]"
     ]
    },
    {
     "name": "stdout",
     "output_type": "stream",
     "text": [
      "Multiplier 1.3333333333333333. Tier 2.0. Exponent 2\n",
      "Multiplier 3.0. Tier 1.0. Exponent 2\n",
      "Multiplier 3.0. Tier 1.0. Exponent 2\n",
      "Multiplier 3.0. Tier 1.0. Exponent 2\n",
      "Multiplier 1.3333333333333333. Tier 2.0. Exponent 2\n",
      "Multiplier 1.3333333333333333. Tier 2.0. Exponent 2\n"
     ]
    },
    {
     "name": "stderr",
     "output_type": "stream",
     "text": [
      "Processing matches:  32%|███▏      | 4001/12699 [02:01<05:11, 27.96it/s]"
     ]
    },
    {
     "name": "stdout",
     "output_type": "stream",
     "text": [
      "Multiplier 1.3333333333333333. Tier 2.0. Exponent 2\n",
      "Multiplier 1.3333333333333333. Tier 2.0. Exponent 2\n",
      "Multiplier 1.3333333333333333. Tier 2.0. Exponent 2\n",
      "Multiplier 1.3333333333333333. Tier 2.0. Exponent 2\n",
      "Multiplier 1.3333333333333333. Tier 2.0. Exponent 2\n",
      "Multiplier 1.3333333333333333. Tier 2.0. Exponent 2\n",
      "Multiplier 1.3333333333333333. Tier 2.0. Exponent 2\n"
     ]
    },
    {
     "name": "stderr",
     "output_type": "stream",
     "text": [
      "Processing matches:  32%|███▏      | 4008/12699 [02:01<04:57, 29.22it/s]"
     ]
    },
    {
     "name": "stdout",
     "output_type": "stream",
     "text": [
      "Multiplier 1.3333333333333333. Tier 2.0. Exponent 2\n",
      "Multiplier 1.3333333333333333. Tier 2.0. Exponent 2\n",
      "Multiplier 1.3333333333333333. Tier 2.0. Exponent 2\n",
      "Multiplier 1.3333333333333333. Tier 2.0. Exponent 2\n",
      "Multiplier 1.3333333333333333. Tier 2.0. Exponent 2\n",
      "Multiplier 1.3333333333333333. Tier 2.0. Exponent 2\n",
      "Multiplier 1.3333333333333333. Tier 2.0. Exponent 2\n"
     ]
    },
    {
     "name": "stderr",
     "output_type": "stream",
     "text": [
      "Processing matches:  32%|███▏      | 4016/12699 [02:02<04:33, 31.73it/s]"
     ]
    },
    {
     "name": "stdout",
     "output_type": "stream",
     "text": [
      "Multiplier 1.3333333333333333. Tier 2.0. Exponent 2\n",
      "Multiplier 1.3333333333333333. Tier 2.0. Exponent 2\n",
      "Multiplier 1.3333333333333333. Tier 2.0. Exponent 2\n",
      "Multiplier 1.3333333333333333. Tier 2.0. Exponent 2\n",
      "Multiplier 3.0. Tier 1.0. Exponent 2\n",
      "Multiplier 3.0. Tier 1.0. Exponent 2\n"
     ]
    },
    {
     "name": "stderr",
     "output_type": "stream",
     "text": [
      "Processing matches:  32%|███▏      | 4024/12699 [02:02<04:49, 29.98it/s]"
     ]
    },
    {
     "name": "stdout",
     "output_type": "stream",
     "text": [
      "Multiplier 3.0. Tier 1.0. Exponent 2\n",
      "Multiplier 1.3333333333333333. Tier 2.0. Exponent 2\n",
      "Multiplier 1.3333333333333333. Tier 2.0. Exponent 2\n",
      "Multiplier 1.3333333333333333. Tier 2.0. Exponent 2\n",
      "Multiplier 3.0. Tier 1.0. Exponent 2\n",
      "Multiplier 1.3333333333333333. Tier 2.0. Exponent 2\n"
     ]
    },
    {
     "name": "stderr",
     "output_type": "stream",
     "text": [
      "Processing matches:  32%|███▏      | 4028/12699 [02:02<04:50, 29.82it/s]"
     ]
    },
    {
     "name": "stdout",
     "output_type": "stream",
     "text": [
      "Multiplier 1.3333333333333333. Tier 2.0. Exponent 2\n",
      "Multiplier 3.0. Tier 1.0. Exponent 2\n",
      "Multiplier 3.0. Tier 1.0. Exponent 2\n",
      "Multiplier 3.0. Tier 1.0. Exponent 2\n",
      "Multiplier 3.0. Tier 1.0. Exponent 2\n",
      "Multiplier 1.3333333333333333. Tier 2.0. Exponent 2\n"
     ]
    },
    {
     "name": "stderr",
     "output_type": "stream",
     "text": [
      "Processing matches:  32%|███▏      | 4034/12699 [02:02<05:10, 27.92it/s]"
     ]
    },
    {
     "name": "stdout",
     "output_type": "stream",
     "text": [
      "Multiplier 1.3333333333333333. Tier 2.0. Exponent 2\n",
      "Multiplier 3.0. Tier 1.0. Exponent 2\n",
      "Multiplier 3.0. Tier 1.0. Exponent 2\n",
      "Multiplier 3.0. Tier 1.0. Exponent 2\n",
      "Multiplier 3.0. Tier 1.0. Exponent 2\n",
      "Multiplier 3.0. Tier 1.0. Exponent 2\n"
     ]
    },
    {
     "name": "stderr",
     "output_type": "stream",
     "text": [
      "Processing matches:  32%|███▏      | 4040/12699 [02:03<05:26, 26.52it/s]"
     ]
    },
    {
     "name": "stdout",
     "output_type": "stream",
     "text": [
      "Multiplier 3.0. Tier 1.0. Exponent 2\n",
      "Multiplier 3.0. Tier 1.0. Exponent 2\n",
      "Multiplier 3.0. Tier 1.0. Exponent 2\n",
      "Multiplier 1.3333333333333333. Tier 2.0. Exponent 2\n",
      "Multiplier 1.3333333333333333. Tier 2.0. Exponent 2\n",
      "Multiplier 1.3333333333333333. Tier 2.0. Exponent 2\n"
     ]
    },
    {
     "name": "stderr",
     "output_type": "stream",
     "text": [
      "Processing matches:  32%|███▏      | 4047/12699 [02:03<05:15, 27.41it/s]"
     ]
    },
    {
     "name": "stdout",
     "output_type": "stream",
     "text": [
      "Multiplier 1.3333333333333333. Tier 2.0. Exponent 2\n",
      "Multiplier 1.3333333333333333. Tier 2.0. Exponent 2\n",
      "Multiplier 1.3333333333333333. Tier 2.0. Exponent 2\n",
      "Multiplier 3.0. Tier 1.0. Exponent 2\n",
      "Multiplier 3.0. Tier 1.0. Exponent 2\n"
     ]
    },
    {
     "name": "stderr",
     "output_type": "stream",
     "text": [
      "Processing matches:  32%|███▏      | 4050/12699 [02:03<05:21, 26.91it/s]"
     ]
    },
    {
     "name": "stdout",
     "output_type": "stream",
     "text": [
      "Multiplier 3.0. Tier 1.0. Exponent 2\n",
      "Multiplier 3.0. Tier 1.0. Exponent 2\n",
      "Multiplier 1.3333333333333333. Tier 2.0. Exponent 2\n",
      "Multiplier 3.0. Tier 1.0. Exponent 2\n",
      "Multiplier 3.0. Tier 1.0. Exponent 2\n",
      "Multiplier 3.0. Tier 1.0. Exponent 2\n"
     ]
    },
    {
     "name": "stderr",
     "output_type": "stream",
     "text": [
      "Processing matches:  32%|███▏      | 4056/12699 [02:03<05:28, 26.33it/s]"
     ]
    },
    {
     "name": "stdout",
     "output_type": "stream",
     "text": [
      "Multiplier 3.0. Tier 1.0. Exponent 2\n",
      "Multiplier 3.0. Tier 1.0. Exponent 2\n",
      "Multiplier 3.0. Tier 1.0. Exponent 2\n",
      "Multiplier 3.0. Tier 1.0. Exponent 2\n",
      "Multiplier 3.0. Tier 1.0. Exponent 2\n",
      "Multiplier 3.0. Tier 1.0. Exponent 2\n"
     ]
    },
    {
     "name": "stderr",
     "output_type": "stream",
     "text": [
      "Processing matches:  32%|███▏      | 4062/12699 [02:03<05:26, 26.48it/s]"
     ]
    },
    {
     "name": "stdout",
     "output_type": "stream",
     "text": [
      "Multiplier 3.0. Tier 1.0. Exponent 2\n",
      "Multiplier 3.0. Tier 1.0. Exponent 2\n",
      "Multiplier 1.3333333333333333. Tier 2.0. Exponent 2\n",
      "Multiplier 3.0. Tier 1.0. Exponent 2\n",
      "Multiplier 1.3333333333333333. Tier 2.0. Exponent 2\n",
      "Multiplier 1.3333333333333333. Tier 2.0. Exponent 2\n"
     ]
    },
    {
     "name": "stderr",
     "output_type": "stream",
     "text": [
      "Processing matches:  32%|███▏      | 4069/12699 [02:04<05:04, 28.37it/s]"
     ]
    },
    {
     "name": "stdout",
     "output_type": "stream",
     "text": [
      "Multiplier 1.3333333333333333. Tier 2.0. Exponent 2\n",
      "Multiplier 1.3333333333333333. Tier 2.0. Exponent 2\n",
      "Multiplier 1.3333333333333333. Tier 2.0. Exponent 2\n",
      "Multiplier 1.3333333333333333. Tier 2.0. Exponent 2\n",
      "Multiplier 1.3333333333333333. Tier 2.0. Exponent 2\n",
      "Multiplier 1.3333333333333333. Tier 2.0. Exponent 2\n",
      "Multiplier 1.3333333333333333. Tier 2.0. Exponent 2\n"
     ]
    },
    {
     "name": "stderr",
     "output_type": "stream",
     "text": [
      "Processing matches:  32%|███▏      | 4077/12699 [02:04<04:46, 30.07it/s]"
     ]
    },
    {
     "name": "stdout",
     "output_type": "stream",
     "text": [
      "Multiplier 1.3333333333333333. Tier 2.0. Exponent 2\n",
      "Multiplier 1.3333333333333333. Tier 2.0. Exponent 2\n",
      "Multiplier 1.3333333333333333. Tier 2.0. Exponent 2\n",
      "Multiplier 1.3333333333333333. Tier 2.0. Exponent 2\n",
      "Multiplier 1.3333333333333333. Tier 2.0. Exponent 2\n",
      "Multiplier 1.3333333333333333. Tier 2.0. Exponent 2\n",
      "Multiplier 1.3333333333333333. Tier 2.0. Exponent 2\n"
     ]
    },
    {
     "name": "stderr",
     "output_type": "stream",
     "text": [
      "Processing matches:  32%|███▏      | 4083/12699 [02:04<05:15, 27.31it/s]"
     ]
    },
    {
     "name": "stdout",
     "output_type": "stream",
     "text": [
      "Multiplier 1.3333333333333333. Tier 2.0. Exponent 2\n",
      "Multiplier 3.0. Tier 1.0. Exponent 2\n",
      "Multiplier 3.0. Tier 1.0. Exponent 2\n",
      "Multiplier 3.0. Tier 1.0. Exponent 2\n",
      "Multiplier 1.3333333333333333. Tier 2.0. Exponent 2\n",
      "Multiplier 3.0. Tier 1.0. Exponent 2\n"
     ]
    },
    {
     "name": "stderr",
     "output_type": "stream",
     "text": [
      "Processing matches:  32%|███▏      | 4089/12699 [02:04<05:20, 26.87it/s]"
     ]
    },
    {
     "name": "stdout",
     "output_type": "stream",
     "text": [
      "Multiplier 3.0. Tier 1.0. Exponent 2\n",
      "Multiplier 3.0. Tier 1.0. Exponent 2\n",
      "Multiplier 3.0. Tier 1.0. Exponent 2\n",
      "Multiplier 3.0. Tier 1.0. Exponent 2\n",
      "Multiplier 3.0. Tier 1.0. Exponent 2\n",
      "Multiplier 3.0. Tier 1.0. Exponent 2\n"
     ]
    },
    {
     "name": "stderr",
     "output_type": "stream",
     "text": [
      "Processing matches:  32%|███▏      | 4095/12699 [02:05<05:27, 26.25it/s]"
     ]
    },
    {
     "name": "stdout",
     "output_type": "stream",
     "text": [
      "Multiplier 3.0. Tier 1.0. Exponent 2\n",
      "Multiplier 3.0. Tier 1.0. Exponent 2\n",
      "Multiplier 3.0. Tier 1.0. Exponent 2\n",
      "Multiplier 3.0. Tier 1.0. Exponent 2\n",
      "Multiplier 1.3333333333333333. Tier 2.0. Exponent 2\n",
      "Multiplier 1.3333333333333333. Tier 2.0. Exponent 2\n"
     ]
    },
    {
     "name": "stderr",
     "output_type": "stream",
     "text": [
      "Processing matches:  32%|███▏      | 4101/12699 [02:05<05:20, 26.80it/s]"
     ]
    },
    {
     "name": "stdout",
     "output_type": "stream",
     "text": [
      "Multiplier 0.48. Tier 4.0. Exponent 2\n",
      "Multiplier 0.48. Tier 4.0. Exponent 2\n",
      "Multiplier 0.48. Tier 4.0. Exponent 2\n",
      "Multiplier 0.48. Tier 4.0. Exponent 2\n",
      "Multiplier 0.48. Tier 4.0. Exponent 2\n",
      "Multiplier 0.48. Tier 4.0. Exponent 2\n",
      "Multiplier 0.48. Tier 4.0. Exponent 2\n"
     ]
    },
    {
     "name": "stderr",
     "output_type": "stream",
     "text": [
      "Processing matches:  32%|███▏      | 4108/12699 [02:05<04:47, 29.85it/s]"
     ]
    },
    {
     "name": "stdout",
     "output_type": "stream",
     "text": [
      "Multiplier 0.48. Tier 4.0. Exponent 2\n",
      "Multiplier 0.48. Tier 4.0. Exponent 2\n",
      "Multiplier 0.48. Tier 4.0. Exponent 2\n",
      "Multiplier 3.0. Tier 1.0. Exponent 2\n",
      "Multiplier 3.0. Tier 1.0. Exponent 2\n",
      "Multiplier 3.0. Tier 1.0. Exponent 2\n"
     ]
    },
    {
     "name": "stderr",
     "output_type": "stream",
     "text": [
      "Processing matches:  32%|███▏      | 4114/12699 [02:05<05:07, 27.90it/s]"
     ]
    },
    {
     "name": "stdout",
     "output_type": "stream",
     "text": [
      "Multiplier 3.0. Tier 1.0. Exponent 2\n",
      "Multiplier 3.0. Tier 1.0. Exponent 2\n",
      "Multiplier 3.0. Tier 1.0. Exponent 2\n",
      "Multiplier 3.0. Tier 1.0. Exponent 2\n",
      "Multiplier 3.0. Tier 1.0. Exponent 2\n",
      "Multiplier 0.75. Tier 3.0. Exponent 2\n"
     ]
    },
    {
     "name": "stderr",
     "output_type": "stream",
     "text": [
      "Processing matches:  32%|███▏      | 4122/12699 [02:06<04:55, 29.03it/s]"
     ]
    },
    {
     "name": "stdout",
     "output_type": "stream",
     "text": [
      "Multiplier 0.75. Tier 3.0. Exponent 2\n",
      "Multiplier 0.75. Tier 3.0. Exponent 2\n",
      "Multiplier 0.75. Tier 3.0. Exponent 2\n",
      "Multiplier 0.75. Tier 3.0. Exponent 2\n",
      "Multiplier 0.75. Tier 3.0. Exponent 2\n",
      "Multiplier 0.75. Tier 3.0. Exponent 2\n"
     ]
    },
    {
     "name": "stderr",
     "output_type": "stream",
     "text": [
      "Processing matches:  32%|███▏      | 4125/12699 [02:06<04:55, 29.00it/s]"
     ]
    },
    {
     "name": "stdout",
     "output_type": "stream",
     "text": [
      "Multiplier 0.75. Tier 3.0. Exponent 2\n",
      "Multiplier 0.75. Tier 3.0. Exponent 2\n",
      "Multiplier 1.3333333333333333. Tier 2.0. Exponent 2\n",
      "Multiplier 0.75. Tier 3.0. Exponent 2\n",
      "Multiplier 0.75. Tier 3.0. Exponent 2\n",
      "Multiplier 1.3333333333333333. Tier 2.0. Exponent 2\n",
      "Multiplier 0.75. Tier 3.0. Exponent 2\n"
     ]
    },
    {
     "name": "stderr",
     "output_type": "stream",
     "text": [
      "Processing matches:  33%|███▎      | 4133/12699 [02:06<04:48, 29.73it/s]"
     ]
    },
    {
     "name": "stdout",
     "output_type": "stream",
     "text": [
      "Multiplier 1.3333333333333333. Tier 2.0. Exponent 2\n",
      "Multiplier 1.3333333333333333. Tier 2.0. Exponent 2\n",
      "Multiplier 0.75. Tier 3.0. Exponent 2\n",
      "Multiplier 0.75. Tier 3.0. Exponent 2\n",
      "Multiplier 0.75. Tier 3.0. Exponent 2\n",
      "Multiplier 0.75. Tier 3.0. Exponent 2\n"
     ]
    },
    {
     "name": "stderr",
     "output_type": "stream",
     "text": [
      "Processing matches:  33%|███▎      | 4141/12699 [02:06<04:36, 30.98it/s]"
     ]
    },
    {
     "name": "stdout",
     "output_type": "stream",
     "text": [
      "Multiplier 0.75. Tier 3.0. Exponent 2\n",
      "Multiplier 0.75. Tier 3.0. Exponent 2\n",
      "Multiplier 0.75. Tier 3.0. Exponent 2\n",
      "Multiplier 1.3333333333333333. Tier 2.0. Exponent 2\n",
      "Multiplier 0.75. Tier 3.0. Exponent 2\n",
      "Multiplier 0.75. Tier 3.0. Exponent 2\n"
     ]
    },
    {
     "name": "stderr",
     "output_type": "stream",
     "text": [
      "Processing matches:  33%|███▎      | 4145/12699 [02:06<04:42, 30.33it/s]"
     ]
    },
    {
     "name": "stdout",
     "output_type": "stream",
     "text": [
      "Multiplier 0.75. Tier 3.0. Exponent 2\n",
      "Multiplier 0.75. Tier 3.0. Exponent 2\n",
      "Multiplier 0.75. Tier 3.0. Exponent 2\n",
      "Multiplier 0.75. Tier 3.0. Exponent 2\n",
      "Multiplier 0.75. Tier 3.0. Exponent 2\n",
      "Multiplier 0.75. Tier 3.0. Exponent 2\n"
     ]
    },
    {
     "name": "stderr",
     "output_type": "stream",
     "text": [
      "Processing matches:  33%|███▎      | 4153/12699 [02:06<04:29, 31.67it/s]"
     ]
    },
    {
     "name": "stdout",
     "output_type": "stream",
     "text": [
      "Multiplier 0.75. Tier 3.0. Exponent 2\n",
      "Multiplier 0.75. Tier 3.0. Exponent 2\n",
      "Multiplier 0.75. Tier 3.0. Exponent 2\n",
      "Multiplier 0.75. Tier 3.0. Exponent 2\n",
      "Multiplier 0.75. Tier 3.0. Exponent 2\n",
      "Multiplier 0.75. Tier 3.0. Exponent 2\n",
      "Multiplier 0.75. Tier 3.0. Exponent 2\n"
     ]
    },
    {
     "name": "stderr",
     "output_type": "stream",
     "text": [
      "Processing matches:  33%|███▎      | 4157/12699 [02:07<04:24, 32.26it/s]"
     ]
    },
    {
     "name": "stdout",
     "output_type": "stream",
     "text": [
      "Multiplier 0.75. Tier 3.0. Exponent 2\n",
      "Multiplier 0.75. Tier 3.0. Exponent 2\n",
      "Multiplier 0.75. Tier 3.0. Exponent 2\n",
      "Multiplier 0.75. Tier 3.0. Exponent 2\n",
      "Multiplier 3.0. Tier 1.0. Exponent 2\n",
      "Multiplier 3.0. Tier 1.0. Exponent 2\n",
      "Multiplier 0.75. Tier 3.0. Exponent 2\n"
     ]
    },
    {
     "name": "stderr",
     "output_type": "stream",
     "text": [
      "Processing matches:  33%|███▎      | 4165/12699 [02:07<04:28, 31.75it/s]"
     ]
    },
    {
     "name": "stdout",
     "output_type": "stream",
     "text": [
      "Multiplier 0.75. Tier 3.0. Exponent 2\n",
      "Multiplier 0.75. Tier 3.0. Exponent 2\n",
      "Multiplier 0.75. Tier 3.0. Exponent 2\n",
      "Multiplier 3.0. Tier 1.0. Exponent 2\n",
      "Multiplier 0.75. Tier 3.0. Exponent 2\n",
      "Multiplier 0.75. Tier 3.0. Exponent 2\n",
      "Multiplier 3.0. Tier 1.0. Exponent 2\n"
     ]
    },
    {
     "name": "stderr",
     "output_type": "stream",
     "text": [
      "Processing matches:  33%|███▎      | 4173/12699 [02:07<04:49, 29.47it/s]"
     ]
    },
    {
     "name": "stdout",
     "output_type": "stream",
     "text": [
      "Multiplier 0.75. Tier 3.0. Exponent 2\n",
      "Multiplier 0.75. Tier 3.0. Exponent 2\n",
      "Multiplier 0.75. Tier 3.0. Exponent 2\n",
      "Multiplier 0.75. Tier 3.0. Exponent 2\n",
      "Multiplier 3.0. Tier 1.0. Exponent 2\n"
     ]
    },
    {
     "name": "stderr",
     "output_type": "stream",
     "text": [
      "Processing matches:  33%|███▎      | 4176/12699 [02:07<05:06, 27.80it/s]"
     ]
    },
    {
     "name": "stdout",
     "output_type": "stream",
     "text": [
      "Multiplier 3.0. Tier 1.0. Exponent 2\n",
      "Multiplier 3.0. Tier 1.0. Exponent 2\n",
      "Multiplier 3.0. Tier 1.0. Exponent 2\n",
      "Multiplier 3.0. Tier 1.0. Exponent 2\n",
      "Multiplier 3.0. Tier 1.0. Exponent 2\n"
     ]
    },
    {
     "name": "stderr",
     "output_type": "stream",
     "text": [
      "Processing matches:  33%|███▎      | 4183/12699 [02:08<04:54, 28.96it/s]"
     ]
    },
    {
     "name": "stdout",
     "output_type": "stream",
     "text": [
      "Multiplier 3.0. Tier 1.0. Exponent 2\n",
      "Multiplier 3.0. Tier 1.0. Exponent 2\n",
      "Multiplier 0.48. Tier 4.0. Exponent 2\n",
      "Multiplier 0.48. Tier 4.0. Exponent 2\n",
      "Multiplier 0.48. Tier 4.0. Exponent 2\n",
      "Multiplier 0.48. Tier 4.0. Exponent 2\n",
      "Multiplier 0.48. Tier 4.0. Exponent 2\n"
     ]
    },
    {
     "name": "stderr",
     "output_type": "stream",
     "text": [
      "Processing matches:  33%|███▎      | 4191/12699 [02:08<04:24, 32.17it/s]"
     ]
    },
    {
     "name": "stdout",
     "output_type": "stream",
     "text": [
      "Multiplier 0.48. Tier 4.0. Exponent 2\n",
      "Multiplier 0.48. Tier 4.0. Exponent 2\n",
      "Multiplier 3.0. Tier 1.0. Exponent 2\n",
      "Multiplier 0.48. Tier 4.0. Exponent 2\n",
      "Multiplier 0.48. Tier 4.0. Exponent 2\n",
      "Multiplier 0.48. Tier 4.0. Exponent 2\n",
      "Multiplier 0.75. Tier 3.0. Exponent 2\n",
      "Multiplier 0.75. Tier 3.0. Exponent 2\n"
     ]
    },
    {
     "name": "stderr",
     "output_type": "stream",
     "text": [
      "Processing matches:  33%|███▎      | 4200/12699 [02:08<03:56, 36.01it/s]"
     ]
    },
    {
     "name": "stdout",
     "output_type": "stream",
     "text": [
      "Multiplier 0.75. Tier 3.0. Exponent 2\n",
      "Multiplier 3.0. Tier 1.0. Exponent 2\n",
      "Multiplier 0.75. Tier 3.0. Exponent 2\n",
      "Multiplier 0.48. Tier 4.0. Exponent 2\n",
      "Multiplier 0.48. Tier 4.0. Exponent 2\n",
      "Multiplier 0.75. Tier 3.0. Exponent 2\n",
      "Multiplier 0.75. Tier 3.0. Exponent 2\n"
     ]
    },
    {
     "name": "stderr",
     "output_type": "stream",
     "text": [
      "Processing matches:  33%|███▎      | 4204/12699 [02:08<04:04, 34.80it/s]"
     ]
    },
    {
     "name": "stdout",
     "output_type": "stream",
     "text": [
      "Multiplier 0.75. Tier 3.0. Exponent 2\n",
      "Multiplier 0.75. Tier 3.0. Exponent 2\n",
      "Multiplier 0.75. Tier 3.0. Exponent 2\n",
      "Multiplier 0.48. Tier 4.0. Exponent 2\n",
      "Multiplier 0.48. Tier 4.0. Exponent 2\n",
      "Multiplier 0.48. Tier 4.0. Exponent 2\n",
      "Multiplier 0.48. Tier 4.0. Exponent 2\n"
     ]
    },
    {
     "name": "stderr",
     "output_type": "stream",
     "text": [
      "Processing matches:  33%|███▎      | 4213/12699 [02:08<03:54, 36.11it/s]"
     ]
    },
    {
     "name": "stdout",
     "output_type": "stream",
     "text": [
      "Multiplier 0.48. Tier 4.0. Exponent 2\n",
      "Multiplier 0.75. Tier 3.0. Exponent 2\n",
      "Multiplier 0.48. Tier 4.0. Exponent 2\n",
      "Multiplier 0.48. Tier 4.0. Exponent 2\n",
      "Multiplier 1.3333333333333333. Tier 2.0. Exponent 2\n",
      "Multiplier 1.3333333333333333. Tier 2.0. Exponent 2\n",
      "Multiplier 1.3333333333333333. Tier 2.0. Exponent 2\n"
     ]
    },
    {
     "name": "stderr",
     "output_type": "stream",
     "text": [
      "Processing matches:  33%|███▎      | 4221/12699 [02:09<03:56, 35.81it/s]"
     ]
    },
    {
     "name": "stdout",
     "output_type": "stream",
     "text": [
      "Multiplier 1.3333333333333333. Tier 2.0. Exponent 2\n",
      "Multiplier 1.3333333333333333. Tier 2.0. Exponent 2\n",
      "Multiplier 1.3333333333333333. Tier 2.0. Exponent 2\n",
      "Multiplier 1.3333333333333333. Tier 2.0. Exponent 2\n",
      "Multiplier 1.3333333333333333. Tier 2.0. Exponent 2\n",
      "Multiplier 1.3333333333333333. Tier 2.0. Exponent 2\n",
      "Multiplier 1.3333333333333333. Tier 2.0. Exponent 2\n",
      "Multiplier 1.3333333333333333. Tier 2.0. Exponent 2\n"
     ]
    },
    {
     "name": "stderr",
     "output_type": "stream",
     "text": [
      "Processing matches:  33%|███▎      | 4229/12699 [02:09<04:03, 34.78it/s]"
     ]
    },
    {
     "name": "stdout",
     "output_type": "stream",
     "text": [
      "Multiplier 1.3333333333333333. Tier 2.0. Exponent 2\n",
      "Multiplier 0.48. Tier 4.0. Exponent 2\n",
      "Multiplier 0.48. Tier 4.0. Exponent 2\n",
      "Multiplier 0.48. Tier 4.0. Exponent 2\n",
      "Multiplier 0.48. Tier 4.0. Exponent 2\n",
      "Multiplier 0.48. Tier 4.0. Exponent 2\n",
      "Multiplier 1.3333333333333333. Tier 2.0. Exponent 2\n",
      "Multiplier 0.48. Tier 4.0. Exponent 2\n"
     ]
    },
    {
     "name": "stderr",
     "output_type": "stream",
     "text": [
      "Processing matches:  33%|███▎      | 4237/12699 [02:09<04:01, 35.09it/s]"
     ]
    },
    {
     "name": "stdout",
     "output_type": "stream",
     "text": [
      "Multiplier 1.3333333333333333. Tier 2.0. Exponent 2\n",
      "Multiplier 1.3333333333333333. Tier 2.0. Exponent 2\n",
      "Multiplier 1.3333333333333333. Tier 2.0. Exponent 2\n",
      "Multiplier 0.48. Tier 4.0. Exponent 2\n",
      "Multiplier 0.48. Tier 4.0. Exponent 2\n",
      "Multiplier 0.48. Tier 4.0. Exponent 2\n",
      "Multiplier 0.48. Tier 4.0. Exponent 2\n"
     ]
    },
    {
     "name": "stderr",
     "output_type": "stream",
     "text": [
      "Processing matches:  33%|███▎      | 4245/12699 [02:09<04:21, 32.28it/s]"
     ]
    },
    {
     "name": "stdout",
     "output_type": "stream",
     "text": [
      "Multiplier 0.48. Tier 4.0. Exponent 2\n",
      "Multiplier 1.3333333333333333. Tier 2.0. Exponent 2\n",
      "Multiplier 1.3333333333333333. Tier 2.0. Exponent 2\n",
      "Multiplier 0.48. Tier 4.0. Exponent 2\n",
      "Multiplier 0.48. Tier 4.0. Exponent 2\n",
      "Multiplier 0.48. Tier 4.0. Exponent 2\n"
     ]
    },
    {
     "name": "stderr",
     "output_type": "stream",
     "text": [
      "Processing matches:  33%|███▎      | 4249/12699 [02:09<04:33, 30.85it/s]"
     ]
    },
    {
     "name": "stdout",
     "output_type": "stream",
     "text": [
      "Multiplier 0.48. Tier 4.0. Exponent 2\n",
      "Multiplier 0.48. Tier 4.0. Exponent 2\n",
      "Multiplier 0.48. Tier 4.0. Exponent 2\n",
      "Multiplier 0.48. Tier 4.0. Exponent 2\n",
      "Multiplier 0.48. Tier 4.0. Exponent 2\n",
      "Multiplier 0.48. Tier 4.0. Exponent 2\n"
     ]
    },
    {
     "name": "stderr",
     "output_type": "stream",
     "text": [
      "Processing matches:  34%|███▎      | 4257/12699 [02:10<04:39, 30.23it/s]"
     ]
    },
    {
     "name": "stdout",
     "output_type": "stream",
     "text": [
      "Multiplier 0.48. Tier 4.0. Exponent 2\n",
      "Multiplier 0.48. Tier 4.0. Exponent 2\n",
      "Multiplier 0.48. Tier 4.0. Exponent 2\n",
      "Multiplier 0.48. Tier 4.0. Exponent 2\n",
      "Multiplier 0.48. Tier 4.0. Exponent 2\n",
      "Multiplier 0.48. Tier 4.0. Exponent 2\n"
     ]
    },
    {
     "name": "stderr",
     "output_type": "stream",
     "text": [
      "Processing matches:  34%|███▎      | 4261/12699 [02:10<04:45, 29.55it/s]"
     ]
    },
    {
     "name": "stdout",
     "output_type": "stream",
     "text": [
      "Multiplier 0.48. Tier 4.0. Exponent 2\n",
      "Multiplier 0.48. Tier 4.0. Exponent 2\n",
      "Multiplier 0.48. Tier 4.0. Exponent 2\n",
      "Multiplier 0.48. Tier 4.0. Exponent 2\n",
      "Multiplier 0.48. Tier 4.0. Exponent 2\n",
      "Multiplier 0.48. Tier 4.0. Exponent 2\n"
     ]
    },
    {
     "name": "stderr",
     "output_type": "stream",
     "text": [
      "Processing matches:  34%|███▎      | 4267/12699 [02:10<04:51, 28.91it/s]"
     ]
    },
    {
     "name": "stdout",
     "output_type": "stream",
     "text": [
      "Multiplier 0.48. Tier 4.0. Exponent 2\n",
      "Multiplier 0.48. Tier 4.0. Exponent 2\n",
      "Multiplier 0.48. Tier 4.0. Exponent 2\n",
      "Multiplier 0.48. Tier 4.0. Exponent 2\n",
      "Multiplier 0.48. Tier 4.0. Exponent 2\n",
      "Multiplier 0.48. Tier 4.0. Exponent 2\n",
      "Multiplier 0.48. Tier 4.0. Exponent 2\n"
     ]
    },
    {
     "name": "stderr",
     "output_type": "stream",
     "text": [
      "Processing matches:  34%|███▎      | 4275/12699 [02:10<04:28, 31.38it/s]"
     ]
    },
    {
     "name": "stdout",
     "output_type": "stream",
     "text": [
      "Multiplier 0.48. Tier 4.0. Exponent 2\n",
      "Multiplier 0.48. Tier 4.0. Exponent 2\n",
      "Multiplier 0.48. Tier 4.0. Exponent 2\n",
      "Multiplier 0.48. Tier 4.0. Exponent 2\n",
      "Multiplier 0.48. Tier 4.0. Exponent 2\n",
      "Multiplier 0.48. Tier 4.0. Exponent 2\n",
      "Multiplier 0.48. Tier 4.0. Exponent 2\n",
      "Multiplier 0.48. Tier 4.0. Exponent 2\n"
     ]
    },
    {
     "name": "stderr",
     "output_type": "stream",
     "text": [
      "Processing matches:  34%|███▎      | 4283/12699 [02:11<04:20, 32.30it/s]"
     ]
    },
    {
     "name": "stdout",
     "output_type": "stream",
     "text": [
      "Multiplier 0.48. Tier 4.0. Exponent 2\n",
      "Multiplier 0.48. Tier 4.0. Exponent 2\n",
      "Multiplier 0.48. Tier 4.0. Exponent 2\n",
      "Multiplier 0.48. Tier 4.0. Exponent 2\n",
      "Multiplier 0.48. Tier 4.0. Exponent 2\n",
      "Multiplier 0.48. Tier 4.0. Exponent 2\n",
      "Multiplier 0.48. Tier 4.0. Exponent 2\n"
     ]
    },
    {
     "name": "stderr",
     "output_type": "stream",
     "text": [
      "Processing matches:  34%|███▍      | 4291/12699 [02:11<04:13, 33.12it/s]"
     ]
    },
    {
     "name": "stdout",
     "output_type": "stream",
     "text": [
      "Multiplier 0.48. Tier 4.0. Exponent 2\n",
      "Multiplier 0.48. Tier 4.0. Exponent 2\n",
      "Multiplier 0.48. Tier 4.0. Exponent 2\n",
      "Multiplier 0.48. Tier 4.0. Exponent 2\n",
      "Multiplier 0.48. Tier 4.0. Exponent 2\n",
      "Multiplier 0.48. Tier 4.0. Exponent 2\n",
      "Multiplier 0.48. Tier 4.0. Exponent 2\n",
      "Multiplier 0.48. Tier 4.0. Exponent 2\n"
     ]
    },
    {
     "name": "stderr",
     "output_type": "stream",
     "text": [
      "Processing matches:  34%|███▍      | 4299/12699 [02:11<04:08, 33.82it/s]"
     ]
    },
    {
     "name": "stdout",
     "output_type": "stream",
     "text": [
      "Multiplier 0.48. Tier 4.0. Exponent 2\n",
      "Multiplier 0.48. Tier 4.0. Exponent 2\n",
      "Multiplier 0.48. Tier 4.0. Exponent 2\n",
      "Multiplier 0.48. Tier 4.0. Exponent 2\n",
      "Multiplier 1.3333333333333333. Tier 2.0. Exponent 2\n",
      "Multiplier 1.3333333333333333. Tier 2.0. Exponent 2\n",
      "Multiplier 1.3333333333333333. Tier 2.0. Exponent 2\n",
      "Multiplier 1.3333333333333333. Tier 2.0. Exponent 2\n"
     ]
    },
    {
     "name": "stderr",
     "output_type": "stream",
     "text": [
      "Processing matches:  34%|███▍      | 4307/12699 [02:11<03:49, 36.52it/s]"
     ]
    },
    {
     "name": "stdout",
     "output_type": "stream",
     "text": [
      "Multiplier 0.75. Tier 3.0. Exponent 2\n",
      "Multiplier 0.75. Tier 3.0. Exponent 2\n",
      "Multiplier 0.48. Tier 4.0. Exponent 2\n",
      "Multiplier 0.48. Tier 4.0. Exponent 2\n",
      "Multiplier 0.48. Tier 4.0. Exponent 2\n",
      "Multiplier 0.48. Tier 4.0. Exponent 2\n",
      "Multiplier 0.48. Tier 4.0. Exponent 2\n",
      "Multiplier 0.48. Tier 4.0. Exponent 2\n"
     ]
    },
    {
     "name": "stderr",
     "output_type": "stream",
     "text": [
      "Processing matches:  34%|███▍      | 4315/12699 [02:11<03:49, 36.47it/s]"
     ]
    },
    {
     "name": "stdout",
     "output_type": "stream",
     "text": [
      "Multiplier 0.48. Tier 4.0. Exponent 2\n",
      "Multiplier 0.48. Tier 4.0. Exponent 2\n",
      "Multiplier 0.48. Tier 4.0. Exponent 2\n",
      "Multiplier 0.48. Tier 4.0. Exponent 2\n",
      "Multiplier 0.48. Tier 4.0. Exponent 2\n",
      "Multiplier 0.48. Tier 4.0. Exponent 2\n",
      "Multiplier 0.48. Tier 4.0. Exponent 2\n",
      "Multiplier 0.48. Tier 4.0. Exponent 2\n"
     ]
    },
    {
     "name": "stderr",
     "output_type": "stream",
     "text": [
      "Processing matches:  34%|███▍      | 4323/12699 [02:12<03:51, 36.25it/s]"
     ]
    },
    {
     "name": "stdout",
     "output_type": "stream",
     "text": [
      "Multiplier 0.48. Tier 4.0. Exponent 2\n",
      "Multiplier 0.48. Tier 4.0. Exponent 2\n",
      "Multiplier 0.48. Tier 4.0. Exponent 2\n",
      "Multiplier 0.48. Tier 4.0. Exponent 2\n",
      "Multiplier 0.48. Tier 4.0. Exponent 2\n",
      "Multiplier 0.48. Tier 4.0. Exponent 2\n",
      "Multiplier 0.48. Tier 4.0. Exponent 2\n",
      "Multiplier 0.48. Tier 4.0. Exponent 2\n"
     ]
    },
    {
     "name": "stderr",
     "output_type": "stream",
     "text": [
      "Processing matches:  34%|███▍      | 4331/12699 [02:12<03:47, 36.85it/s]"
     ]
    },
    {
     "name": "stdout",
     "output_type": "stream",
     "text": [
      "Multiplier 0.48. Tier 4.0. Exponent 2\n",
      "Multiplier 0.48. Tier 4.0. Exponent 2\n",
      "Multiplier 0.48. Tier 4.0. Exponent 2\n",
      "Multiplier 0.48. Tier 4.0. Exponent 2\n",
      "Multiplier 0.48. Tier 4.0. Exponent 2\n",
      "Multiplier 0.48. Tier 4.0. Exponent 2\n",
      "Multiplier 0.48. Tier 4.0. Exponent 2\n",
      "Multiplier 0.48. Tier 4.0. Exponent 2\n"
     ]
    },
    {
     "name": "stderr",
     "output_type": "stream",
     "text": [
      "Processing matches:  34%|███▍      | 4339/12699 [02:12<03:43, 37.38it/s]"
     ]
    },
    {
     "name": "stdout",
     "output_type": "stream",
     "text": [
      "Multiplier 0.48. Tier 4.0. Exponent 2\n",
      "Multiplier 0.48. Tier 4.0. Exponent 2\n",
      "Multiplier 0.48. Tier 4.0. Exponent 2\n",
      "Multiplier 0.48. Tier 4.0. Exponent 2\n",
      "Multiplier 0.48. Tier 4.0. Exponent 2\n",
      "Multiplier 0.48. Tier 4.0. Exponent 2\n",
      "Multiplier 0.48. Tier 4.0. Exponent 2\n",
      "Multiplier 0.48. Tier 4.0. Exponent 2\n",
      "Multiplier 0.48. Tier 4.0. Exponent 2\n"
     ]
    },
    {
     "name": "stderr",
     "output_type": "stream",
     "text": [
      "Processing matches:  34%|███▍      | 4347/12699 [02:12<03:43, 37.29it/s]"
     ]
    },
    {
     "name": "stdout",
     "output_type": "stream",
     "text": [
      "Multiplier 0.48. Tier 4.0. Exponent 2\n",
      "Multiplier 0.48. Tier 4.0. Exponent 2\n",
      "Multiplier 0.48. Tier 4.0. Exponent 2\n",
      "Multiplier 0.48. Tier 4.0. Exponent 2\n",
      "Multiplier 0.48. Tier 4.0. Exponent 2\n",
      "Multiplier 0.48. Tier 4.0. Exponent 2\n",
      "Multiplier 0.48. Tier 4.0. Exponent 2\n",
      "Multiplier 0.48. Tier 4.0. Exponent 2\n"
     ]
    },
    {
     "name": "stderr",
     "output_type": "stream",
     "text": [
      "Processing matches:  34%|███▍      | 4355/12699 [02:13<03:51, 36.02it/s]"
     ]
    },
    {
     "name": "stdout",
     "output_type": "stream",
     "text": [
      "Multiplier 0.48. Tier 4.0. Exponent 2\n",
      "Multiplier 0.48. Tier 4.0. Exponent 2\n",
      "Multiplier 0.48. Tier 4.0. Exponent 2\n",
      "Multiplier 0.48. Tier 4.0. Exponent 2\n",
      "Multiplier 0.48. Tier 4.0. Exponent 2\n",
      "Multiplier 0.48. Tier 4.0. Exponent 2\n",
      "Multiplier 0.48. Tier 4.0. Exponent 2\n",
      "Multiplier 0.48. Tier 4.0. Exponent 2\n"
     ]
    },
    {
     "name": "stderr",
     "output_type": "stream",
     "text": [
      "Processing matches:  34%|███▍      | 4363/12699 [02:13<03:57, 35.17it/s]"
     ]
    },
    {
     "name": "stdout",
     "output_type": "stream",
     "text": [
      "Multiplier 0.48. Tier 4.0. Exponent 2\n",
      "Multiplier 0.48. Tier 4.0. Exponent 2\n",
      "Multiplier 0.48. Tier 4.0. Exponent 2\n",
      "Multiplier 0.48. Tier 4.0. Exponent 2\n",
      "Multiplier 0.48. Tier 4.0. Exponent 2\n",
      "Multiplier 0.48. Tier 4.0. Exponent 2\n",
      "Multiplier 0.48. Tier 4.0. Exponent 2\n",
      "Multiplier 0.48. Tier 4.0. Exponent 2\n"
     ]
    },
    {
     "name": "stderr",
     "output_type": "stream",
     "text": [
      "Processing matches:  34%|███▍      | 4371/12699 [02:13<04:00, 34.67it/s]"
     ]
    },
    {
     "name": "stdout",
     "output_type": "stream",
     "text": [
      "Multiplier 0.48. Tier 4.0. Exponent 2\n",
      "Multiplier 0.48. Tier 4.0. Exponent 2\n",
      "Multiplier 0.48. Tier 4.0. Exponent 2\n",
      "Multiplier 0.48. Tier 4.0. Exponent 2\n",
      "Multiplier 0.48. Tier 4.0. Exponent 2\n",
      "Multiplier 0.48. Tier 4.0. Exponent 2\n",
      "Multiplier 0.48. Tier 4.0. Exponent 2\n",
      "Multiplier 0.48. Tier 4.0. Exponent 2\n"
     ]
    },
    {
     "name": "stderr",
     "output_type": "stream",
     "text": [
      "Processing matches:  34%|███▍      | 4379/12699 [02:13<03:59, 34.71it/s]"
     ]
    },
    {
     "name": "stdout",
     "output_type": "stream",
     "text": [
      "Multiplier 0.48. Tier 4.0. Exponent 2\n",
      "Multiplier 0.48. Tier 4.0. Exponent 2\n",
      "Multiplier 0.48. Tier 4.0. Exponent 2\n",
      "Multiplier 0.48. Tier 4.0. Exponent 2\n",
      "Multiplier 0.48. Tier 4.0. Exponent 2\n",
      "Multiplier 0.48. Tier 4.0. Exponent 2\n",
      "Multiplier 0.48. Tier 4.0. Exponent 2\n",
      "Multiplier 0.48. Tier 4.0. Exponent 2\n"
     ]
    },
    {
     "name": "stderr",
     "output_type": "stream",
     "text": [
      "Processing matches:  35%|███▍      | 4387/12699 [02:13<03:56, 35.13it/s]"
     ]
    },
    {
     "name": "stdout",
     "output_type": "stream",
     "text": [
      "Multiplier 0.48. Tier 4.0. Exponent 2\n",
      "Multiplier 0.48. Tier 4.0. Exponent 2\n",
      "Multiplier 0.48. Tier 4.0. Exponent 2\n",
      "Multiplier 0.48. Tier 4.0. Exponent 2\n",
      "Multiplier 0.48. Tier 4.0. Exponent 2\n",
      "Multiplier 0.48. Tier 4.0. Exponent 2\n",
      "Multiplier 0.48. Tier 4.0. Exponent 2\n",
      "Multiplier 0.48. Tier 4.0. Exponent 2\n"
     ]
    },
    {
     "name": "stderr",
     "output_type": "stream",
     "text": [
      "Processing matches:  35%|███▍      | 4396/12699 [02:14<03:42, 37.24it/s]"
     ]
    },
    {
     "name": "stdout",
     "output_type": "stream",
     "text": [
      "Multiplier 0.48. Tier 4.0. Exponent 2\n",
      "Multiplier 0.48. Tier 4.0. Exponent 2\n",
      "Multiplier 0.48. Tier 4.0. Exponent 2\n",
      "Multiplier 0.48. Tier 4.0. Exponent 2\n",
      "Multiplier 0.48. Tier 4.0. Exponent 2\n",
      "Multiplier 0.48. Tier 4.0. Exponent 2\n",
      "Multiplier 0.48. Tier 4.0. Exponent 2\n",
      "Multiplier 0.48. Tier 4.0. Exponent 2\n",
      "Multiplier 0.48. Tier 4.0. Exponent 2\n"
     ]
    },
    {
     "name": "stderr",
     "output_type": "stream",
     "text": [
      "Processing matches:  35%|███▍      | 4404/12699 [02:14<03:41, 37.39it/s]"
     ]
    },
    {
     "name": "stdout",
     "output_type": "stream",
     "text": [
      "Multiplier 0.48. Tier 4.0. Exponent 2\n",
      "Multiplier 0.48. Tier 4.0. Exponent 2\n",
      "Multiplier 0.48. Tier 4.0. Exponent 2\n",
      "Multiplier 0.48. Tier 4.0. Exponent 2\n",
      "Multiplier 0.48. Tier 4.0. Exponent 2\n",
      "Multiplier 0.48. Tier 4.0. Exponent 2\n",
      "Multiplier 0.48. Tier 4.0. Exponent 2\n",
      "Multiplier 0.48. Tier 4.0. Exponent 2\n"
     ]
    },
    {
     "name": "stderr",
     "output_type": "stream",
     "text": [
      "Processing matches:  35%|███▍      | 4412/12699 [02:14<03:49, 36.18it/s]"
     ]
    },
    {
     "name": "stdout",
     "output_type": "stream",
     "text": [
      "Multiplier 0.48. Tier 4.0. Exponent 2\n",
      "Multiplier 0.48. Tier 4.0. Exponent 2\n",
      "Multiplier 0.48. Tier 4.0. Exponent 2\n",
      "Multiplier 0.48. Tier 4.0. Exponent 2\n",
      "Multiplier 0.48. Tier 4.0. Exponent 2\n",
      "Multiplier 0.48. Tier 4.0. Exponent 2\n",
      "Multiplier 0.48. Tier 4.0. Exponent 2\n",
      "Multiplier 0.48. Tier 4.0. Exponent 2\n"
     ]
    },
    {
     "name": "stderr",
     "output_type": "stream",
     "text": [
      "Processing matches:  35%|███▍      | 4420/12699 [02:14<03:52, 35.65it/s]"
     ]
    },
    {
     "name": "stdout",
     "output_type": "stream",
     "text": [
      "Multiplier 0.48. Tier 4.0. Exponent 2\n",
      "Multiplier 0.48. Tier 4.0. Exponent 2\n",
      "Multiplier 0.48. Tier 4.0. Exponent 2\n",
      "Multiplier 0.48. Tier 4.0. Exponent 2\n",
      "Multiplier 0.48. Tier 4.0. Exponent 2\n",
      "Multiplier 0.48. Tier 4.0. Exponent 2\n",
      "Multiplier 0.48. Tier 4.0. Exponent 2\n",
      "Multiplier 0.48. Tier 4.0. Exponent 2\n"
     ]
    },
    {
     "name": "stderr",
     "output_type": "stream",
     "text": [
      "Processing matches:  35%|███▍      | 4428/12699 [02:15<03:54, 35.22it/s]"
     ]
    },
    {
     "name": "stdout",
     "output_type": "stream",
     "text": [
      "Multiplier 0.48. Tier 4.0. Exponent 2\n",
      "Multiplier 0.48. Tier 4.0. Exponent 2\n",
      "Multiplier 0.48. Tier 4.0. Exponent 2\n",
      "Multiplier 0.75. Tier 3.0. Exponent 2\n",
      "Multiplier 0.75. Tier 3.0. Exponent 2\n",
      "Multiplier 0.75. Tier 3.0. Exponent 2\n",
      "Multiplier 0.75. Tier 3.0. Exponent 2\n",
      "Multiplier 0.75. Tier 3.0. Exponent 2\n"
     ]
    },
    {
     "name": "stderr",
     "output_type": "stream",
     "text": [
      "Processing matches:  35%|███▍      | 4436/12699 [02:15<03:59, 34.54it/s]"
     ]
    },
    {
     "name": "stdout",
     "output_type": "stream",
     "text": [
      "Multiplier 0.75. Tier 3.0. Exponent 2\n",
      "Multiplier 0.75. Tier 3.0. Exponent 2\n",
      "Multiplier 0.75. Tier 3.0. Exponent 2\n",
      "Multiplier 0.75. Tier 3.0. Exponent 2\n",
      "Multiplier 0.75. Tier 3.0. Exponent 2\n",
      "Multiplier 0.75. Tier 3.0. Exponent 2\n",
      "Multiplier 0.75. Tier 3.0. Exponent 2\n",
      "Multiplier 0.75. Tier 3.0. Exponent 2\n"
     ]
    },
    {
     "name": "stderr",
     "output_type": "stream",
     "text": [
      "Processing matches:  35%|███▍      | 4444/12699 [02:15<03:50, 35.88it/s]"
     ]
    },
    {
     "name": "stdout",
     "output_type": "stream",
     "text": [
      "Multiplier 0.75. Tier 3.0. Exponent 2\n",
      "Multiplier 0.75. Tier 3.0. Exponent 2\n",
      "Multiplier 0.75. Tier 3.0. Exponent 2\n",
      "Multiplier 0.75. Tier 3.0. Exponent 2\n",
      "Multiplier 0.75. Tier 3.0. Exponent 2\n",
      "Multiplier 0.75. Tier 3.0. Exponent 2\n",
      "Multiplier 0.75. Tier 3.0. Exponent 2\n",
      "Multiplier 0.75. Tier 3.0. Exponent 2\n"
     ]
    },
    {
     "name": "stderr",
     "output_type": "stream",
     "text": [
      "Processing matches:  35%|███▌      | 4452/12699 [02:15<03:48, 36.05it/s]"
     ]
    },
    {
     "name": "stdout",
     "output_type": "stream",
     "text": [
      "Multiplier 0.75. Tier 3.0. Exponent 2\n",
      "Multiplier 0.75. Tier 3.0. Exponent 2\n",
      "Multiplier 0.75. Tier 3.0. Exponent 2\n",
      "Multiplier 0.75. Tier 3.0. Exponent 2\n",
      "Multiplier 0.75. Tier 3.0. Exponent 2\n",
      "Multiplier 0.75. Tier 3.0. Exponent 2\n",
      "Multiplier 0.75. Tier 3.0. Exponent 2\n",
      "Multiplier 0.48. Tier 4.0. Exponent 2\n"
     ]
    },
    {
     "name": "stderr",
     "output_type": "stream",
     "text": [
      "Processing matches:  35%|███▌      | 4460/12699 [02:15<03:55, 35.00it/s]"
     ]
    },
    {
     "name": "stdout",
     "output_type": "stream",
     "text": [
      "Multiplier 0.48. Tier 4.0. Exponent 2\n",
      "Multiplier 0.48. Tier 4.0. Exponent 2\n",
      "Multiplier 0.48. Tier 4.0. Exponent 2\n",
      "Multiplier 0.48. Tier 4.0. Exponent 2\n",
      "Multiplier 0.48. Tier 4.0. Exponent 2\n",
      "Multiplier 0.48. Tier 4.0. Exponent 2\n",
      "Multiplier 0.48. Tier 4.0. Exponent 2\n",
      "Multiplier 0.48. Tier 4.0. Exponent 2\n"
     ]
    },
    {
     "name": "stderr",
     "output_type": "stream",
     "text": [
      "Processing matches:  35%|███▌      | 4468/12699 [02:16<03:58, 34.54it/s]"
     ]
    },
    {
     "name": "stdout",
     "output_type": "stream",
     "text": [
      "Multiplier 0.48. Tier 4.0. Exponent 2\n",
      "Multiplier 0.48. Tier 4.0. Exponent 2\n",
      "Multiplier 0.48. Tier 4.0. Exponent 2\n",
      "Multiplier 0.48. Tier 4.0. Exponent 2\n",
      "Multiplier 0.48. Tier 4.0. Exponent 2\n",
      "Multiplier 0.48. Tier 4.0. Exponent 2\n",
      "Multiplier 0.48. Tier 4.0. Exponent 2\n",
      "Multiplier 0.48. Tier 4.0. Exponent 2\n"
     ]
    },
    {
     "name": "stderr",
     "output_type": "stream",
     "text": [
      "Processing matches:  35%|███▌      | 4476/12699 [02:16<04:01, 34.10it/s]"
     ]
    },
    {
     "name": "stdout",
     "output_type": "stream",
     "text": [
      "Multiplier 0.48. Tier 4.0. Exponent 2\n",
      "Multiplier 0.48. Tier 4.0. Exponent 2\n",
      "Multiplier 0.48. Tier 4.0. Exponent 2\n",
      "Multiplier 0.48. Tier 4.0. Exponent 2\n",
      "Multiplier 0.48. Tier 4.0. Exponent 2\n",
      "Multiplier 0.48. Tier 4.0. Exponent 2\n",
      "Multiplier 0.48. Tier 4.0. Exponent 2\n"
     ]
    },
    {
     "name": "stderr",
     "output_type": "stream",
     "text": [
      "Processing matches:  35%|███▌      | 4484/12699 [02:16<03:59, 34.27it/s]"
     ]
    },
    {
     "name": "stdout",
     "output_type": "stream",
     "text": [
      "Multiplier 0.48. Tier 4.0. Exponent 2\n",
      "Multiplier 0.48. Tier 4.0. Exponent 2\n",
      "Multiplier 0.48. Tier 4.0. Exponent 2\n",
      "Multiplier 0.48. Tier 4.0. Exponent 2\n",
      "Multiplier 0.48. Tier 4.0. Exponent 2\n",
      "Multiplier 0.48. Tier 4.0. Exponent 2\n",
      "Multiplier 0.48. Tier 4.0. Exponent 2\n",
      "Multiplier 0.48. Tier 4.0. Exponent 2\n"
     ]
    },
    {
     "name": "stderr",
     "output_type": "stream",
     "text": [
      "Processing matches:  35%|███▌      | 4492/12699 [02:16<03:50, 35.64it/s]"
     ]
    },
    {
     "name": "stdout",
     "output_type": "stream",
     "text": [
      "Multiplier 0.48. Tier 4.0. Exponent 2\n",
      "Multiplier 0.48. Tier 4.0. Exponent 2\n",
      "Multiplier 0.48. Tier 4.0. Exponent 2\n",
      "Multiplier 0.48. Tier 4.0. Exponent 2\n",
      "Multiplier 0.75. Tier 3.0. Exponent 2\n",
      "Multiplier 0.75. Tier 3.0. Exponent 2\n",
      "Multiplier 0.75. Tier 3.0. Exponent 2\n",
      "Multiplier 0.48. Tier 4.0. Exponent 2\n"
     ]
    },
    {
     "name": "stderr",
     "output_type": "stream",
     "text": [
      "Processing matches:  35%|███▌      | 4500/12699 [02:17<03:56, 34.72it/s]"
     ]
    },
    {
     "name": "stdout",
     "output_type": "stream",
     "text": [
      "Multiplier 0.48. Tier 4.0. Exponent 2\n",
      "Multiplier 0.48. Tier 4.0. Exponent 2\n",
      "Multiplier 0.48. Tier 4.0. Exponent 2\n",
      "Multiplier 0.48. Tier 4.0. Exponent 2\n",
      "Multiplier 0.48. Tier 4.0. Exponent 2\n",
      "Multiplier 0.48. Tier 4.0. Exponent 2\n"
     ]
    },
    {
     "name": "stderr",
     "output_type": "stream",
     "text": [
      "Processing matches:  35%|███▌      | 4504/12699 [02:17<03:58, 34.41it/s]"
     ]
    },
    {
     "name": "stdout",
     "output_type": "stream",
     "text": [
      "Multiplier 0.48. Tier 4.0. Exponent 2\n",
      "Multiplier 0.48. Tier 4.0. Exponent 2\n",
      "Multiplier 0.48. Tier 4.0. Exponent 2\n",
      "Multiplier 0.48. Tier 4.0. Exponent 2\n",
      "Multiplier 0.48. Tier 4.0. Exponent 2\n",
      "Multiplier 0.75. Tier 3.0. Exponent 2\n",
      "Multiplier 0.75. Tier 3.0. Exponent 2\n"
     ]
    },
    {
     "name": "stderr",
     "output_type": "stream",
     "text": [
      "Processing matches:  36%|███▌      | 4512/12699 [02:17<03:50, 35.46it/s]"
     ]
    },
    {
     "name": "stdout",
     "output_type": "stream",
     "text": [
      "Multiplier 0.48. Tier 4.0. Exponent 2\n",
      "Multiplier 0.48. Tier 4.0. Exponent 2\n",
      "Multiplier 0.48. Tier 4.0. Exponent 2\n",
      "Multiplier 0.48. Tier 4.0. Exponent 2\n",
      "Multiplier 0.75. Tier 3.0. Exponent 2\n",
      "Multiplier 0.75. Tier 3.0. Exponent 2\n",
      "Multiplier 0.48. Tier 4.0. Exponent 2\n",
      "Multiplier 0.48. Tier 4.0. Exponent 2\n"
     ]
    },
    {
     "name": "stderr",
     "output_type": "stream",
     "text": [
      "Processing matches:  36%|███▌      | 4520/12699 [02:17<03:45, 36.20it/s]"
     ]
    },
    {
     "name": "stdout",
     "output_type": "stream",
     "text": [
      "Multiplier 0.48. Tier 4.0. Exponent 2\n",
      "Multiplier 0.48. Tier 4.0. Exponent 2\n",
      "Multiplier 0.48. Tier 4.0. Exponent 2\n",
      "Multiplier 0.48. Tier 4.0. Exponent 2\n",
      "Multiplier 0.48. Tier 4.0. Exponent 2\n",
      "Multiplier 0.48. Tier 4.0. Exponent 2\n",
      "Multiplier 0.48. Tier 4.0. Exponent 2\n",
      "Multiplier 0.48. Tier 4.0. Exponent 2\n"
     ]
    },
    {
     "name": "stderr",
     "output_type": "stream",
     "text": [
      "Processing matches:  36%|███▌      | 4528/12699 [02:17<03:42, 36.80it/s]"
     ]
    },
    {
     "name": "stdout",
     "output_type": "stream",
     "text": [
      "Multiplier 0.48. Tier 4.0. Exponent 2\n",
      "Multiplier 0.48. Tier 4.0. Exponent 2\n",
      "Multiplier 0.48. Tier 4.0. Exponent 2\n",
      "Multiplier 0.48. Tier 4.0. Exponent 2\n",
      "Multiplier 0.48. Tier 4.0. Exponent 2\n",
      "Multiplier 0.48. Tier 4.0. Exponent 2\n",
      "Multiplier 0.48. Tier 4.0. Exponent 2\n",
      "Multiplier 0.48. Tier 4.0. Exponent 2\n"
     ]
    },
    {
     "name": "stderr",
     "output_type": "stream",
     "text": [
      "Processing matches:  36%|███▌      | 4536/12699 [02:18<03:39, 37.11it/s]"
     ]
    },
    {
     "name": "stdout",
     "output_type": "stream",
     "text": [
      "Multiplier 0.48. Tier 4.0. Exponent 2\n",
      "Multiplier 0.48. Tier 4.0. Exponent 2\n",
      "Multiplier 0.48. Tier 4.0. Exponent 2\n",
      "Multiplier 0.48. Tier 4.0. Exponent 2\n",
      "Multiplier 0.48. Tier 4.0. Exponent 2\n",
      "Multiplier 0.48. Tier 4.0. Exponent 2\n",
      "Multiplier 0.48. Tier 4.0. Exponent 2\n",
      "Multiplier 0.48. Tier 4.0. Exponent 2\n"
     ]
    },
    {
     "name": "stderr",
     "output_type": "stream",
     "text": [
      "Processing matches:  36%|███▌      | 4544/12699 [02:18<03:37, 37.57it/s]"
     ]
    },
    {
     "name": "stdout",
     "output_type": "stream",
     "text": [
      "Multiplier 0.48. Tier 4.0. Exponent 2\n",
      "Multiplier 0.48. Tier 4.0. Exponent 2\n",
      "Multiplier 0.48. Tier 4.0. Exponent 2\n",
      "Multiplier 0.48. Tier 4.0. Exponent 2\n",
      "Multiplier 0.48. Tier 4.0. Exponent 2\n",
      "Multiplier 0.48. Tier 4.0. Exponent 2\n",
      "Multiplier 0.48. Tier 4.0. Exponent 2\n",
      "Multiplier 0.48. Tier 4.0. Exponent 2\n",
      "Multiplier 0.48. Tier 4.0. Exponent 2\n"
     ]
    },
    {
     "name": "stderr",
     "output_type": "stream",
     "text": [
      "Processing matches:  36%|███▌      | 4556/12699 [02:18<03:32, 38.26it/s]"
     ]
    },
    {
     "name": "stdout",
     "output_type": "stream",
     "text": [
      "Multiplier 0.48. Tier 4.0. Exponent 2\n",
      "Multiplier 0.48. Tier 4.0. Exponent 2\n",
      "Multiplier 0.48. Tier 4.0. Exponent 2\n",
      "Multiplier 0.48. Tier 4.0. Exponent 2\n",
      "Multiplier 0.48. Tier 4.0. Exponent 2\n",
      "Multiplier 0.48. Tier 4.0. Exponent 2\n",
      "Multiplier 0.48. Tier 4.0. Exponent 2\n",
      "Multiplier 0.48. Tier 4.0. Exponent 2\n"
     ]
    },
    {
     "name": "stderr",
     "output_type": "stream",
     "text": [
      "Processing matches:  36%|███▌      | 4564/12699 [02:18<03:33, 38.19it/s]"
     ]
    },
    {
     "name": "stdout",
     "output_type": "stream",
     "text": [
      "Multiplier 0.48. Tier 4.0. Exponent 2\n",
      "Multiplier 0.48. Tier 4.0. Exponent 2\n",
      "Multiplier 0.48. Tier 4.0. Exponent 2\n",
      "Multiplier 0.48. Tier 4.0. Exponent 2\n",
      "Multiplier 0.48. Tier 4.0. Exponent 2\n",
      "Multiplier 0.48. Tier 4.0. Exponent 2\n",
      "Multiplier 0.48. Tier 4.0. Exponent 2\n",
      "Multiplier 0.48. Tier 4.0. Exponent 2\n"
     ]
    },
    {
     "name": "stderr",
     "output_type": "stream",
     "text": [
      "Processing matches:  36%|███▌      | 4568/12699 [02:18<03:37, 37.41it/s]"
     ]
    },
    {
     "name": "stdout",
     "output_type": "stream",
     "text": [
      "Multiplier 0.48. Tier 4.0. Exponent 2\n",
      "Multiplier 0.48. Tier 4.0. Exponent 2\n",
      "Multiplier 0.48. Tier 4.0. Exponent 2\n",
      "Multiplier 0.48. Tier 4.0. Exponent 2\n",
      "Multiplier 0.48. Tier 4.0. Exponent 2\n",
      "Multiplier 0.48. Tier 4.0. Exponent 2\n",
      "Multiplier 0.48. Tier 4.0. Exponent 2\n",
      "Multiplier 0.48. Tier 4.0. Exponent 2\n"
     ]
    },
    {
     "name": "stderr",
     "output_type": "stream",
     "text": [
      "Processing matches:  36%|███▌      | 4576/12699 [02:19<03:32, 38.20it/s]"
     ]
    },
    {
     "name": "stdout",
     "output_type": "stream",
     "text": [
      "Multiplier 0.48. Tier 4.0. Exponent 2\n",
      "Multiplier 0.48. Tier 4.0. Exponent 2\n",
      "Multiplier 0.48. Tier 4.0. Exponent 2\n",
      "Multiplier 0.48. Tier 4.0. Exponent 2\n",
      "Multiplier 0.48. Tier 4.0. Exponent 2\n",
      "Multiplier 0.48. Tier 4.0. Exponent 2\n",
      "Multiplier 0.48. Tier 4.0. Exponent 2\n"
     ]
    },
    {
     "name": "stderr",
     "output_type": "stream",
     "text": [
      "Processing matches:  36%|███▌      | 4584/12699 [02:19<03:46, 35.85it/s]"
     ]
    },
    {
     "name": "stdout",
     "output_type": "stream",
     "text": [
      "Multiplier 0.48. Tier 4.0. Exponent 2\n",
      "Multiplier 0.48. Tier 4.0. Exponent 2\n",
      "Multiplier 0.48. Tier 4.0. Exponent 2\n",
      "Multiplier 0.48. Tier 4.0. Exponent 2\n",
      "Multiplier 0.48. Tier 4.0. Exponent 2\n",
      "Multiplier 0.48. Tier 4.0. Exponent 2\n",
      "Multiplier 0.48. Tier 4.0. Exponent 2\n"
     ]
    },
    {
     "name": "stderr",
     "output_type": "stream",
     "text": [
      "Processing matches:  36%|███▌      | 4592/12699 [02:19<03:49, 35.38it/s]"
     ]
    },
    {
     "name": "stdout",
     "output_type": "stream",
     "text": [
      "Multiplier 0.48. Tier 4.0. Exponent 2\n",
      "Multiplier 0.48. Tier 4.0. Exponent 2\n",
      "Multiplier 0.48. Tier 4.0. Exponent 2\n",
      "Multiplier 0.48. Tier 4.0. Exponent 2\n",
      "Multiplier 0.48. Tier 4.0. Exponent 2\n",
      "Multiplier 0.48. Tier 4.0. Exponent 2\n",
      "Multiplier 0.48. Tier 4.0. Exponent 2\n",
      "Multiplier 0.48. Tier 4.0. Exponent 2\n"
     ]
    },
    {
     "name": "stderr",
     "output_type": "stream",
     "text": [
      "Processing matches:  36%|███▌      | 4600/12699 [02:19<03:45, 35.95it/s]"
     ]
    },
    {
     "name": "stdout",
     "output_type": "stream",
     "text": [
      "Multiplier 0.48. Tier 4.0. Exponent 2\n",
      "Multiplier 0.48. Tier 4.0. Exponent 2\n",
      "Multiplier 0.48. Tier 4.0. Exponent 2\n",
      "Multiplier 0.48. Tier 4.0. Exponent 2\n",
      "Multiplier 0.48. Tier 4.0. Exponent 2\n",
      "Multiplier 0.48. Tier 4.0. Exponent 2\n",
      "Multiplier 0.48. Tier 4.0. Exponent 2\n",
      "Multiplier 0.48. Tier 4.0. Exponent 2\n"
     ]
    },
    {
     "name": "stderr",
     "output_type": "stream",
     "text": [
      "Processing matches:  36%|███▋      | 4608/12699 [02:20<03:41, 36.50it/s]"
     ]
    },
    {
     "name": "stdout",
     "output_type": "stream",
     "text": [
      "Multiplier 0.48. Tier 4.0. Exponent 2\n",
      "Multiplier 0.48. Tier 4.0. Exponent 2\n",
      "Multiplier 0.48. Tier 4.0. Exponent 2\n",
      "Multiplier 0.48. Tier 4.0. Exponent 2\n",
      "Multiplier 0.48. Tier 4.0. Exponent 2\n",
      "Multiplier 0.48. Tier 4.0. Exponent 2\n",
      "Multiplier 0.48. Tier 4.0. Exponent 2\n",
      "Multiplier 0.48. Tier 4.0. Exponent 2\n"
     ]
    },
    {
     "name": "stderr",
     "output_type": "stream",
     "text": [
      "Processing matches:  36%|███▋      | 4616/12699 [02:20<03:43, 36.14it/s]"
     ]
    },
    {
     "name": "stdout",
     "output_type": "stream",
     "text": [
      "Multiplier 0.48. Tier 4.0. Exponent 2\n",
      "Multiplier 0.48. Tier 4.0. Exponent 2\n",
      "Multiplier 0.48. Tier 4.0. Exponent 2\n",
      "Multiplier 0.48. Tier 4.0. Exponent 2\n",
      "Multiplier 0.48. Tier 4.0. Exponent 2\n",
      "Multiplier 0.48. Tier 4.0. Exponent 2\n",
      "Multiplier 0.48. Tier 4.0. Exponent 2\n"
     ]
    },
    {
     "name": "stderr",
     "output_type": "stream",
     "text": [
      "Processing matches:  36%|███▋      | 4624/12699 [02:20<03:42, 36.22it/s]"
     ]
    },
    {
     "name": "stdout",
     "output_type": "stream",
     "text": [
      "Multiplier 0.48. Tier 4.0. Exponent 2\n",
      "Multiplier 0.48. Tier 4.0. Exponent 2\n",
      "Multiplier 0.48. Tier 4.0. Exponent 2\n",
      "Multiplier 0.48. Tier 4.0. Exponent 2\n",
      "Multiplier 0.48. Tier 4.0. Exponent 2\n",
      "Multiplier 0.48. Tier 4.0. Exponent 2\n",
      "Multiplier 0.48. Tier 4.0. Exponent 2\n"
     ]
    },
    {
     "name": "stderr",
     "output_type": "stream",
     "text": [
      "Processing matches:  36%|███▋      | 4632/12699 [02:20<03:37, 37.13it/s]"
     ]
    },
    {
     "name": "stdout",
     "output_type": "stream",
     "text": [
      "Multiplier 0.48. Tier 4.0. Exponent 2\n",
      "Multiplier 0.48. Tier 4.0. Exponent 2\n",
      "Multiplier 0.48. Tier 4.0. Exponent 2\n",
      "Multiplier 0.48. Tier 4.0. Exponent 2\n",
      "Multiplier 0.48. Tier 4.0. Exponent 2\n",
      "Multiplier 0.48. Tier 4.0. Exponent 2\n",
      "Multiplier 0.48. Tier 4.0. Exponent 2\n",
      "Multiplier 0.48. Tier 4.0. Exponent 2\n"
     ]
    },
    {
     "name": "stderr",
     "output_type": "stream",
     "text": [
      "Processing matches:  37%|███▋      | 4636/12699 [02:20<03:39, 36.81it/s]"
     ]
    },
    {
     "name": "stdout",
     "output_type": "stream",
     "text": [
      "Multiplier 0.48. Tier 4.0. Exponent 2\n",
      "Multiplier 0.48. Tier 4.0. Exponent 2\n",
      "Multiplier 0.48. Tier 4.0. Exponent 2\n",
      "Multiplier 0.48. Tier 4.0. Exponent 2\n",
      "Multiplier 0.48. Tier 4.0. Exponent 2\n",
      "Multiplier 0.48. Tier 4.0. Exponent 2\n",
      "Multiplier 0.48. Tier 4.0. Exponent 2\n"
     ]
    },
    {
     "name": "stderr",
     "output_type": "stream",
     "text": [
      "Processing matches:  37%|███▋      | 4644/12699 [02:21<03:41, 36.36it/s]"
     ]
    },
    {
     "name": "stdout",
     "output_type": "stream",
     "text": [
      "Multiplier 0.48. Tier 4.0. Exponent 2\n",
      "Multiplier 0.48. Tier 4.0. Exponent 2\n",
      "Multiplier 0.48. Tier 4.0. Exponent 2\n",
      "Multiplier 0.48. Tier 4.0. Exponent 2\n",
      "Multiplier 0.48. Tier 4.0. Exponent 2\n",
      "Multiplier 0.48. Tier 4.0. Exponent 2\n",
      "Multiplier 0.48. Tier 4.0. Exponent 2\n",
      "Multiplier 0.48. Tier 4.0. Exponent 2\n"
     ]
    },
    {
     "name": "stderr",
     "output_type": "stream",
     "text": [
      "Processing matches:  37%|███▋      | 4652/12699 [02:21<03:38, 36.89it/s]"
     ]
    },
    {
     "name": "stdout",
     "output_type": "stream",
     "text": [
      "Multiplier 0.48. Tier 4.0. Exponent 2\n",
      "Multiplier 0.48. Tier 4.0. Exponent 2\n",
      "Multiplier 0.48. Tier 4.0. Exponent 2\n",
      "Multiplier 0.48. Tier 4.0. Exponent 2\n",
      "Multiplier 0.48. Tier 4.0. Exponent 2\n",
      "Multiplier 0.48. Tier 4.0. Exponent 2\n",
      "Multiplier 0.48. Tier 4.0. Exponent 2\n",
      "Multiplier 0.48. Tier 4.0. Exponent 2\n"
     ]
    },
    {
     "name": "stderr",
     "output_type": "stream",
     "text": [
      "Processing matches:  37%|███▋      | 4660/12699 [02:21<03:41, 36.31it/s]"
     ]
    },
    {
     "name": "stdout",
     "output_type": "stream",
     "text": [
      "Multiplier 0.48. Tier 4.0. Exponent 2\n",
      "Multiplier 0.48. Tier 4.0. Exponent 2\n",
      "Multiplier 0.48. Tier 4.0. Exponent 2\n",
      "Multiplier 0.48. Tier 4.0. Exponent 2\n",
      "Multiplier 0.48. Tier 4.0. Exponent 2\n",
      "Multiplier 0.48. Tier 4.0. Exponent 2\n",
      "Multiplier 0.48. Tier 4.0. Exponent 2\n"
     ]
    },
    {
     "name": "stderr",
     "output_type": "stream",
     "text": [
      "Processing matches:  37%|███▋      | 4668/12699 [02:21<03:36, 37.16it/s]"
     ]
    },
    {
     "name": "stdout",
     "output_type": "stream",
     "text": [
      "Multiplier 0.75. Tier 3.0. Exponent 2\n",
      "Multiplier 0.75. Tier 3.0. Exponent 2\n",
      "Multiplier 0.75. Tier 3.0. Exponent 2\n",
      "Multiplier 0.75. Tier 3.0. Exponent 2\n",
      "Multiplier 0.75. Tier 3.0. Exponent 2\n",
      "Multiplier 0.75. Tier 3.0. Exponent 2\n",
      "Multiplier 0.75. Tier 3.0. Exponent 2\n",
      "Multiplier 0.75. Tier 3.0. Exponent 2\n"
     ]
    },
    {
     "name": "stderr",
     "output_type": "stream",
     "text": [
      "Processing matches:  37%|███▋      | 4676/12699 [02:21<03:39, 36.50it/s]"
     ]
    },
    {
     "name": "stdout",
     "output_type": "stream",
     "text": [
      "Multiplier 0.75. Tier 3.0. Exponent 2\n",
      "Multiplier 0.75. Tier 3.0. Exponent 2\n",
      "Multiplier 0.75. Tier 3.0. Exponent 2\n",
      "Multiplier 0.75. Tier 3.0. Exponent 2\n",
      "Multiplier 0.75. Tier 3.0. Exponent 2\n",
      "Multiplier 0.75. Tier 3.0. Exponent 2\n",
      "Multiplier 0.48. Tier 4.0. Exponent 2\n",
      "Multiplier 0.48. Tier 4.0. Exponent 2\n"
     ]
    },
    {
     "name": "stderr",
     "output_type": "stream",
     "text": [
      "Processing matches:  37%|███▋      | 4684/12699 [02:22<03:50, 34.84it/s]"
     ]
    },
    {
     "name": "stdout",
     "output_type": "stream",
     "text": [
      "Multiplier 0.48. Tier 4.0. Exponent 2\n",
      "Multiplier 0.75. Tier 3.0. Exponent 2\n",
      "Multiplier 0.75. Tier 3.0. Exponent 2\n",
      "Multiplier 0.75. Tier 3.0. Exponent 2\n",
      "Multiplier 0.75. Tier 3.0. Exponent 2\n",
      "Multiplier 0.75. Tier 3.0. Exponent 2\n",
      "Multiplier 0.75. Tier 3.0. Exponent 2\n",
      "Multiplier 0.75. Tier 3.0. Exponent 2\n"
     ]
    },
    {
     "name": "stderr",
     "output_type": "stream",
     "text": [
      "Processing matches:  37%|███▋      | 4692/12699 [02:22<03:44, 35.70it/s]"
     ]
    },
    {
     "name": "stdout",
     "output_type": "stream",
     "text": [
      "Multiplier 0.75. Tier 3.0. Exponent 2\n",
      "Multiplier 0.75. Tier 3.0. Exponent 2\n",
      "Multiplier 0.75. Tier 3.0. Exponent 2\n",
      "Multiplier 0.75. Tier 3.0. Exponent 2\n",
      "Multiplier 0.48. Tier 4.0. Exponent 2\n",
      "Multiplier 0.75. Tier 3.0. Exponent 2\n",
      "Multiplier 0.75. Tier 3.0. Exponent 2\n",
      "Multiplier 0.75. Tier 3.0. Exponent 2\n",
      "Multiplier 0.75. Tier 3.0. Exponent 2\n"
     ]
    },
    {
     "name": "stderr",
     "output_type": "stream",
     "text": [
      "Processing matches:  37%|███▋      | 4701/12699 [02:22<03:31, 37.90it/s]"
     ]
    },
    {
     "name": "stdout",
     "output_type": "stream",
     "text": [
      "Multiplier 0.75. Tier 3.0. Exponent 2\n",
      "Multiplier 0.75. Tier 3.0. Exponent 2\n",
      "Multiplier 0.75. Tier 3.0. Exponent 2\n",
      "Multiplier 0.75. Tier 3.0. Exponent 2\n",
      "Multiplier 0.75. Tier 3.0. Exponent 2\n",
      "Multiplier 0.75. Tier 3.0. Exponent 2\n",
      "Multiplier 0.75. Tier 3.0. Exponent 2\n",
      "Multiplier 0.75. Tier 3.0. Exponent 2\n",
      "Multiplier 0.75. Tier 3.0. Exponent 2\n"
     ]
    },
    {
     "name": "stderr",
     "output_type": "stream",
     "text": [
      "Processing matches:  37%|███▋      | 4710/12699 [02:22<03:27, 38.47it/s]"
     ]
    },
    {
     "name": "stdout",
     "output_type": "stream",
     "text": [
      "Multiplier 0.75. Tier 3.0. Exponent 2\n",
      "Multiplier 0.75. Tier 3.0. Exponent 2\n",
      "Multiplier 0.75. Tier 3.0. Exponent 2\n",
      "Multiplier 0.75. Tier 3.0. Exponent 2\n",
      "Multiplier 0.75. Tier 3.0. Exponent 2\n",
      "Multiplier 0.75. Tier 3.0. Exponent 2\n",
      "Multiplier 0.75. Tier 3.0. Exponent 2\n",
      "Multiplier 0.75. Tier 3.0. Exponent 2\n",
      "Multiplier 0.75. Tier 3.0. Exponent 2\n"
     ]
    },
    {
     "name": "stderr",
     "output_type": "stream",
     "text": [
      "Processing matches:  37%|███▋      | 4718/12699 [02:23<03:44, 35.55it/s]"
     ]
    },
    {
     "name": "stdout",
     "output_type": "stream",
     "text": [
      "Multiplier 0.75. Tier 3.0. Exponent 2\n",
      "Multiplier 0.75. Tier 3.0. Exponent 2\n",
      "Multiplier 0.75. Tier 3.0. Exponent 2\n",
      "Multiplier 0.75. Tier 3.0. Exponent 2\n",
      "Multiplier 0.75. Tier 3.0. Exponent 2\n",
      "Multiplier 0.75. Tier 3.0. Exponent 2\n",
      "Multiplier 0.75. Tier 3.0. Exponent 2\n",
      "Multiplier 0.75. Tier 3.0. Exponent 2\n"
     ]
    },
    {
     "name": "stderr",
     "output_type": "stream",
     "text": [
      "Processing matches:  37%|███▋      | 4726/12699 [02:23<03:36, 36.78it/s]"
     ]
    },
    {
     "name": "stdout",
     "output_type": "stream",
     "text": [
      "Multiplier 0.75. Tier 3.0. Exponent 2\n",
      "Multiplier 0.75. Tier 3.0. Exponent 2\n",
      "Multiplier 0.75. Tier 3.0. Exponent 2\n",
      "Multiplier 0.75. Tier 3.0. Exponent 2\n",
      "Multiplier 0.75. Tier 3.0. Exponent 2\n",
      "Multiplier 0.75. Tier 3.0. Exponent 2\n",
      "Multiplier 0.75. Tier 3.0. Exponent 2\n",
      "Multiplier 0.75. Tier 3.0. Exponent 2\n",
      "Multiplier 0.75. Tier 3.0. Exponent 2\n"
     ]
    },
    {
     "name": "stderr",
     "output_type": "stream",
     "text": [
      "Processing matches:  37%|███▋      | 4735/12699 [02:23<03:34, 37.16it/s]"
     ]
    },
    {
     "name": "stdout",
     "output_type": "stream",
     "text": [
      "Multiplier 0.75. Tier 3.0. Exponent 2\n",
      "Multiplier 0.75. Tier 3.0. Exponent 2\n",
      "Multiplier 0.75. Tier 3.0. Exponent 2\n",
      "Multiplier 0.75. Tier 3.0. Exponent 2\n",
      "Multiplier 0.75. Tier 3.0. Exponent 2\n",
      "Multiplier 0.75. Tier 3.0. Exponent 2\n",
      "Multiplier 0.75. Tier 3.0. Exponent 2\n",
      "Multiplier 0.75. Tier 3.0. Exponent 2\n"
     ]
    },
    {
     "name": "stderr",
     "output_type": "stream",
     "text": [
      "Processing matches:  37%|███▋      | 4744/12699 [02:23<03:27, 38.42it/s]"
     ]
    },
    {
     "name": "stdout",
     "output_type": "stream",
     "text": [
      "Multiplier 0.75. Tier 3.0. Exponent 2\n",
      "Multiplier 0.75. Tier 3.0. Exponent 2\n",
      "Multiplier 0.75. Tier 3.0. Exponent 2\n",
      "Multiplier 0.75. Tier 3.0. Exponent 2\n",
      "Multiplier 0.75. Tier 3.0. Exponent 2\n",
      "Multiplier 0.75. Tier 3.0. Exponent 2\n",
      "Multiplier 0.75. Tier 3.0. Exponent 2\n",
      "Multiplier 0.75. Tier 3.0. Exponent 2\n",
      "Multiplier 0.75. Tier 3.0. Exponent 2\n"
     ]
    },
    {
     "name": "stderr",
     "output_type": "stream",
     "text": [
      "Processing matches:  37%|███▋      | 4752/12699 [02:24<03:34, 37.01it/s]"
     ]
    },
    {
     "name": "stdout",
     "output_type": "stream",
     "text": [
      "Multiplier 0.75. Tier 3.0. Exponent 2\n",
      "Multiplier 0.75. Tier 3.0. Exponent 2\n",
      "Multiplier 0.75. Tier 3.0. Exponent 2\n",
      "Multiplier 0.75. Tier 3.0. Exponent 2\n",
      "Multiplier 0.75. Tier 3.0. Exponent 2\n",
      "Multiplier 0.75. Tier 3.0. Exponent 2\n",
      "Multiplier 0.75. Tier 3.0. Exponent 2\n"
     ]
    },
    {
     "name": "stderr",
     "output_type": "stream",
     "text": [
      "Processing matches:  37%|███▋      | 4760/12699 [02:24<03:37, 36.50it/s]"
     ]
    },
    {
     "name": "stdout",
     "output_type": "stream",
     "text": [
      "Multiplier 0.75. Tier 3.0. Exponent 2\n",
      "Multiplier 0.75. Tier 3.0. Exponent 2\n",
      "Multiplier 0.75. Tier 3.0. Exponent 2\n",
      "Multiplier 0.75. Tier 3.0. Exponent 2\n",
      "Multiplier 0.75. Tier 3.0. Exponent 2\n",
      "Multiplier 0.75. Tier 3.0. Exponent 2\n",
      "Multiplier 0.75. Tier 3.0. Exponent 2\n",
      "Multiplier 0.75. Tier 3.0. Exponent 2\n"
     ]
    },
    {
     "name": "stderr",
     "output_type": "stream",
     "text": [
      "Processing matches:  38%|███▊      | 4768/12699 [02:24<03:40, 36.03it/s]"
     ]
    },
    {
     "name": "stdout",
     "output_type": "stream",
     "text": [
      "Multiplier 0.75. Tier 3.0. Exponent 2\n",
      "Multiplier 0.75. Tier 3.0. Exponent 2\n",
      "Multiplier 0.75. Tier 3.0. Exponent 2\n",
      "Multiplier 0.75. Tier 3.0. Exponent 2\n",
      "Multiplier 0.75. Tier 3.0. Exponent 2\n",
      "Multiplier 0.75. Tier 3.0. Exponent 2\n",
      "Multiplier 0.75. Tier 3.0. Exponent 2\n"
     ]
    },
    {
     "name": "stderr",
     "output_type": "stream",
     "text": [
      "Processing matches:  38%|███▊      | 4776/12699 [02:24<03:34, 36.99it/s]"
     ]
    },
    {
     "name": "stdout",
     "output_type": "stream",
     "text": [
      "Multiplier 0.75. Tier 3.0. Exponent 2\n",
      "Multiplier 0.75. Tier 3.0. Exponent 2\n",
      "Multiplier 0.75. Tier 3.0. Exponent 2\n",
      "Multiplier 0.75. Tier 3.0. Exponent 2\n",
      "Multiplier 0.75. Tier 3.0. Exponent 2\n",
      "Multiplier 0.75. Tier 3.0. Exponent 2\n",
      "Multiplier 0.75. Tier 3.0. Exponent 2\n",
      "Multiplier 0.75. Tier 3.0. Exponent 2\n",
      "Multiplier 0.75. Tier 3.0. Exponent 2\n"
     ]
    },
    {
     "name": "stderr",
     "output_type": "stream",
     "text": [
      "Processing matches:  38%|███▊      | 4785/12699 [02:24<03:38, 36.26it/s]"
     ]
    },
    {
     "name": "stdout",
     "output_type": "stream",
     "text": [
      "Multiplier 0.75. Tier 3.0. Exponent 2\n",
      "Multiplier 0.75. Tier 3.0. Exponent 2\n",
      "Multiplier 0.75. Tier 3.0. Exponent 2\n",
      "Multiplier 0.75. Tier 3.0. Exponent 2\n",
      "Multiplier 0.75. Tier 3.0. Exponent 2\n",
      "Multiplier 0.75. Tier 3.0. Exponent 2\n",
      "Multiplier 0.75. Tier 3.0. Exponent 2\n"
     ]
    },
    {
     "name": "stderr",
     "output_type": "stream",
     "text": [
      "Processing matches:  38%|███▊      | 4789/12699 [02:25<03:39, 36.01it/s]"
     ]
    },
    {
     "name": "stdout",
     "output_type": "stream",
     "text": [
      "Multiplier 0.75. Tier 3.0. Exponent 2\n",
      "Multiplier 0.75. Tier 3.0. Exponent 2\n",
      "Multiplier 0.75. Tier 3.0. Exponent 2\n",
      "Multiplier 0.75. Tier 3.0. Exponent 2\n",
      "Multiplier 1.3333333333333333. Tier 2.0. Exponent 2\n",
      "Multiplier 1.3333333333333333. Tier 2.0. Exponent 2\n",
      "Multiplier 1.3333333333333333. Tier 2.0. Exponent 2\n",
      "Multiplier 1.3333333333333333. Tier 2.0. Exponent 2\n"
     ]
    },
    {
     "name": "stderr",
     "output_type": "stream",
     "text": [
      "Processing matches:  38%|███▊      | 4798/12699 [02:25<03:28, 37.85it/s]"
     ]
    },
    {
     "name": "stdout",
     "output_type": "stream",
     "text": [
      "Multiplier 1.3333333333333333. Tier 2.0. Exponent 2\n",
      "Multiplier 1.3333333333333333. Tier 2.0. Exponent 2\n",
      "Multiplier 1.3333333333333333. Tier 2.0. Exponent 2\n",
      "Multiplier 1.3333333333333333. Tier 2.0. Exponent 2\n",
      "Multiplier 1.3333333333333333. Tier 2.0. Exponent 2\n",
      "Multiplier 1.3333333333333333. Tier 2.0. Exponent 2\n",
      "Multiplier 1.3333333333333333. Tier 2.0. Exponent 2\n",
      "Multiplier 1.3333333333333333. Tier 2.0. Exponent 2\n",
      "Multiplier 1.3333333333333333. Tier 2.0. Exponent 2\n"
     ]
    },
    {
     "name": "stderr",
     "output_type": "stream",
     "text": [
      "Processing matches:  38%|███▊      | 4806/12699 [02:25<03:26, 38.19it/s]"
     ]
    },
    {
     "name": "stdout",
     "output_type": "stream",
     "text": [
      "Multiplier 1.3333333333333333. Tier 2.0. Exponent 2\n",
      "Multiplier 0.75. Tier 3.0. Exponent 2\n",
      "Multiplier 0.75. Tier 3.0. Exponent 2\n",
      "Multiplier 0.75. Tier 3.0. Exponent 2\n",
      "Multiplier 0.75. Tier 3.0. Exponent 2\n",
      "Multiplier 0.75. Tier 3.0. Exponent 2\n",
      "Multiplier 0.75. Tier 3.0. Exponent 2\n",
      "Multiplier 0.75. Tier 3.0. Exponent 2\n"
     ]
    },
    {
     "name": "stderr",
     "output_type": "stream",
     "text": [
      "Processing matches:  38%|███▊      | 4815/12699 [02:25<03:24, 38.57it/s]"
     ]
    },
    {
     "name": "stdout",
     "output_type": "stream",
     "text": [
      "Multiplier 0.75. Tier 3.0. Exponent 2\n",
      "Multiplier 0.75. Tier 3.0. Exponent 2\n",
      "Multiplier 0.75. Tier 3.0. Exponent 2\n",
      "Multiplier 0.75. Tier 3.0. Exponent 2\n",
      "Multiplier 0.75. Tier 3.0. Exponent 2\n",
      "Multiplier 0.75. Tier 3.0. Exponent 2\n",
      "Multiplier 0.75. Tier 3.0. Exponent 2\n",
      "Multiplier 0.75. Tier 3.0. Exponent 2\n"
     ]
    },
    {
     "name": "stderr",
     "output_type": "stream",
     "text": [
      "Processing matches:  38%|███▊      | 4823/12699 [02:25<03:31, 37.31it/s]"
     ]
    },
    {
     "name": "stdout",
     "output_type": "stream",
     "text": [
      "Multiplier 0.75. Tier 3.0. Exponent 2\n",
      "Multiplier 0.75. Tier 3.0. Exponent 2\n",
      "Multiplier 0.75. Tier 3.0. Exponent 2\n",
      "Multiplier 0.75. Tier 3.0. Exponent 2\n",
      "Multiplier 0.75. Tier 3.0. Exponent 2\n",
      "Multiplier 0.75. Tier 3.0. Exponent 2\n",
      "Multiplier 0.75. Tier 3.0. Exponent 2\n",
      "Multiplier 0.75. Tier 3.0. Exponent 2\n"
     ]
    },
    {
     "name": "stderr",
     "output_type": "stream",
     "text": [
      "Processing matches:  38%|███▊      | 4832/12699 [02:26<03:32, 36.94it/s]"
     ]
    },
    {
     "name": "stdout",
     "output_type": "stream",
     "text": [
      "Multiplier 0.75. Tier 3.0. Exponent 2\n",
      "Multiplier 0.75. Tier 3.0. Exponent 2\n",
      "Multiplier 0.75. Tier 3.0. Exponent 2\n",
      "Multiplier 0.75. Tier 3.0. Exponent 2\n",
      "Multiplier 0.48. Tier 4.0. Exponent 2\n",
      "Multiplier 0.48. Tier 4.0. Exponent 2\n",
      "Multiplier 0.48. Tier 4.0. Exponent 2\n",
      "Multiplier 0.48. Tier 4.0. Exponent 2\n"
     ]
    },
    {
     "name": "stderr",
     "output_type": "stream",
     "text": [
      "Processing matches:  38%|███▊      | 4841/12699 [02:26<03:30, 37.34it/s]"
     ]
    },
    {
     "name": "stdout",
     "output_type": "stream",
     "text": [
      "Multiplier 0.48. Tier 4.0. Exponent 2\n",
      "Multiplier 0.48. Tier 4.0. Exponent 2\n",
      "Multiplier 0.48. Tier 4.0. Exponent 2\n",
      "Multiplier 0.48. Tier 4.0. Exponent 2\n",
      "Multiplier 0.48. Tier 4.0. Exponent 2\n",
      "Multiplier 0.48. Tier 4.0. Exponent 2\n",
      "Multiplier 0.48. Tier 4.0. Exponent 2\n",
      "Multiplier 0.48. Tier 4.0. Exponent 2\n",
      "Multiplier 0.48. Tier 4.0. Exponent 2\n"
     ]
    },
    {
     "name": "stderr",
     "output_type": "stream",
     "text": [
      "Processing matches:  38%|███▊      | 4849/12699 [02:26<03:37, 36.17it/s]"
     ]
    },
    {
     "name": "stdout",
     "output_type": "stream",
     "text": [
      "Multiplier 0.48. Tier 4.0. Exponent 2\n",
      "Multiplier 0.48. Tier 4.0. Exponent 2\n",
      "Multiplier 0.48. Tier 4.0. Exponent 2\n",
      "Multiplier 0.48. Tier 4.0. Exponent 2\n",
      "Multiplier 0.48. Tier 4.0. Exponent 2\n",
      "Multiplier 0.48. Tier 4.0. Exponent 2\n",
      "Multiplier 0.48. Tier 4.0. Exponent 2\n",
      "Multiplier 0.48. Tier 4.0. Exponent 2\n"
     ]
    },
    {
     "name": "stderr",
     "output_type": "stream",
     "text": [
      "Processing matches:  38%|███▊      | 4857/12699 [02:26<03:30, 37.31it/s]"
     ]
    },
    {
     "name": "stdout",
     "output_type": "stream",
     "text": [
      "Multiplier 0.48. Tier 4.0. Exponent 2\n",
      "Multiplier 0.48. Tier 4.0. Exponent 2\n",
      "Multiplier 0.48. Tier 4.0. Exponent 2\n",
      "Multiplier 0.48. Tier 4.0. Exponent 2\n",
      "Multiplier 0.48. Tier 4.0. Exponent 2\n",
      "Multiplier 0.48. Tier 4.0. Exponent 2\n",
      "Multiplier 0.48. Tier 4.0. Exponent 2\n",
      "Multiplier 0.48. Tier 4.0. Exponent 2\n"
     ]
    },
    {
     "name": "stderr",
     "output_type": "stream",
     "text": [
      "Processing matches:  38%|███▊      | 4865/12699 [02:27<03:33, 36.61it/s]"
     ]
    },
    {
     "name": "stdout",
     "output_type": "stream",
     "text": [
      "Multiplier 0.48. Tier 4.0. Exponent 2\n",
      "Multiplier 0.48. Tier 4.0. Exponent 2\n",
      "Multiplier 0.48. Tier 4.0. Exponent 2\n",
      "Multiplier 0.48. Tier 4.0. Exponent 2\n",
      "Multiplier 0.48. Tier 4.0. Exponent 2\n",
      "Multiplier 0.48. Tier 4.0. Exponent 2\n",
      "Multiplier 0.48. Tier 4.0. Exponent 2\n",
      "Multiplier 0.48. Tier 4.0. Exponent 2\n"
     ]
    },
    {
     "name": "stderr",
     "output_type": "stream",
     "text": [
      "Processing matches:  38%|███▊      | 4874/12699 [02:27<03:28, 37.47it/s]"
     ]
    },
    {
     "name": "stdout",
     "output_type": "stream",
     "text": [
      "Multiplier 0.48. Tier 4.0. Exponent 2\n",
      "Multiplier 0.48. Tier 4.0. Exponent 2\n",
      "Multiplier 0.48. Tier 4.0. Exponent 2\n",
      "Multiplier 0.48. Tier 4.0. Exponent 2\n",
      "Multiplier 0.48. Tier 4.0. Exponent 2\n",
      "Multiplier 0.48. Tier 4.0. Exponent 2\n",
      "Multiplier 0.48. Tier 4.0. Exponent 2\n",
      "Multiplier 0.48. Tier 4.0. Exponent 2\n",
      "Multiplier 0.48. Tier 4.0. Exponent 2\n"
     ]
    },
    {
     "name": "stderr",
     "output_type": "stream",
     "text": [
      "Processing matches:  38%|███▊      | 4883/12699 [02:27<03:27, 37.75it/s]"
     ]
    },
    {
     "name": "stdout",
     "output_type": "stream",
     "text": [
      "Multiplier 0.48. Tier 4.0. Exponent 2\n",
      "Multiplier 0.48. Tier 4.0. Exponent 2\n",
      "Multiplier 0.48. Tier 4.0. Exponent 2\n",
      "Multiplier 0.48. Tier 4.0. Exponent 2\n",
      "Multiplier 0.48. Tier 4.0. Exponent 2\n",
      "Multiplier 0.48. Tier 4.0. Exponent 2\n",
      "Multiplier 0.48. Tier 4.0. Exponent 2\n",
      "Multiplier 0.48. Tier 4.0. Exponent 2\n"
     ]
    },
    {
     "name": "stderr",
     "output_type": "stream",
     "text": [
      "Processing matches:  39%|███▊      | 4891/12699 [02:27<03:35, 36.19it/s]"
     ]
    },
    {
     "name": "stdout",
     "output_type": "stream",
     "text": [
      "Multiplier 0.48. Tier 4.0. Exponent 2\n",
      "Multiplier 0.48. Tier 4.0. Exponent 2\n",
      "Multiplier 0.48. Tier 4.0. Exponent 2\n",
      "Multiplier 0.48. Tier 4.0. Exponent 2\n",
      "Multiplier 0.48. Tier 4.0. Exponent 2\n",
      "Multiplier 0.48. Tier 4.0. Exponent 2\n",
      "Multiplier 0.48. Tier 4.0. Exponent 2\n"
     ]
    },
    {
     "name": "stderr",
     "output_type": "stream",
     "text": [
      "Processing matches:  39%|███▊      | 4895/12699 [02:27<03:32, 36.80it/s]"
     ]
    },
    {
     "name": "stdout",
     "output_type": "stream",
     "text": [
      "Multiplier 0.48. Tier 4.0. Exponent 2\n",
      "Multiplier 0.48. Tier 4.0. Exponent 2\n",
      "Multiplier 0.48. Tier 4.0. Exponent 2\n",
      "Multiplier 0.48. Tier 4.0. Exponent 2\n",
      "Multiplier 0.48. Tier 4.0. Exponent 2\n",
      "Multiplier 0.48. Tier 4.0. Exponent 2\n",
      "Multiplier 0.48. Tier 4.0. Exponent 2\n",
      "Multiplier 0.48. Tier 4.0. Exponent 2\n"
     ]
    },
    {
     "name": "stderr",
     "output_type": "stream",
     "text": [
      "Processing matches:  39%|███▊      | 4903/12699 [02:28<03:32, 36.60it/s]"
     ]
    },
    {
     "name": "stdout",
     "output_type": "stream",
     "text": [
      "Multiplier 0.75. Tier 3.0. Exponent 2\n",
      "Multiplier 0.75. Tier 3.0. Exponent 2\n",
      "Multiplier 0.75. Tier 3.0. Exponent 2\n",
      "Multiplier 0.75. Tier 3.0. Exponent 2\n",
      "Multiplier 0.48. Tier 4.0. Exponent 2\n",
      "Multiplier 0.48. Tier 4.0. Exponent 2\n",
      "Multiplier 0.48. Tier 4.0. Exponent 2\n",
      "Multiplier 0.48. Tier 4.0. Exponent 2\n"
     ]
    },
    {
     "name": "stderr",
     "output_type": "stream",
     "text": [
      "Processing matches:  39%|███▊      | 4911/12699 [02:28<03:34, 36.30it/s]"
     ]
    },
    {
     "name": "stdout",
     "output_type": "stream",
     "text": [
      "Multiplier 0.48. Tier 4.0. Exponent 2\n",
      "Multiplier 0.48. Tier 4.0. Exponent 2\n",
      "Multiplier 0.75. Tier 3.0. Exponent 2\n",
      "Multiplier 0.75. Tier 3.0. Exponent 2\n",
      "Multiplier 0.48. Tier 4.0. Exponent 2\n",
      "Multiplier 0.48. Tier 4.0. Exponent 2\n",
      "Multiplier 0.48. Tier 4.0. Exponent 2\n",
      "Multiplier 0.48. Tier 4.0. Exponent 2\n"
     ]
    },
    {
     "name": "stderr",
     "output_type": "stream",
     "text": [
      "Processing matches:  39%|███▊      | 4919/12699 [02:28<03:40, 35.25it/s]"
     ]
    },
    {
     "name": "stdout",
     "output_type": "stream",
     "text": [
      "Multiplier 0.48. Tier 4.0. Exponent 2\n",
      "Multiplier 0.75. Tier 3.0. Exponent 2\n",
      "Multiplier 0.48. Tier 4.0. Exponent 2\n",
      "Multiplier 0.48. Tier 4.0. Exponent 2\n",
      "Multiplier 0.48. Tier 4.0. Exponent 2\n",
      "Multiplier 0.48. Tier 4.0. Exponent 2\n",
      "Multiplier 0.48. Tier 4.0. Exponent 2\n",
      "Multiplier 0.48. Tier 4.0. Exponent 2\n"
     ]
    },
    {
     "name": "stderr",
     "output_type": "stream",
     "text": [
      "Processing matches:  39%|███▉      | 4928/12699 [02:28<03:28, 37.28it/s]"
     ]
    },
    {
     "name": "stdout",
     "output_type": "stream",
     "text": [
      "Multiplier 0.48. Tier 4.0. Exponent 2\n",
      "Multiplier 0.48. Tier 4.0. Exponent 2\n",
      "Multiplier 0.75. Tier 3.0. Exponent 2\n",
      "Multiplier 0.75. Tier 3.0. Exponent 2\n",
      "Multiplier 0.75. Tier 3.0. Exponent 2\n",
      "Multiplier 0.75. Tier 3.0. Exponent 2\n",
      "Multiplier 0.75. Tier 3.0. Exponent 2\n",
      "Multiplier 0.75. Tier 3.0. Exponent 2\n",
      "Multiplier 0.75. Tier 3.0. Exponent 2\n"
     ]
    },
    {
     "name": "stderr",
     "output_type": "stream",
     "text": [
      "Processing matches:  39%|███▉      | 4936/12699 [02:29<03:29, 37.04it/s]"
     ]
    },
    {
     "name": "stdout",
     "output_type": "stream",
     "text": [
      "Multiplier 0.75. Tier 3.0. Exponent 2\n",
      "Multiplier 0.75. Tier 3.0. Exponent 2\n",
      "Multiplier 0.75. Tier 3.0. Exponent 2\n",
      "Multiplier 0.75. Tier 3.0. Exponent 2\n",
      "Multiplier 0.75. Tier 3.0. Exponent 2\n",
      "Multiplier 0.75. Tier 3.0. Exponent 2\n",
      "Multiplier 0.75. Tier 3.0. Exponent 2\n",
      "Multiplier 0.75. Tier 3.0. Exponent 2\n"
     ]
    },
    {
     "name": "stderr",
     "output_type": "stream",
     "text": [
      "Processing matches:  39%|███▉      | 4948/12699 [02:29<03:27, 37.28it/s]"
     ]
    },
    {
     "name": "stdout",
     "output_type": "stream",
     "text": [
      "Multiplier 0.75. Tier 3.0. Exponent 2\n",
      "Multiplier 0.75. Tier 3.0. Exponent 2\n",
      "Multiplier 0.75. Tier 3.0. Exponent 2\n",
      "Multiplier 0.75. Tier 3.0. Exponent 2\n",
      "Multiplier 0.75. Tier 3.0. Exponent 2\n",
      "Multiplier 0.75. Tier 3.0. Exponent 2\n",
      "Multiplier 0.75. Tier 3.0. Exponent 2\n",
      "Multiplier 0.75. Tier 3.0. Exponent 2\n"
     ]
    },
    {
     "name": "stderr",
     "output_type": "stream",
     "text": [
      "Processing matches:  39%|███▉      | 4952/12699 [02:29<03:35, 36.03it/s]"
     ]
    },
    {
     "name": "stdout",
     "output_type": "stream",
     "text": [
      "Multiplier 0.75. Tier 3.0. Exponent 2\n",
      "Multiplier 0.75. Tier 3.0. Exponent 2\n",
      "Multiplier 0.75. Tier 3.0. Exponent 2\n",
      "Multiplier 0.75. Tier 3.0. Exponent 2\n",
      "Multiplier 0.75. Tier 3.0. Exponent 2\n",
      "Multiplier 0.75. Tier 3.0. Exponent 2\n",
      "Multiplier 0.75. Tier 3.0. Exponent 2\n"
     ]
    },
    {
     "name": "stderr",
     "output_type": "stream",
     "text": [
      "Processing matches:  39%|███▉      | 4960/12699 [02:29<03:33, 36.30it/s]"
     ]
    },
    {
     "name": "stdout",
     "output_type": "stream",
     "text": [
      "Multiplier 0.75. Tier 3.0. Exponent 2\n",
      "Multiplier 0.75. Tier 3.0. Exponent 2\n",
      "Multiplier 0.75. Tier 3.0. Exponent 2\n",
      "Multiplier 0.75. Tier 3.0. Exponent 2\n",
      "Multiplier 0.75. Tier 3.0. Exponent 2\n",
      "Multiplier 0.75. Tier 3.0. Exponent 2\n",
      "Multiplier 0.75. Tier 3.0. Exponent 2\n",
      "Multiplier 0.75. Tier 3.0. Exponent 2\n"
     ]
    },
    {
     "name": "stderr",
     "output_type": "stream",
     "text": [
      "Processing matches:  39%|███▉      | 4968/12699 [02:29<03:32, 36.41it/s]"
     ]
    },
    {
     "name": "stdout",
     "output_type": "stream",
     "text": [
      "Multiplier 0.75. Tier 3.0. Exponent 2\n",
      "Multiplier 0.75. Tier 3.0. Exponent 2\n",
      "Multiplier 0.75. Tier 3.0. Exponent 2\n",
      "Multiplier 0.75. Tier 3.0. Exponent 2\n",
      "Multiplier 0.75. Tier 3.0. Exponent 2\n",
      "Multiplier 0.75. Tier 3.0. Exponent 2\n",
      "Multiplier 0.75. Tier 3.0. Exponent 2\n",
      "Multiplier 0.75. Tier 3.0. Exponent 2\n"
     ]
    },
    {
     "name": "stderr",
     "output_type": "stream",
     "text": [
      "Processing matches:  39%|███▉      | 4976/12699 [02:30<03:30, 36.67it/s]"
     ]
    },
    {
     "name": "stdout",
     "output_type": "stream",
     "text": [
      "Multiplier 0.75. Tier 3.0. Exponent 2\n",
      "Multiplier 0.75. Tier 3.0. Exponent 2\n",
      "Multiplier 0.75. Tier 3.0. Exponent 2\n",
      "Multiplier 0.75. Tier 3.0. Exponent 2\n",
      "Multiplier 0.75. Tier 3.0. Exponent 2\n",
      "Multiplier 0.75. Tier 3.0. Exponent 2\n",
      "Multiplier 0.75. Tier 3.0. Exponent 2\n"
     ]
    },
    {
     "name": "stderr",
     "output_type": "stream",
     "text": [
      "Processing matches:  39%|███▉      | 4984/12699 [02:30<03:47, 33.85it/s]"
     ]
    },
    {
     "name": "stdout",
     "output_type": "stream",
     "text": [
      "Multiplier 0.75. Tier 3.0. Exponent 2\n",
      "Multiplier 0.75. Tier 3.0. Exponent 2\n",
      "Multiplier 0.75. Tier 3.0. Exponent 2\n",
      "Multiplier 0.75. Tier 3.0. Exponent 2\n",
      "Multiplier 0.75. Tier 3.0. Exponent 2\n",
      "Multiplier 0.75. Tier 3.0. Exponent 2\n"
     ]
    },
    {
     "name": "stderr",
     "output_type": "stream",
     "text": [
      "Processing matches:  39%|███▉      | 4988/12699 [02:30<03:42, 34.67it/s]"
     ]
    },
    {
     "name": "stdout",
     "output_type": "stream",
     "text": [
      "Multiplier 0.75. Tier 3.0. Exponent 2\n",
      "Multiplier 0.75. Tier 3.0. Exponent 2\n",
      "Multiplier 0.75. Tier 3.0. Exponent 2\n",
      "Multiplier 0.75. Tier 3.0. Exponent 2\n",
      "Multiplier 0.75. Tier 3.0. Exponent 2\n",
      "Multiplier 0.75. Tier 3.0. Exponent 2\n",
      "Multiplier 0.75. Tier 3.0. Exponent 2\n",
      "Multiplier 0.75. Tier 3.0. Exponent 2\n"
     ]
    },
    {
     "name": "stderr",
     "output_type": "stream",
     "text": [
      "Processing matches:  39%|███▉      | 4993/12699 [02:30<03:52, 33.15it/s]\n"
     ]
    },
    {
     "name": "stdout",
     "output_type": "stream",
     "text": [
      "Multiplier 1.3333333333333333. Tier 2.0. Exponent 2\n"
     ]
    },
    {
     "ename": "KeyboardInterrupt",
     "evalue": "",
     "output_type": "error",
     "traceback": [
      "\u001b[1;31m---------------------------------------------------------------------------\u001b[0m",
      "\u001b[1;31mKeyboardInterrupt\u001b[0m                         Traceback (most recent call last)",
      "Cell \u001b[1;32mIn[26], line 128\u001b[0m\n\u001b[0;32m    125\u001b[0m                 members_df\u001b[38;5;241m.\u001b[39mloc[(members_df[\u001b[38;5;124m'\u001b[39m\u001b[38;5;124munique_id\u001b[39m\u001b[38;5;124m'\u001b[39m] \u001b[38;5;241m==\u001b[39m unique_id) \u001b[38;5;241m&\u001b[39m (members_df[\u001b[38;5;124m'\u001b[39m\u001b[38;5;124mteam_id\u001b[39m\u001b[38;5;124m'\u001b[39m] \u001b[38;5;241m==\u001b[39m team), \u001b[38;5;124m'\u001b[39m\u001b[38;5;124mc_elo_after\u001b[39m\u001b[38;5;124m'\u001b[39m] \u001b[38;5;241m=\u001b[39m coach_elo_after\n\u001b[0;32m    127\u001b[0m \u001b[38;5;66;03m# Usage example with match_cards_df, team_members_df, and tournament_info_df already loaded\u001b[39;00m\n\u001b[1;32m--> 128\u001b[0m \u001b[43mupdate_elo_ratings\u001b[49m\u001b[43m(\u001b[49m\u001b[43mmatch_cards_df\u001b[49m\u001b[43m,\u001b[49m\u001b[43m \u001b[49m\u001b[43mteam_members_df\u001b[49m\u001b[43m,\u001b[49m\u001b[43m \u001b[49m\u001b[43mtournament_info_df\u001b[49m\u001b[43m,\u001b[49m\u001b[43m \u001b[49m\u001b[43mconfig\u001b[49m\u001b[43m)\u001b[49m\n",
      "Cell \u001b[1;32mIn[26], line 58\u001b[0m, in \u001b[0;36mupdate_elo_ratings\u001b[1;34m(matches_df, members_df, tournament_info_df, config)\u001b[0m\n\u001b[0;32m     56\u001b[0m \u001b[38;5;66;03m# Get team player IDs once and reuse\u001b[39;00m\n\u001b[0;32m     57\u001b[0m team1_players \u001b[38;5;241m=\u001b[39m members_df[(members_df[\u001b[38;5;124m\"\u001b[39m\u001b[38;5;124mteam_id\u001b[39m\u001b[38;5;124m\"\u001b[39m] \u001b[38;5;241m==\u001b[39m team1_id) \u001b[38;5;241m&\u001b[39m (members_df[\u001b[38;5;124m\"\u001b[39m\u001b[38;5;124mrole_type\u001b[39m\u001b[38;5;124m\"\u001b[39m] \u001b[38;5;241m==\u001b[39m \u001b[38;5;124m'\u001b[39m\u001b[38;5;124mplayer\u001b[39m\u001b[38;5;124m'\u001b[39m)][\u001b[38;5;124m\"\u001b[39m\u001b[38;5;124munique_id\u001b[39m\u001b[38;5;124m\"\u001b[39m]\u001b[38;5;241m.\u001b[39mtolist()\n\u001b[1;32m---> 58\u001b[0m team2_players \u001b[38;5;241m=\u001b[39m members_df[\u001b[43m(\u001b[49m\u001b[43mmembers_df\u001b[49m\u001b[43m[\u001b[49m\u001b[38;5;124;43m\"\u001b[39;49m\u001b[38;5;124;43mteam_id\u001b[39;49m\u001b[38;5;124;43m\"\u001b[39;49m\u001b[43m]\u001b[49m\u001b[43m \u001b[49m\u001b[38;5;241;43m==\u001b[39;49m\u001b[43m \u001b[49m\u001b[43mteam2_id\u001b[49m\u001b[43m)\u001b[49m\u001b[43m \u001b[49m\u001b[38;5;241;43m&\u001b[39;49m\u001b[43m \u001b[49m\u001b[43m(\u001b[49m\u001b[43mmembers_df\u001b[49m\u001b[43m[\u001b[49m\u001b[38;5;124;43m\"\u001b[39;49m\u001b[38;5;124;43mrole_type\u001b[39;49m\u001b[38;5;124;43m\"\u001b[39;49m\u001b[43m]\u001b[49m\u001b[43m \u001b[49m\u001b[38;5;241;43m==\u001b[39;49m\u001b[43m \u001b[49m\u001b[38;5;124;43m'\u001b[39;49m\u001b[38;5;124;43mplayer\u001b[39;49m\u001b[38;5;124;43m'\u001b[39;49m\u001b[43m)\u001b[49m][\u001b[38;5;124m\"\u001b[39m\u001b[38;5;124munique_id\u001b[39m\u001b[38;5;124m\"\u001b[39m]\u001b[38;5;241m.\u001b[39mtolist()\n\u001b[0;32m     59\u001b[0m team1_all_members \u001b[38;5;241m=\u001b[39m members_df[(members_df[\u001b[38;5;124m\"\u001b[39m\u001b[38;5;124mteam_id\u001b[39m\u001b[38;5;124m\"\u001b[39m] \u001b[38;5;241m==\u001b[39m team1_id) \u001b[38;5;241m&\u001b[39m (members_df[\u001b[38;5;124m\"\u001b[39m\u001b[38;5;124mrole_type\u001b[39m\u001b[38;5;124m\"\u001b[39m]\u001b[38;5;241m.\u001b[39misin([\u001b[38;5;124m'\u001b[39m\u001b[38;5;124mplayer\u001b[39m\u001b[38;5;124m'\u001b[39m, \u001b[38;5;124m'\u001b[39m\u001b[38;5;124mstaff\u001b[39m\u001b[38;5;124m'\u001b[39m]))][\u001b[38;5;124m\"\u001b[39m\u001b[38;5;124munique_id\u001b[39m\u001b[38;5;124m\"\u001b[39m]\u001b[38;5;241m.\u001b[39mtolist()\n\u001b[0;32m     60\u001b[0m team2_all_members \u001b[38;5;241m=\u001b[39m members_df[(members_df[\u001b[38;5;124m\"\u001b[39m\u001b[38;5;124mteam_id\u001b[39m\u001b[38;5;124m\"\u001b[39m] \u001b[38;5;241m==\u001b[39m team2_id) \u001b[38;5;241m&\u001b[39m (members_df[\u001b[38;5;124m\"\u001b[39m\u001b[38;5;124mrole_type\u001b[39m\u001b[38;5;124m\"\u001b[39m]\u001b[38;5;241m.\u001b[39misin([\u001b[38;5;124m'\u001b[39m\u001b[38;5;124mplayer\u001b[39m\u001b[38;5;124m'\u001b[39m, \u001b[38;5;124m'\u001b[39m\u001b[38;5;124mstaff\u001b[39m\u001b[38;5;124m'\u001b[39m]))][\u001b[38;5;124m\"\u001b[39m\u001b[38;5;124munique_id\u001b[39m\u001b[38;5;124m\"\u001b[39m]\u001b[38;5;241m.\u001b[39mtolist()\n",
      "File \u001b[1;32mc:\\Users\\jorda\\PycharmProjects\\liquipedia_data_miner\\.venv\\Lib\\site-packages\\pandas\\core\\ops\\common.py:76\u001b[0m, in \u001b[0;36m_unpack_zerodim_and_defer.<locals>.new_method\u001b[1;34m(self, other)\u001b[0m\n\u001b[0;32m     72\u001b[0m             \u001b[38;5;28;01mreturn\u001b[39;00m \u001b[38;5;28mNotImplemented\u001b[39m\n\u001b[0;32m     74\u001b[0m other \u001b[38;5;241m=\u001b[39m item_from_zerodim(other)\n\u001b[1;32m---> 76\u001b[0m \u001b[38;5;28;01mreturn\u001b[39;00m \u001b[43mmethod\u001b[49m\u001b[43m(\u001b[49m\u001b[38;5;28;43mself\u001b[39;49m\u001b[43m,\u001b[49m\u001b[43m \u001b[49m\u001b[43mother\u001b[49m\u001b[43m)\u001b[49m\n",
      "File \u001b[1;32mc:\\Users\\jorda\\PycharmProjects\\liquipedia_data_miner\\.venv\\Lib\\site-packages\\pandas\\core\\arraylike.py:70\u001b[0m, in \u001b[0;36mOpsMixin.__and__\u001b[1;34m(self, other)\u001b[0m\n\u001b[0;32m     68\u001b[0m \u001b[38;5;129m@unpack_zerodim_and_defer\u001b[39m(\u001b[38;5;124m\"\u001b[39m\u001b[38;5;124m__and__\u001b[39m\u001b[38;5;124m\"\u001b[39m)\n\u001b[0;32m     69\u001b[0m \u001b[38;5;28;01mdef\u001b[39;00m \u001b[38;5;21m__and__\u001b[39m(\u001b[38;5;28mself\u001b[39m, other):\n\u001b[1;32m---> 70\u001b[0m     \u001b[38;5;28;01mreturn\u001b[39;00m \u001b[38;5;28;43mself\u001b[39;49m\u001b[38;5;241;43m.\u001b[39;49m\u001b[43m_logical_method\u001b[49m\u001b[43m(\u001b[49m\u001b[43mother\u001b[49m\u001b[43m,\u001b[49m\u001b[43m \u001b[49m\u001b[43moperator\u001b[49m\u001b[38;5;241;43m.\u001b[39;49m\u001b[43mand_\u001b[49m\u001b[43m)\u001b[49m\n",
      "File \u001b[1;32mc:\\Users\\jorda\\PycharmProjects\\liquipedia_data_miner\\.venv\\Lib\\site-packages\\pandas\\core\\series.py:6130\u001b[0m, in \u001b[0;36mSeries._logical_method\u001b[1;34m(self, other, op)\u001b[0m\n\u001b[0;32m   6127\u001b[0m lvalues \u001b[38;5;241m=\u001b[39m \u001b[38;5;28mself\u001b[39m\u001b[38;5;241m.\u001b[39m_values\n\u001b[0;32m   6128\u001b[0m rvalues \u001b[38;5;241m=\u001b[39m extract_array(other, extract_numpy\u001b[38;5;241m=\u001b[39m\u001b[38;5;28;01mTrue\u001b[39;00m, extract_range\u001b[38;5;241m=\u001b[39m\u001b[38;5;28;01mTrue\u001b[39;00m)\n\u001b[1;32m-> 6130\u001b[0m res_values \u001b[38;5;241m=\u001b[39m \u001b[43mops\u001b[49m\u001b[38;5;241;43m.\u001b[39;49m\u001b[43mlogical_op\u001b[49m\u001b[43m(\u001b[49m\u001b[43mlvalues\u001b[49m\u001b[43m,\u001b[49m\u001b[43m \u001b[49m\u001b[43mrvalues\u001b[49m\u001b[43m,\u001b[49m\u001b[43m \u001b[49m\u001b[43mop\u001b[49m\u001b[43m)\u001b[49m\n\u001b[0;32m   6131\u001b[0m \u001b[38;5;28;01mreturn\u001b[39;00m \u001b[38;5;28mself\u001b[39m\u001b[38;5;241m.\u001b[39m_construct_result(res_values, name\u001b[38;5;241m=\u001b[39mres_name)\n",
      "File \u001b[1;32mc:\\Users\\jorda\\PycharmProjects\\liquipedia_data_miner\\.venv\\Lib\\site-packages\\pandas\\core\\ops\\array_ops.py:448\u001b[0m, in \u001b[0;36mlogical_op\u001b[1;34m(left, right, op)\u001b[0m\n\u001b[0;32m    446\u001b[0m     is_other_int_dtype \u001b[38;5;241m=\u001b[39m rvalues\u001b[38;5;241m.\u001b[39mdtype\u001b[38;5;241m.\u001b[39mkind \u001b[38;5;129;01min\u001b[39;00m \u001b[38;5;124m\"\u001b[39m\u001b[38;5;124miu\u001b[39m\u001b[38;5;124m\"\u001b[39m\n\u001b[0;32m    447\u001b[0m     \u001b[38;5;28;01mif\u001b[39;00m \u001b[38;5;129;01mnot\u001b[39;00m is_other_int_dtype:\n\u001b[1;32m--> 448\u001b[0m         rvalues \u001b[38;5;241m=\u001b[39m \u001b[43mfill_bool\u001b[49m\u001b[43m(\u001b[49m\u001b[43mrvalues\u001b[49m\u001b[43m,\u001b[49m\u001b[43m \u001b[49m\u001b[43mlvalues\u001b[49m\u001b[43m)\u001b[49m\n\u001b[0;32m    450\u001b[0m \u001b[38;5;28;01melse\u001b[39;00m:\n\u001b[0;32m    451\u001b[0m     \u001b[38;5;66;03m# i.e. scalar\u001b[39;00m\n\u001b[0;32m    452\u001b[0m     is_other_int_dtype \u001b[38;5;241m=\u001b[39m lib\u001b[38;5;241m.\u001b[39mis_integer(rvalues)\n",
      "File \u001b[1;32mc:\\Users\\jorda\\PycharmProjects\\liquipedia_data_miner\\.venv\\Lib\\site-packages\\pandas\\core\\ops\\array_ops.py:420\u001b[0m, in \u001b[0;36mlogical_op.<locals>.fill_bool\u001b[1;34m(x, left)\u001b[0m\n\u001b[0;32m    417\u001b[0m         x[mask] \u001b[38;5;241m=\u001b[39m \u001b[38;5;28;01mFalse\u001b[39;00m\n\u001b[0;32m    419\u001b[0m \u001b[38;5;28;01mif\u001b[39;00m left \u001b[38;5;129;01mis\u001b[39;00m \u001b[38;5;28;01mNone\u001b[39;00m \u001b[38;5;129;01mor\u001b[39;00m left\u001b[38;5;241m.\u001b[39mdtype\u001b[38;5;241m.\u001b[39mkind \u001b[38;5;241m==\u001b[39m \u001b[38;5;124m\"\u001b[39m\u001b[38;5;124mb\u001b[39m\u001b[38;5;124m\"\u001b[39m:\n\u001b[1;32m--> 420\u001b[0m     x \u001b[38;5;241m=\u001b[39m \u001b[43mx\u001b[49m\u001b[38;5;241;43m.\u001b[39;49m\u001b[43mastype\u001b[49m\u001b[43m(\u001b[49m\u001b[38;5;28;43mbool\u001b[39;49m\u001b[43m)\u001b[49m\n\u001b[0;32m    421\u001b[0m \u001b[38;5;28;01mreturn\u001b[39;00m x\n",
      "\u001b[1;31mKeyboardInterrupt\u001b[0m: "
     ]
    }
   ],
   "source": [
    "# Configuration parameters\n",
    "config = {\n",
    "    \"base_k\": 200,  # Base K-factor for ELO calculations\n",
    "    \"initial_elo\": 1500.0,  # Initial ELO rating for all players and coaches\n",
    "    \"tier_multiplier_factor_pre_2024\": 12,  # Pre-2024 tier multiplier factor\n",
    "    \"tier_exponent_pre_2024\": 2,  # Pre-2024 tier exponent\n",
    "    \"tier_multiplier_factor_post_2024\": 6,  # Post-2024 tier multiplier factor\n",
    "    \"tier_exponent_post_2024\": 1,  # Post-2024 tier exponent\n",
    "}\n",
    "\n",
    "def calculate_elo_change_common(player_avg_elo, opponent_avg_elo, outcome, base_k, tier_multiplier):\n",
    "    expected_score = 1 / (1 + 10 ** ((opponent_avg_elo - player_avg_elo) / 400))\n",
    "    change = (k * tier_multiplier) * (outcome - expected_score)\n",
    "    return change, expected_score\n",
    "\n",
    "def update_elo_ratings(matches_df, members_df, tournament_info_df, config):\n",
    "    base_k = config[\"base_k\"]\n",
    "    initial_elo = config[\"initial_elo\"]\n",
    "    tier_multiplier_factor_pre_2024 = config[\"tier_multiplier_factor_pre_2024\"]\n",
    "    tier_exponent_pre_2024 = config[\"tier_exponent_pre_2024\"]\n",
    "    tier_multiplier_factor_post_2024 = config[\"tier_multiplier_factor_post_2024\"]\n",
    "    tier_exponent_post_2024 = config[\"tier_exponent_post_2024\"]\n",
    "\n",
    "    # Merge and sort data outside the loop\n",
    "    matches_df = matches_df.dropna(subset=['team1_id', 'team2_id']).sort_values(by='date')\n",
    "\n",
    "    # Initialize ELO ratings\n",
    "    members_df['elo_before'] = initial_elo\n",
    "    members_df['elo_after'] = initial_elo\n",
    "    members_df['c_elo_before'] = initial_elo\n",
    "    members_df['c_elo_after'] = initial_elo\n",
    "    elo_ratings = {}\n",
    "    coach_elo_ratings = {}\n",
    "\n",
    "    # Drop columns if they already exist\n",
    "    matches_df = matches_df.drop(columns=['team1_avg_elo', 'team2_avg_elo', 'team1_expected_outcome', 'team2_expected_outcome'], errors='ignore')\n",
    "\n",
    "    # Initial values for tier multipliers\n",
    "    tier_multiplier_factor = tier_multiplier_factor_pre_2024\n",
    "    tier_exponent = tier_exponent_pre_2024\n",
    "\n",
    "    for _, match in tqdm(matches_df.iterrows(), total=len(matches_df), desc=\"Processing matches\"):\n",
    "        # Pre-fetch match values\n",
    "        match_id = match[\"match_card_id\"]\n",
    "        date = match[\"date\"]\n",
    "        winner = match[\"winner\"]\n",
    "        team1_id = match[\"team1_id\"]\n",
    "        team2_id = match[\"team2_id\"]\n",
    "        tier = match[\"liquipediatier\"]\n",
    "\n",
    "        # Ensure both team1_id and team2_id are present\n",
    "        if not team1_id or not team2_id:\n",
    "            continue\n",
    "        \n",
    "        # Get team player IDs once and reuse\n",
    "        team1_players = members_df[(members_df[\"team_id\"] == team1_id) & (members_df[\"role_type\"] == 'player')][\"unique_id\"].tolist()\n",
    "        team2_players = members_df[(members_df[\"team_id\"] == team2_id) & (members_df[\"role_type\"] == 'player')][\"unique_id\"].tolist()\n",
    "        team1_all_members = members_df[(members_df[\"team_id\"] == team1_id) & (members_df[\"role_type\"].isin(['player', 'staff']))][\"unique_id\"].tolist()\n",
    "        team2_all_members = members_df[(members_df[\"team_id\"] == team2_id) & (members_df[\"role_type\"].isin(['player', 'staff']))][\"unique_id\"].tolist()\n",
    "\n",
    "        # Skip matches where either team has no players\n",
    "        if not team1_players or not team2_players:\n",
    "            continue\n",
    "\n",
    "        # Update tier multipliers if the date threshold is crossed\n",
    "        if date >= \"2024-01-01\" and (tier_multiplier_factor != tier_multiplier_factor_post_2024 or tier_exponent != tier_exponent_post_2024):\n",
    "            tier_multiplier_factor = tier_multiplier_factor_post_2024\n",
    "            tier_exponent = tier_exponent_post_2024\n",
    "        \n",
    "        if winner not in [1, 2]:\n",
    "            continue\n",
    "        \n",
    "        tier_multiplier = tier_multiplier_factor / ((tier + 1) ** tier_exponent)\n",
    "        print(f\"Multiplier {tier_multiplier}. Tier {tier}. Exponent {tier_exponent}\")\n",
    "\n",
    "        # Retrieve and set ELOs for team members before the match\n",
    "        for uid in team1_players + team2_players:\n",
    "            if uid not in elo_ratings:\n",
    "                elo_ratings[uid] = initial_elo\n",
    "        \n",
    "        for uid in team1_all_members + team2_all_members:\n",
    "            if uid not in coach_elo_ratings:\n",
    "                coach_elo_ratings[uid] = initial_elo\n",
    "\n",
    "        team1_avg_elo = sum(elo_ratings[uid] for uid in team1_players) / len(team1_players)\n",
    "        team2_avg_elo = sum(elo_ratings[uid] for uid in team2_players) / len(team2_players)\n",
    "        team1_avg_coach_elo = sum(coach_elo_ratings[uid] for uid in team1_all_members) / len(team1_all_members)\n",
    "        team2_avg_coach_elo = sum(coach_elo_ratings[uid] for uid in team2_all_members) / len(team2_all_members)\n",
    "\n",
    "        outcome1 = 1 if winner == 1 else 0\n",
    "        outcome2 = 1 - outcome1\n",
    "\n",
    "        team1_common_change, team1_expected_outcome = calculate_elo_change_common(team1_avg_elo, team2_avg_elo, outcome1, base_k, tier_multiplier)\n",
    "        team2_common_change = -team1_common_change  # The change for team 2 is the inverse of team 1\n",
    "\n",
    "        team1_coach_change, _ = calculate_elo_change_common(team1_avg_coach_elo, team2_avg_coach_elo, outcome1, base_k, tier_multiplier)\n",
    "        team2_coach_change = -team1_coach_change  # The change for team 2 is the inverse of team 1\n",
    "\n",
    "        # Store the average ELOs and expected outcomes in matches_df\n",
    "        matches_df.loc[matches_df['match_card_id'] == match_id, 'team1_avg_elo'] = team1_avg_elo\n",
    "        matches_df.loc[matches_df['match_card_id'] == match_id, 'team2_avg_elo'] = team2_avg_elo\n",
    "        matches_df.loc[matches_df['match_card_id'] == match_id, 'team1_expected_outcome'] = team1_expected_outcome\n",
    "        matches_df.loc[matches_df['match_card_id'] == match_id, 'team2_expected_outcome'] = 1 - team1_expected_outcome\n",
    "\n",
    "        # Update ELOs for players and coaches\n",
    "        for team, team_common_change, team_coach_change, team_players, team_all_members in [\n",
    "            (team1_id, team1_common_change, team1_coach_change, team1_players, team1_all_members),\n",
    "            (team2_id, team2_common_change, team2_coach_change, team2_players, team2_all_members)\n",
    "        ]:\n",
    "            for unique_id in team_players:\n",
    "                player_elo_before = elo_ratings[unique_id]\n",
    "                player_elo_after = player_elo_before + team_common_change\n",
    "                elo_ratings[unique_id] = player_elo_after\n",
    "\n",
    "                members_df.loc[(members_df['unique_id'] == unique_id) & (members_df['team_id'] == team), 'elo_before'] = player_elo_before\n",
    "                members_df.loc[(members_df['unique_id'] == unique_id) & (members_df['team_id'] == team), 'elo_after'] = player_elo_after\n",
    "\n",
    "            for unique_id in team_all_members:\n",
    "                coach_elo_before = coach_elo_ratings[unique_id]\n",
    "                coach_elo_after = coach_elo_before + team_coach_change\n",
    "                coach_elo_ratings[unique_id] = coach_elo_after\n",
    "\n",
    "                members_df.loc[(members_df['unique_id'] == unique_id) & (members_df['team_id'] == team), 'c_elo_before'] = coach_elo_before\n",
    "                members_df.loc[(members_df['unique_id'] == unique_id) & (members_df['team_id'] == team), 'c_elo_after'] = coach_elo_after\n",
    "\n",
    "# Usage example with match_cards_df, team_members_df, and tournament_info_df already loaded\n",
    "update_elo_ratings(match_cards_df, team_members_df, tournament_info_df, config)"
   ]
  }
 ],
 "metadata": {
  "kernelspec": {
   "display_name": ".venv",
   "language": "python",
   "name": "python3"
  },
  "language_info": {
   "codemirror_mode": {
    "name": "ipython",
    "version": 3
   },
   "file_extension": ".py",
   "mimetype": "text/x-python",
   "name": "python",
   "nbconvert_exporter": "python",
   "pygments_lexer": "ipython3",
   "version": "3.12.3"
  }
 },
 "nbformat": 4,
 "nbformat_minor": 2
}
